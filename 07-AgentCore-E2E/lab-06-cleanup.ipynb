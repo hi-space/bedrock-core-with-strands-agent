{
 "cells": [
  {
   "cell_type": "markdown",
   "id": "bc918d1b",
   "metadata": {},
   "source": [
    "# 🧹 AgentCore 엔드투엔드 정리\n",
    "\n",
    "이 노트북은 AgentCore 엔드투엔드 튜토리얼 중에 생성된 모든 리소스에 대한 포괄적인 정리 프로세스를 제공합니다.\n",
    "\n",
    "## 개요\n",
    "\n",
    "이 정리 프로세스는 다음을 제거합니다:\n",
    "- **메모리**: AgentCore 메모리 리소스 및 저장된 데이터\n",
    "- **런타임**: 에이전트 런타임 인스턴스 및 ECR 리포지토리\n",
    "- **보안**: 실행 역할 및 권한 부여 제공자 리소스\n",
    "- **관찰 가능성**: CloudWatch 로그 그룹 및 스트림\n",
    "- **로컬 파일**: 생성된 구성 및 코드 파일\n",
    "\n",
    "⚠️ **중요**: 이 정리는 되돌릴 수 없습니다. 진행하기 전에 중요한 데이터를 저장했는지 확인하세요(필요한 경우).\n",
    "\n",
    "---"
   ]
  },
  {
   "cell_type": "markdown",
   "id": "imports_header",
   "metadata": {},
   "source": [
    "## 1단계: 필요한 종속성 가져오기\n",
    "\n",
    "정리 프로세스에 필요한 모든 모듈과 도우미 함수를 로드합니다."
   ]
  },
  {
   "cell_type": "code",
   "execution_count": null,
   "id": "imports",
   "metadata": {},
   "outputs": [],
   "source": [
    "import boto3\n",
    "import os\n",
    "from botocore.exceptions import ClientError\n",
    "\n",
    "from bedrock_agentcore_starter_toolkit import Runtime\n",
    "from lab_helpers.lab2_memory import delete_memory, REGION\n",
    "from lab_helpers.utils import (\n",
    "    delete_agentcore_runtime_execution_role,\n",
    "    delete_ssm_parameter,\n",
    "    cleanup_cognito_resources,\n",
    "    get_customer_support_secret,\n",
    "    delete_customer_support_secret,\n",
    "    agentcore_memory_cleanup,\n",
    "    gateway_target_cleanup,\n",
    "    runtime_resource_cleanup,\n",
    "    delete_observability_resources,\n",
    "    local_file_cleanup\n",
    ")\n",
    "\n",
    "print(\"✅ Dependencies imported successfully\")\n",
    "print(f\"🌍 Working in region: {REGION}\")"
   ]
  },
  {
   "cell_type": "markdown",
   "id": "memory_header",
   "metadata": {},
   "source": [
    "## 2단계: 메모리 리소스 정리\n",
    "\n",
    "AgentCore 메모리 리소스 및 관련 데이터를 제거합니다."
   ]
  },
  {
   "cell_type": "code",
   "execution_count": null,
   "id": "16eda4ba",
   "metadata": {},
   "outputs": [],
   "source": [
    "print(\"🧠 Starting Memory cleanup...\")\n",
    "agentcore_memory_cleanup()"
   ]
  },
  {
   "cell_type": "markdown",
   "id": "runtime_header",
   "metadata": {},
   "source": [
    "## 3단계: 런타임 리소스 정리\n",
    "\n",
    "AgentCore 런타임, ECR 리포지토리 및 관련 AWS 리소스를 제거합니다."
   ]
  },
  {
   "cell_type": "code",
   "execution_count": null,
   "id": "runtime_cleanup",
   "metadata": {},
   "outputs": [],
   "source": [
    "print(\"🚀 Starting Runtime cleanup...\")\n",
    "runtime_resource_cleanup()"
   ]
  },
  {
   "cell_type": "markdown",
   "id": "794ea1ca-f684-4790-a027-f99883a9b3da",
   "metadata": {},
   "source": [
    "## 4단계: 게이트웨이 리소스 정리\n",
    "대상, 게이트웨이 제거"
   ]
  },
  {
   "cell_type": "code",
   "execution_count": null,
   "id": "3b697bc6-69f6-47cc-866e-f6f42de0e2c4",
   "metadata": {},
   "outputs": [],
   "source": [
    "print(\"⚙️ Starting Gateway Cleanup...\")\n",
    "gateway_target_cleanup()"
   ]
  },
  {
   "cell_type": "markdown",
   "id": "security_header",
   "metadata": {},
   "source": [
    "## 5단계: 보안 리소스 정리\n",
    "\n",
    "실행 역할 및 인증 리소스를 제거합니다."
   ]
  },
  {
   "cell_type": "code",
   "execution_count": null,
   "id": "security_cleanup",
   "metadata": {},
   "outputs": [],
   "source": [
    "print(\"🛡️  Starting Security cleanup...\")\n",
    "import json\n",
    "try:\n",
    "    # bedrock_client = boto3.client(\"bedrock\", region_name=REGION)\n",
    "    \n",
    "    # Delete execution role\n",
    "    print(\"  🗑️  Deleting AgentCore Runtime execution role...\")\n",
    "    delete_agentcore_runtime_execution_role()\n",
    "    print(\"  ✅ Execution role deleted\")\n",
    "    \n",
    "    # Delete SSM parameter\n",
    "    print(\"  🗑️  Deleting SSM parameter...\")\n",
    "    delete_ssm_parameter(\"/app/customersupport/agentcore/runtime_arn\")\n",
    "    print(\"  ✅ SSM parameter deleted\")\n",
    "    \n",
    "    # Clean up Cognito and secrets\n",
    "    print(\"  🗑️  Cleaning up Cognito resources...\")\n",
    "    cs = json.loads(get_customer_support_secret())\n",
    "    cleanup_cognito_resources(cs['pool_id'])\n",
    "    print(\"  ✅ Cognito resources cleaned up\")\n",
    "    \n",
    "    print(\"  🗑️  Deleting customer support secret...\")\n",
    "    delete_customer_support_secret()\n",
    "    print(\"  ✅ Customer support secret deleted\")\n",
    "    \n",
    "except Exception as e:\n",
    "    print(f\"  ⚠️  Error during security cleanup: {e}\")"
   ]
  },
  {
   "cell_type": "markdown",
   "id": "files_header",
   "metadata": {},
   "source": [
    "## 6단계: 로컬 파일 정리\n",
    "\n",
    "로컬 디렉토리에서 생성된 구성 및 코드 파일을 제거합니다."
   ]
  },
  {
   "cell_type": "code",
   "execution_count": null,
   "id": "files_cleanup",
   "metadata": {},
   "outputs": [],
   "source": [
    "print(\"📁 Starting Local Files cleanup...\")\n",
    "local_file_cleanup()\n"
   ]
  },
  {
   "cell_type": "markdown",
   "id": "observability_header",
   "metadata": {},
   "source": [
    "## 7단계: 관찰 가능성 리소스 정리\n",
    "\n",
    "에이전트 모니터링에 사용된 CloudWatch 로그 그룹 및 스트림을 제거합니다."
   ]
  },
  {
   "cell_type": "code",
   "execution_count": null,
   "id": "7b7bc594",
   "metadata": {},
   "outputs": [],
   "source": [
    "print(\"📊 Starting Observability cleanup...\")\n",
    "\n",
    "delete_observability_resources()"
   ]
  },
  {
   "cell_type": "markdown",
   "id": "completion_header",
   "metadata": {},
   "source": [
    "## 🎉 정리 완료!\n",
    "\n",
    "모든 AgentCore 리소스가 정리되었습니다. 제거된 내용의 요약은 다음과 같습니다:"
   ]
  },
  {
   "cell_type": "code",
   "execution_count": null,
   "id": "completion_summary",
   "metadata": {},
   "outputs": [],
   "source": [
    "print(\"\\n\" + \"=\" * 60)\n",
    "print(\"🧹 CLEANUP COMPLETED SUCCESSFULLY! 🧹\")\n",
    "print(\"=\" * 60)\n",
    "print()\n",
    "print(\"📋 Resources cleaned up:\")\n",
    "print(\"  🧠 Memory: AgentCore Memory resources and data\")\n",
    "print(\"  🚀 Runtime: Agent runtime and ECR repository\")\n",
    "print(\"  🛡️ Security: Roles, and SSM secrets\")\n",
    "print(\"  📊 Observability: CloudWatch logs\")\n",
    "print(\"  📁 Files: Local configuration files\")\n",
    "print()\n",
    "print(\"✨ Your AWS account is now clean and ready for new experiments!\")\n",
    "print(\"\\nThank you for completing the AgentCore End-to-End tutorial! 🚀\")"
   ]
  }
 ],
 "metadata": {
  "kernelspec": {
   "display_name": "Python 3 (ipykernel)",
   "language": "python",
   "name": "python3"
  },
  "language_info": {
   "codemirror_mode": {
    "name": "ipython",
    "version": 3
   },
   "file_extension": ".py",
   "mimetype": "text/x-python",
   "name": "python",
   "nbconvert_exporter": "python",
   "pygments_lexer": "ipython3",
   "version": "3.12.9"
  }
 },
 "nbformat": 4,
 "nbformat_minor": 5
}