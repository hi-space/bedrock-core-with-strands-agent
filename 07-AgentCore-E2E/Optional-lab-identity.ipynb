{
 "cells": [
  {
   "cell_type": "markdown",
   "metadata": {},
   "source": [
    "# 랩 3: Amazon AgentCore Identity로 에이전트 생성\n",
    "\n",
    "## 개요\n",
    "\n",
    "이 랩에서는 Amazon Bedrock AgentCore 아이덴티티 기능을 통합하여 기존 고객 지원 에이전트를 향상시킬 것입니다. 이를 통해 에이전트가 AgentCore의 아이덴티티 제공자를 통해 적절한 자격 증명 관리를 유지하면서 OAuth2 플로우를 사용하여 Google Calendar과 같은 외부 서비스와 안전하게 인증할 수 있습니다.\n",
    "\n",
    "캘린더 통합을 통해 지원 에이전트가 고객 대화 내에서 직접 제품 데모나 기술 지원 약속과 같은 이벤트를 예약할 수 있어 지원 워크플로우를 간소화하고 전반적인 고객 경험을 향상시킬 수 있습니다.\n",
    "\n",
    "![에이전트 아키텍처](images/architecture_lab6_identity.png)\n",
    "\n",
    "**Based on**: [Official Customer Support Assistant](https://github.com/awslabs/amazon-bedrock-agentcore-samples/tree/main/02-use-cases/customer-support-assistant)\n",
    "\n",
    "\n",
    "### 랩 세부 사항\n",
    "\n",
    "| 정보        | 세부 사항                                                                          |\n",
    "| :----------------- | :------------------------------------------------------------------------------- |\n",
    "| 랩 유형           | 점진적 향상                                                                   |\n",
    "| 에이전트 유형         | 단일                                                                           |\n",
    "| 에이전트 프레임워크  | Strands Agents                                                                   |\n",
    "| LLM 모델          | Anthropic Claude Sonnet 4                                                        |\n",
    "| 랩 구성 요소     | AgentCore 아이덴티티, OAuth2 제공자, Google Calendar API, Cognito 통합  |\n",
    "| 랩 분야       | 고객 지원                                                                 |\n",
    "| 예제 복잡도 | 보통                                                                     |\n",
    "| 사용된 SDK           | Amazon BedrockAgentCore Python SDK, Strands Agents, Google API 클라이언트          |\n",
    "\n",
    "### 랩 아키텍처\n",
    "\n",
    "이 랩에서는 아이덴티티 관리 기능으로 고객 지원 에이전트를 확장할 것입니다. 에이전트는 AgentCore 아이덴티티 제공자를 통해 사용자를 인증하고 인증된 사용자를 대신하여 Google Calendar과 같은 외부 서비스에 액세스합니다.\n",
    "\n",
    "에이전트는 다음을 통합합니다:\n",
    "- **AgentCore 아이덴티티**: 보안 자격 증명 관리 및 OAuth2 플로우\n",
    "- **Google OAuth2 제공자**: Google 서비스와의 인증\n",
    "- **캘린더 도구**: 이벤트 생성 및 캘린더 정보 검색\n",
    "- **Cognito 제공자** (선택 사항): 사용자 정의 아이덴티티 제공자 통합\n",
    "\n",
    "\n",
    "### 랩 주요 기능\n",
    "\n",
    "- 보안 OAuth2 인증 플로우\n",
    "- 적절한 자격 증명 관리를 통한 외부 서비스 통합\n",
    "- Google Calendar API 통합\n",
    "- 사용자 정의 아이덴티티 제공자 구성"
   ]
  },
  {
   "cell_type": "markdown",
   "metadata": {},
   "source": [
    "## 전제조건\n",
    "\n",
    "이 튜토리얼을 실행하려면 다음이 필요합니다:\n",
    "\n",
    "- Python 3.10+\n",
    "- 구성된 AWS 자격 증명\n",
    "- Amazon Bedrock AgentCore SDK\n",
    "- Strands Agents\n",
    "- **이전에 완료한 랩 1 & 2** - 이 랩은 기존 에이전트를 직접 기반으로 구축됩니다\n",
    "- **Google Developer Console 액세스** - OAuth2 자격 증명 생성용\n",
    "- **AgentCore 아이덴티티 권한** - AgentCore 아이덴티티 액세스 권한을 가진 IAM 역할\n",
    "\n",
    "**참고**: 진행하기 전에 랩 1 & 2의 기본 에이전트가 올바르게 작동하는지 확인하세요.\n"
   ]
  },
  {
   "cell_type": "markdown",
   "metadata": {},
   "source": [
    "## 1단계: 종속성 설치 및 라이브러리 가져오기\n",
    "\n",
    "AgentCore 아이덴티티 통합, Google API 액세스, OAuth2 인증 플로우에 필요한 패키지를 설치하겠습니다. 또한 나중에 사용할 헬퍼 함수도 만들겠습니다."
   ]
  },
  {
   "cell_type": "code",
   "execution_count": null,
   "metadata": {
    "tags": []
   },
   "outputs": [],
   "source": [
    "# Install required packages\n",
    "%pip install strands-agents strands-agents-tools \"boto3>=1.39.15\" python-dotenv utils google-auth google-api-python-client ddgs -q"
   ]
  },
  {
   "cell_type": "code",
   "execution_count": null,
   "metadata": {
    "tags": []
   },
   "outputs": [],
   "source": [
    "# Import libraries\n",
    "import boto3\n",
    "import click\n",
    "import sys\n",
    "import json\n",
    "import os\n",
    "from botocore.exceptions import ClientError\n",
    "\n",
    "from bedrock_agentcore.identity.auth import requires_access_token\n",
    "from google.oauth2.credentials import Credentials\n",
    "from googleapiclient.discovery import build\n",
    "from googleapiclient.errors import HttpError\n",
    "from datetime import datetime, timedelta\n",
    "from strands import tool\n",
    "from strands import Agent\n",
    "from strands.models import BedrockModel\n",
    "from strands_tools import calculator\n",
    "import webbrowser\n",
    "import sys\n",
    "import os\n",
    "\n",
    "from lab_helpers.utils import get_ssm_parameter, put_ssm_parameter\n",
    "\n",
    "session = boto3.session.Session()\n",
    "region = session.region_name\n",
    "\n",
    "identity_client = boto3.client(\n",
    "    \"bedrock-agentcore-control\",\n",
    "    region_name=region,\n",
    ")\n",
    "cognito = boto3.client('cognito-idp')\n",
    "ssm = boto3.client(\"ssm\", region_name=region)\n",
    "\n",
    "print(\"✅ Libraries imported successfully!\")"
   ]
  },
  {
   "cell_type": "code",
   "execution_count": null,
   "metadata": {
    "tags": []
   },
   "outputs": [],
   "source": [
    "# Helper functions to save, retrieve, and delete provider names from SSM\n",
    "\n",
    "def store_provider_name_in_ssm(provider_name: str):\n",
    "    \"\"\"Store credential provider name in SSM parameter.\"\"\"\n",
    "    param_name = \"/app/customersupport/agentcore/google_provider\"\n",
    "    try:\n",
    "        ssm.put_parameter(\n",
    "            Name=param_name, Value=provider_name, Type=\"String\", Overwrite=True\n",
    "        )\n",
    "        click.echo(f\"🔐 Stored provider name in SSM: {param_name}\")\n",
    "    except ClientError as e:\n",
    "        click.echo(f\"⚠️ Failed to store provider name in SSM: {e}\")\n",
    "\n",
    "\n",
    "def get_provider_name_from_ssm() -> str:\n",
    "    \"\"\"Get credential provider name from SSM parameter.\"\"\"\n",
    "    param_name = \"/app/customersupport/agentcore/google_provider\"\n",
    "    try:\n",
    "        response = ssm.get_parameter(Name=param_name)\n",
    "        return response[\"Parameter\"][\"Value\"]\n",
    "    except ClientError:\n",
    "        return None\n",
    "\n",
    "\n",
    "def delete_ssm_param():\n",
    "    \"\"\"Delete SSM parameter for provider.\"\"\"\n",
    "    param_name = \"/app/customersupport/agentcore/google_provider\"\n",
    "    try:\n",
    "        ssm.delete_parameter(Name=param_name)\n",
    "        click.echo(f\"🧹 Deleted SSM parameter: {param_name}\")\n",
    "    except ClientError as e:\n",
    "        click.echo(f\"⚠️ Failed to delete SSM parameter: {e}\")"
   ]
  },
  {
   "cell_type": "markdown",
   "metadata": {},
   "source": [
    "## 2단계: 고객 지원 도구 가져오기\n",
    "\n",
    "에이전트의 핵심 기능을 유지하기 위해 랩 1의 고객 지원 도구를 재사용하겠습니다.\n"
   ]
  },
  {
   "cell_type": "code",
   "execution_count": null,
   "metadata": {},
   "outputs": [],
   "source": [
    "from lab_helpers.lab1_strands_agent import (\n",
    "    get_return_policy,\n",
    "    get_product_info,\n",
    ")"
   ]
  },
  {
   "cell_type": "markdown",
   "metadata": {},
   "source": [
    "## 3단계: 메모리 도구 가져오기\n",
    "\n",
    "에이전트의 핵심 기능을 유지하기 위해 랩 2의 메모리 도구를 재사용하겠습니다.\n",
    "\n"
   ]
  },
  {
   "cell_type": "code",
   "execution_count": null,
   "metadata": {},
   "outputs": [],
   "source": [
    "from lab_helpers.lab2_helper import setup_memory\n",
    "\n",
    "memory_hook = setup_memory()"
   ]
  },
  {
   "cell_type": "markdown",
   "metadata": {},
   "source": [
    "## 4단계: AgentCore 아이덴티티 클라이언트 구성\n",
    "\n",
    "이 단계에서는 Google Calendar API 기능을 고객 지원 에이전트에 통합하겠습니다. 사용자를 대신하여 Google Calendar과 같은 외부 서비스에 안전하게 액세스하려면 적절한 인증 메커니즘을 구현해야 합니다.\n",
    "\n",
    "Amazon Bedrock AgentCore Identity는 수동 토큰 관리, 새로고침 처리, 자격 증명 저장의 복잡성을 제거하여 OAuth2 인증 플로우를 관리하는 간소화된 접근 방식을 제공합니다. 이 서비스는 에이전트와 외부 서비스 제공자 간의 보안 중간자 역할을 합니다.\n",
    "\n",
    "Google OAuth 클라이언트를 생성하려면 아래 단계를 따르세요:\n",
    "\n",
    "#### ✅ 1. Google Developer Console에서 프로젝트 생성\n",
    "\n",
    "1. [Google Developer Console](https://console.developers.google.com/)로 이동합니다.\n",
    "2. 상단 네비게이션 바에서 “프로젝트 생성”을 클릭합니다.\n",
    "3. 프로젝트 이름을 입력합니다.\n",
    "4. 조직을 선택하거나 해당 사항이 없으면 “조직 없음”으로 둡니다.\n",
    "5. 생성을 클릭합니다.\n",
    "\n",
    "새 프로젝트가 프로젝트 목록에 나타납니다.\n",
    "\n",
    "#### 📦 2. Google Calendar API 활성화\n",
    "\n",
    "1. 프로젝트를 선택한 상태에서 왼쪽 메뉴를 열고 APIs & Services > Library로 이동합니다.\n",
    "2. 검색창에 Google Calendar API를 입력합니다.\n",
    "3. 결과에서 Google Calendar API를 클릭합니다.\n",
    "4. 활성화를 클릭합니다.\n",
    "\n",
    "#### 🛡️ 3. OAuth 동의 화면 구성\n",
    "\n",
    "1. 왼쪽 메뉴에서 APIs & Services > OAuth consent screen으로 이동합니다.\n",
    "\n",
    "2. “시작하기”를 클릭합니다.\n",
    "\n",
    "3. 필수 필드를 입력합니다: 앱 이름, 사용자 지원 이메일\n",
    "4. 다음을 클릭한 후: 사용자 유형(내부 또는 외부)을 선택합니다. 외부를 선택하는 경우 테스터 이메일 주소를 추가합니다. 개발자 연락처 정보(이메일)를 제공합니다.\n",
    "5. 약관에 동의하고 완료를 클릭합니다.\n",
    "6. 생성을 클릭하여 동의 화면을 완료합니다.\n",
    "\n",
    "#### 🔧 4. OAuth 2.0 자격 증명 생성\n",
    "\n",
    "1. 왼쪽 메뉴에서 APIs & Services > Credentials로 이동합니다.\n",
    "2. 자격 증명 생성 > OAuth 클라이언트 ID를 클릭합니다.\n",
    "3. 애플리케이션 유형으로 웹 애플리케이션을 선택합니다.\n",
    "4. 자격 증명의 이름을 입력합니다.\n",
    "5. 승인된 리디렉션 URI 아래에 다음 리디렉션 URI를 추가합니다:\n",
    "   - `https://bedrock-agentcore.us-east-1.amazonaws.com/identities/oauth2/callback`\n",
    "6. 생성을 클릭합니다.\n",
    "\n",
    "#### 🔑 5. 클라이언트 ID 및 클라이언트 시크릿 획득\n",
    "\n",
    "생성 후 대화상자에 클라이언트 ID와 클라이언트 시크릿이 표시됩니다. JSON 다운로드를 클릭하여 자격 증명을 파일로 저장합니다. 이 파일을 프로젝트의 `credentials.json`으로 저장합니다. (파일 이름을 맞추기 위해 이름을 변경해야 할 수도 있습니다)\n",
    "\n",
    "#### 🔍 6. 데이터 액세스 범위 업데이트\n",
    "\n",
    "1. APIs & Services > Credentials로 이동합니다.\n",
    "2. 생성한 OAuth 2.0 클라이언트 ID를 클릭합니다.\n",
    "3. 왼쪽 메뉴에서 Data access를 선택합니다.\n",
    "4. “범위 추가 또는 제거”를 클릭합니다.\n",
    "5. 수동으로 범위 추가 아래에 범위를 입력합니다: `https://www.googleapis.com/auth/calendar`\n",
    "6. 업데이트를 클릭한 다음 저장을 클릭하여 구성을 확인합니다."
   ]
  },
  {
   "cell_type": "code",
   "execution_count": null,
   "metadata": {
    "tags": []
   },
   "outputs": [],
   "source": [
    "credentials_file = \"credentials.json\"\n",
    "\n",
    "#Verify credentials file looks as expected, and extract credentials\n",
    "\n",
    "if not os.path.isfile(credentials_file):\n",
    "    print(f\"❌ Error: '{credentials_file}' file not found\")\n",
    "    sys.exit(1)\n",
    "\n",
    "print(f\"📄 Reading credentials from {credentials_file}...\")\n",
    "try:\n",
    "    with open(credentials_file, \"r\") as f:\n",
    "        data = json.load(f)\n",
    "except json.JSONDecodeError as e:\n",
    "    print(f\"❌ Error parsing JSON: {e}\")\n",
    "    sys.exit(1)\n",
    "\n",
    "web_config = data.get(\"web\")\n",
    "if not web_config:\n",
    "    print(\"❌ Error: 'web' section missing in credentials.json\")\n",
    "    sys.exit(1)\n",
    "\n",
    "client_id = web_config.get(\"client_id\")\n",
    "client_secret = web_config.get(\"client_secret\")\n",
    "\n",
    "if not client_id:\n",
    "    print(\"❌ Error: 'client_id' not found in credentials.json\")\n",
    "    sys.exit(1)\n",
    "\n",
    "if not client_secret:\n",
    "    print(\"❌ Error: 'client_secret' not found in credentials.json\")\n",
    "    sys.exit(1)\n",
    "\n",
    "print(\"✅ Client ID and Secret loaded from credentials.json\")"
   ]
  },
  {
   "cell_type": "code",
   "execution_count": null,
   "metadata": {
    "tags": []
   },
   "outputs": [],
   "source": [
    "google_provider_name = \"customersupport-google-calendar\"\n",
    "\n",
    "try:\n",
    "    print(\"🔧 Creating Google OAuth2 credential provider...\")\n",
    "    google_provider = identity_client.create_oauth2_credential_provider(\n",
    "        name=google_provider_name,\n",
    "        credentialProviderVendor=\"GoogleOauth2\",\n",
    "        oauth2ProviderConfigInput={\n",
    "            \"googleOauth2ProviderConfig\": {\n",
    "                \"clientId\": client_id,\n",
    "                \"clientSecret\": client_secret,\n",
    "            }\n",
    "        },\n",
    "    )\n",
    "\n",
    "    print(\"✅ Google OAuth2 credential provider created successfully\")\n",
    "    google_provider_arn = google_provider[\"credentialProviderArn\"]\n",
    "    print(f\"   Provider ARN: {google_provider_arn}\")\n",
    "    print(f\"   Provider Name: {google_provider['name']}\")\n",
    "\n",
    "    # Store provider name in SSM\n",
    "    store_provider_name_in_ssm(google_provider_name)\n",
    "except Exception as e:\n",
    "    print(f\"❌ Error creating Google credential provider: {str(e)}\")"
   ]
  },
  {
   "cell_type": "code",
   "execution_count": null,
   "metadata": {
    "tags": []
   },
   "outputs": [],
   "source": [
    "# List all OAuth2 credential providers.\n",
    "try:\n",
    "    response = identity_client.list_oauth2_credential_providers(maxResults=20)\n",
    "    providers = response.get(\"credentialProviders\", [])\n",
    "    print(providers)\n",
    "except Exception as e:\n",
    "    print(f\"❌ Error listing credential providers: {str(e)}\", err=True)"
   ]
  },
  {
   "cell_type": "markdown",
   "metadata": {},
   "source": [
    "이제 AgentCore Identity를 사용하여 Google Calendar로 인증하고 사용자를 대신하여 캘린더 작업을 수행하는 도구를 만들겠습니다.\n",
    "\n",
    "먼저 OAuth2 인증 플로우를 구성해보겠습니다:"
   ]
  },
  {
   "cell_type": "code",
   "execution_count": null,
   "metadata": {
    "tags": []
   },
   "outputs": [],
   "source": [
    "async def on_auth_url(url: str):\n",
    "    webbrowser.open(url)\n",
    "    \n",
    "SCOPES = [\"https://www.googleapis.com/auth/calendar\"]\n",
    "\n",
    "google_access_token = None\n",
    "\n",
    "@requires_access_token(\n",
    "    provider_name=google_provider_name,\n",
    "    scopes=[\"https://www.googleapis.com/auth/calendar\"],  # Google OAuth2 scopes\n",
    "    auth_flow=\"USER_FEDERATION\",  # On-behalf-of user (3LO) flow\n",
    "    on_auth_url=on_auth_url,  # prints authorization URL to console\n",
    "    force_authentication=True,\n",
    "    into=\"access_token\",\n",
    ")\n",
    "\n",
    "def get_google_access_token(access_token: str):\n",
    "    return access_token"
   ]
  },
  {
   "cell_type": "markdown",
   "metadata": {
    "tags": []
   },
   "source": [
    "이제 캘린더 관리 도구를 만들어보겠습니다:"
   ]
  },
  {
   "cell_type": "code",
   "execution_count": null,
   "metadata": {
    "tags": []
   },
   "outputs": [],
   "source": [
    "@tool(\n",
    "    name=\"Create_calendar_event\",\n",
    "    description=\"Creates a new event on your Google Calendar\",\n",
    ")\n",
    "def create_calendar_event() -> str:\n",
    "    google_access_token = ''\n",
    "    try:\n",
    "        google_access_token = get_google_access_token(access_token=google_access_token)\n",
    "        if not google_access_token:\n",
    "            raise Exception(\"requires_access_token did not provide tokens\")\n",
    "    except Exception as e:\n",
    "        return \"Error Authentication with Google: \" + str(e)\n",
    "\n",
    "    creds = Credentials(token=google_access_token, scopes=SCOPES)\n",
    "\n",
    "    try:\n",
    "        service = build(\"calendar\", \"v3\", credentials=creds)\n",
    "\n",
    "        # Define event details\n",
    "        start_time = datetime.now() + timedelta(hours=1)\n",
    "        end_time = start_time + timedelta(hours=1)\n",
    "\n",
    "        event = {\n",
    "            \"summary\": \"Test Event from API\",\n",
    "            \"location\": \"Virtual\",\n",
    "            \"description\": \"This event was created using the Google Calendar API.\",\n",
    "            \"start\": {\n",
    "                \"dateTime\": start_time.isoformat() + \"Z\",  # UTC time\n",
    "                \"timeZone\": \"UTC\",\n",
    "            },\n",
    "            \"end\": {\n",
    "                \"dateTime\": end_time.isoformat() + \"Z\",\n",
    "                \"timeZone\": \"UTC\",\n",
    "            },\n",
    "        }\n",
    "\n",
    "        created_event = (\n",
    "            service.events().insert(calendarId=\"primary\", body=event).execute()\n",
    "        )\n",
    "\n",
    "        return json.dumps(\n",
    "            {\n",
    "                \"event_created\": True,\n",
    "                \"event_id\": created_event.get(\"id\"),\n",
    "                \"htmlLink\": created_event.get(\"htmlLink\"),\n",
    "            }\n",
    "        )\n",
    "\n",
    "    except HttpError as error:\n",
    "        return json.dumps({\"error\": str(error), \"event_created\": False})\n",
    "    except Exception as e:\n",
    "        return json.dumps({\"error\": str(e), \"event_created\": False})\n"
   ]
  },
  {
   "cell_type": "code",
   "execution_count": null,
   "metadata": {
    "tags": []
   },
   "outputs": [],
   "source": [
    "@tool(\n",
    "    name=\"Get_calendar_events_today\",\n",
    "    description=\"Retrieves the calendar events for the day from your Google Calendar\",\n",
    ")\n",
    "def get_calendar_events_today() -> str:\n",
    "    google_access_token = ''\n",
    "    try:\n",
    "        google_access_token = get_google_access_token(\n",
    "            access_token=google_access_token)\n",
    "\n",
    "        if not google_access_token:\n",
    "            raise Exception(\"requires_access_token did not provide tokens\")\n",
    "    except Exception as e:\n",
    "        return \"Error Authentication with Google: \" + str(e)\n",
    "\n",
    "    # Create credentials from the provided access token\n",
    "    creds = Credentials(token=google_access_token, scopes=SCOPES)\n",
    "    try:\n",
    "        service = build(\"calendar\", \"v3\", credentials=creds)\n",
    "        # Call the Calendar API\n",
    "        today_start = datetime.now().replace(hour=0, minute=0, second=0, microsecond=0)\n",
    "        today_end = today_start.replace(hour=23, minute=59, second=59)\n",
    "\n",
    "        # Format with CDT timezone (-05:00)\n",
    "        timeMin = today_start.strftime(\"%Y-%m-%dT00:00:00-05:00\")\n",
    "        timeMax = today_end.strftime(\"%Y-%m-%dT23:59:59-05:00\")\n",
    "\n",
    "        events_result = (\n",
    "            service.events()\n",
    "            .list(\n",
    "                calendarId=\"primary\",\n",
    "                timeMin=timeMin,\n",
    "                timeMax=timeMax,\n",
    "                singleEvents=True,\n",
    "                orderBy=\"startTime\",\n",
    "            )\n",
    "            .execute()\n",
    "        )\n",
    "        events = events_result.get(\"items\", [])\n",
    "        if not events:\n",
    "            return json.dumps({\"events\": []})  # Return empty events array as JSON\n",
    "\n",
    "        return json.dumps({\"events\": events})  # Return events wrapped in an object\n",
    "    except HttpError as error:\n",
    "        error_message = str(error)\n",
    "        return json.dumps({\"error\": error_message, \"events\": []})\n",
    "    except Exception as e:\n",
    "        error_message = str(e)\n",
    "        return json.dumps({\"error\": error_message, \"events\": []})"
   ]
  },
  {
   "cell_type": "markdown",
   "metadata": {},
   "source": [
    "새로운 캘린더 기능을 갖춘 고객 지원 에이전트를 만들어보겠습니다:"
   ]
  },
  {
   "cell_type": "code",
   "execution_count": null,
   "metadata": {
    "tags": []
   },
   "outputs": [],
   "source": [
    "model_id = \"us.anthropic.claude-sonnet-4-20250514-v1:0\"\n",
    "model = BedrockModel(\n",
    "    model_id=model_id,\n",
    ")\n",
    "system_prompt = \"\"\"\n",
    "    You are a helpful and professional customer support assistant for an electronics e-commerce company.\n",
    "Your role is to:\n",
    "- Provide accurate information using the tools available to you\n",
    "- Support the customer with technical information and product specifications.\n",
    "- Be friendly, patient, and understanding with customers\n",
    "- Always offer additional help after answering questions\n",
    "- If you can't help with something, direct customers to the appropriate contact\n",
    "\n",
    "You have access to the following tools:\n",
    "1. get_return_policy() - For warranty and return policy questions\n",
    "2. get_product_info() - To get information about a specific product\n",
    "3. web_search() - To access current technical documentation, or for updated information. \n",
    "4. create_calendar_event() - To create a new calendar event\n",
    "5. get_calendar_events_today() - To find events on the calendar today\n",
    "Always use the appropriate tool to get accurate, up-to-date information rather than making assumptions about electronic products or specifications.\n",
    "    \"\"\"\n",
    "agent = Agent(\n",
    "    model=model,\n",
    "    system_prompt=system_prompt,\n",
    "    tools=[create_calendar_event, get_calendar_events_today],\n",
    "    callback_handler=None,\n",
    ")"
   ]
  },
  {
   "cell_type": "markdown",
   "metadata": {},
   "source": [
    "이제 에이전트를 테스트할 시간입니다! ```인증 URL에 대한 토큰 폴링 중```이라는 메시지와 함께 URL이 표시됩니다. 이 URL을 클릭하여 Google 계정에 로그인하고 에이전트가 Google 캘린더에 액세스할 수 있는 권한을 부여하세요."
   ]
  },
  {
   "cell_type": "code",
   "execution_count": null,
   "metadata": {
    "tags": []
   },
   "outputs": [],
   "source": [
    "print(str(agent(\n",
    "            \"Can you create a new event on my cal? You can call the create_calendar_event directly.\"\n",
    "        )))\n"
   ]
  },
  {
   "cell_type": "code",
   "execution_count": null,
   "metadata": {
    "tags": []
   },
   "outputs": [],
   "source": [
    "print(str(agent(\"Whats my agenda for today?\")))"
   ]
  },
  {
   "cell_type": "markdown",
   "metadata": {},
   "source": [
    "## 축하합니다! 🎉\n",
    "\n",
    "**Amazon AgentCore 아이덴티티 기능으로 에이전트 생성**을 성공적으로 완료했습니다!\n",
    "\n",
    "### 달성한 내용:\n",
    "\n",
    "✅ **AgentCore 아이덴티티 구성**: 보안 인증을 위한 OAuth2 자격 증명 제공자 설정\n",
    "✅ **Google Calendar 통합**: 캘린더 이벤트 관리 및 보기를 위한 도구 생성\n",
    "✅ **고객 지원 향상**: 일정 및 캘린더 기능으로 에이전트 확장\n",
    "\n",
    "### 주요 학습 내용:\n",
    "- **아이덴티티 관리**: 보안 자격 증명 관리를 위한 AgentCore 아이덴티티 사용\n",
    "- **OAuth2 플로우**: 사용자 연동 및 토큰 기반 인증 구현\n",
    "- **외부 API 통합**: Google Calendar과 같은 타사 서비스에 안전하게 연결\n",
    "- **도구 향상**: 기존 에이전트 도구에 아이덴티티 인식 기능 추가\n",
    "\n",
    "## 다음 단계\n",
    "\n",
    "에이전트를 더욱 향상시킬 준비가 되셨나요? 다음으로 계속하세요:\n",
    "\n",
    "- **랩 4**: Gateway를 활용하여 도구와 기타 리소스를 안전하게 연결\n",
    "- **랩 5**: 프로덕션 모니터링을 위한 관찰 가능성 및 가드레일 구현\n",
    "- **랩 6**: 확장 가능한 프로덕션 호스팅을 위해 AgentCore Runtime에 배포\n",
    "\n",
    "## 리소스\n",
    "\n",
    "- [AgentCore 아이덴티티 문서](https://docs.aws.amazon.com/bedrock/latest/userguide/agentcore-아이덴티티.html)\n",
    "- [Google Calendar API 문서](https://developers.google.com/calendar/API)\n",
    "- [Strands Agents 문서](https://github.com/strands-agents/sdk-python)\n",
    "- [Amazon Bedrock 모델](https://docs.aws.amazon.com/bedrock/latest/userguide/models-supported.html)\n",
    "- [공식 고객 지원 샘플](https://github.com/awslabs/amazon-bedrock-agentcore-samples/tree/main/02-use-cases/customer-support-assistant)\n",
    "\n",
    "---\n",
    "\n",
    "**훌륭한 작업입니다! 고객 지원 에이전트가 이제 보안 아이덴티티 관리와 캘린더 통합 기능을 갖게 되었습니다! 🚀**"
   ]
  },
  {
   "cell_type": "markdown",
   "metadata": {},
   "source": [
    "## (선택 사항): Cognito로 아이덴티티 제공자 생성\n",
    "\n",
    "추가 아이덴티티 관리 기능을 위해 Cognito 기반 아이덴티티 제공자도 구성할 수 있습니다. 이 섹션에서는 Amazon Cognito를 사용하여 사용자 정의 OAuth2 제공자를 만드는 방법을 보여줍니다:\n"
   ]
  },
  {
   "cell_type": "code",
   "execution_count": null,
   "metadata": {
    "tags": []
   },
   "outputs": [],
   "source": [
    "cognito_provider_name = \"customersupport-gateways-cognito\"\n",
    "\n",
    "try:\n",
    "    print(\"📥 Fetching Cognito configuration from SSM...\")\n",
    "    \n",
    "    client_id = get_ssm_parameter(\"/app/customersupport/agentcore/machine_client_id\")\n",
    "    print(f\"✅ Retrieved client ID: {client_id}\")\n",
    "\n",
    "    client_secret = get_ssm_parameter(\"/app/customersupport/agentcore/cognito_secret\")\n",
    "    print(f\"✅ Retrieved client secret: {client_secret[:4]}***\")\n",
    "\n",
    "    issuer = get_ssm_parameter(\"/app/customersupport/agentcore/cognito_discovery_url\")\n",
    "    auth_url = get_ssm_parameter(\"/app/customersupport/agentcore/cognito_auth_url\")\n",
    "    token_url = get_ssm_parameter(\"/app/customersupport/agentcore/cognito_token_url\")\n",
    "\n",
    "    print(f\"✅ Issuer: {issuer}\")\n",
    "    print(f\"✅ Authorization Endpoint: {auth_url}\")\n",
    "    print(f\"✅ Token Endpoint: {token_url}\")\n",
    "\n",
    "    print(\"⚙️  Creating OAuth2 credential provider...\")\n",
    "    \n",
    "    cognito_provider = identity_client.create_oauth2_credential_provider(\n",
    "            name=cognito_provider_name,\n",
    "            credentialProviderVendor=\"CustomOauth2\",\n",
    "            oauth2ProviderConfigInput={\n",
    "                \"customOauth2ProviderConfig\": {\n",
    "                    \"clientId\": client_id,\n",
    "                    \"clientSecret\": client_secret,\n",
    "                    \"oauthDiscovery\": {\n",
    "                        \"authorizationServerMetadata\": {\n",
    "                            \"issuer\": issuer,\n",
    "                            \"authorizationEndpoint\": auth_url,\n",
    "                            \"tokenEndpoint\": token_url,\n",
    "                            \"responseTypes\": [\"code\", \"token\"],\n",
    "                        }\n",
    "                    },\n",
    "                }\n",
    "            },\n",
    "        )\n",
    "\n",
    "    provider_arn = cognito_provider[\"credentialProviderArn\"]\n",
    "    print(provider_arn)\n",
    "except Exception as e:\n",
    "        print(f\"❌ Error creating Cognito credential provider: {str(e)}\")"
   ]
  },
  {
   "cell_type": "code",
   "execution_count": null,
   "metadata": {
    "tags": []
   },
   "outputs": [],
   "source": [
    "response = identity_client.list_oauth2_credential_providers(maxResults=20)\n",
    "providers = response.get(\"credentialProviders\", [])\n",
    "print(providers)"
   ]
  },
  {
   "cell_type": "markdown",
   "metadata": {},
   "source": [
    "## 정리"
   ]
  },
  {
   "cell_type": "code",
   "execution_count": null,
   "metadata": {},
   "outputs": [],
   "source": [
    "#  try:\n",
    "#     print(f\"🗑️  Deleting Google OAuth2 credential provider: {google_provider_name}\")\n",
    "#     identity_client.delete_oauth2_credential_provider(name=google_provider_name)\n",
    "#     print(\"✅ Google OAuth2 credential provider deleted successfully\")\n",
    "# except Exception as e:\n",
    "#     print(f\"❌ Error deleting credential provider: {str(e)}\")"
   ]
  },
  {
   "cell_type": "code",
   "execution_count": null,
   "metadata": {
    "tags": []
   },
   "outputs": [],
   "source": [
    "#  try:\n",
    "#     print(f\"🗑️  Deleting Cognito OAuth2 credential provider: {cognito_provider_name}\")\n",
    "#     identity_client.delete_oauth2_credential_provider(name=cognito_provider_name)\n",
    "#     print(\"✅ Cognito credential provider deleted successfully\")\n",
    "# except Exception as e:\n",
    "#     print(f\"❌ Error deleting credential provider: {str(e)}\")"
   ]
  }
 ],
 "metadata": {
  "kernelspec": {
   "display_name": "conda_python3",
   "language": "python",
   "name": "conda_python3"
  },
  "language_info": {
   "codemirror_mode": {
    "name": "ipython",
    "version": 3
   },
   "file_extension": ".py",
   "mimetype": "text/x-python",
   "name": "python",
   "nbconvert_exporter": "python",
   "pygments_lexer": "ipython3",
   "version": "3.10.18"
  }
 },
 "nbformat": 4,
 "nbformat_minor": 4
}