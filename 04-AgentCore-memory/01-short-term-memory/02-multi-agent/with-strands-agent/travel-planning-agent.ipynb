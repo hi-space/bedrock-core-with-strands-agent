{
 "cells": [
  {
   "cell_type": "markdown",
   "id": "4a87f55f-9cb5-4aee-8d80-cd3b7935aa2d",
   "metadata": {},
   "source": [
    "# Strands 멀티 에이전트 시스템과 AgentCore Memory Tool (단기 메모리)"
   ]
  },
  {
   "cell_type": "markdown",
   "id": "e1661265-84cd-4a1a-9a62-739c925af6ca",
   "metadata": {},
   "source": [
    "## 소개\n",
    "\n",
    "이 노트북은 AWS AgentCore Memory와 Strands 프레임워크를 사용하여 **공유 메모리를 가진 멀티 에이전트 시스템**을 구현하는 방법을 보여줍니다. 이전 예제들이 단일 에이전트 메모리에 초점을 맞췄던 반면, 이 노트북은 여러 전문 에이전트가 공통 메모리 저장소에 액세스하면서 함께 작업하는 방법을 탐구합니다.\n",
    "\n",
    "## 튜토리얼 세부사항\n",
    "\n",
    "| 정보                | 세부사항                                                                          |\n",
    "|:--------------------|:---------------------------------------------------------------------------------|\n",
    "| 튜토리얼 유형        | 단기 대화형                                                                        |\n",
    "| 에이전트 사용 사례     | 여행 계획 어시스턴트                                                            |\n",
    "| 에이전트 프레임워크   | Strands Agents                                                                   |\n",
    "| LLM 모델            | Anthropic Claude Sonnet 3.7                                                   |\n",
    "| 튜토리얼 구성요소     | AgentCore 단기 메모리, Strands Agents, 도구를 통한 메모리 검색           |\n",
    "| 예제 복잡도          | 초급                                                                             |\n",
    "\n",
    "\n",
    "배울 내용:\n",
    "\n",
    "- 여러 에이전트가 액세스할 수 있는 공유 메모리 리소스 설정 방법\n",
    "- 자체 메모리 액세스를 가진 도구로서 전문 에이전트 생성\n",
    "- 전문 에이전트에게 위임하는 코디네이터 에이전트 구현\n",
    "- 여러 에이전트 상호작용 간 대화 컨텍스트 유지\n",
    "\n",
    "### 시나리오 컨텍스트\n",
    "\n",
    "이 예제에서는 다음과 같은 **여행 계획 시스템**을 만들어보겠습니다:\n",
    "1. 항공 여행 전문 항공편 예약 어시스턴트\n",
    "2. 숙박 시설에 초점을 맞춘 호텔 예약 어시스턴트\n",
    "3. 이러한 전문 에이전트들에게 위임하는 여행 코디네이터\n",
    "\n",
    "이 접근 방식은 복잡한 도메인을 동일한 메모리 저장소를 공유하는 전문 에이전트로 나눠 구성할 수 있는 방법을 보여줍니다.\n",
    "\n",
    "## 아키텍처\n",
    "<div style=\"text-align:left\">\n",
    "    <img src=\"architecture.png\" width=\"65%\" />\n",
    "</div>\n",
    "\n",
    "## 전제조건\n",
    "- Python 3.10+\n",
    "- 적절한 권한이 있는 AWS 계정\n",
    "- AgentCore Memory에 대한 적절한 권한이 있는 AWS IAM 역할\n",
    "- Amazon Bedrock 모델에 대한 액세스\n",
    "\n",
    "환경 설정과 공유 메모리 리소스 생성을 시작해보겠습니다!"
   ]
  },
  {
   "cell_type": "markdown",
   "id": "091a7ba3-0933-43a2-93b8-3379e73440c1",
   "metadata": {},
   "source": [
    "## 1단계: 환경 설정\n",
    "이 노트북이 작동하도록 필요한 모든 라이브러리를 가져오고 클라이언트를 정의하는 것부터 시작해보겠습니다."
   ]
  },
  {
   "cell_type": "code",
   "execution_count": null,
   "id": "0ea35f65-29ba-42e7-a756-7ab5b93a84ce",
   "metadata": {},
   "outputs": [],
   "source": [
    "!pip install -qr requirements.txt"
   ]
  },
  {
   "cell_type": "code",
   "execution_count": null,
   "id": "f63a5236-2e64-4029-876c-87fe808ce0a8",
   "metadata": {},
   "outputs": [],
   "source": [
    "import logging\n",
    "from datetime import datetime\n",
    "from strands.hooks import AgentInitializedEvent, HookProvider, HookRegistry, MessageAddedEvent"
   ]
  },
  {
   "cell_type": "markdown",
   "id": "bff35a0f-79bc-4d47-81d4-5a52f219e664",
   "metadata": {},
   "source": [
    "Amazon Bedrock 모델과 AgentCore에 대한 적절한 권한을 가진 지역과 역할을 정의합니다"
   ]
  },
  {
   "cell_type": "code",
   "execution_count": null,
   "id": "746a9e5c-0893-431a-9585-9e8bfb13fd52",
   "metadata": {},
   "outputs": [],
   "source": [
    "import os\n",
    "region = os.getenv('AWS_REGION', 'us-west-2')\n",
    "MODEL_ID = \"us.anthropic.claude-3-7-sonnet-20250219-v1:0\"\n",
    "\n",
    "logging.basicConfig(level=logging.INFO, format=\"%(asctime)s - %(levelname)s - %(message)s\", datefmt=\"%Y-%m-%d %H:%M:%S\")\n",
    "logger = logging.getLogger(\"agentcore-memory\")"
   ]
  },
  {
   "cell_type": "markdown",
   "id": "ef644e57-9e6f-413d-9b26-5eeb775d7760",
   "metadata": {},
   "source": [
    "## 2단계: 공유 메모리 생성\n",
    "이 섹션에서는 전문 에이전트들 간에 공유될 메모리 리소스를 생성합니다."
   ]
  },
  {
   "cell_type": "code",
   "execution_count": null,
   "id": "3be50b1e-e11b-43e4-8ba6-3c9d703110eb",
   "metadata": {},
   "outputs": [],
   "source": [
    "from bedrock_agentcore.memory import MemoryClient"
   ]
  },
  {
   "cell_type": "code",
   "execution_count": null,
   "id": "99f7fd67-2e2d-4248-8353-b0c495f9fd93",
   "metadata": {},
   "outputs": [],
   "source": [
    "client = MemoryClient(region_name=region)\n",
    "memory_name = \"TravelAgent_STM_%s\" % datetime.now().strftime(\"%Y%m%d%H%M%S\")\n",
    "memory_id = None\n"
   ]
  },
  {
   "cell_type": "code",
   "execution_count": null,
   "id": "8f32d7a9-dcdd-4296-968c-94aa7f3a7c30",
   "metadata": {},
   "outputs": [],
   "source": [
    "from botocore.exceptions import ClientError\n",
    "\n",
    "try:\n",
    "    print(\"Creating Memory...\")\n",
    "    memory_name = memory_name\n",
    "\n",
    "    # Create the memory resource\n",
    "    memory = client.create_memory_and_wait(\n",
    "        name=memory_name,                       # Unique name for this memory store\n",
    "        description=\"Travel Agent STM\",         # Human-readable description\n",
    "        strategies=[],                          # No special memory strategies for short-term memory\n",
    "        event_expiry_days=7,                    # Memories expire after 7 days\n",
    "        max_wait=300,                           # Maximum time to wait for memory creation (5 minutes)\n",
    "        poll_interval=10                        # Check status every 10 seconds\n",
    "    )\n",
    "\n",
    "    # Extract and print the memory ID\n",
    "    memory_id = memory['id']\n",
    "    print(f\"Memory created successfully with ID: {memory_id}\")\n",
    "except ClientError as e:\n",
    "    if e.response['Error']['Code'] == 'ValidationException' and \"already exists\" in str(e):\n",
    "        # If memory already exists, retrieve its ID\n",
    "        memories = client.list_memories()\n",
    "        memory_id = next((m['id'] for m in memories if m['id'].startswith(memory_name)), None)\n",
    "        logger.info(f\"Memory already exists. Using existing memory ID: {memory_id}\")\n",
    "except Exception as e:\n",
    "    # Handle any errors during memory creation\n",
    "    print(f\"❌ ERROR: {e}\")\n",
    "    import traceback\n",
    "    traceback.print_exc()\n",
    "\n",
    "    # Cleanup on error - delete the memory if it was partially created\n",
    "    if memory_id:\n",
    "        try:\n",
    "            client.delete_memory_and_wait(memory_id=memory_id)\n",
    "            logger.info(f\"Cleaned up memory: {memory_id}\")\n",
    "        except Exception as cleanup_error:\n",
    "            logger.info(f\"Failed to clean up memory: {cleanup_error}\")"
   ]
  },
  {
   "cell_type": "markdown",
   "id": "aa3fed1c-aa71-409b-9b37-2ee03b0aeeb5",
   "metadata": {},
   "source": [
    "### 멀티 에이전트 시스템을 위한 공유 메모리 이해\n",
    "\n",
    "우리가 생성한 메모리 리소스는 여행 계획 시스템의 공유 지식 기반 역할을 합니다. 모든 에이전트는 이 공통 메모리 저장소에서 읽고 쓰게 되어 다음을 가능하게 합니다:\n",
    "\n",
    "1. **지식 일관성**: 모든 에이전트가 동일한 정보로 작업\n",
    "2. **컨텍스트 보존**: 에이전트 전환 간에도 대화 기록 유지\n",
    "3. **전문화된 액세스**: 각 에이전트는 고유한 actor_id를 가지지만 session_id는 공유\n",
    "\n",
    "이 접근 방식은 전문 에이전트가 전체 대화 컨텍스트의 이점을 누리면서도 자신의 도메인에 집중할 수 있게 해줍니다."
   ]
  },
  {
   "cell_type": "markdown",
   "id": "5287c609-2117-41db-8ab4-5df5acdbf150",
   "metadata": {},
   "source": [
    "## 3단계: 메모리 훅 프로바이더 생성\n",
    "\n",
    "이 단계에서는 메모리 작업을 자동화하는 사용자 정의 `MemoryHookProvider` 클래스를 정의합니다. 훅은 에이전트의 실행 생명주기의 특정 지점에서 실행되는 특수 함수입니다. 우리가 만드는 메모리 훅은 두 가지 주요 기능을 제공합니다:\n",
    "\n",
    "1. **메모리 검색**: 사용자가 메시지를 보낼 때 관련된 과거 대화를 자동으로 가져옴\n",
    "2. **메모리 저장**: 에이전트가 응답한 후 새로운 대화를 저장\n",
    "\n",
    "이는 수동 관리 없이 원활한 메모리 경험을 만들어줍니다."
   ]
  },
  {
   "cell_type": "code",
   "execution_count": null,
   "id": "371823d3-186c-4c99-ab78-9316e522afd3",
   "metadata": {},
   "outputs": [],
   "source": [
    "class ShortTermMemoryHook(HookProvider):\n",
    "    def __init__(self, memory_client: MemoryClient, memory_id: str, actor_id: str, session_id: str):\n",
    "        self.memory_client = memory_client\n",
    "        self.memory_id = memory_id\n",
    "        self.actor_id = actor_id\n",
    "        self.session_id = session_id\n",
    "    \n",
    "    def on_agent_initialized(self, event: AgentInitializedEvent):\n",
    "        \"\"\"Load recent conversation history when agent starts\"\"\"\n",
    "        try:\n",
    "            # Get last 5 conversation turns\n",
    "            recent_turns = self.memory_client.get_last_k_turns(\n",
    "                memory_id=self.memory_id,\n",
    "                actor_id=self.actor_id,\n",
    "                session_id=self.session_id,\n",
    "                k=5,\n",
    "                branch_name=\"main\"\n",
    "            )\n",
    "            \n",
    "            if recent_turns:\n",
    "                # Format conversation history for context\n",
    "                context_messages = []\n",
    "                for turn in recent_turns:\n",
    "                    for message in turn:\n",
    "                        role = message['role'].lower()\n",
    "                        content = message['content']['text']\n",
    "                        context_messages.append(f\"{role.title()}: {content}\")\n",
    "                \n",
    "                context = \"\\n\".join(context_messages)\n",
    "                logger.info(f\"Context from memory: {context}\")\n",
    "                \n",
    "                # Add context to agent's system prompt\n",
    "                event.agent.system_prompt += f\"\\n\\nRecent conversation history:\\n{context}\\n\\nContinue the conversation naturally based on this context.\"\n",
    "                \n",
    "                logger.info(f\"✅ Loaded {len(recent_turns)} recent conversation turns\")\n",
    "            else:\n",
    "                logger.info(\"No previous conversation history found\")\n",
    "                \n",
    "        except Exception as e:\n",
    "            logger.error(f\"Failed to load conversation history: {e}\")\n",
    "    \n",
    "    def on_message_added(self, event: MessageAddedEvent):\n",
    "        \"\"\"Store conversation turns in memory\"\"\"\n",
    "        messages = event.agent.messages\n",
    "        try:\n",
    "            self.memory_client.create_event(\n",
    "                memory_id=self.memory_id,\n",
    "                actor_id=self.actor_id,\n",
    "                session_id=self.session_id,\n",
    "                messages=[(messages[-1][\"content\"][0][\"text\"], messages[-1][\"role\"])]\n",
    "            )\n",
    "            \n",
    "        except Exception as e:\n",
    "            logger.error(f\"Failed to store message: {e}\")\n",
    "    \n",
    "    def register_hooks(self, registry: HookRegistry) -> None:\n",
    "        # Register memory hooks\n",
    "        registry.add_callback(MessageAddedEvent, self.on_message_added)\n",
    "        registry.add_callback(AgentInitializedEvent, self.on_agent_initialized)"
   ]
  },
  {
   "cell_type": "markdown",
   "id": "11313704-f182-423f-96d7-a64b4482c8aa",
   "metadata": {},
   "source": [
    "## 4단계: Strands Agents로 멀티 에이전트 아키텍처 생성\n",
    "이 섹션에서는 항공편과 호텔 예약을 위한 전문 에이전트로 구성된 멀티 에이전트 시스템을 만들어보겠습니다. 두 에이전트 모두 메모리 리소스에 대한 액세스를 공유합니다."
   ]
  },
  {
   "cell_type": "code",
   "execution_count": null,
   "id": "a288afca-e06e-48b2-b10b-9cb0465c9e23",
   "metadata": {},
   "outputs": [],
   "source": [
    "# Import the necessary components\n",
    "from strands import Agent, tool"
   ]
  },
  {
   "cell_type": "code",
   "execution_count": null,
   "id": "b1293c57-967a-4cba-ad18-a07e97358929",
   "metadata": {},
   "outputs": [],
   "source": [
    "# Create unique actor IDs for each specialized agent but share the session ID\n",
    "flight_actor_id = f\"flight-user-{datetime.now().strftime('%Y%m%d%H%M%S')}\"\n",
    "hotel_actor_id = f\"hotel-user-{datetime.now().strftime('%Y%m%d%H%M%S')}\"\n",
    "session_id = f\"travel-session-{datetime.now().strftime('%Y%m%d%H%M%S')}\"\n",
    "flight_namespace = f\"travel/{flight_actor_id}/preferences\"\n",
    "hotel_namespace = f\"travel/{hotel_actor_id}/preferences\""
   ]
  },
  {
   "cell_type": "markdown",
   "id": "48f39b9d-4238-45e5-a8eb-98a8c450e65a",
   "metadata": {},
   "source": [
    "### 메모리 액세스를 가진 전문 에이전트 생성\n",
    "\n",
    "다음으로, 전문 에이전트를 위한 시스템 프롬프트를 정의하겠습니다. 각 프롬프트에는 에이전트가 파싱할 수 있는 형식의 메모리 매개변수가 포함되어 있습니다:"
   ]
  },
  {
   "cell_type": "code",
   "execution_count": null,
   "id": "bb748408-80cc-4f2a-8950-ed1523bec2aa",
   "metadata": {},
   "outputs": [],
   "source": [
    "# System prompt for the hotel booking specialist\n",
    "HOTEL_BOOKING_PROMPT = f\"\"\"You are a hotel booking assistant. Help customers find hotels, make reservations, and answer questions about accommodations and amenities. \n",
    "Provide clear information about availability, pricing, and booking procedures in a friendly, helpful manner.\"\"\"\n",
    "\n",
    "# System prompt for the flight booking specialist\n",
    "FLIGHT_BOOKING_PROMPT = f\"\"\"You are a flight booking assistant. Help customers find flights, make reservations, and answer questions about airlines, routes, and travel policies. \n",
    "Provide clear information about flight availability, pricing, schedules, and booking procedures in a friendly, helpful manner.\"\"\""
   ]
  },
  {
   "cell_type": "markdown",
   "id": "a42e6a49-dc31-48ae-b6ca-5e08266fd74a",
   "metadata": {},
   "source": [
    "### 에이전트 도구 구현\n",
    "이제 코디네이터 에이전트가 사용할 수 있는 도구로서 전문 에이전트를 구현해보겠습니다:"
   ]
  },
  {
   "cell_type": "code",
   "execution_count": null,
   "id": "1f67ed8c-c15b-4e5a-a130-aa3ef165fc3f",
   "metadata": {},
   "outputs": [],
   "source": [
    "@tool\n",
    "def flight_booking_assistant(query: str) -> str:\n",
    "    \"\"\"\n",
    "    Process and respond to flight booking queries.\n",
    "\n",
    "    Args:\n",
    "        query: A flight-related question about bookings, schedules, airlines, or travel policies\n",
    "\n",
    "    Returns:\n",
    "        Detailed flight information, booking options, or travel advice\n",
    "    \"\"\"\n",
    "    try:\n",
    "        flight_memory_hooks = ShortTermMemoryHook(\n",
    "            memory_id=memory_id,\n",
    "            memory_client=client,\n",
    "            actor_id=flight_actor_id,\n",
    "            session_id=session_id\n",
    "        )\n",
    "        \n",
    "        flight_agent = Agent(hooks=[flight_memory_hooks],model=MODEL_ID, system_prompt=FLIGHT_BOOKING_PROMPT)\n",
    "\n",
    "        # Call the agent and return its response\n",
    "        response = flight_agent(query)\n",
    "        return str(response)\n",
    "    except Exception as e:\n",
    "        return f\"Error in flight booking assistant: {str(e)}\"\n",
    "\n",
    "@tool\n",
    "def hotel_booking_assistant(query: str) -> str:\n",
    "    \"\"\"\n",
    "    Process and respond to hotel booking queries.\n",
    "\n",
    "    Args:\n",
    "        query: A hotel-related question about accommodations, amenities, or reservations\n",
    "\n",
    "    Returns:\n",
    "        Detailed hotel information, booking options, or accommodation advice\n",
    "    \"\"\"\n",
    "    try:\n",
    "        hotel_memory_hooks = ShortTermMemoryHook(\n",
    "            memory_id=memory_id,\n",
    "            memory_client=client,\n",
    "            actor_id=hotel_actor_id,\n",
    "            session_id=session_id\n",
    "        )\n",
    "\n",
    "        hotel_booking_agent = Agent(hooks=[hotel_memory_hooks],model=MODEL_ID, system_prompt=HOTEL_BOOKING_PROMPT)\n",
    "        \n",
    "        # Call the agent and return its response\n",
    "        response = hotel_booking_agent(query)\n",
    "        return str(response)\n",
    "    except Exception as e:\n",
    "        return f\"Error in hotel booking assistant: {str(e)}\""
   ]
  },
  {
   "cell_type": "markdown",
   "id": "e7b572d1-d429-4678-a318-2ab153408e23",
   "metadata": {},
   "source": [
    "### 코디네이터 에이전트 생성\n",
    "\n",
    "마지막으로, 이러한 전문 도구들 간에 조정을 담당하는 메인 여행 계획 에이전트를 만들어보겠습니다:"
   ]
  },
  {
   "cell_type": "code",
   "execution_count": null,
   "id": "4abe237d-36c2-42ab-ae54-4554e1e4f23a",
   "metadata": {},
   "outputs": [],
   "source": [
    "# System prompt for the coordinator agent\n",
    "TRAVEL_AGENT_SYSTEM_PROMPT = \"\"\"\n",
    "You are a comprehensive travel planning assistant that coordinates between specialized tools:\n",
    "- For flight-related queries (bookings, schedules, airlines, routes) → Use the flight_booking_assistant tool\n",
    "- For hotel-related queries (accommodations, amenities, reservations) → Use the hotel_booking_assistant tool\n",
    "- For complete travel packages → Use both tools as needed to provide comprehensive information\n",
    "- For general travel advice or simple travel questions → Answer directly\n",
    "\n",
    "Each agent will have its own memory in case the user asks about historic data.\n",
    "When handling complex travel requests, coordinate information from both tools to create a cohesive travel plan.\n",
    "Provide clear organization when presenting information from multiple sources. \\\n",
    "Ask max two questions per turn. Keep the messages short, don't overwhelm the customer.\n",
    "\"\"\""
   ]
  },
  {
   "cell_type": "code",
   "execution_count": null,
   "id": "1f10bb9f-031e-49b6-8175-1b676cdd2576",
   "metadata": {},
   "outputs": [],
   "source": [
    "travel_agent = Agent(\n",
    "    system_prompt=TRAVEL_AGENT_SYSTEM_PROMPT,\n",
    "    model=MODEL_ID,\n",
    "    tools=[flight_booking_assistant, hotel_booking_assistant]\n",
    ")"
   ]
  },
  {
   "cell_type": "markdown",
   "id": "c361c59d-e322-47ae-92a8-ee6cd994df22",
   "metadata": {},
   "source": [
    "#### 멀티 에이전트 시스템이 준비되었습니다!!\n",
    "\n",
    "## 에이전트를 테스트해보겠습니다.\n",
    "\n",
    "여행 계획 시나리오로 멀티 에이전트 시스템을 테스트해보겠습니다:"
   ]
  },
  {
   "cell_type": "code",
   "execution_count": null,
   "id": "8b13aa5d-4abc-41eb-916b-35ccf0b5ab03",
   "metadata": {},
   "outputs": [],
   "source": [
    "response = travel_agent(\"Hello, I would like to book a trip from LA to Madrid. From July 1 to August 2.\")"
   ]
  },
  {
   "cell_type": "code",
   "execution_count": null,
   "id": "ec209fa8-fd5a-41a8-b7d1-86a1f137331f",
   "metadata": {},
   "outputs": [],
   "source": [
    "response = travel_agent(\"I would only like to focus on the flight at the moment. direct flimid-range, city center, pool, standard room\")"
   ]
  },
  {
   "cell_type": "markdown",
   "id": "ef1ed3c9-93ee-4617-81a7-b462133f4488",
   "metadata": {},
   "source": [
    "## 메모리 지속성 테스트\n",
    "\n",
    "메모리 시스템이 올바르게 작동하는지 테스트하기 위해 여행 에이전트의 새 인스턴스를 생성하고 이전에 저장된 정보에 액세스할 수 있는지 확인해보겠습니다:"
   ]
  },
  {
   "cell_type": "code",
   "execution_count": null,
   "id": "8007b15a-2b00-4f07-aa7d-dfa8ba7b5b10",
   "metadata": {},
   "outputs": [],
   "source": [
    "# Create a new instance of the travel agent\n",
    "new_travel_agent = Agent(\n",
    "    system_prompt=TRAVEL_AGENT_SYSTEM_PROMPT,\n",
    "    model=MODEL_ID,\n",
    "    tools=[flight_booking_assistant, hotel_booking_assistant]\n",
    ")\n",
    "\n",
    "# Ask about previous conversations\n",
    "new_travel_agent(\"Can you remind me about flights talked about before?\")"
   ]
  },
  {
   "cell_type": "markdown",
   "id": "2fb6cdd1-5c11-4346-9c5a-93fb44c779ac",
   "metadata": {},
   "source": [
    "## 요약\n",
    "\n",
    "이 노트북에서 보여준 내용:\n",
    "\n",
    "1. 여러 에이전트를 위한 공유 메모리 리소스 생성 방법\n",
    "2. 메모리 액세스를 가진 도구로서 전문 에이전트 구현 방법\n",
    "3. 대화 컨텍스트를 유지하면서 여러 에이전트 간 조정 방법\n",
    "4. 다른 에이전트 인스턴스 간 메모리 지속 방법\n",
    "\n",
    "공유 메모리를 가진 이 멀티 에이전트 아키텍처는 일관된 사용자 경험을 유지하면서 전문 도메인을 처리할 수 있는 복잡한 대화형 AI 시스템을 구축하는 강력한 접근 방식을 제공합니다."
   ]
  },
  {
   "cell_type": "markdown",
   "id": "18852f04-e06e-4787-9c4f-3d2d2ba8563b",
   "metadata": {},
   "source": [
    "## 정리\n",
    "이 노트북에서 사용한 리소스를 정리하기 위해 메모리를 삭제해보겠습니다."
   ]
  },
  {
   "cell_type": "code",
   "execution_count": null,
   "id": "3d4577ee-3a79-4a44-abde-86391e98e4bb",
   "metadata": {},
   "outputs": [],
   "source": [
    "#client.delete_memory_and_wait(\n",
    "#        memory_id = memory_id,\n",
    "#        max_wait = 300,\n",
    "#        poll_interval =10\n",
    "#)"
   ]
  }
 ],
 "metadata": {
  "kernelspec": {
   "display_name": "conda_python3",
   "language": "python",
   "name": "conda_python3"
  },
  "language_info": {
   "codemirror_mode": {
    "name": "ipython",
    "version": 3
   },
   "file_extension": ".py",
   "mimetype": "text/x-python",
   "name": "python",
   "nbconvert_exporter": "python",
   "pygments_lexer": "ipython3",
   "version": "3.10.18"
  }
 },
 "nbformat": 4,
 "nbformat_minor": 5
}
