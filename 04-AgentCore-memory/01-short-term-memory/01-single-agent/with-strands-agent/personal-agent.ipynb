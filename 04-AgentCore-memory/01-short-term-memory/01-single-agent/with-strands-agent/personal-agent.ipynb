{
 "cells": [
  {
   "cell_type": "markdown",
   "id": "overview",
   "metadata": {},
   "source": [
    "# Strands Agents와 AgentCore Memory (단기 메모리)\n",
    "\n",
    "\n",
    "## 소개\n",
    "\n",
    "이 튜토리얼은 AgentCore **단기 메모리**(Raw events)를 사용하여 Strands agents로 **개인 에이전트**를 구축하는 방법을 보여줍니다. 에이전트는 `get_last_k_turns`를 사용하여 세션의 최근 대화를 기억하고 사용자가 돌아왔을 때 대화를 원활하게 계속할 수 있습니다.\n",
    "\n",
    "\n",
    "### 튜토리얼 세부사항\n",
    "\n",
    "| 정보                | 세부사항                                                                          |\n",
    "|:--------------------|:---------------------------------------------------------------------------------|\n",
    "| 튜토리얼 유형        | 단기 대화형                                                                        |\n",
    "| 에이전트 유형        | 개인 에이전트                                                                      |\n",
    "| 에이전트 프레임워크   | Strands Agents                                                                   |\n",
    "| LLM 모델            | Anthropic Claude Sonnet 3.7                                                      |\n",
    "| 튜토리얼 구성요소     | AgentCore 단기 메모리, AgentInitializedEvent 및 MessageAddedEvent 훅             |\n",
    "| 예제 복잡도          | 초급                                                                             |\n",
    "\n",
    "배울 내용:\n",
    "- 대화 연속성을 위한 단기 메모리 사용\n",
    "- 마지막 K개 대화 턴 검색\n",
    "- 실시간 정보를 위한 웹 검색 도구\n",
    "- 대화 기록으로 에이전트 초기화\n",
    "\n",
    "## 아키텍처\n",
    "<div style=\"text-align:left\">\n",
    "    <img src=\"architecture.png\" width=\"65%\" />\n",
    "</div>\n",
    "\n",
    "## 전제조건\n",
    "\n",
    "- Python 3.10+\n",
    "- AgentCore Memory 권한이 있는 AWS 자격 증명\n",
    "- AgentCore Memory 역할 ARN\n",
    "- Amazon Bedrock 모델에 대한 액세스\n",
    "\n",
    "환경 설정을 시작해보겠습니다!"
   ]
  },
  {
   "cell_type": "markdown",
   "id": "setup",
   "metadata": {},
   "source": [
    "## 1단계: 설정 및 가져오기"
   ]
  },
  {
   "cell_type": "code",
   "execution_count": null,
   "id": "641512ed",
   "metadata": {},
   "outputs": [],
   "source": [
    "!pip install -qr requirements.txt"
   ]
  },
  {
   "cell_type": "code",
   "execution_count": null,
   "id": "setup_code",
   "metadata": {},
   "outputs": [],
   "source": [
    "import logging\n",
    "from datetime import datetime\n",
    "\n",
    "# Setup\n",
    "logging.basicConfig(level=logging.INFO)\n",
    "logger = logging.getLogger(\"personal-agent\")"
   ]
  },
  {
   "cell_type": "code",
   "execution_count": null,
   "id": "imports",
   "metadata": {},
   "outputs": [],
   "source": [
    "# Imports\n",
    "import os\n",
    "from strands import Agent, tool\n",
    "from strands.hooks import AgentInitializedEvent, HookProvider, HookRegistry, MessageAddedEvent\n",
    "from bedrock_agentcore.memory import MemoryClient\n",
    "\n",
    "# Configuration\n",
    "REGION = os.getenv('AWS_REGION', 'us-west-2') # AWS region for the agent\n",
    "ACTOR_ID = \"user_123\" # It can be any unique identifier (AgentID, User ID, etc.)\n",
    "SESSION_ID = \"personal_session_001\" # Unique session identifier\n"
   ]
  },
  {
   "cell_type": "markdown",
   "id": "step2",
   "metadata": {},
   "source": [
    "## 2단계: 웹 검색 도구\n",
    "\n",
    "먼저 에이전트를 위한 간단한 웹 검색 도구를 만들어보겠습니다."
   ]
  },
  {
   "cell_type": "code",
   "execution_count": null,
   "id": "web_search",
   "metadata": {},
   "outputs": [],
   "source": [
    "from ddgs.exceptions import DDGSException, RatelimitException\n",
    "from ddgs import DDGS\n",
    "\n",
    "@tool\n",
    "def websearch(keywords: str, region: str = \"us-en\", max_results: int = 5) -> str:\n",
    "    \"\"\"Search the web for updated information.\n",
    "    \n",
    "    Args:\n",
    "        keywords (str): The search query keywords.\n",
    "        region (str): The search region: wt-wt, us-en, uk-en, ru-ru, etc..\n",
    "        max_results (int | None): The maximum number of results to return.\n",
    "    Returns:\n",
    "        List of dictionaries with search results.\n",
    "    \n",
    "    \"\"\"\n",
    "    try:\n",
    "        results = DDGS().text(keywords, region=region, max_results=max_results)\n",
    "        return results if results else \"No results found.\"\n",
    "    except RatelimitException:\n",
    "        return \"Rate limit reached. Please try again later.\"\n",
    "    except DDGSException as e:\n",
    "        return f\"Search error: {e}\"\n",
    "    except Exception as e:\n",
    "        return f\"Search error: {str(e)}\"\n",
    "\n",
    "logger.info(\"✅ Web search tool ready\")"
   ]
  },
  {
   "cell_type": "markdown",
   "id": "step3",
   "metadata": {},
   "source": [
    "## 3단계: 메모리 리소스 생성\n",
    "단기 메모리의 경우, 전략 없이 메모리 리소스를 생성합니다. 이는 `get_last_k_turns`로 검색할 수 있는 원시 대화 턴을 저장합니다.\n"
   ]
  },
  {
   "cell_type": "code",
   "execution_count": null,
   "id": "create_memory",
   "metadata": {},
   "outputs": [],
   "source": [
    "from botocore.exceptions import ClientError\n",
    "\n",
    "# Initialize Memory Client\n",
    "client = MemoryClient(region_name=REGION)\n",
    "memory_name = \"PersonalAgentMemory\"\n",
    "\n",
    "try:\n",
    "    # Create memory resource without strategies (thus only access to short-term memory)\n",
    "    memory = client.create_memory_and_wait(\n",
    "        name=memory_name,\n",
    "        strategies=[],  # No strategies for short-term memory\n",
    "        description=\"Short-term memory for personal agent\",\n",
    "        event_expiry_days=7, # Retention period for short-term memory. This can be upto 365 days.\n",
    "    )\n",
    "    memory_id = memory['id']\n",
    "    logger.info(f\"✅ Created memory: {memory_id}\")\n",
    "except ClientError as e:\n",
    "    logger.info(f\"❌ ERROR: {e}\")\n",
    "    if e.response['Error']['Code'] == 'ValidationException' and \"already exists\" in str(e):\n",
    "        # If memory already exists, retrieve its ID\n",
    "        memories = client.list_memories()\n",
    "        memory_id = next((m['id'] for m in memories if m['id'].startswith(memory_name)), None)\n",
    "        logger.info(f\"Memory already exists. Using existing memory ID: {memory_id}\")\n",
    "except Exception as e:\n",
    "    # Show any errors during memory creation\n",
    "    logger.error(f\"❌ ERROR: {e}\")\n",
    "    import traceback\n",
    "    traceback.print_exc()\n",
    "    # Cleanup on error - delete the memory if it was partially created\n",
    "    if memory_id:\n",
    "        try:\n",
    "            client.delete_memory_and_wait(memory_id=memory_id)\n",
    "            logger.info(f\"Cleaned up memory: {memory_id}\")\n",
    "        except Exception as cleanup_error:\n",
    "            logger.error(f\"Failed to clean up memory: {cleanup_error}\")"
   ]
  },
  {
   "cell_type": "markdown",
   "id": "step4",
   "metadata": {},
   "source": [
    "## 4단계: 메모리 훅\n",
    "\n",
    "이 단계에서는 메모리 작업을 자동화하는 사용자 정의 `MemoryHookProvider` 클래스를 정의합니다. 훅은 에이전트의 실행 생명주기의 특정 지점에서 실행되는 특수 함수입니다. 우리가 만드는 메모리 훅은 두 가지 주요 기능을 제공합니다:\n",
    "1. **최근 대화 로드**: `AgentInitializedEvent` 훅을 사용하여 에이전트가 초기화될 때 최근 대화 기록을 자동으로 로드합니다.\n",
    "2. **마지막 메시지 저장**: 새로운 대화 메시지를 저장합니다.\n",
    "\n",
    "이는 수동 관리 없이 원활한 메모리 경험을 만들어줍니다."
   ]
  },
  {
   "cell_type": "code",
   "execution_count": null,
   "id": "memory_hook",
   "metadata": {},
   "outputs": [],
   "source": [
    "class MemoryHookProvider(HookProvider):\n",
    "    def __init__(self, memory_client: MemoryClient, memory_id: str, actor_id: str, session_id: str):\n",
    "        self.memory_client = memory_client\n",
    "        self.memory_id = memory_id\n",
    "        self.actor_id = actor_id\n",
    "        self.session_id = session_id\n",
    "    \n",
    "    def on_agent_initialized(self, event: AgentInitializedEvent):\n",
    "        \"\"\"Load recent conversation history when agent starts\"\"\"\n",
    "        try:\n",
    "            # Load the last 5 conversation turns from memory\n",
    "            recent_turns = self.memory_client.get_last_k_turns(\n",
    "                memory_id=self.memory_id,\n",
    "                actor_id=self.actor_id,\n",
    "                session_id=self.session_id,\n",
    "                k=5\n",
    "            )\n",
    "            \n",
    "            if recent_turns:\n",
    "                # Format conversation history for context\n",
    "                context_messages = []\n",
    "                for turn in recent_turns:\n",
    "                    for message in turn:\n",
    "                        role = message['role']\n",
    "                        content = message['content']['text']\n",
    "                        context_messages.append(f\"{role}: {content}\")\n",
    "                \n",
    "                context = \"\\n\".join(context_messages)\n",
    "                # Add context to agent's system prompt.\n",
    "                event.agent.system_prompt += f\"\\n\\nRecent conversation:\\n{context}\"\n",
    "                logger.info(f\"✅ Loaded {len(recent_turns)} conversation turns\")\n",
    "                \n",
    "        except Exception as e:\n",
    "            logger.error(f\"Memory load error: {e}\")\n",
    "    \n",
    "    def on_message_added(self, event: MessageAddedEvent):\n",
    "        \"\"\"Store messages in memory\"\"\"\n",
    "        messages = event.agent.messages\n",
    "        try:\n",
    "            self.memory_client.create_event(\n",
    "                memory_id=self.memory_id,\n",
    "                actor_id=self.actor_id,\n",
    "                session_id=self.session_id,\n",
    "                messages=[(str(messages[-1].get(\"content\", \"\")), messages[-1][\"role\"])]\n",
    "            )\n",
    "        except Exception as e:\n",
    "            logger.error(f\"Memory save error: {e}\")\n",
    "    \n",
    "    def register_hooks(self, registry: HookRegistry):\n",
    "        # Register memory hooks\n",
    "        registry.add_callback(MessageAddedEvent, self.on_message_added)\n",
    "        registry.add_callback(AgentInitializedEvent, self.on_agent_initialized)"
   ]
  },
  {
   "cell_type": "markdown",
   "id": "step5",
   "metadata": {},
   "source": [
    "## 5단계: 웹 검색 기능이 있는 개인 에이전트 생성"
   ]
  },
  {
   "cell_type": "code",
   "execution_count": null,
   "id": "create_agent",
   "metadata": {},
   "outputs": [],
   "source": [
    "def create_personal_agent():\n",
    "    \"\"\"Create personal agent with memory and web search\"\"\"\n",
    "    agent = Agent(\n",
    "        name=\"PersonalAssistant\",\n",
    "        model=\"us.anthropic.claude-3-7-sonnet-20250219-v1:0\",  # or your preferred model\n",
    "        system_prompt=f\"\"\"You are a helpful personal assistant with web search capabilities.\n",
    "        \n",
    "        You can help with:\n",
    "        - General questions and information lookup\n",
    "        - Web searches for current information\n",
    "        - Personal task management\n",
    "        \n",
    "        When you need current information, use the websearch function.\n",
    "        Today's date: {datetime.today().strftime('%Y-%m-%d')}\n",
    "        Be friendly and professional.\"\"\",\n",
    "        hooks=[MemoryHookProvider(client, memory_id, ACTOR_ID, SESSION_ID)],\n",
    "        tools=[websearch],\n",
    "    )\n",
    "    return agent\n",
    "\n",
    "# Create agent\n",
    "agent = create_personal_agent()\n",
    "logger.info(\"✅ Personal agent created with memory and web search\")"
   ]
  },
  {
   "cell_type": "markdown",
   "id": "step6",
   "metadata": {},
   "source": [
    "#### 축하합니다! 에이전트가 준비되었습니다! :) \n",
    "## 에이전트를 테스트해보겠습니다"
   ]
  },
  {
   "cell_type": "code",
   "execution_count": null,
   "id": "first_session",
   "metadata": {},
   "outputs": [],
   "source": [
    "# Test conversation with memory\n",
    "print(\"=== First Conversation ===\")\n",
    "print(f\"User: My name is Alex and I'm interested in learning about AI.\")\n",
    "print(f\"Agent: \", end=\"\")\n",
    "agent(\"My name is Alex and I'm interested in learning about AI.\")"
   ]
  },
  {
   "cell_type": "code",
   "execution_count": null,
   "id": "second_message",
   "metadata": {},
   "outputs": [],
   "source": [
    "print(f\"User: Can you search for the latest AI trends in 2025?\")\n",
    "print(f\"Agent: \", end=\"\")\n",
    "agent(\"Can you search for the latest AI trends in 2025?\")"
   ]
  },
  {
   "cell_type": "code",
   "execution_count": null,
   "id": "third_message",
   "metadata": {},
   "outputs": [],
   "source": [
    "print(f\"User: I'm particularly interested in machine learning applications.\")\n",
    "print(f\"Agent: \", end=\"\")\n",
    "agent(\"I'm particularly interested in machine learning applications.\")"
   ]
  },
  {
   "cell_type": "markdown",
   "id": "step7",
   "metadata": {},
   "source": [
    "## 메모리 연속성 테스트\n",
    "\n",
    "메모리 시스템이 올바르게 작동하는지 테스트하기 위해 에이전트의 새 인스턴스를 생성하고 이전에 저장된 정보에 액세스할 수 있는지 확인해보겠습니다:"
   ]
  },
  {
   "cell_type": "code",
   "execution_count": null,
   "id": "agent_restart",
   "metadata": {},
   "outputs": [],
   "source": [
    "# Create new agent instance (simulates user returning)\n",
    "print(\"=== User Returns - New Session ===\")\n",
    "new_agent = create_personal_agent()\n",
    "\n",
    "# Test memory continuity\n",
    "print(f\"User: What was my name again?\")\n",
    "print(f\"Agent: \", end=\"\")\n",
    "new_agent(\"What was my name again?\")\n",
    "\n",
    "print(f\"User: Can you search for more information about machine learning?\")\n",
    "print(f\"Agent: \", end=\"\")\n",
    "new_agent(\"Can you search for more information about machine learning?\")"
   ]
  },
  {
   "cell_type": "markdown",
   "id": "step8",
   "metadata": {},
   "source": [
    "## 저장된 메모리 보기"
   ]
  },
  {
   "cell_type": "code",
   "execution_count": null,
   "id": "verify_memory",
   "metadata": {},
   "outputs": [],
   "source": [
    "# Check what's stored in memory\n",
    "print(\"=== Memory Contents ===\")\n",
    "recent_turns = client.get_last_k_turns(\n",
    "    memory_id=memory_id,\n",
    "    actor_id=ACTOR_ID,\n",
    "    session_id=SESSION_ID,\n",
    "    k=3 # Adjust k to see more or fewer turns\n",
    ")\n",
    "\n",
    "for i, turn in enumerate(recent_turns, 1):\n",
    "    print(f\"Turn {i}:\")\n",
    "    for message in turn:\n",
    "        role = message['role']\n",
    "        content = message['content']['text'][:100] + \"...\" if len(message['content']['text']) > 100 else message['content']['text']\n",
    "        print(f\"  {role}: {content}\")\n",
    "    print()"
   ]
  },
  {
   "cell_type": "markdown",
   "id": "summary",
   "metadata": {},
   "source": [
    "## 요약\n",
    "\n",
    "이 튜토리얼에서는 개인 에이전트를 구축하는 방법을 보여주었습니다. 배운 내용:\n",
    "\n",
    "- 전략 없이 메모리 리소스 생성\n",
    "- 대화 기록을 위한 `get_last_k_turns` 사용\n",
    "- 에이전트에 웹 검색 기능 추가\n",
    "- 컨텍스트 로딩을 위한 메모리 훅 구현\n",
    "\n",
    "**다음 단계:**\n",
    "- 더 정교한 도구 추가\n",
    "- 장기 메모리 전략 구현\n",
    "- 여러 소스로 검색 기능 향상"
   ]
  },
  {
   "cell_type": "markdown",
   "id": "cleanup",
   "metadata": {},
   "source": [
    "## 정리 (선택사항)"
   ]
  },
  {
   "cell_type": "code",
   "execution_count": null,
   "id": "cleanup_code",
   "metadata": {},
   "outputs": [],
   "source": [
    "# Uncomment to delete memory resource\n",
    "# client.delete_memory_and_wait(memory_id)\n",
    "# logger.info(f\"✅ Deleted memory: {memory_id}\")"
   ]
  }
 ],
 "metadata": {
  "kernelspec": {
   "display_name": "conda_pytorch_p310",
   "language": "python",
   "name": "conda_pytorch_p310"
  },
  "language_info": {
   "codemirror_mode": {
    "name": "ipython",
    "version": 3
   },
   "file_extension": ".py",
   "mimetype": "text/x-python",
   "name": "python",
   "nbconvert_exporter": "python",
   "pygments_lexer": "ipython3",
   "version": "3.10.14"
  }
 },
 "nbformat": 4,
 "nbformat_minor": 5
}
