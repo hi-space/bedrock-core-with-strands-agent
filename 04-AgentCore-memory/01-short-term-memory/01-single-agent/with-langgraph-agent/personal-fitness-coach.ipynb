{
 "cells": [
  {
   "cell_type": "markdown",
   "id": "fda134cd-247d-40e4-b37f-0ab0a2d57943",
   "metadata": {},
   "source": [
    "# LangGraph와 AgentCore Memory Tool (단기 메모리)"
   ]
  },
  {
   "cell_type": "markdown",
   "id": "98765432-abcd-1234-efgh-ijklmnopqrst",
   "metadata": {},
   "source": [
    "## 소개\n",
    "이 노트북은 LangGraph 프레임워크를 사용하여 Amazon Bedrock AgentCore Memory 기능을 대화형 AI 에이전트와 통합하는 방법을 보여줍니다. 단일 대화 세션 내에서 **단기 메모리** 보존에 초점을 맞추어 에이전트가 명시적인 컨텍스트 관리 없이 대화 초기의 정보를 기억할 수 있도록 합니다.\n",
    "\n",
    "\n",
    "## 튜토리얼 세부사항\n",
    "\n",
    "| 정보                | 세부사항                                                                          |\n",
    "|:--------------------|:---------------------------------------------------------------------------------|\n",
    "| 튜토리얼 유형        | 단기 대화형                                                                        |\n",
    "| 에이전트 사용 사례     | 개인 피트니스                                                                     |\n",
    "| 에이전트 프레임워크   | Langgraph                                                                        |\n",
    "| LLM 모델            | Anthropic Claude Sonnet 3.7                                                      |\n",
    "| 튜토리얼 구성요소     | AgentCore 단기 메모리, Langgraph, 도구를 통한 메모리 검색                |\n",
    "| 예제 복잡도          | 초급                                                                             |\n",
    "\n",
    "배울 내용:\n",
    "- 단기 메모리를 위한 AgentCore Memory로 메모리 저장소 생성\n",
    "- LangGraph를 사용하여 구조화된 메모리 워크플로우를 가진 에이전트 생성\n",
    "- 대화 기록 검색을 위한 메모리 도구 구현\n",
    "- 단일 세션 내에서 컨텍스트 정보 액세스 및 활용\n",
    "- 효과적인 메모리 회상을 통한 대화 경험 향상\n",
    "\n",
    "\n",
    "### 시나리오 컨텍스트\n",
    "\n",
    "이 예제에서는 대화 전반에 걸쳐 언급되는 운동 세부사항, 피트니스 목표, 신체적 제약, 운동 선호도를 기억할 수 있는 \"**개인 피트니스 코치**\"를 만들어보겠습니다. 이 어시스턴트는 효과적인 단기 메모리 관리가 사용자가 정보를 반복적으로 말할 필요 없이 더 자연스럽고 개인화된 피트니스 코칭 경험을 가능하게 하는 방법을 보여줍니다.\n",
    "\n",
    "\n",
    "## 아키텍처\n",
    "<div style=\"text-align:left\">\n",
    "    <img src=\"architecture.png\" width=\"65%\" />\n",
    "</div>\n",
    "\n",
    "## 전제조건\n",
    "\n",
    "- Python 3.10+\n",
    "- 적절한 권한이 있는 AWS 계정\n",
    "- AgentCore Memory에 대한 적절한 권한이 있는 AWS IAM 역할\n",
    "- Amazon Bedrock 모델에 대한 액세스\n",
    "\n",
    "환경 설정을 시작해보겠습니다!"
   ]
  },
  {
   "cell_type": "markdown",
   "id": "6d6fc488-0f70-416b-a0e9-57671e0bfc7d",
   "metadata": {},
   "source": [
    "## 1단계: 환경 설정\n",
    "이 노트북이 작동하도록 필요한 모든 라이브러리를 가져오고 클라이언트를 정의하는 것부터 시작해보겠습니다."
   ]
  },
  {
   "cell_type": "code",
   "execution_count": null,
   "id": "36e53844-5916-4470-a656-d59c64af4e84",
   "metadata": {},
   "outputs": [],
   "source": [
    "!pip install -qr requirements.txt"
   ]
  },
  {
   "cell_type": "code",
   "execution_count": null,
   "id": "aa41d38e-859c-4634-a5ef-624cbe6e63ca",
   "metadata": {},
   "outputs": [],
   "source": [
    "import logging\n",
    "from datetime import datetime"
   ]
  },
  {
   "cell_type": "markdown",
   "id": "849b4372-ac00-49a8-bcdf-916ac895b10a",
   "metadata": {},
   "source": [
    "Amazon Bedrock 모델과 AgentCore에 대한 적절한 권한을 가진 지역과 역할을 정의합니다"
   ]
  },
  {
   "cell_type": "code",
   "execution_count": null,
   "id": "6f366c0b-b410-4fe5-8935-c330d5ce04d9",
   "metadata": {},
   "outputs": [],
   "source": [
    "import os\n",
    "region = os.getenv('AWS_REGION', 'us-west-2')\n",
    "\n",
    "logging.basicConfig(level=logging.INFO, format=\"%(asctime)s - %(levelname)s - %(message)s\", datefmt=\"%Y-%m-%d %H:%M:%S\")\n",
    "logger = logging.getLogger(\"agentcore-memory\")"
   ]
  },
  {
   "cell_type": "markdown",
   "id": "a1b2c3d4-e5f6-a7b8-c9d0-e1f2a3b4c5d6",
   "metadata": {},
   "source": [
    "### 통합 작동 방식\n",
    "\n",
    "LangGraph와 AgentCore Memory 간의 통합은 다음을 포함합니다:\n",
    "\n",
    "1. AgentCore Memory를 사용하여 단기 메모리에 대화 저장\n",
    "2. LangGraph의 구조화된 워크플로우로 메모리 작업 관리\n",
    "\n",
    "이 접근 방식은 메모리 관리를 추론에서 분리하여 더 깨끗하고 유지보수가 가능한 에이전트 아키텍처를 만들어줍니다."
   ]
  },
  {
   "cell_type": "markdown",
   "id": "f68f7df8-2904-43a7-8dfb-fdaa72e2f88e",
   "metadata": {},
   "source": [
    "## 2단계: 메모리 생성\n",
    "이 섹션에서는 AgentCore Memory SDK를 사용하여 메모리 저장소를 생성합니다. 이 메모리 저장소는 에이전트가 대화에서 정보를 보유할 수 있게 해줍니다."
   ]
  },
  {
   "cell_type": "code",
   "execution_count": null,
   "id": "04d31ed2-78db-42c1-9392-8815229a4a27",
   "metadata": {},
   "outputs": [],
   "source": [
    "from bedrock_agentcore.memory import MemoryClient\n",
    "from botocore.exceptions import ClientError"
   ]
  },
  {
   "cell_type": "code",
   "execution_count": null,
   "id": "ff6ea0be-5073-4990-a2b4-3c44510da3bc",
   "metadata": {},
   "outputs": [],
   "source": [
    "client = MemoryClient(region_name=region)\n",
    "memory_name = \"FitnessCoach\"\n",
    "memory_id = None"
   ]
  },
  {
   "cell_type": "code",
   "execution_count": null,
   "id": "18b2c138-b452-4b2a-9730-6e41c824ee94",
   "metadata": {},
   "outputs": [],
   "source": [
    "try:\n",
    "    print(\"Creating Memory...\")\n",
    "    # Create the memory resource\n",
    "    memory = client.create_memory_and_wait(\n",
    "        name=memory_name,                       # This name is unique across all memories in this account\n",
    "        description=\"Fitness Coach Agent\",      # Human-readable description\n",
    "        strategies=[],                          # No memory strategies for short-term memory\n",
    "        event_expiry_days=7,                    # Memories expire after 7 days\n",
    "        max_wait=300,                           # Maximum time to wait for memory creation (5 minutes)\n",
    "        poll_interval=10                        # Check status every 10 seconds\n",
    "    )\n",
    "\n",
    "    # Extract and print the memory ID\n",
    "    memory_id = memory['id']\n",
    "    logger.info(f\"Memory created successfully with ID: {memory_id}\")\n",
    "except ClientError as e:\n",
    "    if e.response['Error']['Code'] == 'ValidationException' and \"already exists\" in str(e):\n",
    "        # If memory already exists, retrieve its ID\n",
    "        memories = client.list_memories()\n",
    "        memory_id = next((m['id'] for m in memories if m['id'].startswith(memory_name)), None)\n",
    "        logger.info(f\"Memory already exists. Using existing memory ID: {memory_id}\")\n",
    "except Exception as e:\n",
    "    # Handle any errors during memory creation\n",
    "    logger.info(f\"❌ ERROR: {e}\")\n",
    "    import traceback\n",
    "    traceback.print_exc()\n",
    "    # Cleanup on error - delete the memory if it was partially created\n",
    "    if memory_id:\n",
    "        try:\n",
    "            client.delete_memory_and_wait(memory_id=memory_id)\n",
    "            logger.info(f\"Cleaned up memory: {memory_id}\")\n",
    "        except Exception as cleanup_error:\n",
    "            logger.info(f\"Failed to clean up memory: {cleanup_error}\")"
   ]
  },
  {
   "cell_type": "markdown",
   "id": "7fac6fd5-6228-4a20-88c0-ae30da48cf3f",
   "metadata": {},
   "source": [
    "## 3단계: LangGraph 에이전트 생성\n",
    "LangGraph로 에이전트를 생성하는 데 필요한 모든 라이브러리를 가져오겠습니다."
   ]
  },
  {
   "cell_type": "code",
   "execution_count": null,
   "id": "86d2e879-0697-4157-9877-3253b135716a",
   "metadata": {},
   "outputs": [],
   "source": [
    "from langgraph.graph import StateGraph, MessagesState\n",
    "from langgraph.prebuilt import ToolNode, tools_condition\n",
    "from langchain_core.tools import tool\n",
    "from langchain_core.messages import HumanMessage, SystemMessage\n",
    "from langchain_aws import ChatBedrock"
   ]
  },
  {
   "cell_type": "markdown",
   "id": "10c0914c-6af5-4242-9dec-b3f1a05a6432",
   "metadata": {},
   "source": [
    "### LangGraph 에이전트 구현\n",
    "\n",
    "이제 메모리 도구를 통합하여 LangGraph로 에이전트를 생성해보겠습니다:"
   ]
  },
  {
   "cell_type": "code",
   "execution_count": null,
   "id": "0fa8672a-f5b6-43b6-b2fe-5fedc080a090",
   "metadata": {},
   "outputs": [],
   "source": [
    "def create_agent(client, memory_id, actor_id, session_id):\n",
    "    \"\"\"Create and configure the LangGraph agent\"\"\"\n",
    "    \n",
    "    # Initialize your LLM (adjust model and parameters as needed)\n",
    "    llm = ChatBedrock(\n",
    "        model_id=\"us.anthropic.claude-3-7-sonnet-20250219-v1:0\",  # or your preferred model\n",
    "        model_kwargs={\"temperature\": 0.1}\n",
    "    )\n",
    "    \n",
    "    @tool\n",
    "    def list_events():\n",
    "        \"\"\"Tool used when needed to retrieve recent information\"\"\" \n",
    "        events = client.list_events(\n",
    "                memory_id=memory_id,\n",
    "                actor_id=actor_id,\n",
    "                session_id=session_id,\n",
    "                max_results=10\n",
    "            )\n",
    "        return events\n",
    "        \n",
    "    \n",
    "    # Bind tools to the LLM\n",
    "    tools = [list_events]\n",
    "    llm_with_tools = llm.bind_tools(tools)\n",
    "    \n",
    "    # System message\n",
    "    system_message = \"\"\"You are the Personal Fitness Coach, a sophisticated fitness guidance assistant.\n",
    "                        PURPOSE:\n",
    "                        - Help users develop workout routines based on their fitness goals\n",
    "                        - Remember user's exercise preferences, limitations, and progress\n",
    "                        - Provide personalized fitness recommendations and training plans\n",
    "                        MEMORY CAPABILITIES:\n",
    "                        - You have access to recent events with the list_events tool\n",
    "                        \"\"\"\n",
    "    \n",
    "    # Define the chatbot node\n",
    "    def chatbot(state: MessagesState):\n",
    "        raw_messages = state[\"messages\"]\n",
    "    \n",
    "        # Remove any existing system messages to avoid duplicates or misplacement\n",
    "        non_system_messages = [msg for msg in raw_messages if not isinstance(msg, SystemMessage)]\n",
    "    \n",
    "        # Always ensure SystemMessage is first\n",
    "        messages = [SystemMessage(content=system_message)] + non_system_messages\n",
    "    \n",
    "        latest_user_message = next((msg.content for msg in reversed(messages) if isinstance(msg, HumanMessage)), None)\n",
    "    \n",
    "        # Get response from model with tools bound\n",
    "        response = llm_with_tools.invoke(messages)\n",
    "    \n",
    "        # Save conversation if applicable\n",
    "        if latest_user_message and response.content.strip():  # Check that response has content\n",
    "            conversation = [\n",
    "                (latest_user_message, \"USER\"),\n",
    "                (response.content, \"ASSISTANT\")\n",
    "            ]\n",
    "            \n",
    "            # Validate that all message texts are non-empty\n",
    "            if all(msg[0].strip() for msg in conversation):  # Ensure no empty messages\n",
    "                try:\n",
    "                    client.create_event(\n",
    "                        memory_id=memory_id,\n",
    "                        actor_id=actor_id,\n",
    "                        session_id=session_id,\n",
    "                        messages=conversation\n",
    "                    )\n",
    "                except Exception as e:\n",
    "                    print(f\"Error saving conversation: {str(e)}\")\n",
    "        \n",
    "        # Append response to full message history\n",
    "        return {\"messages\": raw_messages + [response]}\n",
    "    \n",
    "    # Create the graph\n",
    "    graph_builder = StateGraph(MessagesState)\n",
    "    \n",
    "    # Add nodes\n",
    "    graph_builder.add_node(\"chatbot\", chatbot)\n",
    "    graph_builder.add_node(\"tools\", ToolNode(tools))\n",
    "    \n",
    "    # Add edges\n",
    "    graph_builder.add_conditional_edges(\n",
    "        \"chatbot\",\n",
    "        tools_condition,\n",
    "    )\n",
    "    graph_builder.add_edge(\"tools\", \"chatbot\")\n",
    "    \n",
    "    # Set entry point\n",
    "    graph_builder.set_entry_point(\"chatbot\")\n",
    "    \n",
    "    # Compile the graph\n",
    "    return graph_builder.compile()"
   ]
  },
  {
   "cell_type": "markdown",
   "id": "929386fc-542f-49c9-9541-daeac8f32348",
   "metadata": {},
   "source": [
    "### 에이전트 호출을 위한 래퍼 생성\n",
    "\n",
    "에이전트를 호출하기 위한 간단한 래퍼를 만들어보겠습니다:"
   ]
  },
  {
   "cell_type": "code",
   "execution_count": null,
   "id": "979f87e0-a547-448b-9ef9-b416351c9916",
   "metadata": {},
   "outputs": [],
   "source": [
    "def langgraph_bedrock(payload, agent):\n",
    "    \"\"\"\n",
    "    Invoke the agent with a payload\n",
    "    \"\"\"\n",
    "    user_input = payload.get(\"prompt\")\n",
    "    \n",
    "    # Create the input in the format expected by LangGraph\n",
    "    response = agent.invoke({\"messages\": [HumanMessage(content=user_input)]})\n",
    "    \n",
    "    # Extract the final message content\n",
    "    return response[\"messages\"][-1].content"
   ]
  },
  {
   "cell_type": "markdown",
   "id": "43528c42-384a-4822-970b-929875d50757",
   "metadata": {},
   "source": [
    "## 4단계: LangGraph 에이전트 실행\n",
    "이제 AgentCore Memory 통합으로 에이전트를 실행할 수 있습니다."
   ]
  },
  {
   "cell_type": "code",
   "execution_count": null,
   "id": "2beeaaea-5e84-483a-aea5-a31e7e2b6769",
   "metadata": {},
   "outputs": [],
   "source": [
    "# Create unique actor and session IDs for this conversation\n",
    "actor_id = f\"user-{datetime.now().strftime('%Y%m%d%H%M%S')}\"\n",
    "session_id = f\"workout-{datetime.now().strftime('%Y%m%d%H%M%S')}\""
   ]
  },
  {
   "cell_type": "code",
   "execution_count": null,
   "id": "09d2576d-88da-4b7c-bbe4-34f2bf97db7f",
   "metadata": {},
   "outputs": [],
   "source": [
    "# Create the agent with AgentCore Memory integration\n",
    "agent = create_agent(client, memory_id, actor_id, session_id)"
   ]
  },
  {
   "cell_type": "markdown",
   "id": "22334455-6677-8899-aabb-ccddeeff0011",
   "metadata": {},
   "source": [
    "#### 축하합니다! 에이전트가 준비되었습니다!!\n",
    "\n",
    "### 에이전트를 테스트해보겠습니다\n",
    "\n",
    "에이전트의 메모리 기능을 테스트하기 위해 에이전트와 상호작용해보겠습니다:"
   ]
  },
  {
   "cell_type": "code",
   "execution_count": null,
   "id": "db5530d8-a22b-4086-85ec-63435bed9219",
   "metadata": {},
   "outputs": [],
   "source": [
    "response = langgraph_bedrock({\"prompt\": \"Hello! This is my first day, I need a workout routine.\"}, agent)\n",
    "print(f\"Agent: {response}\\n\")"
   ]
  },
  {
   "cell_type": "code",
   "execution_count": null,
   "id": "aabbccdd-eeff-0011-2233-445566778899",
   "metadata": {},
   "outputs": [],
   "source": [
    "response = langgraph_bedrock({\"prompt\": \"I want to build muscle, looking for a biceps routine. I have some lower back problems.\"}, agent)\n",
    "print(f\"Agent: {response}\\n\")"
   ]
  },
  {
   "cell_type": "code",
   "execution_count": null,
   "id": "9988776655-4433-2211-0099-8877665544",
   "metadata": {},
   "outputs": [],
   "source": [
    "response = langgraph_bedrock({\"prompt\": \"Can you give me three exercises with number of reps?\"}, agent)\n",
    "print(f\"Agent: {response}\\n\")"
   ]
  },
  {
   "cell_type": "markdown",
   "id": "1a2b3c4d-5e6f-7g8h-9i0j-1k2l3m4n5o6p",
   "metadata": {},
   "source": [
    "### 메모리 지속성 테스트\n",
    "\n",
    "AgentCore Memory 통합의 위력을 진정으로 보여주기 위해 새로운 에이전트 인스턴스를 생성하고 이전 대화를 기억할 수 있는지 확인해보겠습니다:"
   ]
  },
  {
   "cell_type": "code",
   "execution_count": null,
   "id": "q1w2e3r4t5y6-u7i8o9p0-a1s2d3f4-g5h6j7k8",
   "metadata": {},
   "outputs": [],
   "source": [
    "# Create a new agent instance (simulating a new session)\n",
    "new_agent = create_agent(client, memory_id, actor_id, session_id)\n",
    "\n",
    "# Test if the new agent remembers our preferences\n",
    "response = langgraph_bedrock({\n",
    "    \"prompt\": \"Hello again! Can you remind me about my last workout session?\"\n",
    "}, new_agent)\n",
    "\n",
    "print(\"New Agent Session:\\n\")\n",
    "print(f\"Agent: {response}\")"
   ]
  },
  {
   "cell_type": "markdown",
   "id": "z1x2c3v4b5n6m7-8k9j0h1g2-f3d4s5a6-p7o8i9u0",
   "metadata": {},
   "source": [
    "## 요약\n",
    "\n",
    "이 노트북에서 보여준 내용:\n",
    "\n",
    "1. AI 에이전트를 위한 AgentCore Memory 리소스 생성 방법\n",
    "2. 메모리 통합을 가진 LangGraph 워크플로우 구축\n",
    "3. 대화 기록 검색을 위한 메모리 도구 구현\n",
    "4. 필요할 때 지능적으로 메모리를 사용하는 에이전트 생성\n",
    "5. 에이전트 인스턴스 간 메모리 지속성 테스트\n",
    "\n",
    "이 통합은 구조화된 워크플로우(LangGraph)와 강력한 메모리 시스템(AgentCore Memory)을 결합하여 더 지능적이고 컨텍스트를 인식하는 AI 에이전트를 만드는 위력을 보여줍니다.\n",
    "\n",
    "우리가 보여준 접근 방식은 멀티 에이전트 시스템, 추출 전략을 가진 장기 메모리, 대화 컨텍스트에 기반한 전문 메모리 검색 등 더 복잡한 사용 사례로 확장할 수 있습니다."
   ]
  },
  {
   "cell_type": "markdown",
   "id": "213d2a15-3af9-4a07-94b6-f7d39e0fa038",
   "metadata": {},
   "source": [
    "## 정리\n",
    "이 노트북에서 사용한 리소스를 정리하기 위해 메모리를 삭제해보겠습니다."
   ]
  },
  {
   "cell_type": "code",
   "execution_count": null,
   "id": "df3893ef-f6c3-4744-9860-ff15e014943c",
   "metadata": {},
   "outputs": [],
   "source": [
    "#client.delete_memory_and_wait(memory_id = memory_id, max_wait = 300, poll_interval =10)"
   ]
  }
 ],
 "metadata": {
  "kernelspec": {
   "display_name": "conda_pytorch_p310",
   "language": "python",
   "name": "conda_pytorch_p310"
  },
  "language_info": {
   "codemirror_mode": {
    "name": "ipython",
    "version": 3
   },
   "file_extension": ".py",
   "mimetype": "text/x-python",
   "name": "python",
   "nbconvert_exporter": "python",
   "pygments_lexer": "ipython3",
   "version": "3.10.14"
  }
 },
 "nbformat": 4,
 "nbformat_minor": 5
}
