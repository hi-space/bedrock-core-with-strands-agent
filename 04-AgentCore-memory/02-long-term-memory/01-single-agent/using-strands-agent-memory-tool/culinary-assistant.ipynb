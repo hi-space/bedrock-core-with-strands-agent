{
 "cells": [
  {
   "cell_type": "markdown",
   "id": "b71c4556-da01-4860-b4d8-a4981431bf31",
   "metadata": {},
   "source": [
    "# 도구를 사용한 Strands Agents와 AgentCore Memory (장기)"
   ]
  },
  {
   "attachments": {},
   "cell_type": "markdown",
   "id": "580a2aa3-6a72-4c2f-bfea-9964822c4f24",
   "metadata": {},
   "source": [
    "## 개요\n",
    "이 노트북은 Strands와 AgentCore Memory를 사용하여 대화형 AI 에이전트에 장기 메모리 기능을 구현하는 방법을 보여줍니다. 단기 상호작용에서 중요한 정보를 추출하고 통합하여 에이전트가 시간이 지나면서 여러 대화 세션에 걸쳐 주요 세부사항을 기억할 수 있도록 하는 방법을 배울 수 있습니다.\n",
    "\n",
    "## 튜토리얼 세부사항\n",
    "**사용 사례:** 지속적인 메모리를 가진 요리 비서\n",
    "\n",
    "| 정보                | 세부사항                                                                          |\n",
    "|:--------------------|:---------------------------------------------------------------------------------|\n",
    "| 튜토리얼 유형        | 장기 대화형                                                                         |\n",
    "| 에이전트 유형        | 요리 비서                                                                         |\n",
    "| 에이전트 프레임워크   | Strands Agents                                                                   |\n",
    "| LLM 모델            | Anthropic Claude Sonnet 3.7                                                      |\n",
    "| 튜토리얼 구성요소     | AgentCore '사용자 선호도' 메모리 추출, 메모리 저장 및 검색을 위한 메모리 도구              |\n",
    "| 예제 복잡도          | 초급                                                                             |\n",
    "\n",
    "배울 내용:\n",
    "- 장기 보존을 위한 추출 전략으로 AgentCore Memory 구성\n",
    "- 이전 대화 기록으로 메모리 하이드레이트\n",
    "- 대화 세션 간 개인화된 경험 제공을 위한 장기 메모리 사용\n",
    "- Strands Agent Framework와 AgentCore Memory 도구 통합\n",
    "\n",
    "## 시나리오 컨텍스트\n",
    "\n",
    "이 튜토리얼에서는 매우 개인화된 레스토랑 추천을 제공하도록 설계된 요리 비서의 역할을 맡게 됩니다. AgentCore Memory의 장기 보존 및 자동 정보 추출을 활용하여 에이전트는 여러 대화에 걸쳐 식단 선택과 좋아하는 요리와 같은 사용자 선호도를 기억할 수 있습니다. 이러한 지속적인 메모리는 대화가 며칠 또는 몇 주에 걸쳐 진행되더라도 에이전트가 맞춤형 제안과 원활한 사용자 경험을 제공할 수 있게 합니다. 이 시나리오는 구조화된 메모리 조직과 구성 가능한 전략이 대화형 AI가 단기 회상을 넘어 진정으로 매력적이고 컨텍스트를 인식하는 상호작용을 만들 수 있도록 하는 방법을 보여줍니다.\n",
    "\n",
    "\n",
    "## 아키텍처\n",
    "\n",
    "<div style=\"text-align:left\">\n",
    "    <img src=\"architecture.png\" width=\"65%\" />\n",
    "</div>\n",
    "\n",
    "\n",
    "## 전제조건\n",
    "\n",
    "이 튜토리얼을 실행하려면 다음이 필요합니다:\n",
    "- Python 3.10+\n",
    "- Amazon Bedrock AgentCore Memory 권한이 있는 AWS 자격 증명\n",
    "- Amazon Bedrock AgentCore SDK\n",
    "환경 설정과 적절한 추출 전략을 가진 장기 메모리 리소스 생성을 시작해보겠습니다!"
   ]
  },
  {
   "cell_type": "markdown",
   "id": "e081f107-453e-4297-8b54-52f09dc9de9a",
   "metadata": {},
   "source": [
    "## 1단계: 환경 설정\n",
    "이 노트북이 작동하도록 필요한 모든 라이브러리를 가져오고 클라이언트를 정의하는 것부터 시작해보겠습니다."
   ]
  },
  {
   "cell_type": "code",
   "execution_count": null,
   "id": "27c1a741-4244-4e21-b383-1d4d1b306c3e",
   "metadata": {},
   "outputs": [],
   "source": [
    "!pip install -qr requirements.txt"
   ]
  },
  {
   "cell_type": "code",
   "execution_count": null,
   "id": "d988b230-549f-44c8-8a9c-66bdda8e4505",
   "metadata": {},
   "outputs": [],
   "source": [
    "import time\n",
    "import logging\n",
    "import time\n",
    "from datetime import datetime"
   ]
  },
  {
   "cell_type": "markdown",
   "id": "5b0236d0-6b5e-4dd9-96fc-c02709fcc6e3",
   "metadata": {},
   "source": [
    "Amazon Bedrock 모델과 AgentCore에 대한 적절한 권한을 가진 지역과 역할을 정의합니다"
   ]
  },
  {
   "cell_type": "code",
   "execution_count": null,
   "id": "33337482-9a1e-4d6c-8d2f-80e394d4f230",
   "metadata": {},
   "outputs": [],
   "source": [
    "import os\n",
    "\n",
    "logging.basicConfig(level=logging.INFO, format=\"%(asctime)s - %(levelname)s - %(message)s\", datefmt=\"%Y-%m-%d %H:%M:%S\")\n",
    "logger = logging.getLogger(\"culinary-memory\")\n",
    "\n",
    "region = os.getenv('AWS_REGION', 'us-west-2')"
   ]
  },
  {
   "cell_type": "markdown",
   "id": "54f57dad-9309-46fa-a0b6-f1dceadfb65b",
   "metadata": {},
   "source": [
    "## 2단계: 장기 전략으로 메모리 생성\n",
    "\n",
    "이 섹션에서는 장기 메모리 기능으로 구성된 메모리 리소스를 생성합니다. 이전의 단기 메모리 예제와 달리, 이 구현에는 통합된 정보 보존을 가능하게 하는 특정 메모리 전략이 포함되어 있습니다."
   ]
  },
  {
   "cell_type": "code",
   "execution_count": null,
   "id": "dc4cbd5d-ed80-4ed8-a214-161f568abf2a",
   "metadata": {},
   "outputs": [],
   "source": [
    "from bedrock_agentcore.memory import MemoryClient\n",
    "from bedrock_agentcore.memory.constants import StrategyType\n",
    "\n",
    "client = MemoryClient(region_name=region)\n",
    "\n",
    "memory_name = \"CulinaryAssistant\"\n",
    "memory_id = None"
   ]
  },
  {
   "cell_type": "code",
   "execution_count": null,
   "id": "b30affac-ba24-4b66-9c30-d20f46b46c55",
   "metadata": {},
   "outputs": [],
   "source": [
    "from botocore.exceptions import ClientError\n",
    "\n",
    "try:\n",
    "    print(\"Creating Long-Term Memory...\")\n",
    "\n",
    "    # We use a more descriptive name for our long-term memory resource\n",
    "    memory_name = memory_name\n",
    "\n",
    "    # Create memory with user preference strategy\n",
    "    memory = client.create_memory_and_wait(\n",
    "        name=memory_name,\n",
    "        description=\"Culinary Assistant Agent with long term memory\",\n",
    "        strategies=[{\n",
    "                    StrategyType.USER_PREFERENCE.value: {\n",
    "                        \"name\": \"UserPreferences\",\n",
    "                        \"description\": \"Captures user preferences\",\n",
    "                        \"namespaces\": [\"user/{actorId}/preferences\"]\n",
    "                    }\n",
    "                }],\n",
    "        event_expiry_days=7,\n",
    "        max_wait=300,\n",
    "        poll_interval=10\n",
    "    )\n",
    "\n",
    "    memory_id = memory['id']\n",
    "    print(f\"Memory created successfully with ID: {memory_id}\")\n",
    "    \n",
    "except ClientError as e:\n",
    "    if e.response['Error']['Code'] == 'ValidationException' and \"already exists\" in str(e):\n",
    "        # If memory already exists, retrieve its ID\n",
    "        memories = client.list_memories()\n",
    "        memory_id = next((m['id'] for m in memories if m['id'].startswith(memory_name)), None)\n",
    "        logger.info(f\"Memory already exists. Using existing memory ID: {memory_id}\")\n",
    "except Exception as e:\n",
    "    # Handle any errors during memory creation\n",
    "    logger.info(f\"❌ ERROR: {e}\")\n",
    "    import traceback\n",
    "    traceback.print_exc()\n",
    "    # Cleanup on error - delete the memory if it was partially created\n",
    "    if memory_id:\n",
    "        try:\n",
    "            client.delete_memory_and_wait(memory_id=memory_id)\n",
    "            logger.info(f\"Cleaned up memory: {memory_id}\")\n",
    "        except Exception as cleanup_error:\n",
    "            logger.info(f\"Failed to clean up memory: {cleanup_error}\")"
   ]
  },
  {
   "cell_type": "markdown",
   "id": "d07c1923-ab99-48ac-a0cd-20e99ac19ae4",
   "metadata": {},
   "source": [
    "### 장기 메모리 전략 이해\n",
    "\n",
    "이 메모리 생성의 핵심 차이점은 **메모리 전략**의 추가입니다. 구성 요소를 살펴보겠습니다:\n",
    "\n",
    "#### 1. 사용자 선호도 메모리 전략\n",
    "\n",
    "이 전략은 대화에서 사용자 선호도를 자동으로 식별하고 추출합니다:\n",
    "\n",
    "```python\n",
    "\"userPreferenceMemoryStrategy\": {\n",
    "    \"name\": \"UserPreferences\",\n",
    "    \"description\": \"Captures user preferences\",\n",
    "    \"namespaces\": [\"user/{actorId}/preferences\"]\n",
    "}\n",
    "```\n",
    "\n",
    "#### 2. 메모리 네임스페이스\n",
    "\n",
    "`namespaces` 매개변수는 추출된 정보가 저장되는 위치를 정의합니다:\n",
    "\n",
    "```python\n",
    "\"namespaces\": [\"user/{actorId}/preferences\"]\n",
    "```"
   ]
  },
  {
   "cell_type": "markdown",
   "id": "42caddab-067b-4149-bc89-49e326b63e6f",
   "metadata": {},
   "source": [
    "이 메모리 전략은 단순히 대화를 기억하는 것이 아니라 실제로 대화 내의 중요한 정보를 이해하고 미래 사용을 위해 정리하는 더 정교한 메모리 시스템을 만들어줍니다."
   ]
  },
  {
   "cell_type": "markdown",
   "id": "f1286ee9-1c6a-4dcd-a8fd-09a2c3b44327",
   "metadata": {},
   "source": [
    "## 3단계: 이전 대화를 메모리에 저장\n",
    "\n",
    "이 섹션에서는 단기 메모리를 하이드레이트하는 방법을 보여줍니다. 이는 백그라운드에서 장기 메모리 추출 프로세스를 자동으로 트리거합니다.\n",
    "\n",
    "### 단기 메모리 하이드레이트\n",
    "\n",
    "추출 전략으로 구성된 메모리 리소스에 대화를 저장할 때, 시스템은 추가 코드 없이 장기 보존을 위해 이 정보를 자동으로 처리합니다."
   ]
  },
  {
   "cell_type": "code",
   "execution_count": null,
   "id": "c9acdc73-191f-4bd5-8ae4-049bd29cffb9",
   "metadata": {},
   "outputs": [],
   "source": [
    "actor_id = f\"user-{datetime.now().strftime('%Y%m%d%H%M%S')}\"\n",
    "session_id = f\"foodie-{datetime.now().strftime('%Y%m%d%H%M%S')}\"\n",
    "namespace = f\"user/{actor_id}/preferences\""
   ]
  },
  {
   "cell_type": "code",
   "execution_count": null,
   "id": "ff244b8d-945e-4a9c-a9fb-076b85ef6340",
   "metadata": {},
   "outputs": [],
   "source": [
    "previous_messages = [\n",
    "    (\"Hi, I'm John\", \"USER\"),\n",
    "    (\"Hi John, how can I help you with food recommendations today?\", \"ASSISTANT\"),\n",
    "    (\"I'm looking for some vegetarian dishes to try this weekend.\", \"USER\"),\n",
    "    (\"That sounds great! I'd be happy to help with vegetarian recommendations. Do you have any specific ingredients or cuisine types you prefer?\", \"ASSISTANT\"),\n",
    "    (\"Yes, I really like tofu and fresh vegetables in my dishes\", \"USER\"),\n",
    "    (\"Perfect! Tofu and fresh vegetables make for excellent vegetarian meals. I can suggest some stir-fries, Buddha bowls, or tofu curries. Do you have any other preferences?\", \"ASSISTANT\"),\n",
    "    (\"I also really enjoy Italian cuisine. I love pasta dishes and would like them to be vegetarian-friendly.\", \"USER\"),\n",
    "    (\"Excellent! Italian cuisine has wonderful vegetarian options. I can recommend pasta primavera, mushroom risotto, eggplant parmesan, or penne arrabbiata. The combination of Italian flavors with vegetarian ingredients creates delicious meals!\", \"ASSISTANT\"),\n",
    "    (\"I spent 2 hours looking through cookbooks but couldn't find inspiring vegetarian Italian recipes\", \"USER\"),\n",
    "    (\"I'm sorry you had trouble finding inspiring recipes! Let me help you with some creative vegetarian Italian dishes. How about stuffed bell peppers with Italian herbs and rice, spinach and ricotta cannelloni, or a Mediterranean vegetable lasagna?\", \"ASSISTANT\"),\n",
    "    (\"Hey, I appreciate food assistants with good taste\", \"USER\"),\n",
    "    (\"Ha! I definitely try to bring good taste to the table! Speaking of which, shall we explore some more vegetarian Italian recipes that might inspire you?\", \"ASSISTANT\")\n",
    "]"
   ]
  },
  {
   "cell_type": "code",
   "execution_count": null,
   "id": "3207c445-7da2-48b0-a5f7-7d1cfbf1d275",
   "metadata": {},
   "outputs": [],
   "source": [
    "print(\"\\nHydrating short term memory with previous conversations...\")\n",
    "\n",
    "# Save the conversation history to short-term memory\n",
    "initial = client.create_event(\n",
    "    memory_id=memory_id,\n",
    "    actor_id=actor_id,\n",
    "    session_id=session_id,\n",
    "    messages=previous_messages,\n",
    ")\n",
    "print(\"✓ Conversation saved in short term memory\")"
   ]
  },
  {
   "cell_type": "markdown",
   "id": "d3fc66c0-5f52-424b-a0c3-caebdee7614d",
   "metadata": {},
   "source": [
    "대화 메시지가 포함된 이벤트가 올바르게 저장되었는지 확인해보겠습니다."
   ]
  },
  {
   "cell_type": "code",
   "execution_count": null,
   "id": "e9f78246-d518-49fd-af76-bb0c9c0add82",
   "metadata": {},
   "outputs": [],
   "source": [
    "events = client.list_events(\n",
    "    memory_id=memory_id,\n",
    "    actor_id=actor_id,\n",
    "    session_id=session_id,\n",
    "    max_results=5\n",
    ")\n",
    "events"
   ]
  },
  {
   "cell_type": "markdown",
   "id": "dc7bdb56-bc81-4d16-b86a-a8485bb1643e",
   "metadata": {},
   "source": [
    "이 셀은 실행 중에 정보 메시지를 표시하도록 로깅 시스템을 구성하여 코드가 실행될 때 무엇이 일어나고 있는지 추적하는 데 도움을 줍니다."
   ]
  },
  {
   "cell_type": "markdown",
   "id": "b8a5e4ea-cc67-46ac-957a-7a1c9cc2e71e",
   "metadata": {},
   "source": [
    "### 백그라운드에서 일어나는 일\n",
    "\n",
    "`create_event` 호출 후 다음이 자동으로 발생합니다:\n",
    "\n",
    "1. **단기 저장**: 전체 대화가 원시 형태로 저장됨\n",
    "2. **추출 트리거**: 메모리 시스템이 이 메모리에 UserPreference 전략이 구성되어 있음을 감지\n",
    "3. **백그라운드 처리**: 추가 코드 없이 시스템이:\n",
    "   - 선호도 지표에 대해 대화를 분석\n",
    "   - \"나는 채식주의자입니다\" 및 \"이탈리아 요리를 정말 좋아합니다\"와 같은 진술을 식별\n",
    "   - 이러한 선호도를 구조화된 데이터로 추출\n",
    "4. **장기 통합**: 추출된 선호도가 구성된 네임스페이스(`user/{actorId}/preferences`)에 저장됨\n",
    "\n",
    "추출과 통합은 자동으로 일어납니다. 우리는 에이전트와 대화를 유지하거나 단기 메모리를 하이드레이트하기만 하면 되고, 메모리 생성 시 구성한 전략이 나머지를 처리합니다.\n",
    "\n",
    "이 자동 프로세스는 단기 대화 기록이 만료된 후에도 중요한 정보가 장기 메모리에 보존되도록 보장합니다."
   ]
  },
  {
   "cell_type": "markdown",
   "id": "ef17bb40-66f8-406e-ac63-2da53d9c5468",
   "metadata": {},
   "source": [
    "\n",
    "## 장기 메모리 검색\n",
    "\n",
    "이 섹션에서는 장기 메모리에 저장된 추출된 선호도에 액세스하는 방법을 탐구합니다. 대화 턴에 초점을 맞춘 단기 메모리 검색과 달리, 장기 메모리 검색은 추출되고 통합된 구조화된 정보에 액세스하는 데 초점을 맞춥니다."
   ]
  },
  {
   "cell_type": "markdown",
   "id": "0ab1ab05-a759-41a4-b558-8a0dcc3086cd",
   "metadata": {},
   "source": [
    "### 장기 메모리에서 사용자 선호도 액세스\n",
    "\n",
    "장기 메모리에서 정보를 검색하려면 메모리 생성 시 정의된 네임스페이스 구조를 사용합니다:\n"
   ]
  },
  {
   "cell_type": "code",
   "execution_count": null,
   "id": "4b3b1f3f-cd32-418e-ad04-af8736907e83",
   "metadata": {},
   "outputs": [],
   "source": [
    "# Adding a 30s wait to ensure the memory extraction has time to process the event\n",
    "time.sleep(30)\n",
    "\n",
    "try:\n",
    "    # Query the memory system for food preferences\n",
    "    food_preferences = client.retrieve_memories(\n",
    "        memory_id=memory_id,\n",
    "        namespace=namespace,\n",
    "        query=\"food preferences\",\n",
    "        top_k=3  # Return up to 3 most relevant results\n",
    "    )\n",
    "\n",
    "    if food_preferences:\n",
    "        print(f\"Retrieved {len(food_preferences)} relevant preference records:\")\n",
    "        for i, record in enumerate(food_preferences):\n",
    "            print(f\"\\nMemory {i+1}:\")\n",
    "            print(f\"- Content: {record.get('content', 'Not specified')}\")\n",
    "    else:\n",
    "        print(\"No matching preference records found.\")\n",
    "\n",
    "except Exception as e:\n",
    "    print(f\"Error retrieving preference records: {e}\")"
   ]
  },
  {
   "cell_type": "markdown",
   "id": "b6402f50-318f-4c1c-94d5-6dedf3494022",
   "metadata": {},
   "source": [
    "이 방법은 필요할 때 관련 메모리를 검색할 수 있게 해줍니다. 이제 기본사항을 배웠으니 에이전트를 구축해보겠습니다!"
   ]
  },
  {
   "cell_type": "markdown",
   "id": "b7fad557-0390-4027-b45e-0de74fd92f50",
   "metadata": {},
   "source": [
    "## 4단계: 에이전트 생성 \n",
    "이 섹션에서는 네이티브 `agent_core_memory` 도구를 사용하여 AgentCore Memory를 Strands Agent와 통합하는 방법을 탐구합니다.\n",
    "\n",
    "#### 장기 메모리 기능을 가진 에이전트 설정\n",
    "메모리 지원 에이전트를 만들기 위해 Strands 프레임워크를 사용하고 AgentCore Memory 리소스에 연결합니다"
   ]
  },
  {
   "cell_type": "code",
   "execution_count": null,
   "id": "1ace0e24-6856-48f2-8038-4bade9858937",
   "metadata": {},
   "outputs": [],
   "source": [
    "from strands import tool, Agent\n",
    "from strands_tools.agent_core_memory import AgentCoreMemoryToolProvider"
   ]
  },
  {
   "cell_type": "code",
   "execution_count": null,
   "id": "195c3775-cce3-4b47-8d9e-db1d7e8dcae8",
   "metadata": {},
   "outputs": [],
   "source": [
    "system_prompt = f\"\"\"You are the Culinary Assistant, a sophisticated restaurant recommendation assistant.\n",
    "\n",
    "PURPOSE:\n",
    "- Help users discover restaurants based on their preferences\n",
    "- Remember user preferences throughout the conversation\n",
    "- Provide personalized dining recommendations\n",
    "\n",
    "You have access to a Memory tool that enables you to:\n",
    "- Store user preferences (dietary restrictions, favorite cuisines, budget preferences, etc.)\n",
    "- Retrieve previously stored information to personalize recommendations\n",
    "\n",
    "\"\"\""
   ]
  },
  {
   "cell_type": "code",
   "execution_count": null,
   "id": "da9a8ec9-547e-466a-bdc8-0e68f46b02d2",
   "metadata": {},
   "outputs": [],
   "source": [
    "provider = AgentCoreMemoryToolProvider(\n",
    "    memory_id=memory_id,\n",
    "    actor_id=actor_id,\n",
    "    session_id=session_id,\n",
    "    namespace=namespace\n",
    ")\n",
    "\n",
    "agent = Agent(tools=provider.tools, model=\"us.anthropic.claude-3-7-sonnet-20250219-v1:0\",system_prompt=system_prompt)"
   ]
  },
  {
   "cell_type": "markdown",
   "id": "984cbf6c-ddfa-494a-b0c2-f03947b39e22",
   "metadata": {},
   "source": [
    "이미 단기 및 장기 메모리를 채웠으므로 에이전트에서 직접 메모리를 검색해보겠습니다!"
   ]
  },
  {
   "cell_type": "code",
   "execution_count": null,
   "id": "60c57280-7072-4890-9a98-944708906cda",
   "metadata": {},
   "outputs": [],
   "source": [
    "agent(\"Give me restaurant recommendations in Irvine based on my food preferences\")"
   ]
  },
  {
   "cell_type": "markdown",
   "id": "410a16bf-f99d-4f46-92b1-7ed7da8feebf",
   "metadata": {},
   "source": [
    "에이전트는 사용자의 메모리를 검색하기 위해 retrieve_memory_records 메서드를 사용했을 것입니다."
   ]
  },
  {
   "cell_type": "markdown",
   "id": "6c43fcdc-a8f6-4da7-8dd9-d34a1a619237",
   "metadata": {},
   "source": [
    "훌륭합니다! 이제 AgentCore 장기 메모리에서 메모리를 검색할 수 있는 작동하는 Strands Agent를 가지게 되었습니다!"
   ]
  },
  {
   "cell_type": "markdown",
   "id": "3105d43e-0795-42c6-8b1c-e6425983de57",
   "metadata": {},
   "source": [
    "## 정리\n",
    "이 노트북에서 사용한 리소스를 정리하기 위해 메모리를 삭제해보겠습니다."
   ]
  },
  {
   "cell_type": "code",
   "execution_count": null,
   "id": "af61a83e-2128-4a79-a9cc-49dbee2d70c8",
   "metadata": {},
   "outputs": [],
   "source": [
    "#client.delete_memory_and_wait(\n",
    "#        memory_id = memory_id,\n",
    "#        max_wait = 300,\n",
    "#        poll_interval =10\n",
    "#)"
   ]
  }
 ],
 "metadata": {
  "kernelspec": {
   "display_name": "conda_python3",
   "language": "python",
   "name": "conda_python3"
  },
  "language_info": {
   "codemirror_mode": {
    "name": "ipython",
    "version": 3
   },
   "file_extension": ".py",
   "mimetype": "text/x-python",
   "name": "python",
   "nbconvert_exporter": "python",
   "pygments_lexer": "ipython3",
   "version": "3.10.18"
  }
 },
 "nbformat": 4,
 "nbformat_minor": 5
}
