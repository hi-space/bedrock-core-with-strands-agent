{
 "cells": [
  {
   "cell_type": "markdown",
   "id": "5c0122e65c053f38",
   "metadata": {},
   "source": [
    "# 인바운드 인증\n",
    "\n",
    "AgentCore Identity를 사용하면 AgentCore Runtime에서 에이전트 또는 도구를 호출하는 사용자 및 애플리케이션의 인바운드 액세스(인바운드 인증)를 검증하거나 AgentCore Gateway 대상에 대한 액세스를 검증할 수 있습니다. 또한 에이전트에서 외부 서비스 또는 Gateway 대상으로의 안전한 아웃바운드 액세스(아웃바운드 인증)를 제공합니다. 기존 ID 공급자(예: Amazon Cognito)와 통합되는 동시에 독립적으로 또는 사용자를 대신하여(OAuth를 통해) 에이전트에 대한 권한 경계를 적용합니다.\n",
    "\n",
    "인바운드 인증은 AgentCore Runtime, AgentCore Gateway 또는 기타 환경에서 호스팅되는 에이전트 또는 도구를 호출하려는 호출자의 유효성을 검사합니다. 인바운드 인증은 IAM(SigV4 자격 증명) 또는 OAuth 권한 부여와 함께 작동합니다.\n",
    "\n",
    "기본적으로 Amazon Bedrock AgentCore는 IAM 자격 증명을 사용하므로 에이전트에 대한 사용자 요청은 사용자의 IAM 자격 증명으로 인증됩니다. OAuth를 사용하는 경우 AgentCore 런타임 리소스 또는 AgentCore 게이트웨이 엔드포인트를 구성할 때 다음을 지정해야 합니다.\n",
    "\n",
    "- OAuth 검색 서버 URL — OpenID Connect 검색 URL의 ^.+/\\.well-known/openid-configuration$ 패턴과 일치해야 하는 문자열\n",
    "\n",
    "- 허용된 대상 — JWT 토큰에 허용되는 대상 목록\n",
    "\n",
    "- 허용된 클라이언트 — 허용되는 클라이언트 식별자 목록\n",
    "\n",
    "AgentCore CLI를 사용하는 경우 **configure** 명령을 사용하여 AgentCore 런타임의 권한 부여 유형(및 OAuth 검색 서버)을 지정할 수 있습니다. CreateAgentRuntime 작업과 Amazon Bedrock AgentCore 콘솔을 사용할 수도 있습니다. 게이트웨이를 생성하는 경우 CreateGateway 작업 또는 콘솔을 사용합니다.\n",
    "\n",
    "사용자가 에이전트를 사용하려면 클라이언트 애플리케이션에서 OAuth 권한 부여자를 통해 사용자를 인증해야 합니다. 클라이언트는 베어러 토큰을 수신한 후 호출 요청에서 에이전트에 전달합니다. 토큰을 수신하면 에이전트는 액세스를 허용하기 전에 권한 부여 서버에서 토큰의 유효성을 검사합니다.\n",
    "\n",
    "## 개요\n",
    "\n",
    "이 튜토리얼에서는 01-AgentCore-runtime에 배포한 에이전트를 수정하고 Cognito를 ID 공급자로 사용하여 인바운드 인증을 구성합니다. 사용자 한 명과 앱 클라이언트 한 개로 구성된 Cognito 사용자 풀을 설정합니다. Cognito 사용자 풀을 사용하는 인바운드 인증 기능을 갖춘 Amazon Bedrock AgentCore Runtime을 사용하여 기존 에이전트를 호스팅하는 방법을 알아봅니다.\n",
    "\n",
    "### 튜토리얼 아키텍처\n",
    "\n",
    "<div style=\"text-align:center\">\n",
    "<img src=\"images/inbound_auth_cognito.png\" width=\"90%\"/>\n",
    "</div>\n",
    "\n",
    "### 튜토리얼 세부 정보\n",
    "\n",
    "| 정보 | 세부 정보 |\n",
    "|:--------------------|:-------------------------------------------------------------------------------------------|\n",
    "| 튜토리얼 유형 | 대화형 |\n",
    "| 에이전트 유형 | 단일 |\n",
    "| 에이전트 프레임워크 | 스트랜드 에이전트 |\n",
    "| LLM 모델 | Anthropic Claude Sonnet 3.7 |\n",
    "| 튜토리얼 구성 요소 | AgentCore 런타임에서 에이전트 호스팅. Strands 에이전트 및 Amazon Bedrock 모델 사용 |\n",
    "| 튜토리얼 수직 | 교차 수직 |\n",
    "| 예시 복잡성 | 쉬움 |\n",
    "| 인바운드 인증 | Cognito |\n",
    "| 사용 SDK | Amazon BedrockAgentCore Python SDK 및 boto3 |\n",
    "\n",
    "### 튜토리얼 주요 기능\n",
    "\n",
    "* Amazon Cognito를 사용하여 인바운드 인증을 통해 Amazon Bedrock AgentCore 런타임에서 에이전트 호스팅\n",
    "* Amazon Bedrock 모델 사용\n",
    "* Strands 에이전트 사용"
   ]
  },
  {
   "cell_type": "markdown",
   "id": "3a676f58ecf52b42",
   "metadata": {},
   "source": [
    "## Prerequisites\n",
    "\n",
    "To execute this tutorial you will need:\n",
    "* Python 3.10+\n",
    "* AWS credentials\n",
    "* Amazon Bedrock AgentCore SDK\n",
    "* Strands Agents\n",
    "* Docker running"
   ]
  },
  {
   "cell_type": "code",
   "execution_count": null,
   "id": "initial_id",
   "metadata": {
    "jupyter": {
     "is_executing": true
    }
   },
   "outputs": [],
   "source": [
    "!pip install --force-reinstall -U -r requirements.txt --quiet"
   ]
  },
  {
   "cell_type": "markdown",
   "id": "46ac3dfb",
   "metadata": {},
   "source": [
    "## Amazon Cognito 인증 설정\n",
    "\n",
    "앱 클라이언트와 테스트 사용자 한 명으로 Cognito 사용자 풀을 프로비저닝해 보겠습니다. Amazon Cognito를 사용하여 배포된 MCP 서버에 액세스하기 위한 JWT 토큰을 제공합니다. 이를 위해 `utils` 스크립트의 `setup_cognito_user_pool` 지원 함수를 사용합니다.\n",
    "\n",
    "참고: Cognito 액세스 토큰은 2시간 동안만 유효합니다. 액세스 토큰이 만료되면 `reauthenticate_user` 메서드를 사용하여 다른 액세스 토큰을 발급받을 수 있습니다."
   ]
  },
  {
   "cell_type": "code",
   "execution_count": null,
   "id": "d8af4d14",
   "metadata": {},
   "outputs": [],
   "source": [
    "import sys\n",
    "import os\n",
    "\n",
    "# Get the current notebook's directory\n",
    "current_dir = os.path.dirname(os.path.abspath('__file__' if '__file__' in globals() else '.'))\n",
    "\n",
    "utils_dir = os.path.join(current_dir, '..')\n",
    "utils_dir = os.path.abspath(utils_dir)\n",
    "\n",
    "# Add to sys.path\n",
    "sys.path.insert(0, utils_dir)\n",
    "print(\"sys.path[0]:\", sys.path[0])\n",
    "\n",
    "from utils import setup_cognito_user_pool, reauthenticate_user"
   ]
  },
  {
   "cell_type": "code",
   "execution_count": null,
   "id": "bedad96a-7e48-49a2-9b4e-cfb67168aa01",
   "metadata": {},
   "outputs": [],
   "source": [
    "print(\"Setting up Amazon Cognito user pool...\")\n",
    "cognito_config = setup_cognito_user_pool()\n",
    "print(\"Cognito setup completed ✓\")"
   ]
  },
  {
   "cell_type": "markdown",
   "id": "932110e6-fca6-47b6-b7c5-c4714a866a80",
   "metadata": {},
   "source": [
    "## Preparing your agent for deployment on AgentCore Runtime\n",
    "\n",
    "### Strands Agents with Amazon Bedrock model\n",
    "Let's start with our Strands Agent we created in the 01-AgentCore-runtime tutorial and configure it with Inbound Auth that uses Amazon Cognito as the Identity Provider."
   ]
  },
  {
   "cell_type": "code",
   "execution_count": null,
   "id": "3b845b32-a03e-45c2-a2f0-2afba8069f47",
   "metadata": {},
   "outputs": [],
   "source": [
    "%%writefile strands_claude.py\n",
    "from strands import Agent, tool\n",
    "from strands_tools import calculator # Import the calculator tool\n",
    "import argparse\n",
    "import json\n",
    "from bedrock_agentcore.runtime import BedrockAgentCoreApp\n",
    "from strands.models import BedrockModel\n",
    "\n",
    "app = BedrockAgentCoreApp()\n",
    "\n",
    "# Create a custom tool \n",
    "@tool\n",
    "def weather():\n",
    "    \"\"\" Get weather \"\"\" # Dummy implementation\n",
    "    return \"sunny\"\n",
    "\n",
    "\n",
    "model_id = \"us.anthropic.claude-3-7-sonnet-20250219-v1:0\"\n",
    "model = BedrockModel(\n",
    "    model_id=model_id,\n",
    ")\n",
    "agent = Agent(\n",
    "    model=model,\n",
    "    tools=[calculator, weather],\n",
    "    system_prompt=\"You're a helpful assistant. You can do simple math calculation, and tell the weather.\"\n",
    ")\n",
    "\n",
    "@app.entrypoint\n",
    "def strands_agent_bedrock(payload):\n",
    "    \"\"\"\n",
    "    Invoke the agent with a payload\n",
    "    \"\"\"\n",
    "    user_input = payload.get(\"prompt\")\n",
    "    print(\"User input:\", user_input)\n",
    "    response = agent(user_input)\n",
    "    return response.message['content'][0]['text']\n",
    "\n",
    "if __name__ == \"__main__\":\n",
    "    app.run()"
   ]
  },
  {
   "cell_type": "markdown",
   "id": "6820ca8f-a8a8-4f34-b4ef-b6dad3776261",
   "metadata": {},
   "source": [
    "## AgentCore 런타임에 에이전트 배포\n",
    "\n",
    "`CreateAgentRuntime` 작업은 포괄적인 구성 옵션을 지원하여 컨테이너 이미지, 환경 변수 및 암호화 설정을 지정할 수 있습니다. 또한 프로토콜 설정(HTTP, MCP) 및 권한 부여 메커니즘을 구성하여 클라이언트가 에이전트와 통신하는 방식을 제어할 수 있습니다.\n",
    "\n",
    "**참고:** 작업 모범 사례는 코드를 컨테이너로 패키징하고 CI/CD 파이프라인 및 IaC를 사용하여 ECR에 푸시하는 것입니다.\n",
    "\n",
    "이 튜토리얼에서는 Amazon Bedrock AgentCode Python SDK를 사용하여 아티팩트를 쉽게 패키징하고 AgentCore 런타임에 배포할 수 있습니다."
   ]
  },
  {
   "cell_type": "markdown",
   "id": "8855aceb-b79f-4aaa-b16f-8577c059816a",
   "metadata": {},
   "source": [
    "### AgentCore 런타임 배포 구성\n",
    "\n",
    "다음으로, 시작 툴킷을 사용하여 진입점, 방금 생성한 실행 역할, 그리고 요구 사항 파일을 사용하여 AgentCore 런타임 배포를 구성합니다. 또한 시작 툴킷이 실행 시 Amazon ECR 저장소를 자동으로 생성하도록 구성합니다.\n",
    "\n",
    "구성 단계에서 애플리케이션 코드를 기반으로 Docker 파일이 생성됩니다.\n",
    "\n",
    "**중요** - 이전 단계에서 설정한 Cognito Discovery URL과 Cognito 앱 클라이언트 ID를 업데이트하세요."
   ]
  },
  {
   "cell_type": "code",
   "execution_count": null,
   "id": "2e79eba2-ca59-463f-9ebf-56e362d7ae66",
   "metadata": {},
   "outputs": [],
   "source": [
    "from bedrock_agentcore_starter_toolkit import Runtime\n",
    "from boto3.session import Session\n",
    "boto_session = Session()\n",
    "region = boto_session.region_name\n",
    "region\n",
    "\n",
    "discovery_url = cognito_config.get(\"discovery_url\")\n",
    "\n",
    "client_id = cognito_config.get(\"client_id\")\n",
    "\n",
    "agentcore_runtime = Runtime()\n",
    "\n",
    "response = agentcore_runtime.configure(\n",
    "    entrypoint=\"strands_claude.py\",\n",
    "    auto_create_execution_role=True,\n",
    "    auto_create_ecr=True,\n",
    "    requirements_file=\"requirements.txt\",\n",
    "    region=region,\n",
    "    agent_name=\"strands_agent_inbound_identity\",\n",
    "    authorizer_configuration={\n",
    "        \"customJWTAuthorizer\": {\n",
    "            \"discoveryUrl\": discovery_url,\n",
    "            \"allowedClients\": [client_id]\n",
    "        }\n",
    "    }\n",
    ")\n",
    "response\n"
   ]
  },
  {
   "cell_type": "markdown",
   "id": "f3d55172-602d-43df-9878-414f23285984",
   "metadata": {},
   "source": [
    "## Review the AgentCore configuration"
   ]
  },
  {
   "cell_type": "code",
   "execution_count": null,
   "id": "b2d71fbe-c3a9-4b4c-87f4-30b6137ab5f8",
   "metadata": {},
   "outputs": [],
   "source": [
    "!cat .bedrock_agentcore.yaml"
   ]
  },
  {
   "cell_type": "markdown",
   "id": "9e1b84cc-798e-472c-ac0b-2c315f4b704d",
   "metadata": {},
   "source": [
    "### AgentCore 런타임에 에이전트 실행\n",
    "\n",
    "이제 Docker 파일이 생성되었으니 AgentCore 런타임에 에이전트를 실행해 보겠습니다. 이렇게 하면 Amazon ECR 저장소와 AgentCore 런타임이 생성됩니다.\n",
    "\n",
    "<div style=\"text-align:left\">\n",
    "<img src=\"images/launch.png\" width=\"75%\"/>\n",
    "</div>"
   ]
  },
  {
   "cell_type": "code",
   "execution_count": null,
   "id": "17a32ab8-7701-4900-8055-e24364bdf35c",
   "metadata": {},
   "outputs": [],
   "source": [
    "launch_result = agentcore_runtime.launch()\n",
    "launch_result"
   ]
  },
  {
   "cell_type": "markdown",
   "id": "a0ae9c09-09db-4a76-871a-92eacd96b9c3",
   "metadata": {},
   "source": [
    "### Checking for the AgentCore Runtime Status\n",
    "Now that we've deployed the AgentCore Runtime, let's check for it's deployment status"
   ]
  },
  {
   "cell_type": "code",
   "execution_count": null,
   "id": "afa6ac09-9adb-4846-9fc1-4d12aeb74853",
   "metadata": {},
   "outputs": [],
   "source": [
    "status_response = agentcore_runtime.status()\n",
    "status = status_response.endpoint['status']\n",
    "end_status = ['READY', 'CREATE_FAILED', 'DELETE_FAILED', 'UPDATE_FAILED']\n",
    "while status not in end_status:\n",
    "    time.sleep(10)\n",
    "    status_response = agentcore_runtime.status()\n",
    "    status = status_response.endpoint['status']\n",
    "    print(status)\n",
    "status"
   ]
  },
  {
   "cell_type": "markdown",
   "id": "b7f89c56-918a-4cab-beaa-c7ac43a2ba29",
   "metadata": {},
   "source": [
    "### 권한 없이 AgentCore 런타임 호출\n",
    "\n",
    "마지막으로, 페이로드를 사용하여 AgentCore 런타임을 호출할 수 있습니다. 다음 셀을 실행해 보면 **\"AccessDeniedException: InvokeAgentRuntime 작업을 호출하는 동안 오류가 발생했습니다(AccessDeniedException). 에이전트가 다른 권한 토큰 유형으로 구성되었습니다.\"**라는 오류가 표시됩니다.\n",
    "\n",
    "<div style=\"text-align:left\">\n",
    "<img src=\"images/invoke.png\" width=75%\"/>\n",
    "</div>"
   ]
  },
  {
   "cell_type": "code",
   "execution_count": null,
   "id": "3d909e42-e1a0-407f-84c2-3d16cc889cd3",
   "metadata": {},
   "outputs": [],
   "source": [
    "invoke_response = agentcore_runtime.invoke({\"prompt\": \"How is the weather now?\"})\n",
    "invoke_response"
   ]
  },
  {
   "cell_type": "markdown",
   "id": "18d0d295-8279-499a-9a1b-3310086cf493",
   "metadata": {},
   "source": [
    "### 권한 부여를 사용하여 AgentCore 런타임 호출\n",
    "\n",
    "올바른 권한 부여 토큰 유형을 사용하여 에이전트를 호출해 보겠습니다. 이 경우에는 Cognito 액세스 토큰을 사용합니다. \"**Cognito 사용자 풀 프로비저닝**\" 셀에서 액세스 토큰을 복사합니다."
   ]
  },
  {
   "cell_type": "code",
   "execution_count": null,
   "id": "e07094ff-8f7b-41c7-aeae-6020bbc635e2",
   "metadata": {},
   "outputs": [],
   "source": [
    "bearer_token = reauthenticate_user(cognito_config.get(\"client_id\"))\n",
    "invoke_response = agentcore_runtime.invoke(\n",
    "    {\"prompt\": \"How is the weather now?\"}, \n",
    "    bearer_token=bearer_token\n",
    ")\n",
    "invoke_response"
   ]
  },
  {
   "cell_type": "markdown",
   "id": "7d3fdfe404469632",
   "metadata": {},
   "source": [
    "## Cleanup (Optional)\n",
    "\n",
    "Let's now clean up the AgentCore Runtime created"
   ]
  },
  {
   "cell_type": "code",
   "execution_count": null,
   "id": "76a6cf1416830a54",
   "metadata": {},
   "outputs": [],
   "source": [
    "from boto3.session import Session\n",
    "import boto3\n",
    "boto_session = Session()\n",
    "\n",
    "agentcore_control_client = boto3.client(\n",
    "    'bedrock-agentcore-control',\n",
    "    region_name=region\n",
    ")\n",
    "ecr_client = boto3.client(\n",
    "    'ecr',\n",
    "    region_name=region\n",
    ")\n",
    "\n",
    "runtime_delete_response = agentcore_control_client.delete_agent_runtime(\n",
    "    agentRuntimeId=launch_result.agent_id,\n",
    ")\n",
    "\n",
    "response = ecr_client.delete_repository(\n",
    "    repositoryName=launch_result.ecr_uri.split('/')[1],\n",
    "    force=True\n",
    ")"
   ]
  },
  {
   "cell_type": "markdown",
   "id": "b118ad38-feeb-4d1d-9d57-e5c845becc56",
   "metadata": {},
   "source": [
    "# Congratulations!"
   ]
  }
 ],
 "metadata": {
  "kernelspec": {
   "display_name": "Python 3 (ipykernel)",
   "language": "python",
   "name": "python3"
  },
  "language_info": {
   "codemirror_mode": {
    "name": "ipython",
    "version": 3
   },
   "file_extension": ".py",
   "mimetype": "text/x-python",
   "name": "python",
   "nbconvert_exporter": "python",
   "pygments_lexer": "ipython3",
   "version": "3.12.9"
  }
 },
 "nbformat": 4,
 "nbformat_minor": 5
}
