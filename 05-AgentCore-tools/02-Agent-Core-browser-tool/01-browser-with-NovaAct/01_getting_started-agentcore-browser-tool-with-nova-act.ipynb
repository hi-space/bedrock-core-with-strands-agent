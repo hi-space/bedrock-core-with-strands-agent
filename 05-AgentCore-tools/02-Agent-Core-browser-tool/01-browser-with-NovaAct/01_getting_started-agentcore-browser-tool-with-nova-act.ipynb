{
 "cells": [
  {
   "cell_type": "markdown",
   "id": "b29d23c8",
   "metadata": {},
   "source": [
    "# Amazon Nova Act SDK를 활용한 기본 브라우저 도구 사용\n",
    "\n",
    "## 개요\n",
    "\n",
    "이 튜토리얼에서는 Nova Act SDK를 사용하여 Amazon Bedrock Agentcore 브라우저 도구를 사용하는 방법을 알아봅니다. 브라우저 도구를 헤드리스로 사용하고 브라우저를 실시간으로 확인하는 방법을 예시로 제공합니다.\n",
    "\n",
    "### 튜토리얼 세부 정보\n",
    "\n",
    "| 정보 | 세부 정보 |\n",
    "|:--------------------|:---------------------------------------------------------------------------------|\n",
    "| 튜토리얼 유형 | 대화형 |\n",
    "| 에이전트 유형 | 단일 |\n",
    "| 에이전트 프레임워크 | Nova Act |\n",
    "| LLM 모델 | Amazon Nova Act 모델 |\n",
    "| 튜토리얼 구성 요소 | NovaAct를 사용하여 헤드리스 방식으로 브라우저 도구와 상호 작용 |\n",
    "| 튜토리얼 수직 | 수직 |\n",
    "| 예제 복잡성 | 쉬움 |\n",
    "| 사용 SDK | Amazon BedrockAgentCore Python SDK, Nova Act |\n",
    "\n",
    "### 튜토리얼 아키텍처\n",
    "\n",
    "이 튜토리얼에서는 Nova Act를 브라우저 도구와 함께 사용하는 방법을 설명합니다.\n",
    "\n",
    "이 예시에서는 Nova Act 에이전트에 자연어 명령을 전송하여 Bedrock Agentcore 브라우저에서 헤드리스 방식으로 작업을 수행합니다.\n",
    "\n",
    "### 튜토리얼 주요 기능\n",
    "\n",
    "* 헤드리스 방식으로 브라우저 도구 사용\n",
    "* 브라우저 도구와 함께 Nova Act 사용"
   ]
  },
  {
   "cell_type": "markdown",
   "id": "41b469ca",
   "metadata": {},
   "source": [
    "## 사전 요구 사항\n",
    "\n",
    "이 튜토리얼을 실행하려면 다음이 필요합니다.\n",
    "* Python 3.10 이상\n",
    "* AWS 자격 증명\n",
    "* Amazon Bedrock AgentCore SDK\n",
    "* Nova Act SDK 및 API 키"
   ]
  },
  {
   "cell_type": "code",
   "execution_count": null,
   "id": "33245169",
   "metadata": {},
   "outputs": [],
   "source": [
    "!pip install --force-reinstall -U -r requirements.txt --quiet"
   ]
  },
  {
   "cell_type": "markdown",
   "id": "513a5a71",
   "metadata": {},
   "source": [
    "## Bedrock Agentcore Browser 도구와 NovaAct 함께 사용하기\n",
    "로컬에서 실행할 수 있는 Python 스크립트를 생성합니다. 스크립트에서 NovaAct는 브라우저 세션의 CDP 엔드포인트를 사용하여 해당 엔드포인트에 연결하고 Playwright 액추에이션을 수행합니다."
   ]
  },
  {
   "cell_type": "code",
   "execution_count": null,
   "id": "ff93fb3f",
   "metadata": {},
   "outputs": [],
   "source": [
    "%%writefile basic_browser_with_nova_act.py\n",
    "\"\"\"Browser automation script using Amazon Bedrock AgentCore and Nova Act.\n",
    "\n",
    "This script demonstrates AI-powered web automation by:\n",
    "- Initializing a browser session through Amazon Bedrock AgentCore\n",
    "- Connecting to Nova Act for natural language web interactions\n",
    "- Performing automated searches and data extraction using browser\n",
    "\"\"\"\n",
    "\n",
    "from bedrock_agentcore.tools.browser_client import browser_session\n",
    "from nova_act import NovaAct\n",
    "from rich.console import Console\n",
    "import argparse\n",
    "import json\n",
    "\n",
    "console = Console()\n",
    "\n",
    "from boto3.session import Session\n",
    "\n",
    "boto_session = Session()\n",
    "region = boto_session.region_name\n",
    "print(\"using region\", region)\n",
    "\n",
    "def browser_with_nova_act(prompt, starting_page, nova_act_key, region=\"us-west-2\"):\n",
    "    result = None\n",
    "    with browser_session(region) as client:\n",
    "        ws_url, headers = client.generate_ws_headers()\n",
    "        try:\n",
    "            with NovaAct(\n",
    "                cdp_endpoint_url=ws_url,\n",
    "                cdp_headers=headers,\n",
    "                preview={\"playwright_actuation\": True},\n",
    "                nova_act_api_key=nova_act_key,\n",
    "                starting_page=starting_page,\n",
    "            ) as nova_act:\n",
    "                result = nova_act.act(prompt)\n",
    "        except Exception as e:\n",
    "            console.print(f\"NovaAct error: {e}\")\n",
    "        finally:\n",
    "            return result\n",
    "\n",
    "\n",
    "if __name__ == \"__main__\":\n",
    "    parser = argparse.ArgumentParser()\n",
    "    parser.add_argument(\"--prompt\", required=True, help=\"Browser Search instruction\")\n",
    "    parser.add_argument(\"--starting-page\", required=True, help=\"Starting URL\")\n",
    "    parser.add_argument(\"--nova-act-key\", required=True, help=\"Nova Act API key\")\n",
    "    parser.add_argument(\"--region\", default=\"us-west-2\", help=\"AWS region\")\n",
    "    args = parser.parse_args()\n",
    "\n",
    "    result = browser_with_nova_act(\n",
    "        args.prompt, args.starting_page, args.nova_act_key, args.region\n",
    "    )\n",
    "    console.print(f\"\\n[cyan] Response[/cyan] {result.response}\")\n",
    "    console.print(f\"\\n[bold green]Nova Act Result:[/bold green] {result}\")"
   ]
  },
  {
   "cell_type": "markdown",
   "id": "242ce323",
   "metadata": {},
   "source": [
    "#### Running the script\n",
    "Paste your Nova Act API key below before running the script. "
   ]
  },
  {
   "cell_type": "code",
   "execution_count": null,
   "id": "a1a93105",
   "metadata": {},
   "outputs": [],
   "source": [
    "NOVA_ACT_KEY= '' ### Paste your Nova Act Key here"
   ]
  },
  {
   "cell_type": "code",
   "execution_count": null,
   "id": "405a6753",
   "metadata": {},
   "outputs": [],
   "source": [
    "!python basic_browser_with_nova_act.py --prompt \"Search for macbooks and extract the details of the first one\" --starting-page \"https://www.amazon.com/\" --nova-act-key {NOVA_ACT_KEY}"
   ]
  },
  {
   "cell_type": "code",
   "execution_count": null,
   "id": "84a53dff",
   "metadata": {},
   "outputs": [],
   "source": [
    "!python basic_browser_with_nova_act.py --prompt \"Extract and return Amazon revenue for the last 4 years\" --starting-page \"https://stockanalysis.com/stocks/amzn/financials/\" --nova-act-key {NOVA_ACT_KEY}"
   ]
  },
  {
   "cell_type": "markdown",
   "id": "b1bc93bb",
   "metadata": {},
   "source": [
    "## 무슨 일이 백그라운드에서 일어났을까요?\n",
    "\n",
    "* `browser_session`을 사용하여 브라우저 클라이언트를 인스턴스화하면 브라우저 클라이언트가 생성되고 세션이 시작됩니다.\n",
    "* 그런 다음 `cdp_endpoint_url`과 `cdp_headers`를 사용하여 Nova Act가 해당 브라우저 세션을 가리키도록 구성했습니다.\n",
    "* Nova ACT SDK는 이제 자연어 명령을 사용하여 브라우저에서 Playwright 작동을 생성했습니다."
   ]
  },
  {
   "cell_type": "markdown",
   "id": "2945f9ba",
   "metadata": {},
   "source": [
    "# Congratulations!"
   ]
  }
 ],
 "metadata": {
  "kernelspec": {
   "display_name": "Python 3 (ipykernel)",
   "language": "python",
   "name": "python3"
  },
  "language_info": {
   "codemirror_mode": {
    "name": "ipython",
    "version": 3
   },
   "file_extension": ".py",
   "mimetype": "text/x-python",
   "name": "python",
   "nbconvert_exporter": "python",
   "pygments_lexer": "ipython3",
   "version": "3.12.9"
  }
 },
 "nbformat": 4,
 "nbformat_minor": 5
}
