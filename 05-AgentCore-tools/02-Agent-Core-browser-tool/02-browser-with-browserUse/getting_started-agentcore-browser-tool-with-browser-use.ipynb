{
 "cells": [
  {
   "cell_type": "markdown",
   "id": "c6430ac3",
   "metadata": {},
   "source": [
    "# Browser-Use SDK를 활용한 기본 브라우저 도구 사용\n",
    "\n",
    "## 개요\n",
    "\n",
    "이 튜토리얼에서는 오픈 소스 Browser-Use SDK를 Amazon Bedrock Agentcore 브라우저 도구와 함께 사용하는 방법을 알아봅니다. 브라우저 도구를 헤드리스로 사용하고 브라우저를 실시간으로 확인하는 예제를 제공합니다.\n",
    "\n",
    "### 튜토리얼 세부 정보\n",
    "\n",
    "| 정보 | 세부 정보 |\n",
    "|:--------------------|:-------------------------------------------------------------------------------------------\n",
    "| 튜토리얼 유형 | 대화형 |\n",
    "| 에이전트 유형 | 단일 |\n",
    "| Agentic Framework | Broeser-Use |\n",
    "| LLM 모델 | Anthropic Claude 3.7 Sonnet |\n",
    "| 튜토리얼 구성 요소 | Browser-Use SDK를 사용하여 헤드리스 방식으로 Bedrock Agentcore 브라우저 도구와 상호 작용 |\n",
    "| 튜토리얼 수직 | 교차 수직 |\n",
    "| 예제 복잡성 | 쉬움 |\n",
    "| 사용된 SDK | Amazon BedrockAgentCore Python SDK, Browser-Use |\n",
    "\n",
    "### 튜토리얼 아키텍처\n",
    "\n",
    "이 튜토리얼에서는 Agentcore 브라우저 도구와 함께 Browser-Use SDK를 사용하는 방법을 설명합니다.\n",
    "\n",
    "이 예시에서는 Browser-Use 에이전트에 자연어 명령을 전송하여 Bedrock Agentcore 브라우저에서 헤드리스 방식으로 작업을 수행합니다.\n",
    "\n",
    "<div style=\"text-align:left\">\n",
    "<img src=\"images/browser-tool.png\" width=\"50%\"/>\n",
    "</div>\n",
    "\n",
    "### 튜토리얼 주요 기능\n",
    "\n",
    "* 헤드리스 방식으로 브라우저 도구 사용\n",
    "* 브라우저 도구와 함께 Browser-Use 사용"
   ]
  },
  {
   "cell_type": "markdown",
   "id": "0ea131f7",
   "metadata": {},
   "source": [
    "## Prerequisites\n",
    "\n",
    "To execute this tutorial you will need:\n",
    "* Python 3.11+\n",
    "* AWS credentials\n",
    "* Amazon Bedrock AgentCore SDK\n",
    "* Browser-Use SDK "
   ]
  },
  {
   "cell_type": "markdown",
   "id": "1212a355",
   "metadata": {},
   "source": [
    "## 작동 방식\n",
    "\n",
    "브라우저 도구 샌드박스는 AI 에이전트가 웹 브라우저와 안전하게 상호 작용할 수 있도록 하는 안전한 실행 환경입니다. 사용자가 요청하면 LLM(Large Language Model)이 적절한 도구를 선택하고 명령을 번역합니다. 이러한 명령은 헤드리스 브라우저와 Playwright와 같은 도구를 사용하는 호스팅 라이브러리 서버가 포함된 제어된 샌드박스 환경에서 실행됩니다. 샌드박스는 제한된 공간 내에서 웹 상호 작용을 제한하여 무단 시스템 접근을 방지함으로써 격리 및 보안을 제공합니다. 에이전트는 스크린샷을 통해 피드백을 받고 시스템 보안을 유지하면서 자동화된 작업을 수행할 수 있습니다.\n",
    "\n",
    "![architecture local](../images//browser-tool.png)"
   ]
  },
  {
   "cell_type": "markdown",
   "id": "564f8445",
   "metadata": {},
   "source": [
    "## 1. 환경 설정\n",
    "먼저, 브라우저 도구 샌드박스 클라이언트를 초기화하는 데 필요한 라이브러리를 설치하고 임포트해 보겠습니다."
   ]
  },
  {
   "cell_type": "code",
   "execution_count": null,
   "id": "714f2462",
   "metadata": {},
   "outputs": [],
   "source": [
    "!pip install --force-reinstall -U -r requirements.txt --quiet"
   ]
  },
  {
   "cell_type": "code",
   "execution_count": null,
   "id": "a89f7eab",
   "metadata": {},
   "outputs": [],
   "source": [
    "from bedrock_agentcore.tools.browser_client import BrowserClient\n",
    "from browser_use import Agent\n",
    "from browser_use.browser.session import BrowserSession\n",
    "from browser_use.browser import BrowserProfile\n",
    "from langchain_aws import ChatBedrockConverse\n",
    "from rich.console import Console\n",
    "from contextlib import suppress\n",
    "import asyncio"
   ]
  },
  {
   "cell_type": "code",
   "execution_count": null,
   "id": "dad07098",
   "metadata": {},
   "outputs": [],
   "source": [
    "console = Console()"
   ]
  },
  {
   "cell_type": "markdown",
   "id": "093f3090",
   "metadata": {},
   "source": [
    "## 2. 브라우저 클라이언트 설정\n",
    "브라우저 클라이언트를 설정하고 준비가 될 때까지 기다립니다. 그런 다음 웹 소켓 URL과 헤더를 생성합니다."
   ]
  },
  {
   "cell_type": "code",
   "execution_count": null,
   "id": "c532d851",
   "metadata": {},
   "outputs": [],
   "source": [
    "from boto3.session import Session\n",
    "boto_session = Session()\n",
    "region = boto_session.region_name\n",
    "\n",
    "client = BrowserClient(region)\n",
    "client.start()\n",
    "\n",
    "# Extract ws_url and headers\n",
    "ws_url, headers = client.generate_ws_headers()"
   ]
  },
  {
   "cell_type": "markdown",
   "id": "a10a5875",
   "metadata": {},
   "source": [
    "## 4. 브라우저 작업 실행을 위한 도우미 함수\n",
    "browser-use Agent를 사용하여 브라우저 자동화 작업을 실행합니다."
   ]
  },
  {
   "cell_type": "code",
   "execution_count": null,
   "id": "9084345a",
   "metadata": {},
   "outputs": [],
   "source": [
    "async def run_browser_task(browser_session: BrowserSession, bedrock_chat: ChatBedrockConverse, task: str) -> None:\n",
    "    \"\"\"\n",
    "    Run a browser automation task using browser_use\n",
    "    \n",
    "    Args:\n",
    "        browser_session: Existing browser session to reuse\n",
    "        bedrock_chat: Bedrock chat model instance\n",
    "        task: Natural language task for the agent\n",
    "    \"\"\"\n",
    "    try:\n",
    "        # Show task execution\n",
    "        console.print(f\"\\n[bold blue]🤖 Executing task:[/bold blue] {task}\")\n",
    "        \n",
    "        # Create and run the agent\n",
    "        agent = Agent(\n",
    "            task=task,\n",
    "            llm=bedrock_chat,\n",
    "            browser_session=browser_session\n",
    "        )\n",
    "        \n",
    "        # Run with progress indicator\n",
    "        with console.status(\"[bold green]Running browser automation...[/bold green]\", spinner=\"dots\"):\n",
    "            await agent.run()\n",
    "        \n",
    "        console.print(\"[bold green]✅ Task completed successfully![/bold green]\")\n",
    "        \n",
    "    except Exception as e:\n",
    "        console.print(f\"[bold red]❌ Error during task execution:[/bold red] {str(e)}\")\n",
    "        import traceback\n",
    "        if console.is_terminal:\n",
    "            traceback.print_exc()"
   ]
  },
  {
   "cell_type": "markdown",
   "id": "9b9f974e",
   "metadata": {},
   "source": [
    "## 5. 브라우저 사용 프로필을 사용하여 브라우저 작업 호출\n",
    "CDP WebSocket 연결을 사용하여 영구 브라우저 세션을 생성하고 자동화된 웹 작업을 위한 Bedrock Claude 모델을 초기화합니다. 적절한 정리를 통해 세션 수명 주기를 관리하고 AI 기반 명령을 통해 브라우저 자동화 작업을 실행합니다."
   ]
  },
  {
   "cell_type": "code",
   "execution_count": null,
   "id": "5b3706b7",
   "metadata": {
    "scrolled": true
   },
   "outputs": [],
   "source": [
    "# Create persistent browser session and model\n",
    "browser_session = None\n",
    "bedrock_chat = None\n",
    "\n",
    "try:\n",
    "    # Create browser profile with headers\n",
    "    browser_profile = BrowserProfile(\n",
    "        headers=headers,\n",
    "        timeout=1500000,  # 150 seconds timeout\n",
    "    )\n",
    "    \n",
    "    # Create a browser session with CDP URL and keep_alive=True for persistence\n",
    "    browser_session = BrowserSession(\n",
    "        cdp_url=ws_url,\n",
    "        browser_profile=browser_profile,\n",
    "        keep_alive=True  # Keep browser alive between tasks\n",
    "    )\n",
    "    \n",
    "    # Initialize the browser session\n",
    "    console.print(\"[cyan]🔄 Initializing browser session...[/cyan]\")\n",
    "    await browser_session.start()\n",
    "    \n",
    "    # Create ChatBedrockConverse once\n",
    "    bedrock_chat = ChatBedrockConverse(\n",
    "        model_id=\"us.anthropic.claude-3-7-sonnet-20250219-v1:0\",\n",
    "        region_name=\"us-west-2\"\n",
    "    )\n",
    "    \n",
    "    console.print(\"[green]✅ Browser session initialized and ready for tasks[/green]\\n\")\n",
    "\n",
    "    task = \"Amazon.com에서 Macbook을 검색하고 첫 번째 Macbook의 세부 정보를 추출합니다.\"\n",
    "\n",
    "    await run_browser_task(browser_session, bedrock_chat, task)\n",
    "\n",
    "finally:\n",
    "    # Close the browser session\n",
    "    if browser_session:\n",
    "        console.print(\"\\n[yellow]🔌 Closing browser session...[/yellow]\")\n",
    "        with suppress(Exception):\n",
    "            await browser_session.close()\n",
    "        console.print(\"[green]✅ Browser session closed[/green]\")\n"
   ]
  },
  {
   "cell_type": "markdown",
   "id": "c6597132",
   "metadata": {},
   "source": [
    "## 6. 정리\n",
    "브라우저 세션이 아직 종료되지 않았다면 종료하세요."
   ]
  },
  {
   "cell_type": "code",
   "execution_count": null,
   "id": "99a79405",
   "metadata": {},
   "outputs": [],
   "source": [
    "client.stop()\n",
    "print(\"Browser session stopped successfully!\")"
   ]
  },
  {
   "cell_type": "code",
   "execution_count": null,
   "id": "c63e5105-039c-4f46-80d1-4d29ba3158e7",
   "metadata": {},
   "outputs": [],
   "source": []
  }
 ],
 "metadata": {
  "kernelspec": {
   "display_name": "Python 3 (ipykernel)",
   "language": "python",
   "name": "python3"
  },
  "language_info": {
   "codemirror_mode": {
    "name": "ipython",
    "version": 3
   },
   "file_extension": ".py",
   "mimetype": "text/x-python",
   "name": "python",
   "nbconvert_exporter": "python",
   "pygments_lexer": "ipython3",
   "version": "3.12.9"
  }
 },
 "nbformat": 4,
 "nbformat_minor": 5
}
