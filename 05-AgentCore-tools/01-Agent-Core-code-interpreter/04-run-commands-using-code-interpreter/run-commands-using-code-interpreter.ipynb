{
 "cells": [
  {
   "cell_type": "markdown",
   "metadata": {},
   "source": [
    "# Amazon Bedrock AgentCore 코드 인터프리터에서 명령 실행 - 튜토리얼\n",
    "\n",
    "이 튜토리얼에서는 Amazon Bedrock AgentCore 코드 인터프리터를 사용하여 명령(셸 및 AWS CLI)을 실행하는 방법을 보여줍니다. AWS 서비스와 상호 작용하며, 특히 S3 작업에 중점을 둡니다. 다음 단계를 살펴보겠습니다.\n",
    "\n",
    "1. 코드 인터프리터 생성\n",
    "2. 코드 인터프리터 세션 시작\n",
    "3. 명령 실행(셸 및 AWS CLI)\n",
    "5. S3 작업 수행(버킷 생성, 객체 복사, 버킷 객체 나열)\n",
    "6. 정리(세션 중지 및 코드 인터프리터 삭제)\n",
    "\n",
    "## 필수 조건\n",
    "- Bedrock AgentCore 코드 인터프리터 액세스 권한이 있는 AWS 계정\n",
    "- 코드 인터프리터 리소스를 생성하고 관리하는 데 필요한 IAM 권한이 있어야 합니다.\n",
    "- S3 작업을 수행하는 데 필요한 IAM 권한이 있어야 합니다.\n",
    "- 필요한 Python 패키지(boto3 및 bedrock-agentcore 포함)가 설치되어 있어야 합니다.\n",
    "\n",
    "## IAM 실행 역할에 다음 IAM 정책이 연결되어 있어야 합니다."
   ]
  },
  {
   "cell_type": "markdown",
   "metadata": {},
   "source": [
    "~~~ {\n",
    "    \"Version\": \"2012-10-17\",\n",
    "    \"Statement\": [\n",
    "        {\n",
    "            \"Effect\": \"Allow\",\n",
    "            \"Action\": [\n",
    "                \"bedrock-agentcore:CreateCodeInterpreter\",\n",
    "                \"bedrock-agentcore:StartCodeInterpreterSession\",\n",
    "                \"bedrock-agentcore:InvokeCodeInterpreter\",\n",
    "                \"bedrock-agentcore:StopCodeInterpreterSession\",\n",
    "                \"bedrock-agentcore:DeleteCodeInterpreter\",\n",
    "                \"bedrock-agentcore:ListCodeInterpreters\",\n",
    "                \"bedrock-agentcore:GetCodeInterpreter\"\n",
    "            ],\n",
    "            \"Resource\": \"*\"\n",
    "        },\n",
    "        {\n",
    "            \"Effect\": \"Allow\",\n",
    "            \"Action\": [\n",
    "                \"logs:CreateLogGroup\",\n",
    "                \"logs:CreateLogStream\",\n",
    "                \"logs:PutLogEvents\"\n",
    "            ],\n",
    "            \"Resource\": \"arn:aws:logs:*:*:log-group:/aws/bedrock-agentcore/code-interpreter*\"\n",
    "        }\n",
    "    ]\n",
    "}"
   ]
  },
  {
   "cell_type": "markdown",
   "metadata": {},
   "source": [
    "#### IAM 실행 역할에는 다음 신뢰 정책도 추가해야 합니다. 신뢰 정책에 bedrock-agentcore.amazonaws.com을 포함하면 Bedrock Agent 서비스 자체가 이 IAM 역할을 맡아 사용자를 대신하여 작업을 수행할 수 있습니다(예: Amazon S3)."
   ]
  },
  {
   "cell_type": "markdown",
   "metadata": {},
   "source": [
    "```{\n",
    "    \"Version\": \"2012-10-17\",\n",
    "    \"Statement\": [\n",
    "        {\n",
    "            \"Effect\": \"Allow\",\n",
    "            \"Principal\": {\n",
    "                \"AWS\": \"arn:aws:iam::<account_id>:root\",\n",
    "                \"Service\": [\n",
    "                    \"bedrock-agentcore.amazonaws.com\"\n",
    "                ]\n",
    "            },\n",
    "            \"Action\": \"sts:AssumeRole\",\n",
    "            \"Condition\": {}\n",
    "        }\n",
    "    ]\n",
    "}"
   ]
  },
  {
   "cell_type": "markdown",
   "metadata": {},
   "source": [
    "또한 이 튜토리얼에 설명된 S3 작업을 수행하려면 AmazonS3FullAccess IAM 정책을 IAM 실행 역할에 연결해야 합니다."
   ]
  },
  {
   "cell_type": "markdown",
   "metadata": {},
   "source": [
    "## 작동 방식\n",
    "\n",
    "코드 실행 샌드박스는 코드 인터프리터, 셸, 파일 시스템을 갖춘 격리된 환경을 생성하여 에이전트가 사용자 쿼리를 안전하게 처리할 수 있도록 합니다. 대규모 언어 모델(LLM)을 통해 도구 선택을 돕고, 코드는 이 세션 내에서 실행된 후 합성을 위해 사용자 또는 에이전트에게 반환됩니다.\n",
    "\n",
    "![architecture local](code-interpreter.png)"
   ]
  },
  {
   "cell_type": "markdown",
   "metadata": {},
   "source": [
    "## 1. Setting Up the Environment\n",
    "\n",
    "First, let's import the necessary libraries"
   ]
  },
  {
   "cell_type": "code",
   "execution_count": null,
   "metadata": {},
   "outputs": [],
   "source": [
    "!pip install --upgrade -r requirements.txt"
   ]
  },
  {
   "cell_type": "code",
   "execution_count": null,
   "metadata": {
    "ExecuteTime": {
     "end_time": "2025-07-13T12:38:33.000173Z",
     "start_time": "2025-07-13T12:38:32.995251Z"
    }
   },
   "outputs": [],
   "source": [
    "import json\n",
    "import boto3\n",
    "from bedrock_agentcore.tools.code_interpreter_client import code_session, CodeInterpreter\n",
    "from bedrock_agentcore._utils import endpoints\n",
    "import time\n",
    "from typing import Dict, Any, List"
   ]
  },
  {
   "cell_type": "markdown",
   "metadata": {},
   "source": [
    "## 2. 구성 변수\n",
    "\n",
    "코드 인터프리터 및 S3 작업에 필요한 구성 변수를 설정합니다. 또한 코드 인터프리터에 전달할 IAM 실행 역할도 제공하여 다른 AWS 리소스에 액세스할 수 있도록 합니다. 이 역할에는 위에서 설명한 대로 S3 권한이 필요합니다."
   ]
  },
  {
   "cell_type": "code",
   "execution_count": null,
   "metadata": {
    "ExecuteTime": {
     "end_time": "2025-07-13T12:56:35.843558Z",
     "start_time": "2025-07-13T12:56:35.834789Z"
    }
   },
   "outputs": [],
   "source": [
    "# Configuration setup\n",
    "execution_role_arn = \"<execution-role-arn>\"\n",
    "unique_bucket_name = f\"amzn-bucket-{int(time.time())}\"\n",
    "s3_path = f\"s3://{unique_bucket_name}\"\n",
    "\n",
    "region = \"us-west-2\"\n",
    "\n",
    "#local file that we will upload to Code interpreter and then to an S3 bucket\n",
    "local_file = \"samples/stats.py\""
   ]
  },
  {
   "cell_type": "markdown",
   "metadata": {},
   "source": [
    "## 3. 엔드포인트 설정\n",
    "\n",
    "boto3 클라이언트를 생성하려면 데이터 플레인과 제어 플레인 엔드포인트를 모두 구성해야 합니다."
   ]
  },
  {
   "cell_type": "code",
   "execution_count": null,
   "metadata": {
    "ExecuteTime": {
     "end_time": "2025-07-13T12:56:39.350883Z",
     "start_time": "2025-07-13T12:56:39.346623Z"
    }
   },
   "outputs": [],
   "source": [
    "# Configure endpoints\n",
    "data_plane_endpoint = endpoints.get_data_plane_endpoint(region)\n",
    "control_plane_endpoint = endpoints.get_control_plane_endpoint(region)"
   ]
  },
  {
   "cell_type": "markdown",
   "metadata": {},
   "source": [
    "## 4. AWS 클라이언트 생성\n",
    "\n",
    "제어 플레인과 데이터 플레인 작업 모두에 대해 boto3 클라이언트를 초기화합니다."
   ]
  },
  {
   "cell_type": "code",
   "execution_count": null,
   "metadata": {
    "ExecuteTime": {
     "end_time": "2025-07-13T12:56:43.741864Z",
     "start_time": "2025-07-13T12:56:43.720200Z"
    }
   },
   "outputs": [],
   "source": [
    "# Create boto3 clients\n",
    "cp_client = boto3.client(\"bedrock-agentcore-control\", \n",
    "                        region_name=region,\n",
    "                        endpoint_url=control_plane_endpoint)\n",
    "\n",
    "dp_client = boto3.client(\"bedrock-agentcore\", \n",
    "                        region_name=region,\n",
    "                        endpoint_url=data_plane_endpoint)"
   ]
  },
  {
   "cell_type": "markdown",
   "metadata": {},
   "source": [
    "## 5. 코드 인터프리터 생성\n",
    "\n",
    "특정 구성 매개변수를 사용하여 코드 인터프리터 인스턴스를 생성합니다.\n",
    "\n",
    "코드 인터프리터를 구성할 때 네트워크 설정(샌드박스, 퍼블릭 또는 VPC), 종속성 구성, 보안 설정 및 코드 인터프리터가 액세스할 수 있는 AWS 리소스를 정의하는 IAM 런타임 역할을 통해 권한을 선택할 수 있습니다."
   ]
  },
  {
   "cell_type": "code",
   "execution_count": null,
   "metadata": {
    "ExecuteTime": {
     "end_time": "2025-07-13T12:56:51.810308Z",
     "start_time": "2025-07-13T12:56:50.250747Z"
    }
   },
   "outputs": [],
   "source": [
    "# Create code interpreter\n",
    "unique_name = f\"s3InteractionEnv_{int(time.time())}\"\n",
    "interpreter_response = cp_client.create_code_interpreter(\n",
    "    name=unique_name,\n",
    "    description=\"Environment for S3 file operations\",\n",
    "    executionRoleArn=execution_role_arn,\n",
    "    networkConfiguration={\n",
    "        'networkMode': 'PUBLIC'\n",
    "    }\n",
    ")\n",
    "interpreter_id = interpreter_response[\"codeInterpreterId\"]\n",
    "print(f\"Created interpreter: {interpreter_id}\")"
   ]
  },
  {
   "cell_type": "markdown",
   "metadata": {},
   "source": [
    "## 6. Starting a Session\n",
    "\n",
    "Create a session within the code interpreter to execute code."
   ]
  },
  {
   "cell_type": "code",
   "execution_count": null,
   "metadata": {
    "ExecuteTime": {
     "end_time": "2025-07-13T12:57:00.097783Z",
     "start_time": "2025-07-13T12:56:57.832645Z"
    }
   },
   "outputs": [],
   "source": [
    "# Start session\n",
    "session_response = dp_client.start_code_interpreter_session(\n",
    "    codeInterpreterIdentifier=interpreter_id,\n",
    "    name=\"s3InteractionSession\",\n",
    "    sessionTimeoutSeconds=900\n",
    ")\n",
    "session_id = session_response[\"sessionId\"]\n",
    "print(f\"Created session: {session_id}\")"
   ]
  },
  {
   "cell_type": "markdown",
   "metadata": {},
   "source": [
    "## 7. Helper Function for Tool Execution\n",
    "\n",
    "Define a utility function to simplify code interpreter tool invocation"
   ]
  },
  {
   "cell_type": "code",
   "execution_count": null,
   "metadata": {
    "ExecuteTime": {
     "end_time": "2025-07-13T12:57:02.281362Z",
     "start_time": "2025-07-13T12:57:02.277560Z"
    }
   },
   "outputs": [],
   "source": [
    "def call_tool(tool_name: str, arguments: Dict[str, Any]) -> Dict[str, Any]:\n",
    "    response = dp_client.invoke_code_interpreter(\n",
    "        codeInterpreterIdentifier=interpreter_id,\n",
    "        sessionId=session_id,\n",
    "        name=tool_name,\n",
    "        arguments=arguments\n",
    "    )\n",
    "    for event in response[\"stream\"]:\n",
    "        return json.dumps(event[\"result\"], indent=2)"
   ]
  },
  {
   "cell_type": "markdown",
   "metadata": {},
   "source": [
    "## 8. Test Code Execution\n",
    "\n",
    "### 8.1 Test the code interpreter with a simple Hello World example."
   ]
  },
  {
   "cell_type": "code",
   "execution_count": null,
   "metadata": {
    "ExecuteTime": {
     "end_time": "2025-07-13T12:57:05.784367Z",
     "start_time": "2025-07-13T12:57:05.429150Z"
    }
   },
   "outputs": [],
   "source": [
    "# Test code execution\n",
    "# S3 Operations\n",
    "print(\"executing shell command \\n\")\n",
    "command_response = call_tool(\"executeCommand\",\n",
    "                              {\"command\": \"echo 'Hello World'\"})\n",
    "print(f\"command result: {command_response}\")\n",
    "\n",
    "# Parse and display results\n",
    "command_results = json.loads(command_response)\n",
    "print(command_results['structuredContent']['stdout'])"
   ]
  },
  {
   "cell_type": "markdown",
   "metadata": {},
   "source": [
    "### 8.2 Next, lets install boto3 using PIP in to the sandbox"
   ]
  },
  {
   "cell_type": "code",
   "execution_count": null,
   "metadata": {
    "ExecuteTime": {
     "end_time": "2025-07-13T12:58:00.949276Z",
     "start_time": "2025-07-13T12:57:59.563316Z"
    }
   },
   "outputs": [],
   "source": [
    "# Test code execution\n",
    "# S3 Operations\n",
    "print(\"executing shell command \\n\")\n",
    "command_response = call_tool(\"executeCommand\",\n",
    "                              {\"command\": \"pip install boto3\"})\n",
    "\n",
    "# Parse and display results\n",
    "command_results = json.loads(command_response)\n",
    "print(command_results['structuredContent']['stdout'])"
   ]
  },
  {
   "cell_type": "markdown",
   "metadata": {},
   "source": [
    "## 9. File Operations and S3 Interaction by runninng commands\n",
    "\n",
    "#### 9.1 Write local file to sandbox"
   ]
  },
  {
   "cell_type": "code",
   "execution_count": null,
   "metadata": {
    "ExecuteTime": {
     "end_time": "2025-07-13T13:02:22.397060Z",
     "start_time": "2025-07-13T13:02:22.010485Z"
    }
   },
   "outputs": [],
   "source": [
    "# Write file to sandbox\n",
    "print(\"Writing file to sandbox\")\n",
    "try:\n",
    "    with open(local_file, 'r', encoding='utf-8') as local_file_content:\n",
    "        local_file_content = local_file_content.read()\n",
    "except FileNotFoundError:\n",
    "    print(f\"Error: The file '{local_file}' was not found.\")\n",
    "except Exception as e:\n",
    "    print(f\"An error occurred: {e}\")\n",
    "\n",
    "files_to_create = [{\n",
    "        \"path\": \"stats.py\",\n",
    "        \"text\": local_file_content\n",
    "}]\n",
    "write_files_response = call_tool(\"writeFiles\", {\"content\": files_to_create})\n",
    "print(f\"write files result: {write_files_response}\")"
   ]
  },
  {
   "cell_type": "markdown",
   "metadata": {},
   "source": [
    "#### 9.2 Create a S3 Bucket via code interpreter"
   ]
  },
  {
   "cell_type": "code",
   "execution_count": null,
   "metadata": {
    "ExecuteTime": {
     "end_time": "2025-07-13T13:00:44.731145Z",
     "start_time": "2025-07-13T13:00:42.661104Z"
    }
   },
   "outputs": [],
   "source": [
    "# S3 Operations\n",
    "print(\"\\nCreating S3 bucket\")\n",
    "create_s3_response = call_tool(\"executeCommand\",\n",
    "                              {\"command\": f\"aws s3 mb {s3_path} --region {region}\"})\n",
    "print(f\"create result: {create_s3_response}\")"
   ]
  },
  {
   "cell_type": "markdown",
   "metadata": {},
   "source": [
    "#### 9.3 Upload file from code interpreter by running command to the S3 Bucket(created above)"
   ]
  },
  {
   "cell_type": "code",
   "execution_count": null,
   "metadata": {
    "ExecuteTime": {
     "end_time": "2025-07-13T13:02:31.834784Z",
     "start_time": "2025-07-13T13:02:30.724996Z"
    }
   },
   "outputs": [],
   "source": [
    "print(\"\\nUploading file to S3\")\n",
    "upload_to_s3_response = call_tool(\"executeCommand\",\n",
    "                                 {\"command\": f\"aws s3 cp {files_to_create[0]['path']} {s3_path}\"})\n",
    "print(f\"upload result: {upload_to_s3_response}\")\n",
    "\n"
   ]
  },
  {
   "cell_type": "markdown",
   "metadata": {},
   "source": [
    "#### 9.4 List files from the S3 bucket by running a command in the code interpreter"
   ]
  },
  {
   "cell_type": "code",
   "execution_count": null,
   "metadata": {
    "ExecuteTime": {
     "end_time": "2025-07-13T13:02:35.644224Z",
     "start_time": "2025-07-13T13:02:34.539568Z"
    }
   },
   "outputs": [],
   "source": [
    "print(\"\\nListing files in S3\")\n",
    "list_s3_response = call_tool(\"executeCommand\",\n",
    "                            {\"command\": f\"aws s3 ls {s3_path}\"})\n",
    "print(f\"list result: {list_s3_response}\")"
   ]
  },
  {
   "cell_type": "markdown",
   "metadata": {},
   "source": [
    "## 10. Cleanup\n",
    "\n",
    "Clean up resources by stopping the session and deleting the interpreter."
   ]
  },
  {
   "cell_type": "code",
   "execution_count": null,
   "metadata": {
    "ExecuteTime": {
     "end_time": "2025-07-13T13:04:38.694932Z",
     "start_time": "2025-07-13T13:04:31.545319Z"
    }
   },
   "outputs": [],
   "source": [
    "# Cleanup\n",
    "print(\"Cleaning up session and interpreter\")\n",
    "dp_client.stop_code_interpreter_session(\n",
    "    codeInterpreterIdentifier=interpreter_id,\n",
    "    sessionId=session_id\n",
    ")\n",
    "print(\"Session stopped successfully\")\n",
    "\n",
    "cp_client.delete_code_interpreter(codeInterpreterId=interpreter_id)\n",
    "print(\"Interpreter deleted successfully\")"
   ]
  },
  {
   "cell_type": "code",
   "execution_count": null,
   "metadata": {},
   "outputs": [],
   "source": []
  }
 ],
 "metadata": {
  "kernelspec": {
   "display_name": "Python 3 (ipykernel)",
   "language": "python",
   "name": "python3"
  },
  "language_info": {
   "codemirror_mode": {
    "name": "ipython",
    "version": 3
   },
   "file_extension": ".py",
   "mimetype": "text/x-python",
   "name": "python",
   "nbconvert_exporter": "python",
   "pygments_lexer": "ipython3",
   "version": "3.12.9"
  }
 },
 "nbformat": 4,
 "nbformat_minor": 4
}
