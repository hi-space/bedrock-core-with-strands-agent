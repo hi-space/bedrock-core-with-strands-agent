{
 "cells": [
  {
   "cell_type": "markdown",
   "metadata": {},
   "source": [
    "## Amazon AgentCore Bedrock 코드 인터프리터 튜토리얼\n",
    "\n",
    "이 튜토리얼에서는 AgentCore Bedrock 코드 인터프리터를 사용하여 다음 작업을 수행하는 방법을 보여줍니다.\n",
    "1. 샌드박스 환경 설정\n",
    "2. 데이터 로드 및 분석\n",
    "3. 샌드박스 환경에서 코드 실행\n",
    "4. 결과 처리 및 검색\n",
    "\n",
    "## 필수 조건\n",
    "- Bedrock AgentCore 코드 인터프리터 액세스 권한이 있는 AWS 계정\n",
    "- 코드 인터프리터 리소스를 생성하고 관리하는 데 필요한 IAM 권한이 있어야 합니다.\n",
    "- 필요한 Python 패키지 설치(boto3 및 bedrock-agentcore 포함)\n",
    "- 샘플 데이터 파일(data.csv)\n",
    "- 분석 스크립트(stats.py)\n",
    "\n",
    "## IAM 실행 역할에 다음 IAM 정책이 연결되어 있어야 합니다."
   ]
  },
  {
   "cell_type": "markdown",
   "metadata": {},
   "source": [
    "~~~ {\n",
    "    \"Version\": \"2012-10-17\",\n",
    "    \"Statement\": [\n",
    "        {\n",
    "            \"Effect\": \"Allow\",\n",
    "            \"Action\": [\n",
    "                \"bedrock-agentcore:CreateCodeInterpreter\",\n",
    "                \"bedrock-agentcore:StartCodeInterpreterSession\",\n",
    "                \"bedrock-agentcore:InvokeCodeInterpreter\",\n",
    "                \"bedrock-agentcore:StopCodeInterpreterSession\",\n",
    "                \"bedrock-agentcore:DeleteCodeInterpreter\",\n",
    "                \"bedrock-agentcore:ListCodeInterpreters\",\n",
    "                \"bedrock-agentcore:GetCodeInterpreter\"\n",
    "            ],\n",
    "            \"Resource\": \"*\"\n",
    "        },\n",
    "        {\n",
    "            \"Effect\": \"Allow\",\n",
    "            \"Action\": [\n",
    "                \"logs:CreateLogGroup\",\n",
    "                \"logs:CreateLogStream\",\n",
    "                \"logs:PutLogEvents\"\n",
    "            ],\n",
    "            \"Resource\": \"arn:aws:logs:*:*:log-group:/aws/bedrock-agentcore/code-interpreter*\"\n",
    "        }\n",
    "    ]\n",
    "}\n",
    "\n"
   ]
  },
  {
   "cell_type": "markdown",
   "metadata": {},
   "source": [
    "## 작동 방식\n",
    "\n",
    "코드 실행 샌드박스는 코드 인터프리터, 셸, 파일 시스템을 갖춘 격리된 환경을 생성하여 에이전트가 사용자 쿼리를 안전하게 처리할 수 있도록 합니다. 대규모 언어 모델(LLM)을 통해 도구 선택을 돕고, 코드는 이 세션 내에서 실행된 후 합성을 위해 사용자 또는 에이전트에게 반환됩니다.\n",
    "\n",
    "![architecture local](code-interpreter.png)"
   ]
  },
  {
   "cell_type": "markdown",
   "metadata": {},
   "source": [
    "## 1. 환경 설정\n",
    "\n",
    "먼저, 필요한 라이브러리를 가져오고 코드 인터프리터 클라이언트를 초기화해 보겠습니다."
   ]
  },
  {
   "cell_type": "code",
   "execution_count": 1,
   "metadata": {
    "execution": {
     "iopub.execute_input": "2025-08-31T13:04:03.190892Z",
     "iopub.status.busy": "2025-08-31T13:04:03.190620Z",
     "iopub.status.idle": "2025-08-31T13:04:07.099486Z",
     "shell.execute_reply": "2025-08-31T13:04:07.098837Z",
     "shell.execute_reply.started": "2025-08-31T13:04:03.190868Z"
    }
   },
   "outputs": [
    {
     "name": "stdout",
     "output_type": "stream",
     "text": [
      "Collecting bedrock-agentcore (from -r requirements.txt (line 1))\n",
      "  Downloading bedrock_agentcore-0.1.2-py3-none-any.whl.metadata (5.2 kB)\n",
      "Requirement already satisfied: boto3 in /opt/conda/lib/python3.12/site-packages (from -r requirements.txt (line 2)) (1.37.1)\n",
      "Collecting boto3 (from -r requirements.txt (line 2))\n",
      "  Downloading boto3-1.40.21-py3-none-any.whl.metadata (6.7 kB)\n",
      "Collecting botocore>=1.39.7 (from bedrock-agentcore->-r requirements.txt (line 1))\n",
      "  Downloading botocore-1.40.21-py3-none-any.whl.metadata (5.7 kB)\n",
      "Requirement already satisfied: pydantic<3.0.0,>=2.0.0 in /opt/conda/lib/python3.12/site-packages (from bedrock-agentcore->-r requirements.txt (line 1)) (2.11.7)\n",
      "Requirement already satisfied: starlette>=0.46.2 in /opt/conda/lib/python3.12/site-packages (from bedrock-agentcore->-r requirements.txt (line 1)) (0.47.2)\n",
      "Requirement already satisfied: typing-extensions<5.0.0,>=4.13.2 in /opt/conda/lib/python3.12/site-packages (from bedrock-agentcore->-r requirements.txt (line 1)) (4.14.1)\n",
      "Requirement already satisfied: urllib3>=1.26.0 in /opt/conda/lib/python3.12/site-packages (from bedrock-agentcore->-r requirements.txt (line 1)) (1.26.19)\n",
      "Requirement already satisfied: uvicorn>=0.34.2 in /opt/conda/lib/python3.12/site-packages (from bedrock-agentcore->-r requirements.txt (line 1)) (0.35.0)\n",
      "Requirement already satisfied: annotated-types>=0.6.0 in /opt/conda/lib/python3.12/site-packages (from pydantic<3.0.0,>=2.0.0->bedrock-agentcore->-r requirements.txt (line 1)) (0.7.0)\n",
      "Requirement already satisfied: pydantic-core==2.33.2 in /opt/conda/lib/python3.12/site-packages (from pydantic<3.0.0,>=2.0.0->bedrock-agentcore->-r requirements.txt (line 1)) (2.33.2)\n",
      "Requirement already satisfied: typing-inspection>=0.4.0 in /opt/conda/lib/python3.12/site-packages (from pydantic<3.0.0,>=2.0.0->bedrock-agentcore->-r requirements.txt (line 1)) (0.4.1)\n",
      "Requirement already satisfied: jmespath<2.0.0,>=0.7.1 in /opt/conda/lib/python3.12/site-packages (from boto3->-r requirements.txt (line 2)) (1.0.1)\n",
      "Collecting s3transfer<0.14.0,>=0.13.0 (from boto3->-r requirements.txt (line 2))\n",
      "  Downloading s3transfer-0.13.1-py3-none-any.whl.metadata (1.7 kB)\n",
      "Requirement already satisfied: python-dateutil<3.0.0,>=2.1 in /opt/conda/lib/python3.12/site-packages (from botocore>=1.39.7->bedrock-agentcore->-r requirements.txt (line 1)) (2.9.0.post0)\n",
      "Requirement already satisfied: six>=1.5 in /opt/conda/lib/python3.12/site-packages (from python-dateutil<3.0.0,>=2.1->botocore>=1.39.7->bedrock-agentcore->-r requirements.txt (line 1)) (1.17.0)\n",
      "Requirement already satisfied: anyio<5,>=3.6.2 in /opt/conda/lib/python3.12/site-packages (from starlette>=0.46.2->bedrock-agentcore->-r requirements.txt (line 1)) (4.10.0)\n",
      "Requirement already satisfied: idna>=2.8 in /opt/conda/lib/python3.12/site-packages (from anyio<5,>=3.6.2->starlette>=0.46.2->bedrock-agentcore->-r requirements.txt (line 1)) (3.10)\n",
      "Requirement already satisfied: sniffio>=1.1 in /opt/conda/lib/python3.12/site-packages (from anyio<5,>=3.6.2->starlette>=0.46.2->bedrock-agentcore->-r requirements.txt (line 1)) (1.3.1)\n",
      "Requirement already satisfied: click>=7.0 in /opt/conda/lib/python3.12/site-packages (from uvicorn>=0.34.2->bedrock-agentcore->-r requirements.txt (line 1)) (8.2.1)\n",
      "Requirement already satisfied: h11>=0.8 in /opt/conda/lib/python3.12/site-packages (from uvicorn>=0.34.2->bedrock-agentcore->-r requirements.txt (line 1)) (0.16.0)\n",
      "Downloading bedrock_agentcore-0.1.2-py3-none-any.whl (48 kB)\n",
      "Downloading boto3-1.40.21-py3-none-any.whl (139 kB)\n",
      "Downloading botocore-1.40.21-py3-none-any.whl (14.0 MB)\n",
      "\u001b[2K   \u001b[90m━━━━━━━━━━━━━━━━━━━━━━━━━━━━━━━━━━━━━━━━\u001b[0m \u001b[32m14.0/14.0 MB\u001b[0m \u001b[31m180.0 MB/s\u001b[0m  \u001b[33m0:00:00\u001b[0m\n",
      "\u001b[?25hDownloading s3transfer-0.13.1-py3-none-any.whl (85 kB)\n",
      "Installing collected packages: botocore, s3transfer, boto3, bedrock-agentcore\n",
      "\u001b[2K  Attempting uninstall: botocore\n",
      "\u001b[2K    Found existing installation: botocore 1.37.1\n",
      "\u001b[2K    Uninstalling botocore-1.37.1:\n",
      "\u001b[2K      Successfully uninstalled botocore-1.37.1\n",
      "\u001b[2K  Attempting uninstall: s3transfer━━━━━━━━━━━━━━\u001b[0m \u001b[32m0/4\u001b[0m [botocore]\n",
      "\u001b[2K    Found existing installation: s3transfer 0.11.3[32m0/4\u001b[0m [botocore]\n",
      "\u001b[2K    Uninstalling s3transfer-0.11.3:━━━━━━━━━\u001b[0m \u001b[32m0/4\u001b[0m [botocore]\n",
      "\u001b[2K      Successfully uninstalled s3transfer-0.11.3 \u001b[32m0/4\u001b[0m [botocore]\n",
      "\u001b[2K  Attempting uninstall: boto3[0m\u001b[90m━━━━━━━━━━━━━━━━━━━━━━━━━━━━━\u001b[0m \u001b[32m1/4\u001b[0m [s3transfer]\n",
      "\u001b[2K    Found existing installation: boto3 1.37.1━━━━━━━━━━━━━━━━━\u001b[0m \u001b[32m1/4\u001b[0m [s3transfer]\n",
      "\u001b[2K    Uninstalling boto3-1.37.1:90m━━━━━━━━━━━━━━━━━━━━━━━━━━━━━\u001b[0m \u001b[32m1/4\u001b[0m [s3transfer]\n",
      "\u001b[2K      Successfully uninstalled boto3-1.37.1━━━━━━━━━━━━━━━━━━━\u001b[0m \u001b[32m1/4\u001b[0m [s3transfer]\n",
      "\u001b[2K   \u001b[90m━━━━━━━━━━━━━━━━━━━━━━━━━━━━━━━━━━━━━━━━\u001b[0m \u001b[32m4/4\u001b[0m [bedrock-agentcore]ansfer]\n",
      "\u001b[1A\u001b[2K\u001b[31mERROR: pip's dependency resolver does not currently take into account all the packages that are installed. This behaviour is the source of the following dependency conflicts.\n",
      "autogluon-multimodal 1.4.0 requires nvidia-ml-py3<8.0,>=7.352.0, which is not installed.\n",
      "aiobotocore 2.21.1 requires botocore<1.37.2,>=1.37.0, but you have botocore 1.40.21 which is incompatible.\n",
      "autogluon-multimodal 1.4.0 requires transformers[sentencepiece]<4.50,>=4.38.0, but you have transformers 4.55.2 which is incompatible.\n",
      "autogluon-timeseries 1.4.0 requires transformers[sentencepiece]<4.50,>=4.38.0, but you have transformers 4.55.2 which is incompatible.\n",
      "sagemaker-studio-analytics-extension 0.2.0 requires sparkmagic==0.22.0, but you have sparkmagic 0.21.0 which is incompatible.\u001b[0m\u001b[31m\n",
      "\u001b[0mSuccessfully installed bedrock-agentcore-0.1.2 boto3-1.40.21 botocore-1.40.21 s3transfer-0.13.1\n"
     ]
    }
   ],
   "source": [
    "!pip install --upgrade -r requirements.txt"
   ]
  },
  {
   "cell_type": "code",
   "execution_count": 2,
   "metadata": {
    "ExecuteTime": {
     "end_time": "2025-07-13T04:01:17.925083Z",
     "start_time": "2025-07-13T04:01:16.036433Z"
    },
    "execution": {
     "iopub.execute_input": "2025-08-31T13:04:10.392389Z",
     "iopub.status.busy": "2025-08-31T13:04:10.392130Z",
     "iopub.status.idle": "2025-08-31T13:04:11.666864Z",
     "shell.execute_reply": "2025-08-31T13:04:11.666357Z",
     "shell.execute_reply.started": "2025-08-31T13:04:10.392368Z"
    }
   },
   "outputs": [
    {
     "data": {
      "text/plain": [
       "'01K403MS2RWN7PNT3YXAT58PP9'"
      ]
     },
     "execution_count": 2,
     "metadata": {},
     "output_type": "execute_result"
    }
   ],
   "source": [
    "from bedrock_agentcore.tools.code_interpreter_client import CodeInterpreter\n",
    "import json\n",
    "from typing import Dict, Any, List\n",
    "\n",
    "# Initialize the Code Interpreter with your AWS region\n",
    "code_client = CodeInterpreter('us-west-2')\n",
    "code_client.start()"
   ]
  },
  {
   "cell_type": "markdown",
   "metadata": {},
   "source": [
    "## 2. 로컬 파일 읽기\n",
    "\n",
    "이제 샘플 데이터 파일과 분석 스크립트의 내용을 읽어 보겠습니다."
   ]
  },
  {
   "cell_type": "code",
   "execution_count": 3,
   "metadata": {
    "ExecuteTime": {
     "end_time": "2025-07-13T04:01:17.953880Z",
     "start_time": "2025-07-13T04:01:17.942684Z"
    },
    "execution": {
     "iopub.execute_input": "2025-08-31T13:04:11.668099Z",
     "iopub.status.busy": "2025-08-31T13:04:11.667690Z",
     "iopub.status.idle": "2025-08-31T13:04:11.685008Z",
     "shell.execute_reply": "2025-08-31T13:04:11.684541Z",
     "shell.execute_reply.started": "2025-08-31T13:04:11.668057Z"
    }
   },
   "outputs": [],
   "source": [
    "def read_file(file_path: str) -> str:\n",
    "    \"\"\"Helper function to read file content with error handling\"\"\"\n",
    "    try:\n",
    "        with open(file_path, 'r', encoding='utf-8') as file:\n",
    "            return file.read()\n",
    "    except FileNotFoundError:\n",
    "        print(f\"Error: The file '{file_path}' was not found.\")\n",
    "        return \"\"\n",
    "    except Exception as e:\n",
    "        print(f\"An error occurred: {e}\")\n",
    "        return \"\"\n",
    "\n",
    "# Read both files\n",
    "data_file_content = read_file(\"samples/data.csv\")\n",
    "code_file_content = read_file(\"samples/stats.py\")"
   ]
  },
  {
   "cell_type": "markdown",
   "metadata": {},
   "source": [
    "## 3. 샌드박스 환경을 위한 파일 준비\n",
    "\n",
    "샌드박스 환경에 생성할 파일을 정의하는 구조체를 생성합니다."
   ]
  },
  {
   "cell_type": "code",
   "execution_count": 4,
   "metadata": {
    "ExecuteTime": {
     "end_time": "2025-07-13T04:01:17.966573Z",
     "start_time": "2025-07-13T04:01:17.964099Z"
    },
    "execution": {
     "iopub.execute_input": "2025-08-31T13:04:12.921077Z",
     "iopub.status.busy": "2025-08-31T13:04:12.920832Z",
     "iopub.status.idle": "2025-08-31T13:04:12.923833Z",
     "shell.execute_reply": "2025-08-31T13:04:12.923253Z",
     "shell.execute_reply.started": "2025-08-31T13:04:12.921058Z"
    }
   },
   "outputs": [],
   "source": [
    "files_to_create = [\n",
    "    {\n",
    "        \"path\": \"data.csv\",\n",
    "        \"text\": data_file_content\n",
    "    },\n",
    "    {\n",
    "        \"path\": \"stats.py\",\n",
    "        \"text\": code_file_content\n",
    "    }\n",
    "]"
   ]
  },
  {
   "cell_type": "markdown",
   "metadata": {},
   "source": [
    "## 4. 도구 호출을 위한 도우미 함수 생성\n",
    "\n",
    "이 도우미 함수를 사용하면 샌드박스 도구를 더 쉽게 호출하고 응답을 처리할 수 있습니다. 활성 세션 내에서 지원되는 언어(Python, JavaScript)로 코드를 실행하고, 종속성 구성에 따라 라이브러리에 액세스하고, 시각화를 생성하고, 실행 간 상태를 유지할 수 있습니다."
   ]
  },
  {
   "cell_type": "code",
   "execution_count": 5,
   "metadata": {
    "ExecuteTime": {
     "end_time": "2025-07-13T04:01:18.358299Z",
     "start_time": "2025-07-13T04:01:18.354409Z"
    },
    "execution": {
     "iopub.execute_input": "2025-08-31T13:04:13.535437Z",
     "iopub.status.busy": "2025-08-31T13:04:13.535188Z",
     "iopub.status.idle": "2025-08-31T13:04:13.538544Z",
     "shell.execute_reply": "2025-08-31T13:04:13.538011Z",
     "shell.execute_reply.started": "2025-08-31T13:04:13.535418Z"
    }
   },
   "outputs": [],
   "source": [
    "def call_tool(tool_name: str, arguments: Dict[str, Any]) -> Dict[str, Any]:\n",
    "    \"\"\"Helper function to invoke sandbox tools\n",
    "    \n",
    "    Args:\n",
    "        tool_name (str): Name of the tool to invoke\n",
    "        arguments (Dict[str, Any]): Arguments to pass to the tool\n",
    "        \n",
    "    Returns:\n",
    "        Dict[str, Any]: JSON formatted result\n",
    "    \"\"\"\n",
    "    response = code_client.invoke(tool_name, arguments)\n",
    "    for event in response[\"stream\"]:\n",
    "        return json.dumps(event[\"result\"])"
   ]
  },
  {
   "cell_type": "markdown",
   "metadata": {},
   "source": [
    "## 5. 샌드박스에 파일 쓰기\n",
    "\n",
    "이제 샌드박스 환경에 파일을 쓰고 파일이 성공적으로 생성되었는지 확인해 보겠습니다."
   ]
  },
  {
   "cell_type": "code",
   "execution_count": 6,
   "metadata": {
    "ExecuteTime": {
     "end_time": "2025-07-13T04:01:26.265552Z",
     "start_time": "2025-07-13T04:01:20.088758Z"
    },
    "execution": {
     "iopub.execute_input": "2025-08-31T13:04:15.173475Z",
     "iopub.status.busy": "2025-08-31T13:04:15.173229Z",
     "iopub.status.idle": "2025-08-31T13:04:16.235868Z",
     "shell.execute_reply": "2025-08-31T13:04:16.235314Z",
     "shell.execute_reply.started": "2025-08-31T13:04:15.173457Z"
    }
   },
   "outputs": [
    {
     "name": "stdout",
     "output_type": "stream",
     "text": [
      "Writing files result:\n",
      "{\"content\": [{\"type\": \"text\", \"text\": \"Successfully wrote all 2 files\"}], \"isError\": false}\n",
      "\n",
      "Files in sandbox:\n",
      "{\"content\": [{\"type\": \"resource_link\", \"uri\": \"file:///log\", \"name\": \"log\", \"description\": \"Directory\"}, {\"type\": \"resource_link\", \"uri\": \"file:///.ipython\", \"name\": \".ipython\", \"description\": \"Directory\"}, {\"type\": \"resource_link\", \"mimeType\": \"text/x-python\", \"uri\": \"file:///stats.py\", \"name\": \"stats.py\", \"description\": \"File\"}, {\"type\": \"resource_link\", \"mimeType\": \"text/csv\", \"uri\": \"file:///data.csv\", \"name\": \"data.csv\", \"description\": \"File\"}], \"isError\": false}\n"
     ]
    }
   ],
   "source": [
    "# Write files to sandbox\n",
    "writing_files = call_tool(\"writeFiles\", {\"content\": files_to_create})\n",
    "print(\"Writing files result:\")\n",
    "print(writing_files)\n",
    "\n",
    "# Verify files were created\n",
    "listing_files = call_tool(\"listFiles\", {\"path\": \"\"})\n",
    "print(\"\\nFiles in sandbox:\")\n",
    "print(listing_files)"
   ]
  },
  {
   "cell_type": "markdown",
   "metadata": {},
   "source": [
    "## 6. 분석 실행\n",
    "\n",
    "이제 샌드박스 환경에서 분석 스크립트를 실행하고 결과를 처리해 보겠습니다."
   ]
  },
  {
   "cell_type": "code",
   "execution_count": 7,
   "metadata": {
    "ExecuteTime": {
     "end_time": "2025-07-13T04:01:35.818531Z",
     "start_time": "2025-07-13T04:01:34.446242Z"
    },
    "execution": {
     "iopub.execute_input": "2025-08-31T13:04:16.688629Z",
     "iopub.status.busy": "2025-08-31T13:04:16.688385Z",
     "iopub.status.idle": "2025-08-31T13:04:17.908580Z",
     "shell.execute_reply": "2025-08-31T13:04:17.908118Z",
     "shell.execute_reply.started": "2025-08-31T13:04:16.688610Z"
    }
   },
   "outputs": [
    {
     "name": "stdout",
     "output_type": "stream",
     "text": [
      "Full analysis results:\n",
      "{'content': [{'text': 'Name Preferred_City Preferred_Animal Preferred_Thing\\n'\n",
      "                      'count       299130         299130           '\n",
      "                      '299130          299130\\n'\n",
      "                      'unique        1722             55               '\n",
      "                      '50              51\\n'\n",
      "                      'top     Lisa White         Prague             '\n",
      "                      'Goat          Pencil\\n'\n",
      "                      'freq           222           5587             '\n",
      "                      '6141            6058',\n",
      "              'type': 'text'}],\n",
      " 'isError': False,\n",
      " 'structuredContent': {'executionTime': 1.0435175895690918,\n",
      "                       'exitCode': 0,\n",
      "                       'stderr': '',\n",
      "                       'stdout': 'Name Preferred_City Preferred_Animal '\n",
      "                                 'Preferred_Thing\\n'\n",
      "                                 'count       299130         299130           '\n",
      "                                 '299130          299130\\n'\n",
      "                                 'unique        1722             '\n",
      "                                 '55               50              51\\n'\n",
      "                                 'top     Lisa White         '\n",
      "                                 'Prague             Goat          Pencil\\n'\n",
      "                                 'freq           222           '\n",
      "                                 '5587             6141            6058'}}\n",
      "\n",
      "Standard output from analysis:\n",
      "Name Preferred_City Preferred_Animal Preferred_Thing\n",
      "count       299130         299130           299130          299130\n",
      "unique        1722             55               50              51\n",
      "top     Lisa White         Prague             Goat          Pencil\n",
      "freq           222           5587             6141            6058\n"
     ]
    }
   ],
   "source": [
    "import pprint\n",
    "\n",
    "# Execute the analysis script\n",
    "code_execute_result = call_tool(\"executeCode\", {\n",
    "    \"code\": files_to_create[1]['text'],\n",
    "    \"language\": \"python\",\n",
    "    \"clearContext\": True\n",
    "})\n",
    "\n",
    "# Parse and display results\n",
    "analysis_results = json.loads(code_execute_result)\n",
    "print(\"Full analysis results:\")\n",
    "pprint.pprint(analysis_results)\n",
    "\n",
    "print(\"\\nStandard output from analysis:\")\n",
    "print(analysis_results['structuredContent']['stdout'])"
   ]
  },
  {
   "cell_type": "markdown",
   "metadata": {},
   "source": [
    "## 7. 정리\n",
    "\n",
    "마지막으로, 코드 인터프리터 세션을 종료하여 정리합니다. 세션 사용이 끝나면 세션을 종료하여 리소스를 해제하고 불필요한 요금 발생을 방지해야 합니다."
   ]
  },
  {
   "cell_type": "code",
   "execution_count": 8,
   "metadata": {
    "ExecuteTime": {
     "end_time": "2025-07-13T04:01:39.838014Z",
     "start_time": "2025-07-13T04:01:39.208092Z"
    },
    "execution": {
     "iopub.execute_input": "2025-08-31T13:04:19.999666Z",
     "iopub.status.busy": "2025-08-31T13:04:19.999421Z",
     "iopub.status.idle": "2025-08-31T13:04:20.206648Z",
     "shell.execute_reply": "2025-08-31T13:04:20.206144Z",
     "shell.execute_reply.started": "2025-08-31T13:04:19.999647Z"
    }
   },
   "outputs": [
    {
     "name": "stdout",
     "output_type": "stream",
     "text": [
      "Code Interpreter session stopped successfully!\n"
     ]
    }
   ],
   "source": [
    "# Stop the Code Interpreter session\n",
    "code_client.stop()\n",
    "print(\"Code Interpreter session stopped successfully!\")"
   ]
  },
  {
   "cell_type": "markdown",
   "metadata": {},
   "source": [
    "## 결론\n",
    "\n",
    "이 튜토리얼에서는 다음 방법을 학습했습니다.\n",
    "- 코드 인터프리터 세션 초기화\n",
    "- 분석을 위해 파일 읽기 및 준비\n",
    "- 샌드박스 환경에서 코드 실행\n",
    "- 결과 처리 및 표시\n",
    "- 리소스 정리"
   ]
  },
  {
   "cell_type": "code",
   "execution_count": null,
   "metadata": {},
   "outputs": [],
   "source": []
  }
 ],
 "metadata": {
  "kernelspec": {
   "display_name": "Python 3 (ipykernel)",
   "language": "python",
   "name": "python3"
  },
  "language_info": {
   "codemirror_mode": {
    "name": "ipython",
    "version": 3
   },
   "file_extension": ".py",
   "mimetype": "text/x-python",
   "name": "python",
   "nbconvert_exporter": "python",
   "pygments_lexer": "ipython3",
   "version": "3.12.9"
  }
 },
 "nbformat": 4,
 "nbformat_minor": 4
}
