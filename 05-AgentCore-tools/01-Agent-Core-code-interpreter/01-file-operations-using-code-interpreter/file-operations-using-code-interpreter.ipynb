{
 "cells": [
  {
   "cell_type": "markdown",
   "metadata": {},
   "source": [
    "## Amazon AgentCore Bedrock 코드 인터프리터 튜토리얼\n",
    "\n",
    "이 튜토리얼에서는 AgentCore Bedrock 코드 인터프리터를 사용하여 다음 작업을 수행하는 방법을 보여줍니다.\n",
    "1. 샌드박스 환경 설정\n",
    "2. 데이터 로드 및 분석\n",
    "3. 샌드박스 환경에서 코드 실행\n",
    "4. 결과 처리 및 검색\n",
    "\n",
    "## 필수 조건\n",
    "- Bedrock AgentCore 코드 인터프리터 액세스 권한이 있는 AWS 계정\n",
    "- 코드 인터프리터 리소스를 생성하고 관리하는 데 필요한 IAM 권한이 있어야 합니다.\n",
    "- 필요한 Python 패키지 설치(boto3 및 bedrock-agentcore 포함)\n",
    "- 샘플 데이터 파일(data.csv)\n",
    "- 분석 스크립트(stats.py)\n",
    "\n",
    "## IAM 실행 역할에 다음 IAM 정책이 연결되어 있어야 합니다."
   ]
  },
  {
   "cell_type": "markdown",
   "metadata": {},
   "source": [
    "~~~ {\n",
    "    \"Version\": \"2012-10-17\",\n",
    "    \"Statement\": [\n",
    "        {\n",
    "            \"Effect\": \"Allow\",\n",
    "            \"Action\": [\n",
    "                \"bedrock-agentcore:CreateCodeInterpreter\",\n",
    "                \"bedrock-agentcore:StartCodeInterpreterSession\",\n",
    "                \"bedrock-agentcore:InvokeCodeInterpreter\",\n",
    "                \"bedrock-agentcore:StopCodeInterpreterSession\",\n",
    "                \"bedrock-agentcore:DeleteCodeInterpreter\",\n",
    "                \"bedrock-agentcore:ListCodeInterpreters\",\n",
    "                \"bedrock-agentcore:GetCodeInterpreter\"\n",
    "            ],\n",
    "            \"Resource\": \"*\"\n",
    "        },\n",
    "        {\n",
    "            \"Effect\": \"Allow\",\n",
    "            \"Action\": [\n",
    "                \"logs:CreateLogGroup\",\n",
    "                \"logs:CreateLogStream\",\n",
    "                \"logs:PutLogEvents\"\n",
    "            ],\n",
    "            \"Resource\": \"arn:aws:logs:*:*:log-group:/aws/bedrock-agentcore/code-interpreter*\"\n",
    "        }\n",
    "    ]\n",
    "}\n",
    "\n"
   ]
  },
  {
   "cell_type": "markdown",
   "metadata": {},
   "source": [
    "## 작동 방식\n",
    "\n",
    "코드 실행 샌드박스는 코드 인터프리터, 셸, 파일 시스템을 갖춘 격리된 환경을 생성하여 에이전트가 사용자 쿼리를 안전하게 처리할 수 있도록 합니다. 대규모 언어 모델(LLM)을 통해 도구 선택을 돕고, 코드는 이 세션 내에서 실행된 후 합성을 위해 사용자 또는 에이전트에게 반환됩니다.\n",
    "\n",
    "![architecture local](code-interpreter.png)"
   ]
  },
  {
   "cell_type": "markdown",
   "metadata": {},
   "source": [
    "## 1. 환경 설정\n",
    "\n",
    "먼저, 필요한 라이브러리를 가져오고 코드 인터프리터 클라이언트를 초기화해 보겠습니다."
   ]
  },
  {
   "cell_type": "code",
   "execution_count": null,
   "metadata": {},
   "outputs": [],
   "source": [
    "!pip install --upgrade -r requirements.txt"
   ]
  },
  {
   "cell_type": "code",
   "execution_count": null,
   "metadata": {
    "ExecuteTime": {
     "end_time": "2025-07-13T04:01:17.925083Z",
     "start_time": "2025-07-13T04:01:16.036433Z"
    }
   },
   "outputs": [],
   "source": [
    "from bedrock_agentcore.tools.code_interpreter_client import CodeInterpreter\n",
    "import json\n",
    "from typing import Dict, Any, List\n",
    "\n",
    "# Initialize the Code Interpreter with your AWS region\n",
    "code_client = CodeInterpreter('us-west-2')\n",
    "code_client.start()"
   ]
  },
  {
   "cell_type": "markdown",
   "metadata": {},
   "source": [
    "## 2. 로컬 파일 읽기\n",
    "\n",
    "이제 샘플 데이터 파일과 분석 스크립트의 내용을 읽어 보겠습니다."
   ]
  },
  {
   "cell_type": "code",
   "execution_count": null,
   "metadata": {
    "ExecuteTime": {
     "end_time": "2025-07-13T04:01:17.953880Z",
     "start_time": "2025-07-13T04:01:17.942684Z"
    }
   },
   "outputs": [],
   "source": [
    "def read_file(file_path: str) -> str:\n",
    "    \"\"\"Helper function to read file content with error handling\"\"\"\n",
    "    try:\n",
    "        with open(file_path, 'r', encoding='utf-8') as file:\n",
    "            return file.read()\n",
    "    except FileNotFoundError:\n",
    "        print(f\"Error: The file '{file_path}' was not found.\")\n",
    "        return \"\"\n",
    "    except Exception as e:\n",
    "        print(f\"An error occurred: {e}\")\n",
    "        return \"\"\n",
    "\n",
    "# Read both files\n",
    "data_file_content = read_file(\"samples/data.csv\")\n",
    "code_file_content = read_file(\"samples/stats.py\")"
   ]
  },
  {
   "cell_type": "markdown",
   "metadata": {},
   "source": [
    "## 3. 샌드박스 환경을 위한 파일 준비\n",
    "\n",
    "샌드박스 환경에 생성할 파일을 정의하는 구조체를 생성합니다."
   ]
  },
  {
   "cell_type": "code",
   "execution_count": null,
   "metadata": {
    "ExecuteTime": {
     "end_time": "2025-07-13T04:01:17.966573Z",
     "start_time": "2025-07-13T04:01:17.964099Z"
    }
   },
   "outputs": [],
   "source": [
    "files_to_create = [\n",
    "    {\n",
    "        \"path\": \"data.csv\",\n",
    "        \"text\": data_file_content\n",
    "    },\n",
    "    {\n",
    "        \"path\": \"stats.py\",\n",
    "        \"text\": code_file_content\n",
    "    }\n",
    "]"
   ]
  },
  {
   "cell_type": "markdown",
   "metadata": {},
   "source": [
    "## 4. 도구 호출을 위한 도우미 함수 생성\n",
    "\n",
    "이 도우미 함수를 사용하면 샌드박스 도구를 더 쉽게 호출하고 응답을 처리할 수 있습니다. 활성 세션 내에서 지원되는 언어(Python, JavaScript)로 코드를 실행하고, 종속성 구성에 따라 라이브러리에 액세스하고, 시각화를 생성하고, 실행 간 상태를 유지할 수 있습니다."
   ]
  },
  {
   "cell_type": "code",
   "execution_count": null,
   "metadata": {
    "ExecuteTime": {
     "end_time": "2025-07-13T04:01:18.358299Z",
     "start_time": "2025-07-13T04:01:18.354409Z"
    }
   },
   "outputs": [],
   "source": [
    "def call_tool(tool_name: str, arguments: Dict[str, Any]) -> Dict[str, Any]:\n",
    "    \"\"\"Helper function to invoke sandbox tools\n",
    "    \n",
    "    Args:\n",
    "        tool_name (str): Name of the tool to invoke\n",
    "        arguments (Dict[str, Any]): Arguments to pass to the tool\n",
    "        \n",
    "    Returns:\n",
    "        Dict[str, Any]: JSON formatted result\n",
    "    \"\"\"\n",
    "    response = code_client.invoke(tool_name, arguments)\n",
    "    for event in response[\"stream\"]:\n",
    "        return json.dumps(event[\"result\"])"
   ]
  },
  {
   "cell_type": "markdown",
   "metadata": {},
   "source": [
    "## 5. 샌드박스에 파일 쓰기\n",
    "\n",
    "이제 샌드박스 환경에 파일을 쓰고 파일이 성공적으로 생성되었는지 확인해 보겠습니다."
   ]
  },
  {
   "cell_type": "code",
   "execution_count": null,
   "metadata": {
    "ExecuteTime": {
     "end_time": "2025-07-13T04:01:26.265552Z",
     "start_time": "2025-07-13T04:01:20.088758Z"
    }
   },
   "outputs": [],
   "source": [
    "# Write files to sandbox\n",
    "writing_files = call_tool(\"writeFiles\", {\"content\": files_to_create})\n",
    "print(\"Writing files result:\")\n",
    "print(writing_files)\n",
    "\n",
    "# Verify files were created\n",
    "listing_files = call_tool(\"listFiles\", {\"path\": \"\"})\n",
    "print(\"\\nFiles in sandbox:\")\n",
    "print(listing_files)"
   ]
  },
  {
   "cell_type": "markdown",
   "metadata": {},
   "source": [
    "## 6. 분석 실행\n",
    "\n",
    "이제 샌드박스 환경에서 분석 스크립트를 실행하고 결과를 처리해 보겠습니다."
   ]
  },
  {
   "cell_type": "code",
   "execution_count": null,
   "metadata": {
    "ExecuteTime": {
     "end_time": "2025-07-13T04:01:35.818531Z",
     "start_time": "2025-07-13T04:01:34.446242Z"
    }
   },
   "outputs": [],
   "source": [
    "import pprint\n",
    "\n",
    "# Execute the analysis script\n",
    "code_execute_result = call_tool(\"executeCode\", {\n",
    "    \"code\": files_to_create[1]['text'],\n",
    "    \"language\": \"python\",\n",
    "    \"clearContext\": True\n",
    "})\n",
    "\n",
    "# Parse and display results\n",
    "analysis_results = json.loads(code_execute_result)\n",
    "print(\"Full analysis results:\")\n",
    "pprint.pprint(analysis_results)\n",
    "\n",
    "print(\"\\nStandard output from analysis:\")\n",
    "print(analysis_results['structuredContent']['stdout'])"
   ]
  },
  {
   "cell_type": "markdown",
   "metadata": {},
   "source": [
    "## 7. 정리\n",
    "\n",
    "마지막으로, 코드 인터프리터 세션을 종료하여 정리합니다. 세션 사용이 끝나면 세션을 종료하여 리소스를 해제하고 불필요한 요금 발생을 방지해야 합니다."
   ]
  },
  {
   "cell_type": "code",
   "execution_count": null,
   "metadata": {
    "ExecuteTime": {
     "end_time": "2025-07-13T04:01:39.838014Z",
     "start_time": "2025-07-13T04:01:39.208092Z"
    }
   },
   "outputs": [],
   "source": [
    "# Stop the Code Interpreter session\n",
    "code_client.stop()\n",
    "print(\"Code Interpreter session stopped successfully!\")"
   ]
  },
  {
   "cell_type": "markdown",
   "metadata": {},
   "source": [
    "## 결론\n",
    "\n",
    "이 튜토리얼에서는 다음 방법을 학습했습니다.\n",
    "- 코드 인터프리터 세션 초기화\n",
    "- 분석을 위해 파일 읽기 및 준비\n",
    "- 샌드박스 환경에서 코드 실행\n",
    "- 결과 처리 및 표시\n",
    "- 리소스 정리"
   ]
  },
  {
   "cell_type": "code",
   "execution_count": null,
   "metadata": {},
   "outputs": [],
   "source": []
  }
 ],
 "metadata": {
  "kernelspec": {
   "display_name": "Python 3 (ipykernel)",
   "language": "python",
   "name": "python3"
  },
  "language_info": {
   "codemirror_mode": {
    "name": "ipython",
    "version": 3
   },
   "file_extension": ".py",
   "mimetype": "text/x-python",
   "name": "python",
   "nbconvert_exporter": "python",
   "pygments_lexer": "ipython3",
   "version": "3.12.9"
  }
 },
 "nbformat": 4,
 "nbformat_minor": 4
}
