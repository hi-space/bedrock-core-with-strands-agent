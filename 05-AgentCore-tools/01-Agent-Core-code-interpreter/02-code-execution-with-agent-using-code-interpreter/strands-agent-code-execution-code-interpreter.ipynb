{
 "cells": [
  {
   "cell_type": "markdown",
   "metadata": {},
   "source": [
    "## Amazon AgentCore Bedrock 코드 인터프리터를 활용한 에이전트 기반 코드 실행 - 튜토리얼(스트랜드)\n",
    "이 튜토리얼에서는 Python을 사용하여 코드 실행을 통해 답변을 검증하는 AI 에이전트를 만드는 방법을 보여줍니다. LLM에서 생성된 코드를 실행하기 위해 Amazon Bedrock AgentCore Code Interpreter를 사용합니다.\n",
    "\n",
    "이 튜토리얼에서는 AgentCore Bedrock Code Interpreter를 사용하여 다음 작업을 수행하는 방법을 보여줍니다.\n",
    "1. 샌드박스 환경 설정\n",
    "2. 사용자 쿼리를 기반으로 코드를 생성하는 스트랜드 기반 에이전트 구성\n",
    "3. 코드 인터프리터를 사용하여 샌드박스 환경에서 코드 실행\n",
    "4. 결과를 사용자에게 표시\n",
    "\n",
    "## 필수 조건\n",
    "- Bedrock AgentCore Code Interpreter 액세스 권한이 있는 AWS 계정\n",
    "- 코드 인터프리터 리소스를 생성하고 관리하는 데 필요한 IAM 권한 보유\n",
    "- 필요한 Python 패키지 설치(boto3, bedrock-agentcore 및 strands 포함)\n",
    "- IAM 역할에 Amazon Bedrock에서 모델을 호출할 수 있는 권한이 있어야 함\n",
    "- 미국 오리건(us-west-2) 리전의 Claude 3.7 Sonnet 모델(Strands SDK의 기본 모델)에 대한 액세스 권한\n",
    "\n",
    "## IAM 실행 역할에 다음 IAM 정책이 연결되어 있어야 함"
   ]
  },
  {
   "cell_type": "markdown",
   "metadata": {},
   "source": [
    "~~~ {\n",
    "\"Version\": \"2012-10-17\",\n",
    "\"Statement\": [\n",
    "    {\n",
    "        \"Effect\": \"Allow\",\n",
    "        \"Action\": [\n",
    "            \"bedrock-agentcore:CreateCodeInterpreter\",\n",
    "            \"bedrock-agentcore:StartCodeInterpreterSession\",\n",
    "            \"bedrock-agentcore:InvokeCodeInterpreter\",\n",
    "            \"bedrock-agentcore:StopCodeInterpreterSession\",\n",
    "            \"bedrock-agentcore:DeleteCodeInterpreter\",\n",
    "            \"bedrock-agentcore:ListCodeInterpreters\",\n",
    "            \"bedrock-agentcore:GetCodeInterpreter\"\n",
    "        ],\n",
    "        \"Resource\": \"*\"\n",
    "    },\n",
    "    {\n",
    "        \"Effect\": \"Allow\",\n",
    "        \"Action\": [\n",
    "            \"logs:CreateLogGroup\",\n",
    "            \"logs:CreateLogStream\",\n",
    "            \"logs:PutLogEvents\"\n",
    "        ],\n",
    "        \"Resource\": \"arn:aws:logs:*:*:log-group:/aws/bedrock-agentcore/code-interpreter*\"\n",
    "    }\n",
    "]\n",
    "}"
   ]
  },
  {
   "cell_type": "markdown",
   "metadata": {},
   "source": [
    "## 작동 방식\n",
    "\n",
    "코드 실행 샌드박스는 코드 인터프리터, 셸, 파일 시스템을 갖춘 격리된 환경을 생성하여 에이전트가 사용자 쿼리를 안전하게 처리할 수 있도록 합니다. 대규모 언어 모델(LLM)을 통해 도구 선택을 돕고, 코드는 이 세션 내에서 실행된 후 합성을 위해 사용자 또는 에이전트에게 반환됩니다.\n",
    "\n",
    "![architecture local](code-interpreter.png)"
   ]
  },
  {
   "cell_type": "markdown",
   "metadata": {},
   "source": [
    "## 1. 환경 설정\n",
    "\n",
    "먼저, 필요한 라이브러리를 가져오고 코드 인터프리터 세션을 초기화해 보겠습니다."
   ]
  },
  {
   "cell_type": "code",
   "execution_count": null,
   "metadata": {},
   "outputs": [],
   "source": [
    "!pip install --upgrade -r requirements.txt"
   ]
  },
  {
   "cell_type": "code",
   "execution_count": 4,
   "metadata": {
    "ExecuteTime": {
     "end_time": "2025-07-13T05:14:23.977088Z",
     "start_time": "2025-07-13T05:14:23.974553Z"
    }
   },
   "outputs": [],
   "source": [
    "from bedrock_agentcore.tools.code_interpreter_client import code_session\n",
    "from strands import Agent, tool\n",
    "import json\n",
    "from typing import Dict, Any, List\n"
   ]
  },
  {
   "cell_type": "markdown",
   "metadata": {},
   "source": [
    "## 2. 시스템 프롬프트 정의\n",
    "AI 비서의 동작과 기능을 정의합니다. AI 비서가 코드 실행 및 데이터 기반 추론을 통해 항상 답변을 검증하도록 지시합니다."
   ]
  },
  {
   "cell_type": "code",
   "execution_count": 12,
   "metadata": {
    "ExecuteTime": {
     "end_time": "2025-07-13T08:26:36.770586Z",
     "start_time": "2025-07-13T08:26:36.734153Z"
    }
   },
   "outputs": [],
   "source": [
    "SYSTEM_PROMPT = \"\"\"You are a helpful AI assistant that validates all answers through code execution.\n",
    "\n",
    "VALIDATION PRINCIPLES:\n",
    "1. When making claims about code, algorithms, or calculations - write code to verify them\n",
    "2. Use execute_python to test mathematical calculations, algorithms, and logic\n",
    "3. Create test scripts to validate your understanding before giving answers\n",
    "4. Always show your work with actual code execution\n",
    "5. If uncertain, explicitly state limitations and validate what you can\n",
    "\n",
    "APPROACH:\n",
    "- If asked about a programming concept, implement it in code to demonstrate\n",
    "- If asked for calculations, compute them programmatically AND show the code\n",
    "- If implementing algorithms, include test cases to prove correctness\n",
    "- Document your validation process for transparency\n",
    "- The sandbox maintains state between executions, so you can refer to previous results\n",
    "\n",
    "TOOL AVAILABLE:\n",
    "- execute_python: Run Python code and see output\n",
    "\n",
    "RESPONSE FORMAT: The execute_python tool returns a JSON response with:\n",
    "- sessionId: The sandbox session ID\n",
    "- id: Request ID\n",
    "- isError: Boolean indicating if there was an error\n",
    "- content: Array of content objects with type and text/data\n",
    "- structuredContent: For code execution, includes stdout, stderr, exitCode, executionTime\"\"\""
   ]
  },
  {
   "cell_type": "markdown",
   "metadata": {},
   "source": [
    "## 3. 코드 실행 도구 정의\n",
    "다음으로, 에이전트가 코드 샌드박스에서 코드를 실행하는 데 사용할 함수를 도구로 정의합니다. @tool 데코레이터를 사용하여 해당 함수에 에이전트용 사용자 지정 도구라는 주석을 추가합니다.\n",
    "\n",
    "활성 코드 인터프리터 세션 내에서 지원되는 언어(Python, JavaScript)로 코드를 실행하고, 종속성 구성에 따라 라이브러리에 액세스하고, 시각화를 생성하고, 실행 간 상태를 유지할 수 있습니다."
   ]
  },
  {
   "cell_type": "code",
   "execution_count": 6,
   "metadata": {
    "ExecuteTime": {
     "end_time": "2025-07-13T05:21:39.317191Z",
     "start_time": "2025-07-13T05:21:39.311550Z"
    }
   },
   "outputs": [],
   "source": [
    "@tool\n",
    "def execute_python(code: str, description: str = \"\") -> str:\n",
    "    \"\"\"Execute Python code in the sandbox.\"\"\"\n",
    "    \n",
    "    if description:\n",
    "        code = f\"# {description}\\n{code}\"\n",
    "    \n",
    "    print(f\"\\n Generated Code: {code}\")\n",
    "    \n",
    "    with code_session(\"us-west-2\") as code_client:\n",
    "        response = code_client.invoke(\"executeCode\", {\n",
    "            \"code\": code,\n",
    "            \"language\": \"python\",\n",
    "            \"clearContext\": False\n",
    "        })\n",
    "    \n",
    "    for event in response[\"stream\"]:\n",
    "        return json.dumps(event[\"result\"])"
   ]
  },
  {
   "cell_type": "markdown",
   "metadata": {},
   "source": [
    "## 4. 에이전트 구성\n",
    "Strands SDK를 사용하여 에이전트를 생성하고 구성합니다. 에이전트에 시스템 프롬프트와 위에서 정의한 도구를 제공하여 코드를 실행합니다."
   ]
  },
  {
   "cell_type": "code",
   "execution_count": 9,
   "metadata": {
    "ExecuteTime": {
     "end_time": "2025-07-13T05:21:49.992168Z",
     "start_time": "2025-07-13T05:21:49.793089Z"
    }
   },
   "outputs": [],
   "source": [
    "agent = Agent(\n",
    "    tools=[execute_python],\n",
    "    system_prompt=SYSTEM_PROMPT,\n",
    "    callback_handler=None\n",
    ")"
   ]
  },
  {
   "cell_type": "markdown",
   "metadata": {},
   "source": [
    "## 5. 쿼리 정의\n",
    "에이전트의 코드 실행 기능을 테스트하기 위한 샘플 쿼리를 정의합니다."
   ]
  },
  {
   "cell_type": "code",
   "execution_count": 10,
   "metadata": {
    "ExecuteTime": {
     "end_time": "2025-07-13T05:22:54.216172Z",
     "start_time": "2025-07-13T05:22:54.211344Z"
    }
   },
   "outputs": [],
   "source": [
    "query = \"Tell me the largest random prime number between 1 and 100, which is less than 84 and more that 9\""
   ]
  },
  {
   "cell_type": "markdown",
   "metadata": {},
   "source": [
    "## 6. 에이전트 호출 및 응답 처리\n",
    "쿼리를 사용하여 에이전트를 호출하고 에이전트의 응답을 처리합니다.\n",
    "\n",
    "참고: 비동기 실행은 비동기 환경에서 실행해야 합니다."
   ]
  },
  {
   "cell_type": "code",
   "execution_count": 11,
   "metadata": {
    "ExecuteTime": {
     "end_time": "2025-07-13T05:23:14.612468Z",
     "start_time": "2025-07-13T05:22:58.624128Z"
    }
   },
   "outputs": [
    {
     "name": "stdout",
     "output_type": "stream",
     "text": [
      "I'll find the largest random prime number between 1 and 100 that is less than 84 and more than 9. To do this, I'll write code to:\n",
      "\n",
      "1. Generate all prime numbers in the specified range\n",
      "2. Filter to keep only those > 9 and < 84\n",
      "3. Find the largest one\n",
      "\n",
      "Let me implement this:\n",
      " Generated Code: import random\n",
      "\n",
      "def is_prime(n):\n",
      "    \"\"\"Check if a number is prime\"\"\"\n",
      "    if n <= 1:\n",
      "        return False\n",
      "    if n <= 3:\n",
      "        return True\n",
      "    if n % 2 == 0 or n % 3 == 0:\n",
      "        return False\n",
      "    i = 5\n",
      "    while i * i <= n:\n",
      "        if n % i == 0 or n % (i + 2) == 0:\n",
      "            return False\n",
      "        i += 6\n",
      "    return True\n",
      "\n",
      "# Find all primes in the range\n",
      "primes_in_range = [n for n in range(10, 84) if is_prime(n)]\n",
      "\n",
      "print(\"All prime numbers between 10 and 83:\")\n",
      "print(primes_in_range)\n",
      "\n",
      "# Get the largest prime in the range\n",
      "largest_prime = max(primes_in_range)\n",
      "print(f\"\\nThe largest prime number between 10 and 83 is: {largest_prime}\")\n",
      "\n",
      "# For verification, let's check that it's actually prime\n",
      "print(f\"Verification - is {largest_prime} prime? {is_prime(largest_prime)}\")\n",
      "Based on the code execution, I can tell you that the largest prime number between 1 and 100, which is less than 84 and more than 9, is **83**.\n",
      "\n",
      "I verified this by:\n",
      "1. Writing a function to check if a number is prime\n",
      "2. Generating all prime numbers in the range 10-83\n",
      "3. Finding the maximum value in that list\n",
      "\n",
      "The complete list of primes in your specified range is: 11, 13, 17, 19, 23, 29, 31, 37, 41, 43, 47, 53, 59, 61, 67, 71, 73, 79, and 83.\n",
      "\n",
      "Since 83 is the largest among these primes, it is the answer to your question."
     ]
    }
   ],
   "source": [
    "try:\n",
    "    response_text = \"\"\n",
    "    async for event in agent.stream_async(query):\n",
    "        if \"data\" in event:\n",
    "            chunk = event[\"data\"]\n",
    "            response_text += chunk\n",
    "            print(chunk, end=\"\")\n",
    "except Exception as e:\n",
    "    print(f\"Error occurred: {str(e)}\")"
   ]
  }
 ],
 "metadata": {
  "kernelspec": {
   "display_name": "Python 3 (ipykernel)",
   "language": "python",
   "name": "python3"
  },
  "language_info": {
   "codemirror_mode": {
    "name": "ipython",
    "version": 3
   },
   "file_extension": ".py",
   "mimetype": "text/x-python",
   "name": "python",
   "nbconvert_exporter": "python",
   "pygments_lexer": "ipython3",
   "version": "3.12.9"
  }
 },
 "nbformat": 4,
 "nbformat_minor": 4
}
