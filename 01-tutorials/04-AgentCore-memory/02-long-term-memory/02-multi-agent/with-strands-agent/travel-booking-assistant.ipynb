{
 "cells": [
  {
   "cell_type": "markdown",
   "id": "4a87f55f-9cb5-4aee-8d80-cd3b7935aa2d",
   "metadata": {},
   "source": [
    "# 도구를 통한 Strands Agents와 AgentCore Memory (장기 메모리)"
   ]
  },
  {
   "cell_type": "markdown",
   "id": "295730ce-6bc3-40bf-94bc-c534fd6a950d",
   "metadata": {},
   "source": [
    "## 소개\n",
    "\n",
    "이 노트북은 AgentCore Memory와 Strands 프레임워크를 사용하여 **공유 장기 메모리를 가진 멀티 에이전트 시스템**을 구현하는 방법을 보여줍니다. 각 에이전트에 대한 전용 네임스페이스를 가진 공통 장기 메모리 저장소에 액세스하면서 여러 전문 에이전트가 함께 작업하는 방법을 탐구합니다.\n",
    "\n",
    "### 튜토리얼 세부사항\n",
    "\n",
    "| 정보                | 세부사항                                                                          |\n",
    "|:--------------------|:---------------------------------------------------------------------------------|\n",
    "| 튜토리얼 유형        | 장기 대화형                                                                         |\n",
    "| 에이전트 유형        | 여행 예약 비서                                                                 |\n",
    "| 에이전트 프레임워크   | Strands Agents                                                                   |\n",
    "| LLM 모델            | Anthropic Claude Sonnet 3.7                                                      |\n",
    "| 튜토리얼 구성요소     | AgentCore 사용자 선호도 메모리 추출, 메모리 저장 및 검색을 위한 도구              |\n",
    "| 예제 복잡도          | 중급                                                                             |\n",
    "\n",
    "배울 내용:\n",
    "\n",
    "- 장기 메모리 전략으로 공유 메모리 리소스 설정 방법\n",
    "- 자체 메모리 네임스페이스에 액세스할 수 있는 전문 에이전트 생성\n",
    "- 전문 에이전트에게 위임하는 코디네이터 에이전트 구현\n",
    "- 에이전트 전문화를 위한 구조화된 메모리 네임스페이스 활용\n",
    "\n",
    "## 시나리오 컨텍스트\n",
    "\n",
    "이 예제에서는 다음과 같은 **여행 계획 시스템**을 만들어보겠습니다:\n",
    "1. 여행 선호도와 기록의 장기 메모리를 가진 항공편 예약 비서\n",
    "2. 숙박 선호도의 장기 메모리를 가진 호텔 예약 비서\n",
    "3. 이러한 전문 에이전트들을 조율하는 여행 코디네이터\n",
    "\n",
    "각 전문 에이전트는 공통 메모리 저장소 내에서 자체 네임스페이스에 액세스하여 시간이 지나면서 사용자 선호도에 대한 지속적인 이해를 구축할 수 있습니다. 이 접근 방식은 복잡한 도메인을 메모리 인프라를 공유하지만 자체 전문 영역을 유지하는 전문 에이전트로 나눠 구성할 수 있는 방법을 보여줍니다.\n",
    "\n",
    "## 아키텍처\n",
    "<div style=\"text-align:left\">\n",
    "    <img src=\"architecture.png\" width=\"65%\" />\n",
    "</div>\n",
    "\n",
    "## 전제조건\n",
    "\n",
    "이 튜토리얼을 실행하려면 다음이 필요합니다:\n",
    "- Python 3.10+\n",
    "- Amazon Bedrock AgentCore Memory 권한이 있는 AWS 자격 증명\n",
    "- Amazon Bedrock AgentCore SDK\n",
    "\n",
    "환경 설정과 공유 장기 메모리 리소스 생성을 시작해보겠습니다!"
   ]
  },
  {
   "cell_type": "markdown",
   "id": "5a9f2653-69ca-4241-95b1-063085edf695",
   "metadata": {},
   "source": [
    "## 1단계: 환경 설정\n",
    "이 노트북이 작동하도록 필요한 모든 라이브러리를 가져오고 클라이언트를 정의하는 것부터 시작해보겠습니다."
   ]
  },
  {
   "cell_type": "code",
   "execution_count": null,
   "id": "0ea35f65-29ba-42e7-a756-7ab5b93a84ce",
   "metadata": {},
   "outputs": [],
   "source": [
    "!pip install -qr requirements.txt"
   ]
  },
  {
   "cell_type": "code",
   "execution_count": null,
   "id": "f63a5236-2e64-4029-876c-87fe808ce0a8",
   "metadata": {},
   "outputs": [],
   "source": [
    "import logging\n",
    "import time\n",
    "from datetime import datetime\n",
    "from strands.hooks import AfterInvocationEvent, HookProvider, HookRegistry\n",
    "\n",
    "logging.basicConfig(level=logging.INFO, format=\"%(asctime)s - %(levelname)s - %(message)s\", datefmt=\"%Y-%m-%d %H:%M:%S\")\n",
    "logger = logging.getLogger(\"travel-assistant\")"
   ]
  },
  {
   "cell_type": "markdown",
   "id": "acb536ec-494a-45e5-b425-aaa2b7f21792",
   "metadata": {},
   "source": [
    "Amazon Bedrock 모델과 AgentCore에 대한 적절한 권한을 가진 지역을 정의합니다"
   ]
  },
  {
   "cell_type": "code",
   "execution_count": null,
   "id": "746a9e5c-0893-431a-9585-9e8bfb13fd52",
   "metadata": {},
   "outputs": [],
   "source": [
    "region = \"us-west-2\" # Replace with your AWS region\n",
    "MODEL_ID= \"us.anthropic.claude-3-7-sonnet-20250219-v1:0\""
   ]
  },
  {
   "cell_type": "markdown",
   "id": "ef644e57-9e6f-413d-9b26-5eeb775d7760",
   "metadata": {},
   "source": [
    "## 2단계: 공유 메모리 리소스 생성\n",
    "이 섹션에서는 각 에이전트에 대한 전용 네임스페이스를 가진 공통 장기 메모리 저장소를 생성합니다."
   ]
  },
  {
   "cell_type": "code",
   "execution_count": null,
   "id": "86de86a0-825b-4d4d-8180-3d31c4c1fd94",
   "metadata": {},
   "outputs": [],
   "source": [
    "from bedrock_agentcore.memory import MemoryClient\n",
    "from bedrock_agentcore.memory.constants import StrategyType\n",
    "\n",
    "client = MemoryClient(region_name=region)\n",
    "memory_name = \"TravelAgent_LTM\"\n",
    "memory_id = None"
   ]
  },
  {
   "cell_type": "code",
   "execution_count": null,
   "id": "8f32d7a9-dcdd-4296-968c-94aa7f3a7c30",
   "metadata": {},
   "outputs": [],
   "source": [
    "from botocore.exceptions import ClientError\n",
    "\n",
    "try:\n",
    "    print(\"Creating Memory with Long-Term Strategy...\")\n",
    "    # Create the memory resource with a single long-term memory strategy\n",
    "    # The {actorId} placeholder will be dynamically replaced with the actual actor ID\n",
    "    memory = client.create_memory_and_wait(\n",
    "        name=memory_name,\n",
    "        description=\"Travel Agent with Long-Term Memory\",\n",
    "        strategies=[{\n",
    "            StrategyType.USER_PREFERENCE.value: {\n",
    "                \"name\": \"UserPreferences\",\n",
    "                \"description\": \"Captures user preferences\",\n",
    "                \"namespaces\": [\"travel/{actorId}/preferences\"]\n",
    "            }\n",
    "        }],\n",
    "        event_expiry_days=7,  # Short-term conversation expires after 7 days\n",
    "        max_wait=300,\n",
    "        poll_interval=10\n",
    "    )\n",
    "\n",
    "    # Extract and print the memory ID\n",
    "    memory_id = memory['id']\n",
    "    print(f\"Memory created successfully with ID: {memory_id}\")\n",
    "except ClientError as e:\n",
    "    if e.response['Error']['Code'] == 'ValidationException' and \"already exists\" in str(e):\n",
    "        # If memory already exists, retrieve its ID\n",
    "        memories = client.list_memories()\n",
    "        memory_id = next((m['id'] for m in memories if m['id'].startswith(memory_name)), None)\n",
    "        logger.info(f\"Memory already exists. Using existing memory ID: {memory_id}\")\n",
    "except Exception as e:\n",
    "    # Handle any errors during memory creation\n",
    "    logger.info(f\"❌ ERROR: {e}\")\n",
    "    import traceback\n",
    "    traceback.print_exc()\n",
    "    # Cleanup on error - delete the memory if it was partially created\n",
    "    if memory_id:\n",
    "        try:\n",
    "            client.delete_memory_and_wait(memory_id=memory_id)\n",
    "            logger.info(f\"Cleaned up memory: {memory_id}\")\n",
    "        except Exception as cleanup_error:\n",
    "            logger.info(f\"Failed to clean up memory: {cleanup_error}\")"
   ]
  },
  {
   "cell_type": "markdown",
   "id": "ac2f225c-5cf5-4f39-a139-4d15e0d1a6e3",
   "metadata": {},
   "source": [
    "### 장기 메모리 전략 이해\n",
    "\n",
    "우리가 생성하는 메모리 리소스는 단일 사용자 선호도 전략으로 AgentCore Memory의 장기 메모리 기능을 사용합니다:\n",
    "\n",
    "1. **사용자 선호도 메모리 전략**: 대화에서 언급된 사용자 선호도를 자동으로 추출하고 통합\n",
    "2. **액터 기반 네임스페이스**: 네임스페이스 경로에 액터 ID를 사용하여 각 에이전트에 대한 별도 공간 생성\n",
    "3. **메모리 지속성**: 만료되는 단기 메모리와 달리 추출된 선호도는 대화 만료 후에도 지속\n",
    "\n",
    "`travel/{actorId}/preferences` 네임스페이스 패턴으로 각 전문 에이전트는 액터 ID에 기반한 고유한 네임스페이스를 가집니다:\n",
    "- 항공편 에이전트 액세스: `travel/flight-user-TIMESTAMP/preferences`\n",
    "- 호텔 에이전트 액세스: `travel/hotel-user-TIMESTAMP/preferences`\n",
    "\n",
    "이를 통해 각 에이전트는 공통 메모리 인프라를 사용하면서도 자체 전문 지식을 유지할 수 있습니다.\n",
    "\n",
    "### 에이전트 신원 설정"
   ]
  },
  {
   "cell_type": "code",
   "execution_count": null,
   "id": "5f294943-ff18-420a-b942-dc5f99e0cca5",
   "metadata": {},
   "outputs": [],
   "source": [
    "# Create unique actor IDs for each specialized agent but share the session ID\n",
    "flight_actor_id = f\"flight-user-{datetime.now().strftime('%Y%m%d%H%M%S')}\"\n",
    "hotel_actor_id = f\"hotel-user-{datetime.now().strftime('%Y%m%d%H%M%S')}\"\n",
    "session_id = f\"travel-session-{datetime.now().strftime('%Y%m%d%H%M%S')}\"\n",
    "flight_namespace = f\"travel/{flight_actor_id}/preferences\"\n",
    "hotel_namespace = f\"travel/{hotel_actor_id}/preferences\""
   ]
  },
  {
   "cell_type": "code",
   "execution_count": null,
   "id": "a288afca-e06e-48b2-b10b-9cb0465c9e23",
   "metadata": {},
   "outputs": [],
   "source": [
    "# Import the necessary components\n",
    "from strands import Agent, tool\n",
    "from strands_tools.agent_core_memory import AgentCoreMemoryToolProvider"
   ]
  },
  {
   "cell_type": "markdown",
   "id": "46c590f3-4b1f-452a-946c-709548ce5d33",
   "metadata": {},
   "source": [
    "### 3단계: 메모리 훅 프로바이더 생성\n",
    "\n",
    "이 단계에서는 메모리 작업을 자동화하는 사용자 정의 `MemoryHookProvider` 클래스를 정의합니다. 훅은 에이전트의 실행 생명주기의 특정 지점에서 실행되는 특수 함수입니다. 우리가 만드는 메모리 훅은 하나의 주요 기능을 제공합니다:\n",
    "\n",
    "1. **메모리 저장**: 에이전트가 응답한 후 새로운 대화를 저장\n",
    "\n",
    "이는 수동 관리 없이 원활한 메모리 경험을 만들어줍니다."
   ]
  },
  {
   "cell_type": "code",
   "execution_count": null,
   "id": "e206c1a9-ce22-4a04-9580-e063f62dce56",
   "metadata": {},
   "outputs": [],
   "source": [
    "class MemoryHookProvider(HookProvider):\n",
    "    \"\"\"Hook provider for automatic memory management\"\"\"\n",
    "    \n",
    "    def __init__(self, memory_id: str, client: MemoryClient, actor_id: str, session_id: str):\n",
    "        self.memory_id = memory_id\n",
    "        self.client = client\n",
    "        self.actor_id = actor_id\n",
    "        self.session_id = session_id\n",
    "    \n",
    "    def save_memories(self, event: AfterInvocationEvent):\n",
    "        \"\"\"Save conversation after agent response\"\"\"\n",
    "        try:\n",
    "            messages = event.agent.messages\n",
    "            if len(messages) >= 2:\n",
    "                # Get last user and assistant messages\n",
    "                user_msg = None\n",
    "                assistant_msg = None\n",
    "                \n",
    "                for msg in reversed(messages):\n",
    "                    if msg[\"role\"] == \"assistant\" and not assistant_msg:\n",
    "                        assistant_msg = msg[\"content\"][0][\"text\"]\n",
    "                    elif msg[\"role\"] == \"user\" and not user_msg and \"toolResult\" not in msg[\"content\"][0]:\n",
    "                        user_msg = msg[\"content\"][0][\"text\"]\n",
    "                        break\n",
    "                \n",
    "                if user_msg and assistant_msg:\n",
    "                    # Save conversation\n",
    "                    self.client.create_event(\n",
    "                        memory_id=self.memory_id,\n",
    "                        actor_id=self.actor_id,\n",
    "                        session_id=self.session_id,\n",
    "                        messages=[(user_msg, \"USER\"), (assistant_msg, \"ASSISTANT\")]\n",
    "                    )\n",
    "                    logger.info(\"Saved conversation to memory\")\n",
    "                    \n",
    "        except Exception as e:\n",
    "            logger.error(f\"Failed to save memories: {e}\")\n",
    "    \n",
    "    def register_hooks(self, registry: HookRegistry) -> None:\n",
    "        \"\"\"Register memory hooks\"\"\"\n",
    "        registry.add_callback(AfterInvocationEvent, self.save_memories)\n",
    "        logger.info(\"Memory hooks registered\")"
   ]
  },
  {
   "cell_type": "markdown",
   "id": "48f39b9d-4238-45e5-a8eb-98a8c450e65a",
   "metadata": {},
   "source": [
    "### 메모리 액세스를 가진 전문 에이전트 생성\n",
    "\n",
    "다음으로, 전문 에이전트를 위한 시스템 프롬프트를 정의하겠습니다."
   ]
  },
  {
   "cell_type": "code",
   "execution_count": null,
   "id": "bb748408-80cc-4f2a-8950-ed1523bec2aa",
   "metadata": {},
   "outputs": [],
   "source": [
    "# System prompt for the hotel booking specialist\n",
    "HOTEL_BOOKING_PROMPT = f\"\"\"You are a hotel booking assistant. Help customers find hotels, make reservations, and answer questions about accommodations and amenities. \n",
    "Provide clear information about availability, pricing, and booking procedures in a friendly, helpful manner.Ask max two questions per turn. Keep the messages short, don't overwhelm the customer.\"\"\"\n",
    "\n",
    "# System prompt for the flight booking specialist\n",
    "FLIGHT_BOOKING_PROMPT = f\"\"\"You are a flight booking assistant. Help customers find flights, make reservations, and answer questions about airlines, routes, and travel policies. \n",
    "Provide clear information about flight availability, pricing, schedules, and booking procedures in a friendly, helpful manner.Ask max two questions per turn. Keep the messages short, don't overwhelm the customer.\"\"\""
   ]
  },
  {
   "cell_type": "markdown",
   "id": "a42e6a49-dc31-48ae-b6ca-5e08266fd74a",
   "metadata": {},
   "source": [
    "### 에이전트 도구 구현\n",
    "이제 코디네이터 에이전트가 사용할 수 있는 도구로서 전문 에이전트를 구현해보겠습니다:"
   ]
  },
  {
   "cell_type": "code",
   "execution_count": null,
   "id": "1f67ed8c-c15b-4e5a-a130-aa3ef165fc3f",
   "metadata": {},
   "outputs": [],
   "source": [
    "@tool\n",
    "def flight_booking_assistant(query: str) -> str:\n",
    "    \"\"\"\n",
    "    Process and respond to flight booking queries.\n",
    "\n",
    "    Args:\n",
    "        query: A flight-related question about bookings, schedules, airlines, or travel policies\n",
    "\n",
    "    Returns:\n",
    "        Detailed flight information, booking options, or travel advice\n",
    "    \"\"\"\n",
    "    try:\n",
    "        provider_flight = AgentCoreMemoryToolProvider(\n",
    "            memory_id=memory_id,      # Required\n",
    "            actor_id=flight_actor_id, # Required\n",
    "            session_id=session_id,    # Required\n",
    "            max_results=10,           # Optional\n",
    "            namespace=flight_namespace\n",
    "        )\n",
    "        \n",
    "        flight_memory_hooks = MemoryHookProvider(\n",
    "            memory_id=memory_id,\n",
    "            client=client,\n",
    "            actor_id=flight_actor_id,\n",
    "            session_id=session_id\n",
    "        )\n",
    "\n",
    "        flight_agent = Agent(tools=provider_flight.tools,\n",
    "                             hooks=[flight_memory_hooks],\n",
    "                             model=MODEL_ID,\n",
    "                             system_prompt=FLIGHT_BOOKING_PROMPT\n",
    "                             )\n",
    "\n",
    "        # Call the agent and return its response\n",
    "        response = flight_agent(query)\n",
    "        return str(response)\n",
    "    except Exception as e:\n",
    "        return f\"Error in flight booking assistant: {str(e)}\"\n",
    "\n",
    "@tool\n",
    "def hotel_booking_assistant(query: str) -> str:\n",
    "    \"\"\"\n",
    "    Process and respond to hotel booking queries.\n",
    "\n",
    "    Args:\n",
    "        query: A hotel-related question about accommodations, amenities, or reservations\n",
    "\n",
    "    Returns:\n",
    "        Detailed hotel information, booking options, or accommodation advice\n",
    "    \"\"\"\n",
    "    try:\n",
    "        provider_hotel = AgentCoreMemoryToolProvider(\n",
    "            memory_id=memory_id,      \n",
    "            actor_id=hotel_actor_id, \n",
    "            session_id=session_id,    \n",
    "            max_results=10,           \n",
    "            namespace=hotel_namespace\n",
    "        )\n",
    "\n",
    "        hotel_memory_hooks = MemoryHookProvider(\n",
    "            memory_id=memory_id,\n",
    "            client=client,\n",
    "            actor_id=hotel_actor_id,\n",
    "            session_id=session_id\n",
    "        )\n",
    "\n",
    "        hotel_booking_agent = Agent(tools=provider_hotel.tools, hooks=[hotel_memory_hooks],model=MODEL_ID, system_prompt=HOTEL_BOOKING_PROMPT)\n",
    "        \n",
    "        # Call the agent and return its response\n",
    "        response = hotel_booking_agent(query)\n",
    "        return str(response)\n",
    "    except Exception as e:\n",
    "        return f\"Error in hotel booking assistant: {str(e)}\""
   ]
  },
  {
   "cell_type": "markdown",
   "id": "e7b572d1-d429-4678-a318-2ab153408e23",
   "metadata": {},
   "source": [
    "### 코디네이터 에이전트 생성\n",
    "\n",
    "마지막으로, 이러한 전문 도구들 간에 조정을 담당하는 메인 여행 계획 에이전트를 만들어보겠습니다:"
   ]
  },
  {
   "cell_type": "code",
   "execution_count": null,
   "id": "4abe237d-36c2-42ab-ae54-4554e1e4f23a",
   "metadata": {},
   "outputs": [],
   "source": [
    "# System prompt for the coordinator agent\n",
    "TRAVEL_AGENT_SYSTEM_PROMPT = \"\"\"\n",
    "You are a comprehensive travel planning assistant that coordinates between specialized tools:\n",
    "- For flight-related queries (bookings, schedules, airlines, routes) → Use the flight_booking_assistant tool\n",
    "- For hotel-related queries (accommodations, amenities, reservations) → Use the hotel_booking_assistant tool\n",
    "- For complete travel packages → Use both tools as needed to provide comprehensive information\n",
    "- For general travel advice or simple travel questions → Answer directly\n",
    "\n",
    "Each agent will have its own memory in case the user asks about historic data.\n",
    "When handling complex travel requests, coordinate information from both tools to create a cohesive travel plan.\n",
    "Provide clear organization when presenting information from multiple sources. \\\n",
    "Ask max two questions per turn. Keep the messages short, don't overwhelm the customer.\n",
    "\"\"\""
   ]
  },
  {
   "cell_type": "code",
   "execution_count": null,
   "id": "1f10bb9f-031e-49b6-8175-1b676cdd2576",
   "metadata": {},
   "outputs": [],
   "source": [
    "travel_agent = Agent(\n",
    "    system_prompt=TRAVEL_AGENT_SYSTEM_PROMPT,\n",
    "    model=MODEL_ID,\n",
    "    tools=[flight_booking_assistant, hotel_booking_assistant]\n",
    ")"
   ]
  },
  {
   "cell_type": "markdown",
   "id": "c361c59d-e322-47ae-92a8-ee6cd994df22",
   "metadata": {},
   "source": [
    "## 멀티 에이전트 메모리 시스템 테스트\n",
    "\n",
    "여행 계획 시나리오로 멀티 에이전트 시스템을 테스트해보겠습니다:"
   ]
  },
  {
   "cell_type": "markdown",
   "id": "a085bace-f5af-40d4-a20c-6e64bc00a3fa",
   "metadata": {},
   "source": [
    "### 선택사항: 항공편 예약 비서의 장기 메모리 하이드레이트\n",
    "항공편 예약 에이전트를 하이드레이트하려면 다음 셀의 주석을 해제하세요."
   ]
  },
  {
   "cell_type": "code",
   "execution_count": null,
   "id": "6944d10a-3651-4ce0-aee7-8ac551733a47",
   "metadata": {},
   "outputs": [],
   "source": [
    "\"\"\"flight_previous_messages = [\n",
    "    (\"Hi, I'm Sarah\", \"USER\"),\n",
    "    (\"Hello Sarah! Welcome to FlightAssist. How can I help you with your travel plans today?\", \"ASSISTANT\"),\n",
    "    (\"I'm looking to book a flight from New York to London sometime next month.\", \"USER\"),\n",
    "    (\"I'd be happy to help you find flights from New York to London for next month. Do you have specific dates in mind, or are you flexible?\", \"ASSISTANT\"),\n",
    "    (\"I'm thinking around the 15th to the 25th, but I can be a bit flexible.\", \"USER\"),\n",
    "    (\"Great! That gives us some room to find the best options. Do you have any preferences regarding airlines or flight times?\", \"ASSISTANT\"),\n",
    "    (\"I definitely prefer direct flights if possible. I really don't like layovers.\", \"USER\"),\n",
    "    (\"I completely understand your preference for direct flights. Layovers can be inconvenient. Fortunately, there are several airlines offering direct flights between New York and London, including British Airways, American Airlines, Delta, and Virgin Atlantic.\", \"ASSISTANT\"),\n",
    "    (\"That's good to hear. I've had good experiences with British Airways in the past.\", \"USER\"),\n",
    "    (\"British Airways does offer excellent service on transatlantic routes. I'll keep that in mind when searching for options. Do you have any seating preferences or other requirements for your flight?\", \"ASSISTANT\"),\n",
    "    (\"I always try to get an aisle seat. I like being able to get up without disturbing others, especially on long flights.\", \"USER\"),\n",
    "    (\"An aisle seat is a great choice for long-haul flights like New York to London. I'll note your preference for aisle seating. Would you prefer to fly in the morning, afternoon, or evening?\", \"ASSISTANT\"),\n",
    "    (\"I prefer overnight flights for long journeys. It helps me adjust to the time difference better.\", \"USER\"),\n",
    "    (\"Overnight flights are indeed a smart choice for eastbound transatlantic travel. They allow you to arrive in London in the morning and help minimize jet lag. British Airways, Delta, and American all offer evening departures from New York that arrive in London the next morning.\", \"ASSISTANT\"),\n",
    "    (\"Perfect! And I'm also wondering about baggage allowances since I'll be staying for about a week.\", \"USER\"),\n",
    "    (\"For a week-long trip, most travelers find that a standard checked bag plus a carry-on is sufficient. British Airways typically allows one free checked bag on transatlantic flights in economy class, plus a carry-on and personal item. Would you like me to check the specific allowances for your preferred dates?\", \"ASSISTANT\")\n",
    "]\n",
    "\n",
    "print(\"\\nHydrating memories with previous conversations...\")\n",
    "\n",
    "# Save the conversation history to short-term memory\n",
    "initial = client.create_event(\n",
    "    memory_id=memory_id,\n",
    "    actor_id=flight_actor_id,\n",
    "    session_id=session_id,\n",
    "    messages=flight_previous_messages,\n",
    ")\n",
    "print(\"✓ Conversation saved in short term memory\")\"\"\""
   ]
  },
  {
   "cell_type": "code",
   "execution_count": null,
   "id": "8b13aa5d-4abc-41eb-916b-35ccf0b5ab03",
   "metadata": {},
   "outputs": [],
   "source": [
    "travel_agent(\"Hello, I would like to book a trip from LA to Madrid. From July 1 to August 2.\")"
   ]
  },
  {
   "cell_type": "code",
   "execution_count": null,
   "id": "ec209fa8-fd5a-41a8-b7d1-86a1f137331f",
   "metadata": {},
   "outputs": [],
   "source": [
    "travel_agent(\"I prefer direct flights with Iberia\")"
   ]
  },
  {
   "cell_type": "code",
   "execution_count": null,
   "id": "7085390d-90a7-483e-a3c4-dbffe5d89a49",
   "metadata": {},
   "outputs": [],
   "source": [
    "travel_agent(\"I would like a flight in the morning, in economy\")"
   ]
  },
  {
   "cell_type": "code",
   "execution_count": null,
   "id": "ceb0e6b8-028e-4f89-8672-6b5e4b2673ca",
   "metadata": {},
   "outputs": [],
   "source": [
    "travel_agent(\"I would like to fly from SNA, and return 15 days later\")"
   ]
  },
  {
   "cell_type": "markdown",
   "id": "ef1ed3c9-93ee-4617-81a7-b462133f4488",
   "metadata": {},
   "source": [
    "## 메모리 지속성 테스트\n",
    "\n",
    "메모리 시스템이 올바르게 작동하는지 테스트하기 위해 여행 에이전트의 새 인스턴스를 생성하고 이전에 저장된 정보에 액세스할 수 있는지 확인해보겠습니다:"
   ]
  },
  {
   "cell_type": "code",
   "execution_count": null,
   "id": "8007b15a-2b00-4f07-aa7d-dfa8ba7b5b10",
   "metadata": {},
   "outputs": [],
   "source": [
    "time.sleep(60) # Let's give the memory some time to process the events..\n",
    "# Create a new instance of the travel agent\n",
    "new_travel_agent = Agent(\n",
    "    system_prompt=TRAVEL_AGENT_SYSTEM_PROMPT,\n",
    "    model=MODEL_ID,\n",
    "    tools=[flight_booking_assistant, hotel_booking_assistant]\n",
    ")\n",
    "\n",
    "# Ask about previous conversations\n",
    "new_travel_agent(\"Can you remind me about flight preferences?\")"
   ]
  },
  {
   "cell_type": "markdown",
   "id": "2fb6cdd1-5c11-4346-9c5a-93fb44c779ac",
   "metadata": {},
   "source": [
    "## 요약\n",
    "\n",
    "이 노트북에서 보여준 내용:\n",
    "\n",
    "1. 여러 에이전트를 위한 공유 메모리 리소스 생성 방법\n",
    "2. 메모리 액세스를 가진 도구로서 전문 에이전트 구현 방법\n",
    "3. 대화 컨텍스트를 유지하면서 여러 에이전트 간 조정 방법\n",
    "4. 다른 에이전트 인스턴스 간 메모리 지속 방법\n",
    "\n",
    "공유 메모리를 가진 이 멀티 에이전트 아키텍처는 일관된 사용자 경험을 유지하면서 전문 도메인을 처리할 수 있는 복잡한 대화형 AI 시스템을 구축하는 강력한 접근 방식을 제공합니다."
   ]
  },
  {
   "cell_type": "markdown",
   "id": "18852f04-e06e-4787-9c4f-3d2d2ba8563b",
   "metadata": {},
   "source": [
    "## 정리\n",
    "이 노트북에서 사용한 리소스를 정리하기 위해 메모리를 삭제해보겠습니다."
   ]
  },
  {
   "cell_type": "code",
   "execution_count": null,
   "id": "3d4577ee-3a79-4a44-abde-86391e98e4bb",
   "metadata": {},
   "outputs": [],
   "source": [
    "# client.delete_memory_and_wait(\n",
    "#        memory_id = memory_id,\n",
    "#        max_wait = 300,\n",
    "#        poll_interval =10\n",
    "#)"
   ]
  }
 ],
 "metadata": {
  "kernelspec": {
   "display_name": "conda_python3",
   "language": "python",
   "name": "conda_python3"
  },
  "language_info": {
   "codemirror_mode": {
    "name": "ipython",
    "version": 3
   },
   "file_extension": ".py",
   "mimetype": "text/x-python",
   "name": "python",
   "nbconvert_exporter": "python",
   "pygments_lexer": "ipython3",
   "version": "3.10.18"
  }
 },
 "nbformat": 4,
 "nbformat_minor": 5
}
