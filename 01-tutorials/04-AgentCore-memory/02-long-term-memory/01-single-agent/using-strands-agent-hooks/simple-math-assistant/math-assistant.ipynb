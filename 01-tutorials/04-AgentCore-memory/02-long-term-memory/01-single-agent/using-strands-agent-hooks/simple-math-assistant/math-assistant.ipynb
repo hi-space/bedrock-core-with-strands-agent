{
 "cells": [
  {
   "cell_type": "markdown",
   "id": "overview",
   "metadata": {},
   "source": [
    "# 훅을 사용한 Strands Agent와 AgentCore Memory 튜토리얼\n",
    "\n",
    "## 개요\n",
    "\n",
    "이 튜토리얼은 훅을 통해 AgentCore Memory와 통합된 Strands agents를 사용하여 지능형 개인 비서를 구축하는 방법을 보여줍니다. 에이전트는 대화 컨텍스트를 유지하고 상호작용에서 학습하여 개인화된 응답을 제공합니다.\n",
    "\n",
    "## 튜토리얼 세부사항\n",
    "\n",
    "**사용 사례**: 수학 비서\n",
    "\n",
    "| 정보                | 세부사항                                                                          |\n",
    "|:--------------------|:---------------------------------------------------------------------------------|\n",
    "| 튜토리얼 유형        | 장기 대화형                                                                         |\n",
    "| 에이전트 유형        | 수학 비서                                                                         |\n",
    "| 에이전트 프레임워크   | Strands Agents                                                                   |\n",
    "| LLM 모델            | Anthropic Claude Sonnet 3.7                                                      |\n",
    "| 튜토리얼 구성요소     | 메모리를 위한 AgentCore 요약 전략, 메모리 저장 및 검색을 위한 훅   |\n",
    "| 예제 복잡도          | 중급                                                                             |\n",
    "\n",
    "\n",
    "배울 내용:\n",
    "- 대화 요약으로 AgentCore Memory 설정\n",
    "- 자동 저장 및 검색을 위한 메모리 훅 생성\n",
    "- 지속적인 메모리를 가진 Strands 에이전트 구축\n",
    "- 대화 간 메모리 기능 테스트\n",
    "\n",
    "### 시나리오 컨텍스트\n",
    "\n",
    "이 예제에서는 이전 대화의 요약을 저장하는 수학 비서 예제를 만들어보겠습니다. \n",
    "이 예제의 주요 기능:\n",
    "- **자동 메모리 저장**: 대화가 자동으로 저장됨\n",
    "- **컨텍스트 검색**: 이전 대화가 현재 응답에 정보 제공\n",
    "- **요약 생성**: 주요 정보가 추출되고 요약됨\n",
    "- **도구 통합**: 수학 연산을 위한 계산기 도구\n",
    "\n",
    "## 아키텍처\n",
    "<div style=\"text-align:left\">\n",
    "    <img src=\"architecture.png\" width=\"65%\" />\n",
    "</div>\n",
    "\n",
    "\n",
    "## 전제조건\n",
    "\n",
    "이 튜토리얼을 실행하려면 다음이 필요합니다:\n",
    "- Python 3.10+\n",
    "- Amazon Bedrock AgentCore Memory 권한이 있는 AWS 자격 증명\n",
    "- Amazon Bedrock AgentCore SDK"
   ]
  },
  {
   "cell_type": "markdown",
   "id": "917e6ed5-ca98-4a5a-a569-3a1ab68998e5",
   "metadata": {},
   "source": [
    "## 1단계: 환경 설정\n",
    "이 노트북이 작동하도록 필요한 모든 라이브러리를 가져오고 클라이언트를 정의하는 것부터 시작해보겠습니다."
   ]
  },
  {
   "cell_type": "code",
   "execution_count": null,
   "id": "404db75f-614e-4152-af9a-5b28afb56e33",
   "metadata": {},
   "outputs": [],
   "source": [
    "!pip install -qr requirements.txt"
   ]
  },
  {
   "cell_type": "code",
   "execution_count": null,
   "id": "0a2e1911-a9fa-4578-868b-a22bff8ab298",
   "metadata": {},
   "outputs": [],
   "source": [
    "from bedrock_agentcore.memory import MemoryClient\n",
    "from bedrock_agentcore.memory.constants import StrategyType"
   ]
  },
  {
   "cell_type": "code",
   "execution_count": null,
   "id": "imports",
   "metadata": {},
   "outputs": [],
   "source": [
    "import os\n",
    "import logging\n",
    "from strands import Agent\n",
    "from datetime import datetime\n",
    "from strands_tools import calculator\n",
    "from strands.hooks import AfterInvocationEvent, HookProvider, HookRegistry, MessageAddedEvent\n",
    "\n",
    "# Setup logging\n",
    "logging.basicConfig(level=logging.INFO, format=\"%(asctime)s - %(levelname)s - %(message)s\")\n",
    "logger = logging.getLogger(\"memory-tutorial\")\n",
    "\n",
    "# Configuration - replace with your values\n",
    "REGION = os.getenv('AWS_REGION', 'us-west-2')\n",
    "ROLE_ARN = \"<<INSERT-YOUR-IAM-ROLE>>\"\n",
    "ACTOR_ID = f\"actor-{datetime.now().strftime('%Y%m%d%H%M%S')}\"\n",
    "SESSION_ID = f\"tutorial-{datetime.now().strftime('%Y%m%d%H%M%S')}\""
   ]
  },
  {
   "cell_type": "markdown",
   "id": "step2-desc",
   "metadata": {},
   "source": [
    "## 2단계: 메모리 리소스 생성\n",
    "\n",
    "이 단계에서는 요약 전략을 가진 메모리 리소스를 생성합니다. 이 리소스는 대화 데이터를 저장하고 정리합니다. 우리가 정의하는 전략은 대화의 요약을 자동으로 생성하고 정리된 네임스페이스에 저장합니다.\n",
    "\n",
    "먼저 수학 비서를 위한 사용자 정의 프롬프트를 만들어보겠습니다.\n"
   ]
  },
  {
   "cell_type": "code",
   "execution_count": null,
   "id": "a5315e29",
   "metadata": {},
   "outputs": [],
   "source": [
    "CUSTOM_PROMPT = \"\"\"\n",
    "Your task is to extract math learning data from the user's conversations. You store the progress of the user in a memory system to understand their math level and help them progress.\n",
    "\n",
    "You are tasked with analyzing conversations to extract the user's math learning patterns. You'll be analyzing two sets of data: \n",
    "\n",
    "<past_conversation> \n",
    "[Past conversations between the user and math tutor will be placed here for context] \n",
    "</past_conversation> \n",
    "\n",
    "<current_conversation> \n",
    "[The current conversation between the user and math tutor will be placed here] \n",
    "</current_conversation> \n",
    "\n",
    "Your job is to identify and categorize the user's math learning profile:\n",
    "- Extract the user's current math level from problems they solve correctly/incorrectly\n",
    "- Extract the user's preferred learning style from how they ask questions and respond to explanations\n",
    "- Extract topic strengths and weaknesses from their performance patterns\n",
    "- Track learning progress and identify areas needing reinforcement\n",
    "\"\"\""
   ]
  },
  {
   "cell_type": "code",
   "execution_count": null,
   "id": "create_memory",
   "metadata": {},
   "outputs": [],
   "source": [
    "from botocore.exceptions import ClientError\n",
    "\n",
    "# Initialize Memory Client\n",
    "client = MemoryClient(region_name=REGION)\n",
    "memory_name = \"MathAssistant\"\n",
    "# Define memory strategy for conversation summaries\n",
    "strategies = [\n",
    "    {\n",
    "        StrategyType.CUSTOM.value: {\n",
    "            \"name\": \"CustomSemanticMemory\",\n",
    "            \"description\": \"Captures facts from conversations\",\n",
    "            \"namespaces\": [\"/students/math/{actorId}\"],\n",
    "            \"configuration\" : {\n",
    "                \"semanticOverride\" : {\n",
    "                    \"extraction\" : {\n",
    "                        \"modelId\" : \"us.anthropic.claude-3-7-sonnet-20250219-v1:0\",\n",
    "                        \"appendToPrompt\": CUSTOM_PROMPT\n",
    "                    }\n",
    "                },\n",
    "    }}}\n",
    "]\n",
    "\n",
    "# Create memory resource\n",
    "try:\n",
    "    memory = client.create_memory_and_wait(\n",
    "        name=memory_name,\n",
    "        strategies=strategies, # Use the defined long term strategies\n",
    "        description=\"Memory for tutorial agent\",\n",
    "        event_expiry_days=30,\n",
    "        memory_execution_role_arn=ROLE_ARN,\n",
    "    )\n",
    "    memory_id = memory['id']\n",
    "    logger.info(f\"✅ Created memory: {memory_id}\")\n",
    "except ClientError as e:\n",
    "    if e.response['Error']['Code'] == 'ValidationException' and \"already exists\" in str(e):\n",
    "        # If memory already exists, retrieve its ID\n",
    "        memories = client.list_memories()\n",
    "        memory_id = next((m['id'] for m in memories if m['id'].startswith(memory_name)), None)\n",
    "        logger.info(f\"Memory already exists. Using existing memory ID: {memory_id}\")\n",
    "except Exception as e:\n",
    "    # Handle any errors during memory creation\n",
    "    logger.info(f\"❌ ERROR: {e}\")\n",
    "    import traceback\n",
    "    traceback.print_exc()\n",
    "    # Cleanup on error - delete the memory if it was partially created\n",
    "    if memory_id:\n",
    "        try:\n",
    "            client.delete_memory_and_wait(memory_id=memory_id)\n",
    "            logger.info(f\"Cleaned up memory: {memory_id}\")\n",
    "        except Exception as cleanup_error:\n",
    "            logger.info(f\"Failed to clean up memory: {cleanup_error}\")"
   ]
  },
  {
   "cell_type": "markdown",
   "id": "step3-desc",
   "metadata": {},
   "source": [
    "## 3단계: 메모리 훅 프로바이더 생성\n",
    "\n",
    "이 단계에서는 메모리 작업을 자동화하는 사용자 정의 `MemoryHookProvider` 클래스를 정의합니다. 훅은 에이전트의 실행 생명주기의 특정 지점에서 실행되는 특수 함수입니다. 우리가 만드는 메모리 훅은 두 가지 주요 기능을 제공합니다:\n",
    "\n",
    "1. **메모리 검색**: 사용자가 메시지를 보낼 때 관련된 과거 대화를 자동으로 가져옴\n",
    "2. **메모리 저장**: 에이전트가 응답한 후 새로운 대화를 저장\n",
    "\n",
    "이는 수동 관리 없이 원활한 메모리 경험을 만들어줍니다."
   ]
  },
  {
   "cell_type": "code",
   "execution_count": null,
   "id": "memory_hooks",
   "metadata": {},
   "outputs": [],
   "source": [
    "class MemoryHookProvider(HookProvider):\n",
    "    \"\"\"Hook provider for automatic memory management\"\"\"\n",
    "    \n",
    "    def __init__(self, memory_id: str, client: MemoryClient, actor_id: str, session_id: str):\n",
    "        self.memory_id = memory_id\n",
    "        self.client = client\n",
    "        self.actor_id = actor_id\n",
    "        self.session_id = session_id\n",
    "        self.namespace = f\"/students/math/{self.actor_id}\"\n",
    "    \n",
    "    def retrieve_memories(self, event: MessageAddedEvent):\n",
    "        \"\"\"Retrieve relevant memories before processing user message\"\"\"\n",
    "        messages = event.agent.messages\n",
    "        if messages[-1][\"role\"] == \"user\" and \"toolResult\" not in messages[-1][\"content\"][0]:\n",
    "            user_message = messages[-1][\"content\"][0].get(\"text\", \"\")\n",
    "            \n",
    "            try:\n",
    "                # Retrieve relevant memories\n",
    "                memories = self.client.retrieve_memories(\n",
    "                    memory_id=self.memory_id,\n",
    "                    namespace=self.namespace,\n",
    "                    query=user_message\n",
    "                )\n",
    "                \n",
    "                # Extract memory content\n",
    "                memory_context = []\n",
    "                for memory in memories:\n",
    "                    if isinstance(memory, dict):\n",
    "                        content = memory.get('content', {})\n",
    "                        if isinstance(content, dict):\n",
    "                            text = content.get('text', '').strip()\n",
    "                            if text:\n",
    "                                memory_context.append(text)\n",
    "                \n",
    "                # Inject memories into user message\n",
    "                if memory_context:\n",
    "                    context_text = \"\\n\".join(memory_context)\n",
    "                    original_text = messages[-1][\"content\"][0].get(\"text\", \"\")\n",
    "                    messages[-1][\"content\"][0][\"text\"] = (\n",
    "                        f\"{original_text}\\n\\nPrevious context: {context_text}\"\n",
    "                    )\n",
    "                    logger.info(f\"Retrieved {len(memory_context)} memories\")\n",
    "                    \n",
    "            except Exception as e:\n",
    "                logger.error(f\"Failed to retrieve memories: {e}\")\n",
    "    \n",
    "    def save_memories(self, event: AfterInvocationEvent):\n",
    "        \"\"\"Save conversation after agent response\"\"\"\n",
    "        try:\n",
    "            messages = event.agent.messages\n",
    "            if len(messages) >= 2 and messages[-1][\"role\"] == \"assistant\":\n",
    "                # Get last user and assistant messages\n",
    "                user_msg = None\n",
    "                assistant_msg = None\n",
    "                \n",
    "                for msg in reversed(messages):\n",
    "                    if msg[\"role\"] == \"assistant\" and not assistant_msg:\n",
    "                        assistant_msg = msg[\"content\"][0][\"text\"]\n",
    "                    elif msg[\"role\"] == \"user\" and not user_msg and \"toolResult\" not in msg[\"content\"][0]:\n",
    "                        user_msg = msg[\"content\"][0][\"text\"]\n",
    "                        break\n",
    "                \n",
    "                if user_msg and assistant_msg:\n",
    "                    # Save conversation\n",
    "                    self.client.create_event(\n",
    "                        memory_id=self.memory_id,\n",
    "                        actor_id=self.actor_id,\n",
    "                        session_id=self.session_id,\n",
    "                        messages=[(user_msg, \"USER\"), (assistant_msg, \"ASSISTANT\")]\n",
    "                    )\n",
    "                    logger.info(\"Saved conversation to memory\")\n",
    "                    \n",
    "        except Exception as e:\n",
    "            logger.error(f\"Failed to save memories: {e}\")\n",
    "    \n",
    "    def register_hooks(self, registry: HookRegistry) -> None:\n",
    "        \"\"\"Register memory hooks\"\"\"\n",
    "        registry.add_callback(MessageAddedEvent, self.retrieve_memories)\n",
    "        registry.add_callback(AfterInvocationEvent, self.save_memories)\n",
    "        logger.info(\"Memory hooks registered\")"
   ]
  },
  {
   "cell_type": "markdown",
   "id": "step4-desc",
   "metadata": {},
   "source": [
    "## 4단계: 메모리를 가진 에이전트 생성\n",
    "\n",
    "이제 Strands 에이전트를 생성하고 메모리 훅 프로바이더와 연결합니다. 이 에이전트는 두 가지 주요 기능을 가집니다:\n",
    "\n",
    "1. **메모리 통합**: 우리가 만든 메모리 훅이 자동 컨텍스트 검색을 가능하게 함\n",
    "2. **계산기 도구**: 에이전트가 필요할 때 수학 연산을 수행할 수 있음\n",
    "\n",
    "이 조합은 과거 상호작용을 기억하고 유용한 계산을 수행할 수 있는 개인 비서를 만들어줍니다."
   ]
  },
  {
   "cell_type": "code",
   "execution_count": null,
   "id": "create_agent",
   "metadata": {},
   "outputs": [],
   "source": [
    "# Create memory hook provider\n",
    "memory_hooks = MemoryHookProvider(\n",
    "    memory_id=memory_id,\n",
    "    client=client,\n",
    "    actor_id=ACTOR_ID,\n",
    "    session_id=SESSION_ID\n",
    ")\n",
    "\n",
    "# Create agent with memory hooks and calculator tool\n",
    "agent = Agent(\n",
    "    hooks=[memory_hooks],\n",
    "    model = \"us.anthropic.claude-3-7-sonnet-20250219-v1:0\",\n",
    "    tools=[calculator],\n",
    "    system_prompt=\"You are a helpful personal math tutor. You assist users in solving math problems and provide personalized assistance.\"\n",
    ")\n",
    "\n",
    "print(\"✅ Agent created with memory hooks.\")"
   ]
  },
  {
   "cell_type": "markdown",
   "id": "step5-desc",
   "metadata": {},
   "source": [
    "**에이전트 설정이 완료되었습니다! 이제 테스트해보겠습니다.**\n",
    "\n",
    "## 메모리 기능 테스트\n",
    "\n",
    "이 섹션에서는 일련의 상호작용을 통해 에이전트의 메모리 기능을 테스트합니다. 에이전트가 시간이 지나면서 컨텍스트를 구축하고 이전 상호작용을 회상하는 방법을 관찰합니다.\n",
    "\n",
    "먼저 에이전트에게 자기소개를 하고 수학 질문을 해보겠습니다:"
   ]
  },
  {
   "cell_type": "code",
   "execution_count": null,
   "id": "test1",
   "metadata": {},
   "outputs": [],
   "source": [
    "# First interaction - introduce yourself\n",
    "response1 = agent(\"Hi, I'm John and I just enrolled in Discrete Math course. Help me solve this: How many ways can I arrange 5 books on a shelf?\")\n",
    "print(f\"Agent: {response1}\")"
   ]
  },
  {
   "cell_type": "markdown",
   "id": "test3-desc",
   "metadata": {},
   "source": [
    "에이전트에게 다른 계산 작업을 주어보겠습니다:"
   ]
  },
  {
   "cell_type": "code",
   "execution_count": null,
   "id": "test3",
   "metadata": {},
   "outputs": [],
   "source": [
    "# Second interaction - another calculation\n",
    "response2 = agent(\"I learn better with step-by-step explanation with example questions. Can you explain modular arithmetic? What's 17 mod 5?\")\n",
    "print(f\"Agent: {response2}\")"
   ]
  },
  {
   "cell_type": "markdown",
   "id": "test2-desc",
   "metadata": {},
   "source": [
    "이제 에이전트가 우리가 누구인지 기억하는지 확인해보겠습니다.\n",
    "\n",
    "**참고:** 메모리가 추출, 통합 및 저장될 시간을 주기 위해 약 20초 정도 일시 정지해주세요."
   ]
  },
  {
   "cell_type": "code",
   "execution_count": null,
   "id": "test2",
   "metadata": {},
   "outputs": [],
   "source": [
    "# Third interaction - test memory recall\n",
    "response3 = agent(\"I got that right! What's the immediate next step that I should study after modular arithmetic?\")\n",
    "print(f\"Agent: {response3}\")"
   ]
  },
  {
   "cell_type": "markdown",
   "id": "test4-desc",
   "metadata": {},
   "source": [
    "마지막으로 에이전트가 우리의 계산 기록을 기억하는지 확인해보겠습니다:"
   ]
  },
  {
   "cell_type": "code",
   "execution_count": null,
   "id": "test4",
   "metadata": {},
   "outputs": [],
   "source": [
    "# Fourth interaction - test context awareness\n",
    "response4 = agent(\"This is too hard, can we try something easier?\")\n",
    "print(f\"Agent: {response4}\")"
   ]
  },
  {
   "cell_type": "markdown",
   "id": "step6-desc",
   "metadata": {},
   "source": [
    "### 메모리 저장 확인\n",
    "\n",
    "마지막 단계로, 대화가 AgentCore Memory에 제대로 저장되었는지 확인합니다. 이는 메모리 훅이 올바르게 작동하고 에이전트가 향후 상호작용에서 이 정보에 액세스할 수 있음을 보여줍니다."
   ]
  },
  {
   "cell_type": "code",
   "execution_count": null,
   "id": "verify_memory",
   "metadata": {},
   "outputs": [],
   "source": [
    "# Check stored memories\n",
    "try:\n",
    "    memories = client.retrieve_memories(\n",
    "        memory_id=memory_id,\n",
    "        namespace=f\"/students/math/{ACTOR_ID}\",\n",
    "        query=\"mathematics calculations\"\n",
    "    )\n",
    "    \n",
    "    print(f\"\\n📚 Found {len(memories)} memories:\")\n",
    "    for i, memory in enumerate(memories, 1):\n",
    "        if isinstance(memory, dict):\n",
    "            content = memory.get('content', {})\n",
    "            if isinstance(content, dict):\n",
    "                text = content.get('text', '')[:200] + \"...\"\n",
    "                print(f\"{i}. {text}\")\n",
    "                \n",
    "except Exception as e:\n",
    "    print(f\"Error retrieving memories: {e}\")"
   ]
  },
  {
   "cell_type": "markdown",
   "id": "d0822184",
   "metadata": {},
   "source": [
    "튜토리얼 완료! 🎉\n",
    "\n",
    "주요 요점:\n",
    "- 메모리 훅이 대화 컨텍스트를 자동으로 저장하고 검색\n",
    "- 에이전트가 여러 상호작용 간 상태를 유지할 수 있음\n",
    "- AgentCore Memory가 관련 컨텍스트에 대한 시맨틱 검색 제공\n",
    "- 도구를 메모리와 결합하여 향상된 기능 제공 가능"
   ]
  },
  {
   "cell_type": "markdown",
   "id": "cleanup-desc",
   "metadata": {},
   "source": [
    "## 정리\n",
    "\n",
    "### 선택사항: 메모리 리소스 삭제\n",
    "\n",
    "튜토리얼을 완료한 후 불필요한 비용을 피하기 위해 메모리 리소스를 삭제할 수 있습니다. 다음 코드는 정리를 위해 제공되지만 기본적으로 주석 처리되어 있습니다."
   ]
  },
  {
   "cell_type": "code",
   "execution_count": null,
   "id": "cleanup_code",
   "metadata": {},
   "outputs": [],
   "source": [
    "# Uncomment to delete the memory resource\n",
    "# try:\n",
    "#     client.delete_memory_and_wait(memory_id=memory_id)\n",
    "#     print(f\"✅ Deleted memory resource: {memory_id}\")\n",
    "# except Exception as e:\n",
    "#     print(f\"Error deleting memory: {e}\")"
   ]
  }
 ],
 "metadata": {
  "kernelspec": {
   "display_name": ".venv2",
   "language": "python",
   "name": "python3"
  },
  "language_info": {
   "codemirror_mode": {
    "name": "ipython",
    "version": 3
   },
   "file_extension": ".py",
   "mimetype": "text/x-python",
   "name": "python",
   "nbconvert_exporter": "python",
   "pygments_lexer": "ipython3",
   "version": "3.13.3"
  }
 },
 "nbformat": 4,
 "nbformat_minor": 5
}
