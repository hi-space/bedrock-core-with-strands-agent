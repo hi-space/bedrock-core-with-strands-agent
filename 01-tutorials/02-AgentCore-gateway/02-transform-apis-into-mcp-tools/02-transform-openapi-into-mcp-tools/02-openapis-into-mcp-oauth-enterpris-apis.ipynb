{
 "cells": [
  {
   "cell_type": "markdown",
   "id": "4ba51a29-a566-4b5a-97f0-10e634567e40",
   "metadata": {
    "collapsed": true,
    "jupyter": {
     "outputs_hidden": true
    }
   },
   "source": [
    "# Bedrock AgentCore Gateway를 사용하여 OpenAPI API를 MCP 도구로 변환\n",
    "\n",
    "## 개요\n",
    "Bedrock AgentCore Gateway provides customers a way to turn their existing APIs into fully-managed MCP servers without needing to manage infra or hosting. Customers can bring OpenAPI spec in JSON or YAML. We will demonstrate a customer service agent using enterprise support apis secured by OAuth2.\n",
    "\n",
    "Gateway 워크플로우는 에이전트를 외부 도구에 연결하기 위해 다음 단계를 포함합니다:",
    "* **Gateway용 도구 생성** - REST API용 OpenAPI 사양과 같은 스키마를 사용하여 도구를 정의합니다. 그러면 OpenAPI 사양이 Amazon Bedrock AgentCore에 의해 파싱되어 Gateway를 생성합니다.\n",
    "* **Create a Gateway endpoint** - Create the gateway that will serve as the MCP entry point with inbound authentication.\n",
    "* **Add targets to your Gateway** - Configure the OpenAPI targets that define how the gateway routes requests to specific tools. All the APIs that part of OpenAPI file will become an MCP-compatible tool, and will be made available through your Gateway endpoint URL. Configure outbound authorization using Oauth for each OpenAPI Gateway target. \n",
    "* **Update your agent code** - Connect your agent to the Gateway endpoint to access all configured tools through the unified MCP interface.\n",
    "\n",
    "![작동 방식](images/openapis-oauth-gateway.png)\n",
    "\n",
    "### 튜토리얼 세부 정보\n",
    "\n",
    "\n",
    "| 정보                 | 세부 사항                                                 |\n",
    "|:---------------------|:----------------------------------------------------------|\n",
    "| 튜토리얼 유형           | 대화형                                                    |\n",
    "| AgentCore 구성 요소    | AgentCore Gateway, AgentCore Identity                     |\n",
    "| Agentic Framework    | Strands Agent                                             |\n",
    "| Gateway 대상 유형      | OpenAPI                                                   |\n",
    "| Agent                | Customer support agent                                    |\n",
    "| Inbound Auth IdP     | Okta                                                      |\n",
    "| 아웃바운드 인증        | OAuth                                                     |\n",
    "| LLM 모델             | Anthropic Claude Sonnet 3.7, Amazon Nova Pro              |\n",
    "| 튜토리얼 구성 요소      | AgentCore Gateway 생성 및 AgentCore Gateway 호출            |\n",
    "| 튜토리얼 분야          | 교차 분야                                                 |\n",
    "| 예제 복잡성           | 쉬움                                                      |\n",
    "| 사용된 SDK           | boto3                                                     |\n",
    "\n",
    "튜토리얼의 첫 번째 부분에서는 몇 가지 AmazonCore Gateway 대상을 생성할 것입니다\n",
    "\n",
    "### 튜토리얼 아키텍처\n",
    "이 튜토리얼에서는 OpenAPI yaml/json 파일에 정의된 작업을 MCP 도구로 변환하고 Bedrock AgentCore Gateway에서 호스팅할 것입니다.",
    "시연 목적으로 지원 티켓과 관련된 쿼리에 답변하는 고객 지원 에이전트를 구축할 것입니다. 에이전트는 Zendesk 지원 API의 OpenAPI를 사용합니다. 솔루션은 Amazon Bedrock 모델을 사용하는 Langchain 에이전트를 사용합니다"
   ]
  },
  {
   "cell_type": "markdown",
   "id": "5362e1ad-f027-4452-a8d9-0b861c0115c2",
   "metadata": {},
   "source": [
    "## 전제 조건\n",
    "\n",
    "이 튜토리얼을 실행하려면 다음이 필요합니다:\n",
    "* Jupyter notebook with Python 3.10+\n",
    "* uv\n",
    "* AWS 자격 증명\n",
    "* Okta\n",
    "    - client_id\n",
    "    - client_secret\n",
    "    - Your Okta domain (e.g., dev-123456.okta.com)\n",
    "    - An OAuth2 authorization server ID (often default)"
   ]
  },
  {
   "cell_type": "code",
   "execution_count": null,
   "id": "a17e1d70-9a76-42ce-b1ac-1c3a0bf4d12c",
   "metadata": {},
   "outputs": [],
   "source": [
    "# Make sure you download the latest botocore and boto3 libraries.\n",
    "import shutil\n",
    "import subprocess\n",
    "import sys\n",
    "\n",
    "def ensure_uv_installed():\n",
    "    if shutil.which(\"uv\") is None:\n",
    "        print(\"🔧 'uv' not found. Installing with pip...\")\n",
    "        subprocess.check_call([sys.executable, \"-m\", \"pip\", \"install\", \"uv\"])\n",
    "    else:\n",
    "        print(\"✅ 'uv' is already installed.\")\n",
    "\n",
    "def uv_install(*packages):\n",
    "    ensure_uv_installed()\n",
    "    uv_path = shutil.which(\"uv\")\n",
    "    print(f\"📦 Installing {', '.join(packages)} using uv...\")\n",
    "    subprocess.check_call([uv_path, \"pip\", \"install\", *packages])\n",
    "\n",
    "uv_install(\"botocore\", \"boto3\")"
   ]
  },
  {
   "cell_type": "code",
   "execution_count": null,
   "id": "a4e6248d-b740-418b-ae0d-c0a9623e43e1",
   "metadata": {},
   "outputs": [],
   "source": [
    "# Set AWS credentials if not using SageMaker notebooks\n",
    "import os\n",
    "os.environ['AWS_ACCESS_KEY_ID'] = ''\n",
    "os.environ['AWS_SECRET_ACCESS_KEY'] = ''\n",
    "os.environ['AWS_DEFAULT_REGION'] = 'us-east-1'"
   ]
  },
  {
   "cell_type": "code",
   "execution_count": null,
   "id": "64829bf6-fba1-4d02-8bbf-451fc5deecc8",
   "metadata": {},
   "outputs": [],
   "source": [
    "import os\n",
    "import sys\n",
    "\n",
    "# 현재 스크립트의 디렉토리 가져오기",
    "if '__file__' in globals():\n",
    "    current_dir = os.path.dirname(os.path.abspath(__file__))\n",
    "else:\n",
    "    current_dir = os.getcwd()  # __file__이 정의되지 않은 경우의 대안 (예: Jupyter)\n",
    "\n",
    "# utils.py가 포함된 디렉토리로 이동 (한 단계 위)",
    "utils_dir = os.path.abspath(os.path.join(current_dir, '../..'))\n",
    "\n",
    "# sys.path에 추가",
    "sys.path.insert(0, utils_dir)\n",
    "\n",
    "# 이제 utils를 가져올 수 있습니다",
    "import utils"
   ]
  },
  {
   "cell_type": "code",
   "execution_count": null,
   "id": "10518aa1-3ac3-4610-a0cc-39c9c2eafe2c",
   "metadata": {},
   "outputs": [],
   "source": [
    "#### Gateway가 맡을 IAM 역할 생성",
    "import utils\n",
    "\n",
    "agentcore_gateway_iam_role = utils.create_agentcore_gateway_role(\"sample-lambdagateway\")\n",
    "print(\"Agentcore 게이트웨이 역할 ARN: \", agentcore_gateway_iam_role['Role']['Arn'])"
   ]
  },
  {
   "cell_type": "markdown",
   "id": "65120594-c3ec-4d51-810b-8d478851d8d2",
   "metadata": {},
   "source": [
    "# Configuring Okta for Inbound authorization to Gateway\n",
    "\n",
    "Below are the steps for creating Okta OAuth authorizer -\n",
    "\n",
    "* Follow instructions [here](https://developer.okta.com/docs/guides/implement-grant-type/clientcreds/main/) and create Application with client credentials grant type. If you have a Okta subscription, you can log-in to your Admin console and follow the steps outlined [here](https://developer.okta.com/docs/guides/implement-grant-type/clientcreds/main/). If you do not have Okta subscription, you will need to sign-up for a free trial.\n",
    "* Go to Admin -> Applications -> Create a client with secret. Disable Require Demonstrating Proof of Possession (DPoP) header in token requests\n",
    "* Go to Okta Admin -> Security -> API. Use the default Authorization Server and modify with additional scopes (i.e. InvokeGateway). You can optionally add Access policies and claims\n",
    "* Define a Custom Scope. Click on your authorization server name, Go to the Scopes tab, Click “Add Scope”\n",
    "* Once configured, you will need the Metadata URI for your default Authorization Server (a.k.a Discovery URI) and ClientID/Secret to configure the custom JWT Authorizer for creating the Gateway as shown below"
   ]
  },
  {
   "cell_type": "markdown",
   "id": "f1a63450-7fb9-42fc-ab4f-3d86c27bb2f8",
   "metadata": {},
   "source": [
    "# Create the Gateway with Okta authorizer for inbound authorization"
   ]
  },
  {
   "cell_type": "code",
   "execution_count": null,
   "id": "72f2cd57-7777-42d3-b6f3-c45ed0a935c4",
   "metadata": {},
   "outputs": [],
   "source": [
    "import boto3\n",
    "from pprint import pprint\n",
    "gateway_client = boto3.client('bedrock-agentcore-control', region_name = os.environ['AWS_DEFAULT_REGION'])\n",
    "\n",
    "OKTA_DISCOVERY_URL=\"https://<YOUR OKTA DOMAIN>/oauth2/<Your app>/.well-known/openid-configuration\"\n",
    "OKTA_AUDIENCE=\"<Your audience>\" # e.g. MCPGateway. It should match with your configuration in Okta\n",
    "\n",
    "auth_config = {\n",
    "        \"customJWTAuthorizer\": {\n",
    "            \"allowedAudience\": [OKTA_AUDIENCE],\n",
    "            \"discoveryUrl\": OKTA_DISCOVERY_URL\n",
    "        }\n",
    "}\n",
    "create_response = gateway_client.create_gateway(name='OpenAPIOktaGwy2',\n",
    "    roleArn = agentcore_gateway_iam_role['Role']['Arn'], # IAM 역할은 Gateway를 생성/나열/가져오기/삭제할 권한이 있어야 합니다 \n",
    "    protocolType='MCP',\n",
    "    authorizerType='CUSTOM_JWT',\n",
    "    authorizerConfiguration=auth_config, \n",
    "    description='AgentCore Gateway created from sdk with Okta Authorizer'\n",
    ")\n",
    "pprint(create_response)\n",
    "# GatewayTarget 생성에 사용되는 GatewayID 검색",
    "gatewayID = create_response[\"gatewayId\"]\n",
    "gatewayURL = create_response[\"gatewayUrl\"]"
   ]
  },
  {
   "cell_type": "markdown",
   "id": "1345c920-3921-40c7-9c00-110e8d02184b",
   "metadata": {},
   "source": [
    "# Transforming Zendesk support APIs into MCP tools using Bedrock AgentCore Gateway"
   ]
  },
  {
   "cell_type": "markdown",
   "id": "8ea26177-4637-4b1f-82bd-6d65bfe8dc85",
   "metadata": {},
   "source": [
    "### Create outbound auth credentials provider"
   ]
  },
  {
   "cell_type": "code",
   "execution_count": null,
   "id": "64caa620-02ec-424a-a8b9-eb00b39289bf",
   "metadata": {},
   "outputs": [],
   "source": [
    "from botocore.config import Config\n",
    "ZENDESK_DOMAIN=\"<Zendek domain url>\"\n",
    "ZENDESK_AUTH_ENDPOINT=\"https://<Zendeskl-domain>/oauth/authorizations/new\"\n",
    "ZENDESK_TOKEN_ENDPOINT=\"https://<Zendesk-domain>/oauth/tokens\"\n",
    "ZENDESK_CLIENT_ID=\"\" # Your Zendesk OAuth client -  client id \n",
    "ZENDESK_SECRET=\"\"  # Your Zendesk OAuth client -  client id \n",
    "\n",
    "sdk_config = Config(\n",
    "    region_name=os.environ['AWS_DEFAULT_REGION'],\n",
    "    retries={\"max_attempts\": 2, \"mode\": \"standard\"},\n",
    ")\n",
    "\n",
    "acps = boto3.client(\n",
    "    service_name=\"bedrock-agentcore-control\",\n",
    "    config=sdk_config,\n",
    ")\n",
    "\n",
    "provider_config= {\n",
    "    \"customOauth2ProviderConfig\": {\n",
    "         \"oauthDiscovery\": {\n",
    "             \"authorizationServerMetadata\": {\n",
    "                 \"issuer\": ZENDESK_DOMAIN,\n",
    "                 \"authorizationEndpoint\": ZENDESK_AUTH_ENDPOINT,\n",
    "                 \"tokenEndpoint\": ZENDESK_TOKEN_ENDPOINT,\n",
    "                 \"responseTypes\": [\"token\"]\n",
    "             }\n",
    "         },\n",
    "         \"clientId\": ZENDESK_CLIENT_ID,\n",
    "         \"clientSecret\": ZENDESK_SECRET\n",
    "     }\n",
    " }\n",
    "\n",
    "response = acps.create_oauth2_credential_provider(\n",
    "    name=\"ZendeskOAuthTokenCfg\", \n",
    "    credentialProviderVendor=\"CustomOauth2\", \n",
    "    oauth2ProviderConfigInput=provider_config\n",
    ")\n",
    "\n",
    "pprint(response)\n",
    "credentialProviderARN = response['credentialProviderArn']\n",
    "pprint(f\"Egress Credentials provider ARN, {credentialProviderARN}\")"
   ]
  },
  {
   "cell_type": "markdown",
   "id": "510b092f-be1d-4b31-abb7-1fb8cab887ef",
   "metadata": {},
   "source": [
    "### Create an OpenAPI target "
   ]
  },
  {
   "cell_type": "markdown",
   "id": "c1cb1835-5aaf-471d-ac28-6f5fe78caf5a",
   "metadata": {},
   "source": [
    "#### Upload the Zendesk support OpenAPI yaml file in S3"
   ]
  },
  {
   "cell_type": "code",
   "execution_count": null,
   "id": "a105be4e-ae05-4981-a609-01d410f66023",
   "metadata": {},
   "outputs": [],
   "source": [
    "# Create an S3 client\n",
    "session = boto3.session.Session()\n",
    "s3_client = session.client('s3')\n",
    "sts_client = session.client('sts')\n",
    "\n",
    "# Retrieve AWS account ID and region\n",
    "account_id = sts_client.get_caller_identity()[\"Account\"]\n",
    "region = session.region_name\n",
    "# Define parameters\n",
    "bucket_name = '' # Your s3 bucket to upload the OpenAPI json file.\n",
    "file_path = 'openapi-specs/Zendesk-support-apis.yaml'\n",
    "object_key = 'Zendesk-support-apis.yaml'\n",
    "# Upload the file using put_object and read response\n",
    "try:\n",
    "    with open(file_path, 'rb') as file_data:\n",
    "        response = s3_client.put_object(Bucket=bucket_name, Key=object_key, Body=file_data)\n",
    "\n",
    "    # Construct the ARN of the uploaded object with account ID and region\n",
    "    openapi_s3_uri = f's3://{bucket_name}/{object_key}'\n",
    "    print(f'Uploaded object S3 URI: {openapi_s3_uri}')\n",
    "except Exception as e:\n",
    "    print(f'Error uploading file: {e}')"
   ]
  },
  {
   "cell_type": "markdown",
   "id": "715f371d-3118-4c7f-bb23-c90ab09e4284",
   "metadata": {},
   "source": [
    "#### Create the gateway target"
   ]
  },
  {
   "cell_type": "markdown",
   "id": "65c74344-bcea-48be-8a47-86c6d05be7c0",
   "metadata": {},
   "source": [
    "Make sure server URL in the OpenAPI file is pointing to your own endpoint URL. Gateway reads the server URL from the OpenAPI file and calls the endpoint. Before uploading it to s3, please make sure you do this change."
   ]
  },
  {
   "cell_type": "code",
   "execution_count": null,
   "id": "629945ac-d1c3-49ae-92f7-4b0e0ef6d2c8",
   "metadata": {},
   "outputs": [],
   "source": [
    "# S3 Uri for OpenAPI spec file\n",
    "openapi_s3_target_config = {\n",
    "    \"mcp\": {\n",
    "          \"openApiSchema\": {\n",
    "              \"s3\": {\n",
    "                  \"uri\": openapi_s3_uri\n",
    "              }\n",
    "          }\n",
    "      }\n",
    "}\n",
    "\n",
    "credential_config = [\n",
    "    {\n",
    "        \"credentialProviderType\" : \"OAUTH\",\n",
    "        \"credentialProvider\": {\n",
    "            \"oauthCredentialProvider\": {\n",
    "                \"providerArn\": credentialProviderARN, \n",
    "                \"scopes\": [\"tickets:read\", \"read\", \"tickets:write\", \"write\"] \n",
    "            }\n",
    "        }\n",
    "    }\n",
    "  ]\n",
    "\n",
    "target_name=\"DemoOpenAPIGW\"\n",
    "response = gateway_client.create_gateway_target(\n",
    "    gatewayIdentifier=gatewayID,\n",
    "    name=target_name,\n",
    "    description='OpenAPI Target with S3Uri using SDK',\n",
    "    targetConfiguration=openapi_s3_target_config,\n",
    "    credentialProviderConfigurations=credential_config)\n",
    "\n",
    "# Printing the request ID and timestamp for you to report the defects. Please include them while reporting issues/defects  \n",
    "response_metadata = response['ResponseMetadata']"
   ]
  },
  {
   "cell_type": "markdown",
   "id": "d3ac6532-5299-4024-917d-bcd60caea6ed",
   "metadata": {},
   "source": [
    "# Strands Agent에서 Bedrock AgentCore Gateway 호출\n",
    "\n",
    "Strands 에이전트는 Model Context Protocol(MCP) 사양을 구현하는 Bedrock AgentCore Gateway를 통해 AWS 도구와 원활하게 통합됩니다. 이 통합은 AI 에이전트와 AWS 서비스 간의 안전하고 표준화된 통신을 가능하게 합니다.\n",
    "\n",
    "핵심적으로 Bedrock AgentCore Gateway는 기본적인 MCP API인 ListTools와 InvokeTools를 노출하는 프로토콜 준수 Gateway 역할을 합니다. 이러한 API를 통해 MCP 호환 클라이언트나 SDK는 안전하고 표준화된 방식으로 사용 가능한 도구를 발견하고 상호 작용할 수 있습니다. Strands 에이전트가 AWS 서비스에 액세스해야 할 때 이러한 MCP 표준화된 엔드포인트를 사용하여 Gateway와 통신합니다.\n",
    "\n",
    "Gateway의 구현은 (MCP 권한 부여 사양)[https://modelcontextprotocol.org/specification/draft/basic/authorization]을 엄격히 준수하여 강력한 보안과 액세스 제어를 보장합니다. 이는 Strands 에이전트의 모든 도구 호출이 권한 부여 단계를 거치므로 강력한 기능을 활성화하면서 보안을 유지한다는 것을 의미합니다.\n",
    "\n",
    "예를 들어, Strands 에이전트가 MCP 도구에 액세스해야 할 때 먼저 ListTools를 호출하여 사용 가능한 도구를 발견한 다음 InvokeTools를 사용하여 특정 작업을 실행합니다. Gateway는 필요한 모든 보안 검증, 프로토콜 변환 및 서비스 상호 작용을 처리하여 전체 프로세스를 원활하고 안전하게 만듭니다.\n",
    "\n",
    "이러한 아키텍처 접근 방식은 MCP 사양을 구현하는 모든 클라이언트나 SDK가 Gateway를 통해 AWS 서비스와 상호 작용할 수 있음을 의미하며, AI 에이전트 통합을 위한 다재다능하고 미래 지향적인 솔루션이 됩니다."
   ]
  },
  {
   "cell_type": "code",
   "execution_count": null,
   "id": "3e3a7c36-d910-4651-9f1e-e2b5f605440a",
   "metadata": {},
   "outputs": [],
   "source": [
    "uv_install(\"mcp[cli]\", \"strands-agents\")"
   ]
  },
  {
   "cell_type": "markdown",
   "id": "873031fe-62b5-4196-91be-500c1f87dfd4",
   "metadata": {},
   "source": [
    "# Request the access token from Okta for inbound authorization"
   ]
  },
  {
   "cell_type": "code",
   "execution_count": null,
   "id": "3ed1d1d6-e84c-4286-bf25-3ad6a49723b9",
   "metadata": {},
   "outputs": [],
   "source": [
    "print(\"Requesting the access token from Okta authorizer\")\n",
    "import requests\n",
    "from requests.auth import HTTPBasicAuth\n",
    "\n",
    "# Replace with your actual values\n",
    "OKTA_DOMAIN = \"Your Okta domain URL\"\n",
    "AUTH_SERVER_ID = \"Okta app id\"\n",
    "CLIENT_ID = \"<Okta client credentials client id>\"\n",
    "CLIENT_SECRET = \"<Okta client credentials secret>\"\n",
    "\n",
    "TOKEN_URL = f\"{OKTA_DOMAIN}/oauth2/{AUTH_SERVER_ID}/v1/token\"\n",
    "\n",
    "response = requests.post(\n",
    "    TOKEN_URL,\n",
    "    auth=HTTPBasicAuth(CLIENT_ID, CLIENT_SECRET),\n",
    "    headers={\"Content-Type\": \"application/x-www-form-urlencoded\"},\n",
    "    data={\"grant_type\": \"client_credentials\", \"scope\": \"InvokeGateway\"}\n",
    ")\n",
    "\n",
    "if response.status_code == 200:\n",
    "    token = response.json()[\"access_token\"]\n",
    "    print(\"Access Token:\", token)\n",
    "else:\n",
    "    print(\"Failed to get token:\", response.status_code, response.text)"
   ]
  },
  {
   "cell_type": "markdown",
   "id": "6fd0379d-9576-43cb-aa9b-72b86c43b472",
   "metadata": {},
   "source": [
    "# Ask customer support agent with Zendesk support APIs using Bedrock AgentCore Gateway"
   ]
  },
  {
   "cell_type": "code",
   "execution_count": null,
   "id": "be4b39c4-7387-4ce8-b728-f2347fbdaa36",
   "metadata": {},
   "outputs": [],
   "source": [
    "from strands.models import BedrockModel\n",
    "from mcp.client.streamable_http import streamablehttp_client \n",
    "from strands.tools.mcp.mcp_client import MCPClient\n",
    "from strands import Agent\n",
    "\n",
    "def create_streamable_http_transport():\n",
    "    return streamablehttp_client(gatewayURL,headers={\"Authorization\": f\"Bearer {token}\"})\n",
    "\n",
    "client = MCPClient(create_streamable_http_transport)\n",
    "\n",
    "## ~/.aws/credentials에 구성된 IAM 그룹/사용자는 Bedrock 모델에 액세스할 수 있어야 합니다",
    "yourmodel = BedrockModel(\n",
    "    model_id=\"us.amazon.nova-pro-v1:0\",\n",
    "    temperature=0.7,\n",
    ")"
   ]
  },
  {
   "cell_type": "code",
   "execution_count": null,
   "id": "e64794e7-4e5f-4fc5-824a-61c901e356c4",
   "metadata": {},
   "outputs": [],
   "source": [
    "from strands import Agent\n",
    "import logging\n",
    "\n",
    "\n",
    "# 루트 strands 로거를 구성합니다. 문제를 디버깅하는 경우 DEBUG로 변경하세요.",
    "logging.getLogger(\"strands\").setLevel(logging.INFO)\n",
    "\n",
    "# 로그를 보기 위한 핸들러 추가",
    "logging.basicConfig(\n",
    "    format=\"%(levelname)s | %(name)s | %(message)s\", \n",
    "    handlers=[logging.StreamHandler()]\n",
    ")\n",
    "\n",
    "with client:\n",
    "# listTools 호출",
    "    tools = client.list_tools_sync()\n",
    "# 모델과 도구로 에이전트 생성",
    "    agent = Agent(model=yourmodel,tools=tools) ## 원하는 모델로 교체할 수 있습니다\n",
    "    #print(f\"에이전트에 로드된 도구는 {agent.tool_names}\")\n",
    "    #print(f\"Tools configuration in the agent are {agent.tool_config}\")\n",
    "    \n",
    "    # 샘플 프롬프트로 에이전트를 호출합니다. 이는 MCP listTools만 호출하고 LLM이 액세스할 수 있는 도구 목록을 검색합니다. 아래는 실제로 어떤 도구도 호출하지 않습니다.\n",
    "    #agent(\"안녕하세요, 사용 가능한 모든 도구를 나열해 주실 수 있나요?\")\n",
    "    agent(\"Count the number of support tickets\")\n",
    "# MCP 도구를 명시적으로 호출합니다. MCP 도구 이름과 인수는 AWS Lambda 함수 또는 OpenAPI/Smithy API와 일치해야 합니다",
    "    result = client.call_tool_sync(\n",
    "    tool_use_id=\"count-tickets-1\", # 이것을 고유 식별자로 교체할 수 있습니다. \n",
    "    name=\"DemoOpenAPIGW___CountTickets\", # 이는 AWS Lambda 대상 유형을 기반으로 한 도구 이름입니다. 대상 이름에 따라 변경됩니다\n",
    "    )\n",
    "    #Print the MCP Tool response\n",
    "    print(f\"도구 호출 결과: {result['content'][0]['text']}\")\n"
   ]
  },
  {
   "cell_type": "markdown",
   "id": "fa8dd91d-15a6-45b2-b539-bb3eaf0e0e08",
   "metadata": {},
   "source": [
    "# 정리\n",
    "IAM 역할, IAM 정책, 자격 증명 공급자, AWS Lambda 함수, Cognito 사용자 풀, S3 버킷과 같은 추가 리소스도 생성되며, 정리의 일부로 수동으로 삭제해야 할 수 있습니다. 이는 실행하는 예제에 따라 다릅니다."
   ]
  },
  {
   "cell_type": "markdown",
   "id": "a22f158d-83b6-4d65-892f-9a208af3d742",
   "metadata": {},
   "source": [
    "## 게이트웨이 삭제 (선택사항)"
   ]
  },
  {
   "cell_type": "code",
   "execution_count": null,
   "id": "c3edc5b6-e5f0-47b9-994f-378415bad50d",
   "metadata": {},
   "outputs": [],
   "source": [
    "import utils\n",
    "utils.delete_gateway(gateway_client,gatewayID)"
   ]
  }
 ],
 "metadata": {
  "kernelspec": {
   "display_name": "Python 3 (ipykernel)",
   "language": "python",
   "name": "python3"
  },
  "language_info": {
   "codemirror_mode": {
    "name": "ipython",
    "version": 3
   },
   "file_extension": ".py",
   "mimetype": "text/x-python",
   "name": "python",
   "nbconvert_exporter": "python",
   "pygments_lexer": "ipython3",
   "version": "3.11.9"
  }
 },
 "nbformat": 4,
 "nbformat_minor": 5
}