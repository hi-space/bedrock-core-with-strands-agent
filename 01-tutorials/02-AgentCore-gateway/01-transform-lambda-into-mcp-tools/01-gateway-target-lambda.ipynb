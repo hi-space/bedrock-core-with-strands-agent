{
 "cells": [
  {
   "attachments": {},
   "cell_type": "markdown",
   "id": "4ba51a29-a566-4b5a-97f0-10e634567e40",
   "metadata": {
    "collapsed": true,
    "jupyter": {
     "outputs_hidden": true
    }
   },
   "source": [
    "# AWS Lambda를 MCP화하기\n",
    "## Bedrock AgentCore Gateway를 사용하여 AWS Lambda 함수를 안전한 MCP 도구로 변환\n",
    "\n",
    "## 개요\n",
    "Bedrock AgentCore Gateway는 고객이 인프라나 호스팅을 관리할 필요 없이 기존 AWS Lambda 함수를 완전 관리형 MCP 서버로 전환할 수 있는 방법을 제공합니다. Gateway는 이러한 모든 도구에 걸쳐 통일된 Model Context Protocol(MCP) 인터페이스를 제공합니다. Gateway는 들어오는 요청과 대상 리소스에 대한 아웃바운드 연결 모두에 대해 안전한 액세스 제어를 보장하기 위해 이중 인증 모델을 사용합니다. 프레임워크는 두 가지 주요 구성 요소로 구성됩니다: 게이트웨이 대상에 액세스하려는 사용자를 검증하고 권한을 부여하는 Inbound Auth와 인증된 사용자를 대신하여 게이트웨이가 백엔드 리소스에 안전하게 연결할 수 있도록 하는 Outbound Auth입니다. Gateway는 아웃바운드 권한 부여를 위해 IAM 역할을 사용하여 AWS Lambda 함수에 대한 호출을 권한 부여합니다.\n",
    "\n",
    "![작동 방식](images/lambda-iam-gateway.png)\n",
    "\n",
    "### 튜토리얼 세부 정보\n",
    "\n",
    "\n",
    "| 정보                 | 세부 사항                                                 |\n",
    "|:---------------------|:----------------------------------------------------------|\n",
    "| 튜토리얼 유형           | 대화형                                                    |\n",
    "| AgentCore 구성 요소    | AgentCore Gateway, AgentCore Identity                     |\n",
    "| 에이전트 프레임워크      | Strands Agents                                            |\n",
    "| Gateway 대상 유형      | AWS Lambda                                                |\n",
    "| 인바운드 인증 IdP      | Amazon Cognito                                            |\n",
    "| 아웃바운드 인증        | AWS IAM                                                   |\n",
    "| LLM 모델             | Anthropic Claude Sonnet 3.7, Amazon Nova Pro              |\n",
    "| 튜토리얼 구성 요소      | AgentCore Gateway 생성 및 AgentCore Gateway 호출            |\n",
    "| 튜토리얼 분야          | 교차 분야                                                 |\n",
    "| 예제 복잡성           | 쉬움                                                      |\n",
    "| 사용된 SDK           | boto3                                                     |\n",
    "\n",
    "튜토리얼의 첫 번째 부분에서는 몇 가지 AmazonCore Gateway 대상을 생성할 것입니다\n",
    "\n",
    "### 튜토리얼 아키텍처\n",
    "이 튜토리얼에서는 AWS Lambda 함수에 정의된 작업을 MCP 도구로 변환하고 Bedrock AgentCore Gateway에서 호스팅할 것입니다.\n",
    "데모 목적으로 Amazon Bedrock 모델을 사용하는 Strands Agent를 사용할 것입니다\n",
    "예제에서는 get_order와 update_order라는 두 가지 도구를 가진 매우 간단한 에이전트를 사용할 것입니다."
   ]
  },
  {
   "cell_type": "markdown",
   "id": "5362e1ad-f027-4452-a8d9-0b861c0115c2",
   "metadata": {},
   "source": [
    "## 전제 조건\n",
    "\n",
    "이 튜토리얼을 실행하려면 다음이 필요합니다:\n",
    "* Jupyter notebook (Python 커널)\n",
    "* uv\n",
    "* AWS 자격 증명\n",
    "* Amazon Cognito"
   ]
  },
  {
   "attachments": {},
   "cell_type": "markdown",
   "id": "e93da982-0d11-427c-9958-fff3c80b32f1",
   "metadata": {},
   "source": [
    "## 들어오는 AgentCore Gateway 요청에 대한 인증 구성\n",
    "AgentCore Gateway는 인바운드 및 아웃바운드 인증을 통해 안전한 연결을 제공합니다. 인바운드 인증의 경우 AgentCore Gateway는 호출 중에 전달된 OAuth 토큰을 분석하여 게이트웨이의 도구에 대한 액세스를 허용하거나 거부할지 결정합니다. 도구가 외부 리소스에 액세스해야 하는 경우 AgentCore Gateway는 API 키, IAM 또는 OAuth 토큰을 통한 아웃바운드 인증을 사용하여 외부 리소스에 대한 액세스를 허용하거나 거부할 수 있습니다.\n",
    "\n",
    "\n",
    "\n",
    "During the inbound authorization flow, an agent or the MCP client calls an MCP tool in the AgentCore Gateway adding an OAuth access token (generated from the user’s IdP). AgentCore Gateway then validates the OAuth access token and performs inbound authorization.\n",
    "\n",
    "AgentCore Gateway에서 실행되는 도구가 외부 리소스에 액세스해야 하는 경우 OAuth는 Gateway 대상에 대한 리소스 자격 증명 공급자를 사용하여 다운스트림 리소스의 자격 증명을 검색합니다. AgentCore Gateway는 권한 부여 자격 증명을 호출자에게 전달하여 다운스트림 API에 액세스할 수 있도록 합니다. "
   ]
  },
  {
   "cell_type": "code",
   "execution_count": null,
   "id": "e326677b-11b5-4488-b01b-573ad275a764",
   "metadata": {},
   "outputs": [],
   "source": [
    "!pip install --force-reinstall -U -r requirements.txt --quiet"
   ]
  },
  {
   "cell_type": "code",
   "execution_count": null,
   "id": "a4e6248d-b740-418b-ae0d-c0a9623e43e1",
   "metadata": {},
   "outputs": [],
   "source": [
    "# Amazon SageMaker 노트북을 사용하지 않는 경우 AWS 자격 증명 설정",
    "import os\n",
    "# os.environ['AWS_ACCESS_KEY_ID'] = '' # 액세스 키 설정\n",
    "# os.environ['AWS_SECRET_ACCESS_KEY'] = '' # 시크릿 키 설정\n",
    "os.environ['AWS_DEFAULT_REGION'] = os.environ.get('AWS_REGION', 'us-east-1') # AWS 리전 설정"
   ]
  },
  {
   "cell_type": "code",
   "execution_count": null,
   "id": "cd5f3851-d0ca-484f-bb41-68f66ddbea44",
   "metadata": {},
   "outputs": [],
   "source": [
    "import os\n",
    "import sys\n",
    "\n",
    "# 현재 스크립트의 디렉토리 가져오기",
    "if '__file__' in globals():\n",
    "    current_dir = os.path.dirname(os.path.abspath(__file__))\n",
    "else:\n",
    "    current_dir = os.getcwd()  # __file__이 정의되지 않은 경우의 대안 (예: Jupyter)\n",
    "\n",
    "# utils.py가 포함된 디렉토리로 이동 (한 단계 위)",
    "utils_dir = os.path.abspath(os.path.join(current_dir, '..'))\n",
    "\n",
    "# sys.path에 추가",
    "sys.path.insert(0, utils_dir)\n",
    "\n",
    "# 이제 utils를 가져올 수 있습니다",
    "import utils"
   ]
  },
  {
   "cell_type": "code",
   "execution_count": null,
   "id": "ddf8bfe9-8435-44cc-9e8a-ed8ece48f6a6",
   "metadata": {},
   "outputs": [],
   "source": [
    "#### MCP 도구로 변환하려는 샘플 AWS Lambda 함수 생성",
    "lambda_resp = utils.create_gateway_lambda(\"lambda_function_code.zip\")\n",
    "\n",
    "if lambda_resp is not None:",
    "    if lambda_resp['exit_code'] == 0:\n",
    "        print(\"Lambda 함수가 다음 ARN으로 생성되었습니다: \", lambda_resp['lambda_function_arn'])\n",
    "    else:\n",
    "        print(\"Lambda 함수 생성이 다음 메시지와 함께 실패했습니다: \", lambda_resp['lambda_function_arn'])"
   ]
  },
  {
   "cell_type": "code",
   "execution_count": null,
   "id": "9ef17018-d2be-40e3-a892-55dd420297f9",
   "metadata": {},
   "outputs": [],
   "source": [
    "#### Gateway가 맡을 IAM 역할 생성",
    "import utils\n",
    "agentcore_gateway_iam_role = utils.create_agentcore_gateway_role(\"sample-lambdagateway\")\n",
    "print(\"Agentcore 게이트웨이 역할 ARN: \", agentcore_gateway_iam_role['Role']['Arn'])"
   ]
  },
  {
   "cell_type": "markdown",
   "id": "65120594-c3ec-4d51-810b-8d478851d8d2",
   "metadata": {},
   "source": [
    "# Gateway에 대한 인바운드 권한 부여를 위한 Amazon Cognito 풀 생성"
   ]
  },
  {
   "cell_type": "code",
   "execution_count": null,
   "id": "0bbbc736-6f5e-4a60-a598-ead43a0c1f90",
   "metadata": {},
   "outputs": [],
   "source": [
    "# Cognito 사용자 풀 생성",
    "import os\n",
    "import boto3\n",
    "import requests\n",
    "import time\n",
    "from botocore.exceptions import ClientError\n",
    "\n",
    "REGION = os.environ['AWS_DEFAULT_REGION']\n",
    "USER_POOL_NAME = \"sample-agentcore-gateway-pool\"\n",
    "RESOURCE_SERVER_ID = \"sample-agentcore-gateway-id\"\n",
    "RESOURCE_SERVER_NAME = \"sample-agentcore-gateway-name\"\n",
    "CLIENT_NAME = \"sample-agentcore-gateway-client\"\n",
    "SCOPES = [\n",
    "    {\"ScopeName\": \"gateway:read\", \"ScopeDescription\": \"Read access\"},\n",
    "    {\"ScopeName\": \"gateway:write\", \"ScopeDescription\": \"Write access\"}\n",
    "]\n",
    "scopeString = f\"{RESOURCE_SERVER_ID}/gateway:read {RESOURCE_SERVER_ID}/gateway:write\"\n",
    "\n",
    "cognito = boto3.client(\"cognito-idp\", region_name=REGION)\n",
    "\n",
    "print(\"Cognito 리소스 생성 또는 검색 중...\")\n",
    "user_pool_id = utils.get_or_create_user_pool(cognito, USER_POOL_NAME)\n",
    "print(f\"사용자 풀 ID: {user_pool_id}\")\n",
    "\n",
    "utils.get_or_create_resource_server(cognito, user_pool_id, RESOURCE_SERVER_ID, RESOURCE_SERVER_NAME, SCOPES)\n",
    "print(\"리소스 서버가 확인되었습니다.\")\n",
    "\n",
    "client_id, client_secret  = utils.get_or_create_m2m_client(cognito, user_pool_id, CLIENT_NAME, RESOURCE_SERVER_ID)\n",
    "print(f\"클라이언트 ID: {client_id}\")\n",
    "\n",
    "# 검색 URL 가져오기",
    "cognito_discovery_url = f'https://cognito-idp.{REGION}.amazonaws.com/{user_pool_id}/.well-known/openid-configuration'\n",
    "print(cognito_discovery_url)"
   ]
  },
  {
   "cell_type": "markdown",
   "id": "f1a63450-7fb9-42fc-ab4f-3d86c27bb2f8",
   "metadata": {},
   "source": [
    "# 인바운드 권한 부여를 위한 Amazon Cognito Authorizer로 Gateway 생성"
   ]
  },
  {
   "cell_type": "code",
   "execution_count": null,
   "id": "72f2cd57-7777-42d3-b6f3-c45ed0a935c4",
   "metadata": {},
   "outputs": [],
   "source": [
    "# CMK 없이 Cognito 권한 부여자로 Gateway 생성. 이전 단계에서 생성한 Cognito 사용자 풀 사용",
    "gateway_client = boto3.client('bedrock-agentcore-control', region_name = os.environ['AWS_DEFAULT_REGION'])\n",
    "auth_config = {\n",
    "    \"customJWTAuthorizer\": { \n",
    "        \"allowedClients\": [client_id],  # 클라이언트는 Cognito에서 구성된 ClientId와 일치해야 합니다. 예: 7rfbikfsm51j2fpaggacgng84g\n",
    "        \"discoveryUrl\": cognito_discovery_url\n",
    "    }\n",
    "}\n",
    "create_response = gateway_client.create_gateway(name='TestGWforLambda',\n",
    "    roleArn = agentcore_gateway_iam_role['Role']['Arn'], # IAM 역할은 Gateway를 생성/나열/가져오기/삭제할 권한이 있어야 합니다 \n",
    "    protocolType='MCP',\n",
    "    authorizerType='CUSTOM_JWT',\n",
    "    authorizerConfiguration=auth_config, \n",
    "    description='AgentCore Gateway with AWS Lambda target type'\n",
    ")\n",
    "print(create_response)\n",
    "# GatewayTarget 생성에 사용되는 GatewayID 검색",
    "gatewayID = create_response[\"gatewayId\"]\n",
    "gatewayURL = create_response[\"gatewayUrl\"]\n",
    "print(gatewayID)"
   ]
  },
  {
   "cell_type": "markdown",
   "id": "94dc57be-e50e-4997-a440-3bcf582d09bc",
   "metadata": {},
   "source": [
    "# AWS Lambda 대상 생성 및 MCP 도구로 변환"
   ]
  },
  {
   "cell_type": "code",
   "execution_count": null,
   "id": "8c1474da-cdd6-4dbd-84e7-3fdad018647d",
   "metadata": {},
   "outputs": [],
   "source": [
    "# 아래의 AWS Lambda 함수 ARN을 교체하세요",
    "lambda_target_config = {\n",
    "    \"mcp\": {\n",
    "        \"lambda\": {\n",
    "            \"lambdaArn\": lambda_resp['lambda_function_arn'], # 이것을 귀하의 AWS Lambda 함수 ARN으로 교체하세요\n",
    "            \"toolSchema\": {\n",
    "                \"inlinePayload\": [\n",
    "                    {\n",
    "                        \"name\": \"get_order_tool\",\n",
    "                        \"description\": \"주문을 가져오는 도구\",\n",
    "                        \"inputSchema\": {\n",
    "                            \"type\": \"object\",\n",
    "                            \"properties\": {\n",
    "                                \"orderId\": {\n",
    "                                    \"type\": \"string\"\n",
    "                                }\n",
    "                            },\n",
    "                            \"required\": [\"orderId\"]\n",
    "                        }\n",
    "                    },                    \n",
    "                    {\n",
    "                        \"name\": \"update_order_tool\",\n",
    "                        \"description\": \"주문 ID를 업데이트하는 도구\",\n",
    "                        \"inputSchema\": {\n",
    "                            \"type\": \"object\",\n",
    "                            \"properties\": {\n",
    "                                \"orderId\": {\n",
    "                                    \"type\": \"string\"\n",
    "                                }\n",
    "                            },\n",
    "                            \"required\": [\"orderId\"]\n",
    "                        }\n",
    "                    }\n",
    "                ]\n",
    "            }\n",
    "        }\n",
    "    }\n",
    "}\n",
    "\n",
    "credential_config = [ \n",
    "    {\n",
    "        \"credentialProviderType\" : \"GATEWAY_IAM_ROLE\"\n",
    "    }\n",
    "]\n",
    "targetname='LambdaUsingSDK'\n",
    "response = gateway_client.create_gateway_target(\n",
    "    gatewayIdentifier=gatewayID,\n",
    "    name=targetname,\n",
    "    description='Lambda Target using SDK',\n",
    "    targetConfiguration=lambda_target_config,\n",
    "    credentialProviderConfigurations=credential_config)"
   ]
  },
  {
   "cell_type": "markdown",
   "id": "d3ac6532-5299-4024-917d-bcd60caea6ed",
   "metadata": {},
   "source": [
    "# Strands Agent에서 Bedrock AgentCore Gateway 호출\n",
    "\n",
    "Strands 에이전트는 Model Context Protocol(MCP) 사양을 구현하는 Bedrock AgentCore Gateway를 통해 AWS 도구와 원활하게 통합됩니다. 이 통합은 AI 에이전트와 AWS 서비스 간의 안전하고 표준화된 통신을 가능하게 합니다.\n",
    "\n",
    "핵심적으로 Bedrock AgentCore Gateway는 기본적인 MCP API인 ListTools와 InvokeTools를 노출하는 프로토콜 준수 Gateway 역할을 합니다. 이러한 API를 통해 MCP 호환 클라이언트나 SDK는 안전하고 표준화된 방식으로 사용 가능한 도구를 발견하고 상호 작용할 수 있습니다. Strands 에이전트가 AWS 서비스에 액세스해야 할 때 이러한 MCP 표준화된 엔드포인트를 사용하여 Gateway와 통신합니다.\n",
    "\n",
    "Gateway의 구현은 (MCP 권한 부여 사양)[https://modelcontextprotocol.org/specification/draft/basic/authorization]을 엄격히 준수하여 강력한 보안과 액세스 제어를 보장합니다. 이는 Strands 에이전트의 모든 도구 호출이 권한 부여 단계를 거치므로 강력한 기능을 활성화하면서 보안을 유지한다는 것을 의미합니다.\n",
    "\n",
    "예를 들어, Strands 에이전트가 MCP 도구에 액세스해야 할 때 먼저 ListTools를 호출하여 사용 가능한 도구를 발견한 다음 InvokeTools를 사용하여 특정 작업을 실행합니다. Gateway는 필요한 모든 보안 검증, 프로토콜 변환 및 서비스 상호 작용을 처리하여 전체 프로세스를 원활하고 안전하게 만듭니다.\n",
    "\n",
    "이러한 아키텍처 접근 방식은 MCP 사양을 구현하는 모든 클라이언트나 SDK가 Gateway를 통해 AWS 서비스와 상호 작용할 수 있음을 의미하며, AI 에이전트 통합을 위한 다재다능하고 미래 지향적인 솔루션이 됩니다.\n",
    "\n",
    "![Strands agent calling Gateway](images/strands-lambda-gateway.png)"
   ]
  },
  {
   "cell_type": "markdown",
   "id": "873031fe-62b5-4196-91be-500c1f87dfd4",
   "metadata": {},
   "source": [
    "# 인바운드 권한 부여를 위한 Amazon Cognito에서 액세스 토큰 요청"
   ]
  },
  {
   "cell_type": "code",
   "execution_count": null,
   "id": "efbc389b",
   "metadata": {},
   "outputs": [],
   "source": [
    "import time\n",
    "time.sleep(10)"
   ]
  },
  {
   "cell_type": "code",
   "execution_count": null,
   "id": "3ed1d1d6-e84c-4286-bf25-3ad6a49723b9",
   "metadata": {},
   "outputs": [],
   "source": [
    "print(\"Amazon Cognito 권한 부여자에서 액세스 토큰 요청 중... 도메인 이름 전파가 완료될 때까지 일정 시간 동안 실패할 수 있습니다\")\n",
    "token_response = utils.get_token(user_pool_id, client_id, client_secret,scopeString,REGION)\n",
    "token = token_response[\"access_token\"]\n",
    "print(\"토큰 응답:\", token)"
   ]
  },
  {
   "attachments": {},
   "cell_type": "markdown",
   "id": "6fd0379d-9576-43cb-aa9b-72b86c43b472",
   "metadata": {},
   "source": [
    "# Bedrock AgentCore Gateway를 사용하여 AWS Lambda의 MCP 도구를 호출하는 Strands 에이전트"
   ]
  },
  {
   "cell_type": "code",
   "execution_count": null,
   "id": "be4b39c4-7387-4ce8-b728-f2347fbdaa36",
   "metadata": {},
   "outputs": [],
   "source": [
    "from strands.models import BedrockModel\n",
    "from mcp.client.streamable_http import streamablehttp_client \n",
    "from strands.tools.mcp.mcp_client import MCPClient\n",
    "from strands import Agent\n",
    "\n",
    "def create_streamable_http_transport():\n",
    "    return streamablehttp_client(gatewayURL,headers={\"Authorization\": f\"Bearer {token}\"})\n",
    "\n",
    "client = MCPClient(create_streamable_http_transport)\n",
    "\n",
    "## ~/.aws/credentials에 구성된 IAM 자격 증명은 Bedrock 모델에 액세스할 수 있어야 합니다",
    "yourmodel = BedrockModel(\n",
    "    model_id=\"us.amazon.nova-pro-v1:0\",\n",
    "    temperature=0.7,\n",
    ")"
   ]
  },
  {
   "cell_type": "code",
   "execution_count": null,
   "id": "e64794e7-4e5f-4fc5-824a-61c901e356c4",
   "metadata": {},
   "outputs": [],
   "source": [
    "from strands import Agent\n",
    "import logging\n",
    "\n",
    "\n",
    "# 루트 strands 로거를 구성합니다. 문제를 디버깅하는 경우 DEBUG로 변경하세요.",
    "logging.getLogger(\"strands\").setLevel(logging.INFO)\n",
    "\n",
    "# 로그를 보기 위한 핸들러 추가",
    "logging.basicConfig(\n",
    "    format=\"%(levelname)s | %(name)s | %(message)s\", \n",
    "    handlers=[logging.StreamHandler()]\n",
    ")\n",
    "\n",
    "with client:\n",
    "# listTools 호출",
    "    tools = client.list_tools_sync()\n",
    "# 모델과 도구로 에이전트 생성",
    "    agent = Agent(model=yourmodel,tools=tools) ## 원하는 모델로 교체할 수 있습니다\n",
    "    print(f\"에이전트에 로드된 도구는 {agent.tool_names}\")\n",
    "    # print(f\"Tools configuration in the agent are {agent.tool_config}\")\n",
    "    # 샘플 프롬프트로 에이전트를 호출합니다. 이는 MCP listTools만 호출하고 LLM이 액세스할 수 있는 도구 목록을 검색합니다. 아래는 실제로 어떤 도구도 호출하지 않습니다.\n",
    "    agent(\"안녕하세요, 사용 가능한 모든 도구를 나열해 주실 수 있나요?\")\n",
    "# 샘플 프롬프트로 에이전트를 호출하고, 도구를 호출하여 응답을 표시합니다",
    "    agent(\"주문 ID 123의 주문 상태를 확인하고 도구의 정확한 응답을 보여주세요\")\n",
    "# MCP 도구를 명시적으로 호출합니다. MCP 도구 이름과 인수는 AWS Lambda 함수 또는 OpenAPI/Smithy API와 일치해야 합니다",
    "    result = client.call_tool_sync(\n",
    "    tool_use_id=\"get-order-id-123-call-1\", # 이것을 고유 식별자로 교체할 수 있습니다. \n",
    "    name=targetname+\"___get_order_tool\", # 이는 AWS Lambda 대상 유형을 기반으로 한 도구 이름입니다. 대상 이름에 따라 변경됩니다\n",
    "    arguments={\"orderId\": \"123\"}\n",
    "    )\n",
    "# MCP 도구 응답 출력",
    "    print(f\"도구 호출 결과: {result['content'][0]['text']}\")\n"
   ]
  },
  {
   "cell_type": "markdown",
   "id": "73169486-2fa0-42b5-8a8f-d6bdcc532159",
   "metadata": {},
   "source": [
    "**문제: 아래 셀을 실행할 때 아래 오류가 발생하면 pydantic과 pydantic-core 버전 간의 비호환성을 나타냅니다.**\n",
    "\n",
    "```\n",
    "TypeError: model_schema()가 예상치 못한 키워드 인수 'generic_origin'을 받았습니다\n",
    "```\n",
    "**해결 방법은?**\n",
    "\n",
    "호환되는 pydantic==2.7.2와 pydantic-core 2.27.2를 모두 설치해야 합니다. 완료되면 커널을 다시 시작하세요."
   ]
  },
  {
   "cell_type": "markdown",
   "id": "fa8dd91d-15a6-45b2-b539-bb3eaf0e0e08",
   "metadata": {},
   "source": [
    "# 정리\n",
    "\n",
    "IAM 역할, IAM 정책, 자격 증명 공급자, AWS Lambda 함수, Cognito 사용자 풀, S3 버킷과 같은 추가 리소스도 생성되며, 정리 과정에서 수동으로 삭제해야 할 수 있습니다. 이는 실행하는 예제에 따라 다릅니다."
   ]
  },
  {
   "cell_type": "markdown",
   "id": "a22f158d-83b6-4d65-892f-9a208af3d742",
   "metadata": {},
   "source": [
    "## 게이트웨이 삭제 (선택사항)"
   ]
  },
  {
   "cell_type": "code",
   "execution_count": null,
   "id": "c3edc5b6-e5f0-47b9-994f-378415bad50d",
   "metadata": {},
   "outputs": [],
   "source": [
    "import utils\n",
    "utils.delete_gateway(gateway_client,gatewayID)"
   ]
  }
 ],
 "metadata": {
  "kernelspec": {
   "display_name": "Python 3 (ipykernel)",
   "language": "python",
   "name": "python3"
  },
  "language_info": {
   "codemirror_mode": {
    "name": "ipython",
    "version": 3
   },
   "file_extension": ".py",
   "mimetype": "text/x-python",
   "name": "python",
   "nbconvert_exporter": "python",
   "pygments_lexer": "ipython3",
   "version": "3.12.9"
  }
 },
 "nbformat": 4,
 "nbformat_minor": 5
}