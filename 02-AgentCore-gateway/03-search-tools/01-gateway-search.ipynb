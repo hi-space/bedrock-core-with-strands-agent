{
 "cells": [
  {
   "cell_type": "markdown",
   "id": "0f80631b",
   "metadata": {},
   "source": [
    "# Amazon Bedrock AgentCore Gateway - 시맨틱 검색 튜토리얼"
   ]
  },
  {
   "cell_type": "markdown",
   "id": "5b6a992b",
   "metadata": {},
   "source": [
    "튜토리얼 세부 정보\n",
    "\n",
    "\n",
    "| 정보                | 세부 사항                                                                        |\n",
    "|:--------------------|:---------------------------------------------------------------------------------|\n",
    "| 튜토리얼 유형        | 대화형                                                                           |\n",
    "| 에이전트 유형        | 단일                                                                             |\n",
    "| AgentCore 서비스    | AgentCore Gateway, AgentCore Identity                                            |\n",
    "| 에이전트 프레임워크   | Strands Agents                                                                   |\n",
    "| LLM 모델            | Anthropic Claude Sonnet 3.7                                                        |\n",
    "| 튜토리얼 구성 요소    | Strands Agent에서 Lambda 기반 AgentCore Gateway 생성 및 사용                      |\n",
    "| 튜토리얼 분야        | 교차 분야                                                                        |\n",
    "| 예제 복잡성          | 쉬움                                                                             |\n",
    "| 사용된 SDK          | Amazon BedrockAgentCore Python SDK 및 boto3  "
   ]
  },
  {
   "cell_type": "markdown",
   "id": "61187ab7",
   "metadata": {},
   "source": [
    "### 튜토리얼 아키텍처\n",
    "Amazon Bedrock AgentCore Gateway는 에이전트와 상호 작용해야 하는 도구 및 리소스 간의 통합 연결을 제공합니다. Gateway는 이 연결 계층에서 여러 역할을 수행합니다:\n",
    "\n",
    "1. **보안 가드**: Gateway는 OAuth 권한 부여를 관리하여 유효한 사용자/에이전트만 도구/리소스에 액세스할 수 있도록 합니다.\n",
    "2. **Translator**: Gateway는 모델 컨텍스트 프로토콜(MCP)과 같은 인기 있는 프로토콜을 사용하여 전송된 에이전트 요청을 API 요청 및 Lambda 호출로 변환합니다. 이는 개발자가 서버를 호스팅하거나 프로토콜 통합, 버전 지원, 버전 패치 관리 등을 수행할 필요가 없다는 것을 의미합니다.\n",
    "3. **작곡가**: Gateway를 통해 개발자는 여러 API, 함수 및 도구를 에이전트가 사용할 수 있는 단일 MCP 엔드포인트로 원활하게 결합할 수 있습니다.\n",
    "4. **Keychain**: Gateway는 적절한 도구와 함께 사용할 적절한 자격 증명을 주입하여 에이전트가 다양한 자격 증명 집합이 필요한 도구를 원활하게 활용할 수 있도록 보장합니다.\n",
    "5. **Researcher**: Gateway를 통해 에이전트는 모든 도구를 검색하여 주어진 상황 또는 질문에 가장 적합한 도구만 찾을 수 있습니다. 이를 통해 에이전트는 소수의 도구가 아닌 수천 개의 도구를 활용할 수 있습니다. 또한 에이전트의 LLM 프롬프트에 제공해야 하는 도구 세트를 최소화하여 지연 시간과 비용을 절감합니다.\n",
    "6. **Infrastructure Manager**: Gateway는 완전히 서버리스이며 내장된 관찰 기능과 감사 기능을 갖추고 있어 개발자가 에이전트를 통합하기 위해 추가 인프라를 관리할 필요가 없습니다.\n",
    "\n",
    "![How does it work](images/gw-arch-overview.png)\n",
    "\n",
    "### 튜토리얼 주요 기능\n",
    "\n",
    "* AWS Lambda 기반 대상으로 Amazon Bedrock AgentCore Gateway 생성\n",
    "* AgentCore Gateway 시맨틱 검색 사용\n",
    "* AgentCore Gateway 검색이 지연 시간을 개선하는 방법을 보여주기 위해 Strands Agents 사용"
   ]
  },
  {
   "cell_type": "markdown",
   "id": "fa1feb54",
   "metadata": {},
   "source": [
    "## 전제 조건\n",
    "\n",
    "이 튜토리얼을 실행하려면 다음이 필요합니다:\n",
    "* Python 3.10+\n",
    "* AWS 자격 증명\n",
    "* Amazon Bedrock AgentCore SDK\n",
    "* Strands Agents"
   ]
  },
  {
   "cell_type": "markdown",
   "id": "fb01ea0d",
   "metadata": {},
   "source": [
    "## AgentCore Gateway는 많은 수의 도구를 가진 MCP 서버의 문제를 해결하는 데 도움이 됩니다\n",
    "일반적인 기업 환경에서 에이전트 빌더는 수백 또는 수천 개의 MCP 도구를 가진 MCP 서버를 만나게 됩니다. 이러한 도구의 양은 AI 에이전트에게 도구 선택 정확도 저하, 비용 증가, 과도한 도구 메타데이터로 인한 높은 토큰 사용량으로 인한 지연 시간 증가 등의 문제를 야기합니다.\n",
    "이는 에이전트를 타사 서비스(예: Zendesk, Salesforce, Slack, JIRA 등)나 기존 기업 REST 서비스에 연결할 때 발생할 수 있습니다. \n",
    "AgentCore Gateway는 도구 전반에 걸친 내장 시맨틱 검색을 제공하여 에이전트의 지연 시간, 비용 및 정확도를 개선하면서도 에이전트가 필요한 도구를 제공합니다. \n",
    "사용 사례, LLM 모델 및 에이전트 프레임워크에 따라 일반적인 MCP 서버의 수백 개 도구 전체 세트를 제공하는 것보다 관련 도구에 에이전트를 집중시킴으로써 최대 3배 더 나은 지연 시간을 볼 수 있습니다.\n",
    "\n",
    "![How does it work](images/gateway_tool_search.png)\n",
    "\n",
    "## 이 노트북에서 배울 내용\n",
    "이 노트북에서는 AgentCore Gateway 검색에 대한 튜토리얼을 제공합니다. 이 단계별 튜토리얼을 마치면 다음을 이해하게 됩니다:\n",
    "\n",
    "- AgentCore Gateway의 내장 검색 도구를 사용하여 관련 도구를 빠르게 찾는 방법 \n",
    "- 지연 시간 개선 및 비용 절감을 위해 도구 검색 결과를 Strands Agents에 통합하는 방법\n",
    "\n",
    "## 노트북 구조 개요\n",
    "노트북은 다음 섹션으로 구성되어 있습니다:\n",
    "\n",
    "1. AgentCore Gateway 검색의 기본 사항 이해\n",
    "2. 노트북 환경 준비\n",
    "3. 수백 개의 도구를 가진 Gateway 설정\n",
    "4. Gateway에서 도구 검색\n",
    "5. 많은 도구를 가진 MCP 서버와 함께 Strands Agents 사용\n",
    "6. Strands Agent에 도구 검색 결과 추가\n",
    "7. 도구 검색을 사용하여 3배 지연 시간 개선 보여주기"
   ]
  },
  {
   "cell_type": "markdown",
   "id": "06b7852f",
   "metadata": {},
   "source": [
    "# AgentCore Gateway 검색의 기본 사항 이해\n",
    "\n",
    "AgentCore Gateway를 생성할 때 검색을 활성화하려는 옵션을 선택할 수 있습니다.\n",
    "검색이 활성화된 Gateway의 경우 세 가지 일이 발생합니다:\n",
    "\n",
    "1. **벡터 저장소가 생성됩니다**. Gateway 서비스는 새 Gateway를 위해 서버리스 완전 관리형 벡터 저장소를 자동으로 생성합니다. 이를 통해 Gateway 도구 전반에 걸친 완전한 시맨틱 검색이 가능합니다. \n",
    "3. **벡터 저장소가 채워집니다**. Gateway에 Gateway 대상을 추가하면 서비스는 새 대상의 도구를 기반으로 벡터 저장소를 채우기 위해 백그라운드에서 임베딩을 자동으로 사용합니다. 도구 메타데이터는 도구의 JSON 정의 또는 REST 서비스 대상의 OpenAPI 스키마 사양에서 가져옵니다.\n",
    "2. **검색 도구(MCP 기반)가 제공됩니다**. 모든 사용자 정의 도구(AWS Lambda 대상 또는 REST 서비스에서) 외에도 Gateway는 시맨틱 검색을 제공하는 하나의 추가 MCP 도구를 얻습니다. 이름은 `x-amz-bedrock-agentcore-search`입니다. 접두사는 사용자 정의 도구와 이름 충돌이 없도록 보장합니다. 향후에도 이와 같은 도구를 더 추가할 수 있습니다. 검색 도구에는 `query`라는 단일 인수가 있습니다. 검색 도구가 호출되면 Gateway 서비스는 해당 쿼리를 사용하여 시맨틱 검색을 수행하고 사용 가능한 도구 메타데이터(이름, 설명, 입력 및 출력 스키마)와 일치시켜 관련성 내림차순으로 가장 관련성이 높은 도구를 반환합니다."
   ]
  },
  {
   "cell_type": "markdown",
   "id": "b39c756c",
   "metadata": {},
   "source": [
    "# 노트북 환경 준비"
   ]
  },
  {
   "cell_type": "code",
   "execution_count": null,
   "id": "2045271e",
   "metadata": {},
   "outputs": [],
   "source": [
    "!pip install --force-reinstall -U -r requirements.txt --quiet"
   ]
  },
  {
   "cell_type": "markdown",
   "id": "4dec9b4b",
   "metadata": {},
   "source": [
    "필요한 모든 Python 라이브러리를 가져오고 환경 변수를 로드합니다"
   ]
  },
  {
   "cell_type": "code",
   "execution_count": null,
   "id": "10100b26",
   "metadata": {},
   "outputs": [],
   "source": [
    "from strands import Agent\n",
    "from strands.models import BedrockModel\n",
    "from strands.handlers import null_callback_handler\n",
    "\n",
    "from strands.tools.mcp.mcp_client import MCPClient, MCPAgentTool\n",
    "\n",
    "from mcp.client.streamable_http import streamablehttp_client\n",
    "from mcp.types import Tool as MCPTool\n",
    "\n",
    "import logging\n",
    "import time\n",
    "import json\n",
    "import boto3\n",
    "import requests\n",
    "import utils\n",
    "\n",
    "GATEWAY_NAME = \"gateway-search-tutorial\""
   ]
  },
  {
   "cell_type": "markdown",
   "id": "e76ded57",
   "metadata": {},
   "source": [
    "로거 설정"
   ]
  },
  {
   "cell_type": "code",
   "execution_count": null,
   "id": "ea5ab3da",
   "metadata": {},
   "outputs": [],
   "source": [
    "# Configure the root strands logger\n",
    "logging.getLogger(\"strands\").setLevel(logging.ERROR)  # INFO) #DEBUG) #\n",
    "\n",
    "# Add a handler to see the logs\n",
    "logging.basicConfig(\n",
    "    format=\"%(levelname)s | %(name)s | %(message)s\", handlers=[logging.StreamHandler()]\n",
    ")"
   ]
  },
  {
   "cell_type": "markdown",
   "id": "1dc97c60",
   "metadata": {},
   "source": [
    "boto3 버전 확인"
   ]
  },
  {
   "cell_type": "code",
   "execution_count": null,
   "id": "9258624c",
   "metadata": {},
   "outputs": [],
   "source": [
    "boto3.__version__"
   ]
  },
  {
   "cell_type": "markdown",
   "id": "59719b74",
   "metadata": {},
   "source": [
    "AgentCore 제어 평면 API용 boto3 클라이언트를 가져옵니다."
   ]
  },
  {
   "cell_type": "code",
   "execution_count": null,
   "id": "c2eafe7c",
   "metadata": {},
   "outputs": [],
   "source": [
    "session = boto3.Session()\n",
    "agentcore_client = session.client(\n",
    "    \"bedrock-agentcore-control\",\n",
    ")"
   ]
  },
  {
   "cell_type": "markdown",
   "id": "eb9fec29",
   "metadata": {},
   "source": [
    "# 수백 개의 도구를 가진 Gateway 설정\n",
    "\n",
    "AgentCore Gateway는 기존 API의 선별된 세트를 에이전트용 MCP 도구로 노출하는 안전하고 확장 가능한 방법을 제공합니다. 프로덕션 환경에서는 CloudFormation, CDK 또는 Terraform과 같은 도구를 사용하여 코드형 인프라로 Gateway 리소스를 생성합니다. 이 튜토리얼에서는 리소스와 API를 더 효과적으로 이해할 수 있도록 boto3 제어 평면 API를 직접 사용합니다.\n",
    "이를 통해 자신만의 게이트웨이를 구축하고 사용하며 더 강력하고 안전한 에이전트를 만드는 데 더 쉽게 시작할 수 있습니다.\n",
    "\n",
    "높은 수준에서 Gateway 설정 단계는 다음과 같습니다:\n",
    "\n",
    "1. 인바운드(에이전트가 Gateway 호출) 및 아웃바운드(Gateway가 도구 호출) 보안을 위해 사용하는 ID 공급자 및 자격 증명 공급자를 정의합니다.\n",
    "2. `create_gateway`를 사용하여 Gateway를 생성합니다.\n",
    "3. `create_gateway_target`을 사용하여 Gateway 대상을 추가하여 AWS Lambda 또는 기존 RESTful 서비스에서 구현될 MCP 도구를 노출합니다.\n",
    "\n",
    "이 튜토리얼에서는 Amazon Cognito를 ID 공급자(IdP)로, AWS Lambda 함수를 대상으로, AWS IAM을 아웃바운드 인증으로 사용합니다. 이 튜토리얼에서 설명하는 동일한 개념은 다른 IdP나 다른 대상 유형을 사용할 때도 여전히 적용됩니다."
   ]
  },
  {
   "cell_type": "markdown",
   "id": "d896e613",
   "metadata": {},
   "source": [
    "### Amazon Cognito 리소스 생성"
   ]
  },
  {
   "cell_type": "markdown",
   "id": "bb02989f",
   "metadata": {},
   "source": [
    "이 튜토리얼에서는 다음 리소스를 이미 생성했고 해당 환경 변수를 설정했다고 가정합니다:\n",
    "\n",
    "- AWS Lambda 실행을 위한 IAM 역할 (`gateway_lambda_iam_role`)\n",
    "- 간단한 수학 도구용 AWS Lambda 함수 (`calc_lambda_arn`)\n",
    "- 레스토랑 예약 도구용 AWS Lambda 함수 (`restaurant_lambda_arn`)\n",
    "- 클라이언트 ID (`cognito_client_id`)와 검색 URL (`cognito_discovery_url`)을 제공하는 Amazon Cognito 사용자 풀"
   ]
  },
  {
   "cell_type": "markdown",
   "id": "c9cb9eb5",
   "metadata": {},
   "source": [
    "레스토랑 API의 JSON 도구 메타데이터를 살펴보겠습니다. 기존 REST 서비스와 통합하는 경우 API 사양은 대신 OpenAPI 스키마를 사용하여 제공됩니다."
   ]
  },
  {
   "cell_type": "code",
   "execution_count": null,
   "id": "e953add5",
   "metadata": {},
   "outputs": [],
   "source": [
    "with open(\"./restaurant/restaurant-api.json\") as f:\n",
    "    data = json.load(f)\n",
    "print(json.dumps(data, indent=4))"
   ]
  },
  {
   "cell_type": "markdown",
   "id": "a0758917",
   "metadata": {},
   "source": [
    "다음은 간단한 계산기 API입니다."
   ]
  },
  {
   "cell_type": "code",
   "execution_count": null,
   "id": "ef1a47e2",
   "metadata": {},
   "outputs": [],
   "source": [
    "with open(\"./calc/calc-api.json\") as f:\n",
    "    data = json.load(f)[0:3]\n",
    "print(json.dumps(data, indent=4))"
   ]
  },
  {
   "cell_type": "markdown",
   "id": "414b7a8a",
   "metadata": {},
   "source": [
    "다음은 계산기 도구용 AWS Lambda 함수 구현입니다."
   ]
  },
  {
   "cell_type": "code",
   "execution_count": null,
   "id": "48160295",
   "metadata": {},
   "outputs": [],
   "source": [
    "from IPython.display import display, Code\n",
    "\n",
    "with open(\"./calc/lambda_function_code.py\", \"r\") as f:\n",
    "    code_content = f.read()\n",
    "display(Code(code_content, language=\"python\"))"
   ]
  },
  {
   "cell_type": "code",
   "execution_count": null,
   "id": "b25b7e35",
   "metadata": {},
   "outputs": [],
   "source": [
    "with open(\"./restaurant/lambda_function_code.py\", \"r\") as f:\n",
    "    code_content = f.read()\n",
    "display(Code(code_content, language=\"python\"))"
   ]
  },
  {
   "cell_type": "code",
   "execution_count": null,
   "id": "2f400f4b",
   "metadata": {},
   "outputs": [],
   "source": [
    "#### Create a sample AWS Lambda function that you want to convert into MCP tools\n",
    "calc_lambda_resp = utils.create_gateway_lambda(\n",
    "    \"calc/lambda_function_code.zip\", lambda_function_name=\"calc_lambda_gateway\"\n",
    ")\n",
    "\n",
    "if calc_lambda_resp is not None:\n",
    "    if calc_lambda_resp[\"exit_code\"] == 0:\n",
    "        print(\n",
    "            \"Lambda function created with ARN: \",\n",
    "            calc_lambda_resp[\"lambda_function_arn\"],\n",
    "        )\n",
    "    else:\n",
    "        print(\n",
    "            \"Lambda function creation failed with message: \",\n",
    "            calc_lambda_resp[\"lambda_function_arn\"],\n",
    "        )"
   ]
  },
  {
   "cell_type": "code",
   "execution_count": null,
   "id": "176e24bf",
   "metadata": {},
   "outputs": [],
   "source": [
    "calc_lambda_resp[\"lambda_function_arn\"]"
   ]
  },
  {
   "cell_type": "code",
   "execution_count": null,
   "id": "2db00b43",
   "metadata": {},
   "outputs": [],
   "source": [
    "#### Create a sample AWS Lambda function that you want to convert into MCP tools\n",
    "restaurant_lambda_resp = utils.create_gateway_lambda(\n",
    "    \"restaurant/lambda_function_code.zip\",\n",
    "    lambda_function_name=\"restaurant_lambda_gateway\",\n",
    ")\n",
    "\n",
    "if restaurant_lambda_resp is not None:\n",
    "    if restaurant_lambda_resp[\"exit_code\"] == 0:\n",
    "        print(\n",
    "            \"Lambda function created with ARN: \",\n",
    "            restaurant_lambda_resp[\"lambda_function_arn\"],\n",
    "        )\n",
    "    else:\n",
    "        print(\n",
    "            \"Lambda function creation failed with message: \",\n",
    "            restaurant_lambda_resp[\"lambda_function_arn\"],\n",
    "        )"
   ]
  },
  {
   "cell_type": "code",
   "execution_count": null,
   "id": "bc46a911",
   "metadata": {},
   "outputs": [],
   "source": [
    "restaurant_lambda_resp[\"lambda_function_arn\"]"
   ]
  },
  {
   "cell_type": "code",
   "execution_count": null,
   "id": "a929d763",
   "metadata": {},
   "outputs": [],
   "source": [
    "cognito_response = utils.setup_cognito_user_pool()"
   ]
  },
  {
   "cell_type": "code",
   "execution_count": null,
   "id": "b1b3ba4c",
   "metadata": {},
   "outputs": [],
   "source": [
    "bearer_token = utils.get_bearer_token(\n",
    "    client_id=cognito_response[\"client_id\"],\n",
    "    username=\"testuser\",\n",
    "    password=\"MyPassword123!\",\n",
    ")"
   ]
  },
  {
   "cell_type": "code",
   "execution_count": null,
   "id": "5d2571fe",
   "metadata": {},
   "outputs": [],
   "source": [
    "gateway_role_arn = utils.create_gateway_iam_role(\n",
    "    lambda_arns=[\n",
    "        calc_lambda_resp[\"lambda_function_arn\"],\n",
    "        restaurant_lambda_resp[\"lambda_function_arn\"],\n",
    "    ]\n",
    ")"
   ]
  },
  {
   "cell_type": "markdown",
   "id": "b9de9ef7",
   "metadata": {},
   "source": [
    "#### 제어 평면 API 사용을 위한 몇 가지 도우미 함수를 생성해보겠습니다"
   ]
  },
  {
   "cell_type": "code",
   "execution_count": null,
   "id": "a6a3cb63",
   "metadata": {},
   "outputs": [],
   "source": [
    "def read_apispec(json_file_path):\n",
    "    try:\n",
    "        # read json file and return contents as string\n",
    "        with open(json_file_path, \"r\") as file:\n",
    "            # Parse JSON to Python object\n",
    "            api_spec = json.load(file)\n",
    "            return api_spec\n",
    "\n",
    "    except FileNotFoundError:\n",
    "        return f\"Error: File {json_file_path} not found\"\n",
    "    except Exception as e:\n",
    "        return f\"An unexpected error occurred: {str(e)}\"\n",
    "\n",
    "\n",
    "def list_gateways():\n",
    "    response = agentcore_client.list_gateways()\n",
    "    print(json.dumps(response, indent=2, default=str))\n",
    "    return response"
   ]
  },
  {
   "cell_type": "markdown",
   "id": "60d8aa76",
   "metadata": {},
   "source": [
    "#### Gateway 생성 도우미 함수\n",
    "이름과 설명이 주어진 AgentCore Gateway를 생성하는 도우미 함수입니다. Amazon Cognito를 IdP로 사용하고 이미 정의된 허용된 클라이언트 ID와 검색 URL을 환경 변수에서 가져옵니다.\n",
    "또한 결과 Gateway에서 시맨틱 검색을 기본적으로 활성화하고 미리 정의된 IAM 역할을 사용합니다."
   ]
  },
  {
   "cell_type": "code",
   "execution_count": null,
   "id": "ffac7f83",
   "metadata": {},
   "outputs": [],
   "source": [
    "def create_gateway(gateway_name, gateway_desc):\n",
    "    # Use Cognito for Inbound OAuth to our Gateway\n",
    "    auth_config = {\n",
    "        \"customJWTAuthorizer\": {\n",
    "            \"allowedClients\": [cognito_response[\"client_id\"]],\n",
    "            \"discoveryUrl\": cognito_response[\"discovery_url\"],\n",
    "        }\n",
    "    }\n",
    "    # Enable semantic search of tools\n",
    "    search_config = {\n",
    "        \"mcp\": {\"searchType\": \"SEMANTIC\", \"supportedVersions\": [\"2025-03-26\"]}\n",
    "    }\n",
    "    # Create the gateway\n",
    "    response = agentcore_client.create_gateway(\n",
    "        name=gateway_name,\n",
    "        roleArn=gateway_role_arn,\n",
    "        authorizerType=\"CUSTOM_JWT\",\n",
    "        description=gateway_desc,\n",
    "        protocolType=\"MCP\",\n",
    "        authorizerConfiguration=auth_config,\n",
    "        protocolConfiguration=search_config,\n",
    "    )\n",
    "    # print(json.dumps(response, indent=2, default=str))\n",
    "    return response[\"gatewayId\"]"
   ]
  },
  {
   "cell_type": "markdown",
   "id": "3d45dd92",
   "metadata": {},
   "source": [
    "#### Gateway 대상 생성 도우미 함수\n",
    "이 함수는 기존 Gateway에 새 AWS Lambda 대상을 생성합니다.\n",
    "게이트웨이 ID, 새 대상의 이름과 설명, 기존 AWS Lambda 함수의 ARN, 그리고 게이트웨이에서 노출하려는 도구의 인터페이스를 설명하는 JSON 스키마를 제공하기만 하면 됩니다."
   ]
  },
  {
   "cell_type": "code",
   "execution_count": null,
   "id": "9d03d7c8",
   "metadata": {},
   "outputs": [],
   "source": [
    "def create_gatewaytarget(gateway_id, target_name, target_descr, lambda_arn, api_spec):\n",
    "    # Add a Lambda target to the gateway\n",
    "    response = agentcore_client.create_gateway_target(\n",
    "        gatewayIdentifier=gateway_id,\n",
    "        name=target_name,\n",
    "        description=target_descr,\n",
    "        targetConfiguration={\n",
    "            \"mcp\": {\n",
    "                \"lambda\": {\n",
    "                    \"lambdaArn\": lambda_arn,\n",
    "                    \"toolSchema\": {\"inlinePayload\": api_spec},\n",
    "                }\n",
    "            }\n",
    "        },\n",
    "        # Use IAM as credential provider\n",
    "        credentialProviderConfigurations=[\n",
    "            {\"credentialProviderType\": \"GATEWAY_IAM_ROLE\"}\n",
    "        ],\n",
    "    )\n",
    "    return response[\"targetId\"]"
   ]
  },
  {
   "cell_type": "markdown",
   "id": "2084feec",
   "metadata": {},
   "source": [
    "### 첫 번째 AgentCore Gateway 생성\n",
    "첫 번째 Gateway를 설정하기 전에 Gateway가 MCP 도구 사용을 위한 인바운드 요청과 Gateway에서 도구 및 리소스로의 아웃바운드 액세스 모두에 대해 보안을 제공하는 방법을 간단히 살펴보겠습니다.\n",
    "\n",
    "![How does it work](images/gateway_secure_access.png)\n",
    "\n",
    "이제 이름과 설명을 제공하여 이 튜토리얼용 게이트웨이를 생성해보겠습니다."
   ]
  },
  {
   "cell_type": "code",
   "execution_count": null,
   "id": "175d1ef3",
   "metadata": {},
   "outputs": [],
   "source": [
    "print(f\"Create gateway with name: {GATEWAY_NAME}\")\n",
    "gatewayId = create_gateway(\n",
    "    gateway_name=GATEWAY_NAME, gateway_desc=\"AgentCore Gateway Tutorial\"\n",
    ")\n",
    "print(f\"Gateway created with id: {gatewayId}.\")"
   ]
  },
  {
   "cell_type": "markdown",
   "id": "c878491f",
   "metadata": {},
   "source": [
    "### AgentCore Gateway 대상 추가\n",
    "이 튜토리얼에서는 간단한 수학 계산을 수행하는 Lambda 함수 하나와 레스토랑 예약 생성을 시뮬레이션하는 또 다른 Lambda 함수 쌍을 이미 설치했다고 가정합니다. 이러한 각 함수에 대해 Gateway 대상을 추가할 것입니다.\n",
    "\n",
    "이러한 대상을 추가한 후에는 AgentCore Gateway 검색의 힘을 보여주는 데 도움이 되는 더 높은 MCP 도구 수를 단순히 늘리기 위해 추가 대상을 추가할 것입니다."
   ]
  },
  {
   "cell_type": "markdown",
   "id": "d4d24edb",
   "metadata": {},
   "source": [
    "게이트웨이가 생성되었으므로 Lambda 함수를 통해 레스토랑 예약을 만들기 위한 대상을 추가해보겠습니다."
   ]
  },
  {
   "cell_type": "code",
   "execution_count": null,
   "id": "58d04ee4",
   "metadata": {},
   "outputs": [],
   "source": [
    "restaurant_api_spec = read_apispec(\"./restaurant/restaurant-api.json\")\n",
    "restaurant_lambda_arn = restaurant_lambda_resp[\"lambda_function_arn\"]\n",
    "print(f\"Restaurant Lambda ARN: {restaurant_lambda_arn}\")\n",
    "\n",
    "restaurantTargetId = create_gatewaytarget(\n",
    "    gateway_id=gatewayId,\n",
    "    lambda_arn=restaurant_lambda_arn,\n",
    "    target_name=\"FoodTools\",\n",
    "    target_descr=\"Restaurant Tools\",\n",
    "    api_spec=restaurant_api_spec,\n",
    ")\n",
    "print(f\"RestaurantTarget created with id: {restaurantTargetId} on gateway: {gatewayId}\")"
   ]
  },
  {
   "cell_type": "markdown",
   "id": "4da14900",
   "metadata": {},
   "source": [
    "여기서는 4개의 기본 도구(더하기, 빼기, 곱하기, 나누기)를 구현하는 Lambda와 투자 관리(거래, 신용 연구, 정량 분석, 포트폴리오 관리)를 위한 75개의 생성된 도구 정의 세트가 있는 두 번째 대상을 추가할 것입니다. 투자 관리 도구 정의는 실제로 Lambda 함수에서 구현되지 않습니다. 많은 양의 도구를 보여주기 위해서만 추가하고 있습니다."
   ]
  },
  {
   "cell_type": "code",
   "execution_count": null,
   "id": "b2599c9f",
   "metadata": {},
   "outputs": [],
   "source": [
    "calc_api_spec = read_apispec(\"./calc/calc-api.json\")\n",
    "print(f\"API spec for calc has {len(calc_api_spec)} functions\\n\")\n",
    "calc_lambda_arn = calc_lambda_resp[\"lambda_function_arn\"]\n",
    "print(f\"Calc Lambda ARN: {calc_lambda_arn}\")\n",
    "\n",
    "time.sleep(5)\n",
    "calcTargetId = create_gatewaytarget(\n",
    "    gateway_id=gatewayId,\n",
    "    lambda_arn=calc_lambda_arn,\n",
    "    target_name=\"CalcTools\",\n",
    "    target_descr=\"Calculation Tools\",\n",
    "    api_spec=calc_api_spec,\n",
    ")\n",
    "print(f\"CalcTools Target created with id: {calcTargetId} on gateway: {gatewayId}\")"
   ]
  },
  {
   "cell_type": "markdown",
   "id": "3200dc9f",
   "metadata": {},
   "source": [
    "게이트웨이 검색의 힘을 보여주기 위해 이제 Calculator 대상의 복사본을 몇 개 더 추가하여 300개 이상의 MCP 도구가 노출되도록 합니다."
   ]
  },
  {
   "cell_type": "code",
   "execution_count": null,
   "id": "6b3aedf2",
   "metadata": {},
   "outputs": [],
   "source": [
    "def add_more_tools(gatewayId):\n",
    "    time.sleep(10)\n",
    "    calcTargetId = create_gatewaytarget(\n",
    "        gateway_id=gatewayId,\n",
    "        lambda_arn=calc_lambda_arn,\n",
    "        target_name=\"Calc2\",\n",
    "        target_descr=\"Calculation 2 Tools\",\n",
    "        api_spec=calc_api_spec,\n",
    "    )\n",
    "    print(f\"Calc2 Target created with id: {calcTargetId} on gateway: {gatewayId}\")\n",
    "    time.sleep(10)\n",
    "    calcTargetId = create_gatewaytarget(\n",
    "        gateway_id=gatewayId,\n",
    "        lambda_arn=calc_lambda_arn,\n",
    "        target_name=\"Calc3\",\n",
    "        target_descr=\"Calculation 3 Tools\",\n",
    "        api_spec=calc_api_spec,\n",
    "    )\n",
    "    print(f\"Calc3 Target created with id: {calcTargetId} on gateway: {gatewayId}\")\n",
    "    time.sleep(10)\n",
    "    calcTargetId = create_gatewaytarget(\n",
    "        gateway_id=gatewayId,\n",
    "        lambda_arn=calc_lambda_arn,\n",
    "        target_name=\"Calc4\",\n",
    "        target_descr=\"Calculation 4 Tools\",\n",
    "        api_spec=calc_api_spec,\n",
    "    )\n",
    "    print(f\"Calc4 Target created with id: {calcTargetId} on gateway: {gatewayId}\")"
   ]
  },
  {
   "cell_type": "code",
   "execution_count": null,
   "id": "62852ae9",
   "metadata": {},
   "outputs": [],
   "source": [
    "add_more_tools(gatewayId=gatewayId)"
   ]
  },
  {
   "cell_type": "code",
   "execution_count": null,
   "id": "c3717e2b",
   "metadata": {},
   "outputs": [],
   "source": [
    "resp = agentcore_client.list_gateway_targets(gatewayIdentifier=gatewayId)\n",
    "targets = resp[\"items\"]\n",
    "for target in resp[\"items\"]:\n",
    "    print(f\"{target['name']} - {target['description']}\")"
   ]
  },
  {
   "cell_type": "markdown",
   "id": "b701bf49",
   "metadata": {},
   "source": [
    "# Gateway에서 도구 검색"
   ]
  },
  {
   "cell_type": "markdown",
   "id": "e5599870",
   "metadata": {},
   "source": [
    "### 검색하기 전에 MCP 목록 도구에 익숙해지기"
   ]
  },
  {
   "cell_type": "markdown",
   "id": "e6dbea12",
   "metadata": {},
   "source": [
    "주어진 Gateway ID에 대한 MCP 엔드포인트 URL을 검색하고 Gateway를 안전하게 사용하기 위한 JWT OAuth 액세스 토큰을 검색하는 몇 가지 유틸리티 함수를 정의해보겠습니다."
   ]
  },
  {
   "cell_type": "code",
   "execution_count": null,
   "id": "d15ac0f2",
   "metadata": {},
   "outputs": [],
   "source": [
    "def get_gateway_endpoint(gateway_id):\n",
    "    response = agentcore_client.get_gateway(gatewayIdentifier=gateway_id)\n",
    "    gateway_url = response[\"gatewayUrl\"]\n",
    "    return gateway_url"
   ]
  },
  {
   "cell_type": "markdown",
   "id": "2cac832e",
   "metadata": {},
   "source": [
    "이제 Gateway가 생성되고 대상이 있으므로 해당 Gateway의 MCP URL을 가져와보겠습니다. Gateway ID를 기반으로 Gateway 제어 평면에서 엔드포인트 URL을 검색할 수 있습니다."
   ]
  },
  {
   "cell_type": "markdown",
   "id": "96c4708f",
   "metadata": {},
   "source": [
    "#### Gateway에 대해 MCP Inspector 사용하기\n",
    "\n",
    "MCP 서버의 엔드포인트 URL과 JWT 베어러 토큰이 있으므로 MCP Inspector 도구로 MCP 서버를 탐색할 수 있습니다.\n",
    "MCP Inspector는 모든 MCP 서버에 연결할 수 있는 오픈 소스 도구로,\n",
    "제공되는 도구를 나열하고 사용하기 쉬운 도구 호출 경험을 제공합니다.\n",
    "\n",
    "터미널 창에서 `npx @modelcontextprotocol/inspector`를 입력하여 MCP Inspector를 실행하기만 하면 됩니다. 그런 다음\n",
    "Gateway 엔드포인트 URL과 JWT 토큰을 붙여넣어 연결합니다. 연결되면 도구 목록 및 도구 호출을 시도해보세요.\n",
    "\n",
    "다음은 샘플 스크린샷입니다.\n",
    "\n",
    "![MCP Inspector](images/mcp_inspector.png)"
   ]
  },
  {
   "cell_type": "code",
   "execution_count": null,
   "id": "97f5f769",
   "metadata": {},
   "outputs": [],
   "source": [
    "gatewayEndpoint = get_gateway_endpoint(gateway_id=gatewayId)\n",
    "print(f\"Gateway Endpoint - MCP URL: {gatewayEndpoint}\")"
   ]
  },
  {
   "cell_type": "markdown",
   "id": "a99920e9",
   "metadata": {},
   "source": [
    "MCP 서버 보안은 OAuth를 기반으로 합니다. Gateway와 상호 작용하려면\n",
    "IdP에서 JWT OAuth 액세스 토큰을 검색해야 합니다."
   ]
  },
  {
   "cell_type": "code",
   "execution_count": null,
   "id": "bb2525ec",
   "metadata": {},
   "outputs": [],
   "source": [
    "jwtToken = utils.get_bearer_token(\n",
    "    client_id=cognito_response[\"client_id\"],\n",
    "    username=\"testuser\",\n",
    "    password=\"MyPassword123!\",\n",
    ")\n",
    "print(f\"Bearer token: {jwtToken}\")"
   ]
  },
  {
   "cell_type": "code",
   "execution_count": null,
   "id": "68bcd0e0",
   "metadata": {},
   "outputs": [],
   "source": [
    "# !npx @modelcontextprotocol/inspector"
   ]
  },
  {
   "cell_type": "markdown",
   "id": "de5f7d58",
   "metadata": {},
   "source": [
    "#### jsonrpc를 사용하여 MCP 도구를 호출하거나 나열하는 도우미 함수 생성\n",
    "jsonrpc를 사용하여 Gateway를 포함한 MCP 서버에서 노출하는 모든 MCP 도구를 호출하는\n",
    "`invoke_gateway_tool`이라는 도우미 함수를 정의해보겠습니다. 엔드포인트 URL과 JWT 토큰이 주어지면\n",
    "이 유틸리티를 사용하여 Gateway에 Gateway 대상을 추가할 때 AgentCore Gateway가\n",
    "사용할 수 있게 한 모든 MCP 도구를 호출할 수 있습니다."
   ]
  },
  {
   "cell_type": "code",
   "execution_count": null,
   "id": "430730db",
   "metadata": {},
   "outputs": [],
   "source": [
    "def invoke_gateway_tool(gateway_endpoint, jwt_token, tool_params):\n",
    "    # print(f\"Invoking tool {tool_params['name']}\")\n",
    "\n",
    "    requestBody = {\n",
    "        \"jsonrpc\": \"2.0\",\n",
    "        \"id\": 2,\n",
    "        \"method\": \"tools/call\",\n",
    "        \"params\": tool_params,\n",
    "    }\n",
    "    response = requests.post(\n",
    "        gateway_endpoint,\n",
    "        json=requestBody,\n",
    "        headers={\n",
    "            \"Authorization\": f\"Bearer {jwt_token}\",\n",
    "            \"Content-Type\": \"application/json\",\n",
    "        },\n",
    "    )\n",
    "\n",
    "    return response.json()"
   ]
  },
  {
   "cell_type": "markdown",
   "id": "f38bb52f",
   "metadata": {},
   "source": [
    "다음은 MCP의 `tools/list` 메서드를 사용하여 게이트웨이에서 사용 가능한 MCP 도구를 나열하는 또 다른 유틸리티 함수입니다. 게이트웨이 ID와 JWT 토큰을 받으면 해당 게이트웨이에서 전체 도구 세트를 검색하여 에이전트에서 사용할 수 있는 형식의 목록을 반환합니다. 반환된 목록에는 에이전트를 처리하는 데 적합한 Strands Agents MCPAgentTool 객체가 포함됩니다.\n",
    "\n",
    "`tools/list` 호출은 페이지 단위로 이루어지므로, 함수는 `nextCursor` 필드가 더 이상 채워지지 않을 때까지 한 번에 한 페이지씩 도구를 가져오면서 반복해야 합니다. 이 유틸리티 함수는 HTTPS와 jsonrpc 프로토콜을 사용하여 엔드포인트를 직접 호출합니다. 이는 Strands Agents에서 제공하는 `MCPClient` 클래스보다 도구를 나열하는 저수준 방식입니다. 이 기능에 대해서는 나중에 살펴보겠습니다."
   ]
  },
  {
   "cell_type": "code",
   "execution_count": null,
   "id": "7d21a000",
   "metadata": {},
   "outputs": [],
   "source": [
    "def get_all_agent_tools_from_mcp_endpoint(gateway_endpoint, jwt_token, client):\n",
    "    more_tools = True\n",
    "    tools_count = 0\n",
    "    tools_list = []\n",
    "\n",
    "    requestBody = {\"jsonrpc\": \"2.0\", \"id\": 2, \"method\": \"tools/list\", \"params\": {}}\n",
    "    next_cursor = \"\"\n",
    "\n",
    "    while more_tools:\n",
    "        if tools_count == 0:\n",
    "            requestBody[\"params\"] = {}\n",
    "        else:\n",
    "            print(f\"\\nGetting next page of tools since a next cursor was returned\\n\")\n",
    "            requestBody[\"params\"] = {\"cursor\": next_cursor}\n",
    "\n",
    "        headers = {\n",
    "            \"Authorization\": f\"Bearer {jwt_token}\",\n",
    "            \"Content-Type\": \"application/json\",\n",
    "        }\n",
    "\n",
    "        print(f\"\\n\\nListing tools for gateway {gateway_endpoint}\")\n",
    "\n",
    "        response = requests.post(gateway_endpoint, json=requestBody, headers=headers)\n",
    "\n",
    "        tools_json = response.json()\n",
    "        tools_count += len(tools_json[\"result\"][\"tools\"])\n",
    "\n",
    "        for tool in tools_json[\"result\"][\"tools\"]:\n",
    "            mcp_tool = MCPTool(\n",
    "                name=tool[\"name\"],\n",
    "                description=tool[\"description\"],\n",
    "                inputSchema=tool[\"inputSchema\"],\n",
    "            )\n",
    "            mcp_agent_tool = MCPAgentTool(mcp_tool, client)\n",
    "            short_descr = tool[\"description\"][0:40] + \"...\"\n",
    "            print(f\"adding tool '{mcp_agent_tool.tool_name}' - {short_descr}\")\n",
    "            tools_list.append(mcp_agent_tool)\n",
    "\n",
    "        if \"nextCursor\" in tools_json[\"result\"]:\n",
    "            next_cursor = tools_json[\"result\"][\"nextCursor\"]\n",
    "            more_tools = True\n",
    "        else:\n",
    "            more_tools = False\n",
    "\n",
    "    print(f\"\\nTotal tools found: {tools_count}\\n\")\n",
    "    return tools_list"
   ]
  },
  {
   "cell_type": "markdown",
   "id": "29ea36db",
   "metadata": {},
   "source": [
    "Lets use this helper function and see the results."
   ]
  },
  {
   "cell_type": "code",
   "execution_count": null,
   "id": "b3eff51d",
   "metadata": {},
   "outputs": [],
   "source": [
    "client = MCPClient(\n",
    "    lambda: streamablehttp_client(\n",
    "        f\"{gatewayEndpoint}\", headers={\"Authorization\": f\"Bearer {jwtToken}\"}\n",
    "    )\n",
    ")\n",
    "with client:\n",
    "    all_tools = get_all_agent_tools_from_mcp_endpoint(\n",
    "        gateway_endpoint=gatewayEndpoint, jwt_token=jwtToken, client=client\n",
    "    )\n",
    "    print(f\"\\nFound {len(all_tools)} tools using jsonrpc to list MCP tools\\n\")"
   ]
  },
  {
   "cell_type": "markdown",
   "id": "271d04ef",
   "metadata": {},
   "source": [
    "#### Strands Agents list_tools_sync()를 페이지 매김과 함께 사용하기\n",
    "Python 기반 MCP 클라이언트를 작성해 본 적이 있다면 클라이언트가 연결된 MCP 서버에서 사용 가능한 도구 세트를 반환하는 `list_tools_sync()` 메서드에 익숙할 것입니다.\n",
    "그런데 MCP 목록 도구도 페이지 매김된다는 사실을 알고 계셨나요? 기본적으로 반환되는 도구의 첫 번째 작은\n",
    "하위 세트만 받게 됩니다. 간단한 MCP 서버에서는 이 점을 알아차리지 못했을 수 있지만, 많은 실제 MCP 서버에서는 코드가 더 이상 페이지가 남지 않을 때까지 한 번에 여러 페이지의 도구를 가져오는 루프를 반복해야 합니다. 다음 유틸리티 `get_all_mcp_tools_from_mcp_client`는 바로 이러한 작업을 수행합니다.\n",
    "이 유틸리티는 지정된 Strands Agent MCP 클라이언트에서 전체 도구 목록을 반환합니다."
   ]
  },
  {
   "cell_type": "code",
   "execution_count": null,
   "id": "ef10b8c7",
   "metadata": {},
   "outputs": [],
   "source": [
    "def get_all_mcp_tools_from_mcp_client(client):\n",
    "    more_tools = True\n",
    "    tools = []\n",
    "    pagination_token = None\n",
    "    while more_tools:\n",
    "        tmp_tools = client.list_tools_sync(pagination_token=pagination_token)\n",
    "        tools.extend(tmp_tools)\n",
    "        if tmp_tools.pagination_token is None:\n",
    "            more_tools = False\n",
    "        else:\n",
    "            more_tools = True\n",
    "            pagination_token = tmp_tools.pagination_token\n",
    "    return tools"
   ]
  },
  {
   "cell_type": "markdown",
   "id": "e519196b",
   "metadata": {},
   "source": [
    "Gateway를 사용하여 Python 클라이언트가 얼마나 많은 도구를 찾는지 확인해 보겠습니다.\n",
    "먼저 엔드포인트 URL과 JWT 전달자 토큰을 기반으로 MCPClient 객체를 생성합니다. 그런 다음\n",
    "MCP 서버에서 반환된 여러 페이지의 도구에 대한 전체 도구 세트를 검색합니다.\n",
    "앞서 추가한 대상을 고려하면 300개 이상의 도구가 반환될 것입니다."
   ]
  },
  {
   "cell_type": "code",
   "execution_count": null,
   "id": "817d1e48",
   "metadata": {},
   "outputs": [],
   "source": [
    "client = MCPClient(\n",
    "    lambda: streamablehttp_client(\n",
    "        f\"{gatewayEndpoint}\", headers={\"Authorization\": f\"Bearer {jwtToken}\"}\n",
    "    )\n",
    ")\n",
    "with client:\n",
    "    all_tools = get_all_mcp_tools_from_mcp_client(client)\n",
    "    print(f\"\\nFound {len(all_tools)} tools from list_tools_sync() on mcp client\\n\")"
   ]
  },
  {
   "cell_type": "markdown",
   "id": "ba410062",
   "metadata": {},
   "source": [
    "지금까지 Gateway를 MCP 서버로 사용하여 전체 도구 세트를 가져오는 세 가지 방법을 살펴보았습니다.\n",
    "\n",
    "1. jsonrpc를 직접 사용하는 방법\n",
    "2. Strands Agent MCPClient에서 `list_tools_sync()` 메서드를 사용하는 방법\n",
    "3. MCP Inspector 도구(이후 jsonrpc를 사용)를 사용하는 방법\n",
    "\n",
    "에이전트를 개발하는 일반적인 개발자는 옵션 2를 사용합니다."
   ]
  },
  {
   "cell_type": "markdown",
   "id": "af97ef22",
   "metadata": {},
   "source": [
    "### Gateway 내장 시맨틱 검색 도구 사용\n",
    "이제 Gateway 내장 검색 도구를 사용하여 첫 번째 시맨틱 검색을 시도해 보겠습니다. 이 도구는 MCP 도구 목록에 추가되는 MCP 도구입니다."
   ]
  },
  {
   "cell_type": "markdown",
   "id": "9de8a698",
   "metadata": {},
   "source": [
    "먼저 MCP를 사용하여 검색 도구를 실행하는 간단한 유틸리티 함수를 정의해 보겠습니다.\n",
    "도구 목록 작성과 마찬가지로 게이트웨이 엔드포인트와 JWT 토큰이 필요합니다. 그 외에는\n",
    "검색 쿼리만 전달하면 됩니다. 게이트웨이 검색 도구가 나머지 작업을 처리합니다.\n",
    "해당 쿼리를 자동으로 관리하는 서버리스 벡터 저장소와 비교합니다."
   ]
  },
  {
   "cell_type": "code",
   "execution_count": null,
   "id": "04d868a8",
   "metadata": {},
   "outputs": [],
   "source": [
    "def tool_search(gateway_endpoint, jwt_token, query):\n",
    "    toolParams = {\n",
    "        \"name\": \"x_amz_bedrock_agentcore_search\",\n",
    "        \"arguments\": {\"query\": query},\n",
    "    }\n",
    "    toolResp = invoke_gateway_tool(\n",
    "        gateway_endpoint=gateway_endpoint, jwt_token=jwt_token, tool_params=toolParams\n",
    "    )\n",
    "    tools = toolResp[\"result\"][\"structuredContent\"][\"tools\"]\n",
    "    return tools"
   ]
  },
  {
   "cell_type": "code",
   "execution_count": null,
   "id": "939755a5",
   "metadata": {},
   "outputs": [],
   "source": [
    "start_time = time.time()\n",
    "tools_found = tool_search(\n",
    "    gateway_endpoint=gatewayEndpoint,\n",
    "    jwt_token=jwtToken,\n",
    "    query=\"find me 3 credit research tools\",\n",
    ")\n",
    "end_time = time.time()\n",
    "print(\n",
    "    f\"tool search via direct Gateway invocation took {(end_time - start_time):.2f} seconds\"\n",
    ")\n",
    "print(f\"Top tool: {tools_found[0]['name']}\")"
   ]
  },
  {
   "cell_type": "markdown",
   "id": "602cbd2d",
   "metadata": {},
   "source": [
    "대부분의 경우 1초 이내에 검색 결과가 반환되는 속도에 주목하세요. 결과는\n",
    "검색어와 도구 메타데이터의 일치 여부를 기준으로 검색 관련성 순으로 내림차순으로 반환됩니다.\n",
    "가장 관련성 높은 도구가 목록의 맨 위에 표시됩니다. 검색을 처음 구현하면 최대\n",
    "10개의 결과가 반환됩니다. 그런 다음 에이전트에서 이러한 모든 도구를 사용하거나 가장 관련성 높은 일치 항목 중 일부만 선택할 수 있습니다."
   ]
  },
  {
   "cell_type": "markdown",
   "id": "7cc03391",
   "metadata": {},
   "source": [
    "# 많은 도구를 가진 MCP 서버와 함께 Strands Agents 사용"
   ]
  },
  {
   "cell_type": "markdown",
   "id": "433d0f3f",
   "metadata": {},
   "source": [
    "먼저, Strands Agent와 함께 사용할 모델을 선택합니다.\n",
    "이 노트북에서는 Amazon Bedrock 모델을 사용하지만, Strands와 AgentCore는\n",
    "모든 LLM과 호환됩니다."
   ]
  },
  {
   "cell_type": "code",
   "execution_count": null,
   "id": "b18c10bb",
   "metadata": {},
   "outputs": [],
   "source": [
    "bedrockmodel = BedrockModel(\n",
    "    model_id=\"us.anthropic.claude-3-7-sonnet-20250219-v1:0\",\n",
    "    temperature=0.7,\n",
    "    streaming=True,\n",
    "    boto_session=session,\n",
    ")"
   ]
  },
  {
   "cell_type": "markdown",
   "id": "ee8a436a",
   "metadata": {},
   "source": [
    "#### AgentCore Gateway를 사용한 간단한 Strands 에이전트(에이전트 도구)\n",
    "이제 AgentCore Gateway에서 제공하는 MCP 서버를 Strands 에이전트를 사용하여 활용하는 것이 얼마나 쉬운지 살펴보겠습니다.\n",
    "이 간단한 예시에서는 에이전트에게 숫자를 더하도록 요청합니다."
   ]
  },
  {
   "cell_type": "code",
   "execution_count": null,
   "id": "2086a0d6",
   "metadata": {},
   "outputs": [],
   "source": [
    "jwtToken = utils.get_bearer_token(\n",
    "    client_id=cognito_response[\"client_id\"],\n",
    "    username=\"testuser\",\n",
    "    password=\"MyPassword123!\",\n",
    ")\n",
    "client = MCPClient(\n",
    "    lambda: streamablehttp_client(\n",
    "        f\"{gatewayEndpoint}\", headers={\"Authorization\": f\"Bearer {jwtToken}\"}\n",
    "    )\n",
    ")\n",
    "with client:\n",
    "    all_tools = get_all_mcp_tools_from_mcp_client(client)\n",
    "    print(f\"\\nFound {len(all_tools)} tools from list_tools_sync() on mcp client\\n\")\n",
    "\n",
    "    simple_agent = Agent(\n",
    "        model=bedrockmodel, tools=all_tools, callback_handler=null_callback_handler\n",
    "    )\n",
    "    result = simple_agent(\"add 100 plus 50 pass \")\n",
    "    print(f\"{result.message['content'][0]['text']}\")"
   ]
  },
  {
   "cell_type": "markdown",
   "id": "bd8d6b33",
   "metadata": {},
   "source": [
    "Strands Agents 프레임워크를 사용하면 에이전트 이벤트 루프를 우회하여 MCP 도구를 직접 호출할 수도 있습니다.\n",
    "Gateway 도구는 네이티브 MCP 도구로 제공되므로 Gateway 도구에 대해서도 이 작업을 수행할 수 있습니다. 여기서는 `agent.tool.<tool_name>(args)` 구문을 사용하여 Gateway MCP 도구를 호출합니다.\n",
    "\n",
    "```python\n",
    "direct_result = simple_agent.tool.Calc2___add_numbers(firstNumber=10, secondNumber=20)\n",
    "resp_json = json.loads(direct_result['content'][0]['text'])\n",
    "```"
   ]
  },
  {
   "cell_type": "code",
   "execution_count": null,
   "id": "ddda7a89",
   "metadata": {},
   "outputs": [],
   "source": [
    "jwtToken = utils.get_bearer_token(\n",
    "    client_id=cognito_response[\"client_id\"],\n",
    "    username=\"testuser\",\n",
    "    password=\"MyPassword123!\",\n",
    ")\n",
    "client = MCPClient(\n",
    "    lambda: streamablehttp_client(\n",
    "        f\"{gatewayEndpoint}\", headers={\"Authorization\": f\"Bearer {jwtToken}\"}\n",
    "    )\n",
    ")\n",
    "with client:\n",
    "    all_tools = get_all_mcp_tools_from_mcp_client(client)\n",
    "    print(f\"\\nFound {len(all_tools)} tools from list_tools_sync() on mcp client\\n\")\n",
    "\n",
    "    simple_agent = Agent(\n",
    "        model=bedrockmodel, tools=all_tools, callback_handler=null_callback_handler\n",
    "    )\n",
    "    direct_result = simple_agent.tool.Calc2___add_numbers(\n",
    "        firstNumber=10, secondNumber=20\n",
    "    )\n",
    "    print(f\"direct result = {direct_result}\")"
   ]
  },
  {
   "cell_type": "code",
   "execution_count": null,
   "id": "92d3f963",
   "metadata": {},
   "outputs": [],
   "source": [
    "def get_search_tool(client):\n",
    "    mcp_tool = MCPTool(\n",
    "        name=\"x_amz_bedrock_agentcore_search\",\n",
    "        description=\"A special tool that returns a trimmed down list of tools given a context. Use this tool only when there are many tools available and you want to get a subset that matches the provided context.\",\n",
    "        inputSchema={\n",
    "            \"type\": \"object\",\n",
    "            \"properties\": {\n",
    "                \"query\": {\n",
    "                    \"type\": \"string\",\n",
    "                    \"description\": \"search query to use for finding tools\",\n",
    "                }\n",
    "            },\n",
    "            \"required\": [\"query\"],\n",
    "        },\n",
    "    )\n",
    "    return MCPAgentTool(mcp_tool, client)"
   ]
  },
  {
   "cell_type": "code",
   "execution_count": null,
   "id": "c04e47cc",
   "metadata": {},
   "outputs": [],
   "source": [
    "def search_using_strands(client, query):\n",
    "    simple_agent = Agent(\n",
    "        model=bedrockmodel,\n",
    "        tools=[get_search_tool(client)],\n",
    "        callback_handler=null_callback_handler,\n",
    "    )\n",
    "\n",
    "    direct_result = simple_agent.tool.x_amz_bedrock_agentcore_search(query=query)\n",
    "\n",
    "    resp_json = json.loads(direct_result[\"content\"][0][\"text\"])\n",
    "    search_results = resp_json[\"tools\"]\n",
    "    # print(json.dumps(search_results, indent=4))\n",
    "    return search_results"
   ]
  },
  {
   "cell_type": "code",
   "execution_count": null,
   "id": "1f07719a",
   "metadata": {},
   "outputs": [],
   "source": [
    "def find_strands_tools(client, query, top_n):\n",
    "    strands_mcp_tools = []\n",
    "    results = search_using_strands(client, query)\n",
    "    for tool in results[:top_n]:\n",
    "        mcp_tool = MCPTool(\n",
    "            name=tool[\"name\"],\n",
    "            description=tool[\"description\"],\n",
    "            inputSchema=tool[\"inputSchema\"],\n",
    "        )\n",
    "        strands_mcp_tools.append(MCPAgentTool(mcp_tool, client))\n",
    "    return strands_mcp_tools"
   ]
  },
  {
   "cell_type": "code",
   "execution_count": null,
   "id": "dc40ff86",
   "metadata": {},
   "outputs": [],
   "source": [
    "jwtToken = utils.get_bearer_token(\n",
    "    client_id=cognito_response[\"client_id\"],\n",
    "    username=\"testuser\",\n",
    "    password=\"MyPassword123!\",\n",
    ")\n",
    "client = MCPClient(\n",
    "    lambda: streamablehttp_client(\n",
    "        f\"{gatewayEndpoint}\", headers={\"Authorization\": f\"Bearer {jwtToken}\"}\n",
    "    )\n",
    ")\n",
    "with client:\n",
    "    simple_agent = Agent(\n",
    "        model=bedrockmodel,\n",
    "        tools=[get_search_tool(client)],\n",
    "        callback_handler=null_callback_handler,\n",
    "    )\n",
    "\n",
    "    direct_result = simple_agent.tool.x_amz_bedrock_agentcore_search(\n",
    "        query=\"find equity trading tools\"\n",
    "    )\n",
    "\n",
    "    resp_json = json.loads(direct_result[\"content\"][0][\"text\"])\n",
    "    search_results = resp_json[\"tools\"]\n",
    "    print(json.dumps(search_results, indent=4))"
   ]
  },
  {
   "cell_type": "code",
   "execution_count": null,
   "id": "09bd76c4",
   "metadata": {},
   "outputs": [],
   "source": [
    "jwtToken = utils.get_bearer_token(\n",
    "    client_id=cognito_response[\"client_id\"],\n",
    "    username=\"testuser\",\n",
    "    password=\"MyPassword123!\",\n",
    ")\n",
    "client = MCPClient(\n",
    "    lambda: streamablehttp_client(\n",
    "        f\"{gatewayEndpoint}\", headers={\"Authorization\": f\"Bearer {jwtToken}\"}\n",
    "    )\n",
    ")\n",
    "with client:\n",
    "    results = search_using_strands(client, \"find trading tools\")\n",
    "    print(json.dumps(search_results[0], indent=4))\n",
    "\n",
    "    results = search_using_strands(client, \"find credit research tools\")\n",
    "    print(json.dumps(search_results[0], indent=4))"
   ]
  },
  {
   "cell_type": "markdown",
   "id": "5c0dcc80",
   "metadata": {},
   "source": [
    "# Strands Agent에 도구 검색 결과 추가"
   ]
  },
  {
   "cell_type": "markdown",
   "id": "374bc324",
   "metadata": {},
   "source": [
    "이제 검색에서 반환된 도구를 Strands 에이전트에 추가하는 방법을 살펴보겠습니다. 코딩을 간소화하기 위해 도구 검색 결과를 Strands MCPAgentTool 객체에 매핑하는 유틸리티 함수를 제공하겠습니다. 검색 결과를 전달하고, 에이전트에 전달할 결과 수를 지정하기만 하면 됩니다."
   ]
  },
  {
   "cell_type": "code",
   "execution_count": null,
   "id": "df1e3efe",
   "metadata": {},
   "outputs": [],
   "source": [
    "def tools_to_strands_mcp_tools(tools, top_n):\n",
    "    strands_mcp_tools = []\n",
    "    for tool in tools[:top_n]:\n",
    "        mcp_tool = MCPTool(\n",
    "            name=tool[\"name\"],\n",
    "            description=tool[\"description\"],\n",
    "            inputSchema=tool[\"inputSchema\"],\n",
    "        )\n",
    "        strands_mcp_tools.append(MCPAgentTool(mcp_tool, client))\n",
    "    return strands_mcp_tools"
   ]
  },
  {
   "cell_type": "code",
   "execution_count": null,
   "id": "57d35be1",
   "metadata": {},
   "outputs": [],
   "source": [
    "jwtToken = utils.get_bearer_token(\n",
    "    client_id=cognito_response[\"client_id\"],\n",
    "    username=\"testuser\",\n",
    "    password=\"MyPassword123!\",\n",
    ")\n",
    "client = MCPClient(\n",
    "    lambda: streamablehttp_client(\n",
    "        f\"{gatewayEndpoint}\", headers={\"Authorization\": f\"Bearer {jwtToken}\"}\n",
    "    )\n",
    ")\n",
    "with client:\n",
    "    agent = Agent(\n",
    "        model=bedrockmodel,\n",
    "        tools=find_strands_tools(\n",
    "            client,\n",
    "            \"tools for doing addition, subtraction, multiplication, division\",\n",
    "            10,\n",
    "        ),\n",
    "    )\n",
    "    result = agent(\"(10*2)/(5-3)\")\n",
    "    print(f\"{result.message['content'][0]['text']}\")"
   ]
  },
  {
   "cell_type": "code",
   "execution_count": null,
   "id": "6de85475",
   "metadata": {},
   "outputs": [],
   "source": [
    "%%time\n",
    "\n",
    "jwtToken = utils.get_bearer_token(\n",
    "    client_id=cognito_response[\"client_id\"],\n",
    "    username=\"testuser\",\n",
    "    password=\"MyPassword123!\",\n",
    ")\n",
    "client = MCPClient(\n",
    "    lambda: streamablehttp_client(\n",
    "        f\"{gatewayEndpoint}\", headers={\"Authorization\": f\"Bearer {jwtToken}\"}\n",
    "    )\n",
    ")\n",
    "with client:\n",
    "    print(\"Searching for an ADDING tool from endpoint with full set of tools...\")\n",
    "    tools_found = tool_search(\n",
    "        gateway_endpoint=gatewayEndpoint,\n",
    "        jwt_token=jwtToken,\n",
    "        query=\"tools for multiplying two numbers\",\n",
    "    )\n",
    "    print(f\"Top tool found: {tools_found[0]['name']}\\n\")\n",
    "\n",
    "    agent = Agent(model=bedrockmodel, tools=tools_to_strands_mcp_tools(tools_found, 1))\n",
    "    result = agent(\"10 * 70\")\n",
    "    print(f\"{result.message['content'][0]['text']}\")"
   ]
  },
  {
   "cell_type": "markdown",
   "id": "6a41cfa0",
   "metadata": {},
   "source": [
    "지연 시간 개선에 주목하세요. Gateway 검색 도구의 하위 집합을 사용한 이 예시는 수백 개의 도구에 의존하는 에이전트 호출보다 훨씬 빠릅니다."
   ]
  },
  {
   "cell_type": "markdown",
   "id": "78c1e64e",
   "metadata": {},
   "source": [
    "# 도구 검색을 사용하여 3배 지연 시간 개선 보여주기"
   ]
  },
  {
   "cell_type": "markdown",
   "id": "1bc164be",
   "metadata": {},
   "source": [
    "이제 Strands 에이전트에서 Gateway MCP 도구를 사용하는 방법과 도구를 검색하여 에이전트에 추가하는 방법을 알았으니, 검색의 힘을 보여드리겠습니다. 상당한 지연 시간 단축과 입력 토큰 사용량을 강조하여 보여드리겠습니다.\n",
    "\n",
    "지연 시간과 토큰 사용량 감소 효과를 보여주기 위해 두 가지 접근 방식을 나란히 비교해 보겠습니다.\n",
    "\n",
    "1. **검색 사용 안 함**: MCP 서버가 제공하는 전체 MCP 도구 세트(이 경우 300개 이상)를 에이전트에 추가하고, 에이전트가 도구를 선택하고 호출하도록 합니다.\n",
    "2. **검색 사용**: 두 번째 접근 방식에서는 해당 주제를 기반으로 검색을 수행하고 가장 관련성 높은 도구만 에이전트에 전송합니다. 이를 증명하기 위해 수학(숫자 덧셈)과 음식(식당 예약)이라는 두 가지 주제를 사용하며, 각 주제에는 서로 다른 도구 세트가 필요합니다.\n",
    "\n",
    "지연 시간 분포를 정규화하고 의미 있는 비교를 얻기 위해 각 접근 방식을 여러 번 반복합니다.\n",
    "또한, 검색 방식을 적용할 때 이점을 과장하지 않기 위해 에이전트 호출 지연 시간뿐만 아니라 도구 검색 수행 지연 시간도 포함합니다. 각 반복마다 에이전트에 두 가지 작업을 할당합니다.\n",
    "\n",
    "1. 수학 작업 - 숫자 두 개 더하기\n",
    "2. 음식 작업 - 식당 예약\n",
    "\n",
    "아래 결과는 지연 시간이 3배 감소하고 입력 토큰 사용량이 훨씬 더 크게 감소하는 이점을 보여줍니다.\n",
    "토큰 사용량 절감은 비용 절감으로 이어지지만, 입력 토큰 비용이 상대적으로 낮기 때문에 그 효과는 크지 않을 수 있습니다(많은 모델 제공업체에서 입력 토큰은 훨씬 저렴합니다). 그러나 대규모 에이전트 배포의 경우 입력 토큰 사용 비용도 누적될 수 있으므로 동적 검색을 통해 에이전트 런타임 비용도 줄일 수 있습니다."
   ]
  },
  {
   "cell_type": "markdown",
   "id": "e24ad450",
   "metadata": {},
   "source": [
    "#### MCP 도구 전체를 사용하여 에이전트의 대기 시간과 토큰 사용량을 측정합니다."
   ]
  },
  {
   "cell_type": "code",
   "execution_count": null,
   "id": "1e67f2ed",
   "metadata": {},
   "outputs": [],
   "source": [
    "iterations = 2\n",
    "full_tokens = light_tokens = 0\n",
    "full_elapsed_time = light_elapsed_time = 0\n",
    "\n",
    "jwtToken = utils.get_bearer_token(\n",
    "    client_id=cognito_response[\"client_id\"],\n",
    "    username=\"testuser\",\n",
    "    password=\"MyPassword123!\",\n",
    ")\n",
    "client = MCPClient(\n",
    "    lambda: streamablehttp_client(\n",
    "        f\"{gatewayEndpoint}\", headers={\"Authorization\": f\"Bearer {jwtToken}\"}\n",
    "    )\n",
    ")"
   ]
  },
  {
   "cell_type": "code",
   "execution_count": null,
   "id": "0bdf1296",
   "metadata": {},
   "outputs": [],
   "source": [
    "with client:\n",
    "    all_tools = get_all_mcp_tools_from_mcp_client(client)\n",
    "    print(f\"\\nFound {len(all_tools)} tools from list_tools_sync() on mcp client\\n\")\n",
    "    heavy_agent = Agent(\n",
    "        model=bedrockmodel, tools=all_tools, callback_handler=null_callback_handler\n",
    "    )\n",
    "\n",
    "    math_input = \"add 100 plus <iteration>\"\n",
    "    food_input = (\n",
    "        \"book me a table for 2 at Burger King under name Jo Smith at 7pm August <day>\"\n",
    "    )\n",
    "\n",
    "    print(\"using agent with ALL tools...\")\n",
    "    start_time = time.time()\n",
    "\n",
    "    for i in range(iterations):\n",
    "        result = heavy_agent(math_input.replace(\"<iteration>\", str(i + 1)))\n",
    "        print(f\"{i+1}) {result.message['content'][0]['text']}\")\n",
    "\n",
    "        result = heavy_agent(food_input.replace(\"<day>\", str(i + 1)))\n",
    "        print(f\"{i+1}) {result.message['content'][0]['text']}\")\n",
    "\n",
    "    end_time = time.time()\n",
    "    full_tokens = result.metrics.accumulated_usage[\"totalTokens\"]\n",
    "    full_elapsed_time = end_time - start_time\n",
    "    print(f\"\\nTotal time: {full_elapsed_time:.1f} s, tokens: {full_tokens:,d}\\n\")"
   ]
  },
  {
   "cell_type": "markdown",
   "id": "be6b20a3",
   "metadata": {},
   "source": [
    "#### 게이트웨이 검색을 사용하여 상담원의 지연 시간 및 토큰 사용량 측정\n",
    "이제 동적 접근 방식을 사용하여 검색을 호출하여 관련 도구를 찾은 다음, 해당 도구만 사용하여 상담원에게 전화를 겁니다. 각 대화 턴마다 상담원을 재설정하므로, 이전 턴의 대화 기록에서 메시지 목록도 초기화됩니다."
   ]
  },
  {
   "cell_type": "code",
   "execution_count": null,
   "id": "80296fb8",
   "metadata": {},
   "outputs": [],
   "source": [
    "with client:\n",
    "    print(\"using agent with ONLY tools from focused search...\")\n",
    "    start_time = time.time()\n",
    "    messages = []\n",
    "\n",
    "    light_agent = Agent()\n",
    "\n",
    "    for i in range(iterations):\n",
    "        print(\"Searching for an ADDING tool from endpoint with full set of tools...\")\n",
    "        tools_found = tool_search(\n",
    "            gateway_endpoint=gatewayEndpoint,\n",
    "            jwt_token=jwtToken,\n",
    "            query=\"tools for simply adding two numbers\",\n",
    "        )\n",
    "        print(f\"Top tool found: {tools_found[0]['name']}\\n\")\n",
    "        light_agent = Agent(\n",
    "            model=bedrockmodel,\n",
    "            tools=tools_to_strands_mcp_tools(tools_found, 1),\n",
    "            messages=messages,\n",
    "            callback_handler=null_callback_handler,\n",
    "        )\n",
    "        light_result = light_agent(math_input.replace(\"<iteration>\", str(i + 1)))\n",
    "        print(f\"{i+1}) {light_result.message['content'][0]['text']}\")\n",
    "        messages = light_agent.messages\n",
    "\n",
    "        print(\n",
    "            \"Searching for a RESTAURANT BOOKING tool from endpoint with full set of tools...\"\n",
    "        )\n",
    "        tools_found = tool_search(\n",
    "            gateway_endpoint=gatewayEndpoint,\n",
    "            jwt_token=jwtToken,\n",
    "            query=\"tools for booking a restaurant reservation\",\n",
    "        )\n",
    "        print(f\"Top tool found: {tools_found[0]['name']}\\n\")\n",
    "        light_agent = Agent(\n",
    "            model=bedrockmodel,\n",
    "            tools=tools_to_strands_mcp_tools(tools_found, 1),\n",
    "            messages=messages,\n",
    "            callback_handler=null_callback_handler,\n",
    "        )\n",
    "        light_result = light_agent(food_input.replace(\"<day>\", str(i + 1)))\n",
    "        print(f\"{i+1}) {light_result.message['content'][0]['text']}\")\n",
    "        messages = light_agent.messages\n",
    "        light_tokens = light_result.metrics.accumulated_usage[\"totalTokens\"]\n",
    "    end_time = time.time()\n",
    "\n",
    "    light_elapsed_time = end_time - start_time\n",
    "    print(f\"\\nTotal time: {light_elapsed_time:.1f} s, tokens: {light_tokens:,d}\\n\")"
   ]
  },
  {
   "cell_type": "markdown",
   "id": "a2647422",
   "metadata": {},
   "source": [
    "#### Compare results, higlighting benefits of search"
   ]
  },
  {
   "cell_type": "code",
   "execution_count": null,
   "id": "eef22580",
   "metadata": {},
   "outputs": [],
   "source": [
    "print(\n",
    "    f\"\\n\\nLatency without search: {full_elapsed_time:.1f}s, using search: {light_elapsed_time:.1f}s\"\n",
    ")\n",
    "print(f\"Tokens without search: {full_tokens:,d}, using search: {light_tokens:,d}\")"
   ]
  },
  {
   "cell_type": "markdown",
   "id": "a7a0d35e",
   "metadata": {},
   "source": [
    "# 결론\n",
    "이 튜토리얼에서는 Amazon Bedrock AgentCore Gateway와 내장된 완전 관리형 시맨틱 검색 기능에 대해 알아보았습니다. 다음 내용을 살펴보았습니다.\n",
    "\n",
    "- 시맨틱 검색이 활성화된 게이트웨이를 생성하는 방법\n",
    "- 단일 엔드포인트에서 300개 이상의 MCP 도구를 표시하기 위해 여러 게이트웨이 대상을 추가하는 방법\n",
    "- 3가지 접근 방식을 사용하여 게이트웨이에 있는 도구를 나열하는 방법\n",
    "- 내장된 시맨틱 검색 도구를 사용하여 관련 도구를 찾는 방법\n",
    "- 검색 기능을 Strands Agent와 통합하는 방법\n",
    "- 수백 개의 도구가 있는 서버를 사용하는 에이전트와 시맨틱 검색을 사용하여 도구 범위를 특정 주제로 좁히는 에이전트의 성능을 비교하는 방법\n",
    "\n",
    "AgentCore Gateway 검색은 고급 사용 사례에도 유용합니다. 검색 기능을 단순한 제어 플레인 API가 아닌 기본 MCP 도구로 제공함으로써 에이전트가 새로운 MCP 서버를 검색하고 런타임에 새로운 기능을 찾을 수 있도록 더 많은 자율성을 부여하여 더 어려운 문제를 해결하는 데 획기적인 진전을 이룰 수 있습니다.\n",
    "또한 검색 기능은 MCP 레지스트리와 지원 에이전트 개발자가 새로운 에이전트를 설계하고 구축할 때 중요한 기반이 됩니다."
   ]
  },
  {
   "cell_type": "markdown",
   "id": "3c569fc6",
   "metadata": {},
   "source": [
    "# 리소스 정리"
   ]
  },
  {
   "cell_type": "markdown",
   "id": "8c51ae00",
   "metadata": {},
   "source": [
    "먼저 AgentCore Gateway 리소스를 정리하기 위한 몇 가지 도우미 함수를 정의해 보겠습니다."
   ]
  },
  {
   "cell_type": "code",
   "execution_count": null,
   "id": "81ce65be",
   "metadata": {},
   "outputs": [],
   "source": [
    "def delete_gatewaytarget(gateway_id):\n",
    "    response = agentcore_client.list_gateway_targets(gatewayIdentifier=gateway_id)\n",
    "\n",
    "    print(f\"Found {len(response['items'])} targets for the gateway\")\n",
    "\n",
    "    for target in response[\"items\"]:\n",
    "        print(\n",
    "            f\"Deleting target with Name: {target['name']} and Id: {target['targetId']}\"\n",
    "        )\n",
    "\n",
    "        response = agentcore_client.delete_gateway_target(\n",
    "            gatewayIdentifier=gateway_id, targetId=target[\"targetId\"]\n",
    "        )\n",
    "        time.sleep(20)\n",
    "\n",
    "\n",
    "def delete_gateway(gateway_id):\n",
    "    response = agentcore_client.delete_gateway(gatewayIdentifier=gateway_id)"
   ]
  },
  {
   "cell_type": "markdown",
   "id": "ecaade0e",
   "metadata": {},
   "source": [
    "### Deleting Gateway Targets"
   ]
  },
  {
   "cell_type": "code",
   "execution_count": null,
   "id": "930b0d93",
   "metadata": {},
   "outputs": [],
   "source": [
    "delete_gatewaytarget(gateway_id=gatewayId)"
   ]
  },
  {
   "cell_type": "markdown",
   "id": "77c008ef",
   "metadata": {},
   "source": [
    "### Deleting the Gateway itself"
   ]
  },
  {
   "cell_type": "code",
   "execution_count": null,
   "id": "78916cc5",
   "metadata": {},
   "outputs": [],
   "source": [
    "delete_gateway(gateway_id=gatewayId)"
   ]
  },
  {
   "cell_type": "code",
   "execution_count": null,
   "id": "aa6fc55e",
   "metadata": {},
   "outputs": [],
   "source": [
    "lambda_arns = [\n",
    "    calc_lambda_resp[\"lambda_function_arn\"],\n",
    "    restaurant_lambda_resp[\"lambda_function_arn\"],\n",
    "]\n",
    "\n",
    "for arn in lambda_arns:\n",
    "    if utils.delete_gateway_lambda(arn):\n",
    "        print(f\"Deleted Lambda: {arn}\")\n",
    "    else:\n",
    "        print(f\"Lambda {arn} not found or deletion failed\")"
   ]
  },
  {
   "cell_type": "code",
   "execution_count": null,
   "id": "0f507063",
   "metadata": {},
   "outputs": [],
   "source": [
    "# Gateway role cleanup\n",
    "if utils.delete_gateway_iam_role():\n",
    "    print(\"Gateway IAM role deleted\")\n",
    "else:\n",
    "    print(\"Gateway IAM role not found or deletion failed\")\n",
    "\n",
    "# Cognito cleanup\n",
    "if utils.delete_cognito_user_pool():\n",
    "    print(\"Cognito pool deleted\")\n",
    "else:\n",
    "    print(\"✗ Failed to delete Cognito pool\")"
   ]
  }
 ],
 "metadata": {
  "kernelspec": {
   "display_name": "Python 3 (ipykernel)",
   "language": "python",
   "name": "python3"
  },
  "language_info": {
   "codemirror_mode": {
    "name": "ipython",
    "version": 3
   },
   "file_extension": ".py",
   "mimetype": "text/x-python",
   "name": "python",
   "nbconvert_exporter": "python",
   "pygments_lexer": "ipython3",
   "version": "3.12.9"
  }
 },
 "nbformat": 4,
 "nbformat_minor": 5
}
